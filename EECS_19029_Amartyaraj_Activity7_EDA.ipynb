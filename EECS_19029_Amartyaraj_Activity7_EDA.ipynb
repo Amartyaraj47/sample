{
 "cells": [
  {
   "cell_type": "markdown",
   "id": "9373af32",
   "metadata": {},
   "source": [
    "#  <span style='color:Red'>Activity 7 (EDA)\n",
    "## <span style='color:Yellow'> Name : </span> `Amartyaraj Kumar`\n",
    "###  <span style='color:Yellow'> Roll : </span>  `19029` \n",
    "#### <span style='color:Yellow'> Date : </span>  `02/10/22`"
   ]
  },
  {
   "cell_type": "code",
   "execution_count": 1,
   "id": "4a9dc031",
   "metadata": {},
   "outputs": [
    {
     "name": "stderr",
     "output_type": "stream",
     "text": [
      "C:\\Users\\user\\anaconda3\\lib\\site-packages\\IPython\\core\\interactiveshell.py:3444: DtypeWarning: Columns (70,71,72,73,74,76,79) have mixed types.Specify dtype option on import or set low_memory=False.\n",
      "  exec(code_obj, self.user_global_ns, self.user_ns)\n"
     ]
    },
    {
     "data": {
      "text/html": [
       "<div>\n",
       "<style scoped>\n",
       "    .dataframe tbody tr th:only-of-type {\n",
       "        vertical-align: middle;\n",
       "    }\n",
       "\n",
       "    .dataframe tbody tr th {\n",
       "        vertical-align: top;\n",
       "    }\n",
       "\n",
       "    .dataframe thead th {\n",
       "        text-align: right;\n",
       "    }\n",
       "</style>\n",
       "<table border=\"1\" class=\"dataframe\">\n",
       "  <thead>\n",
       "    <tr style=\"text-align: right;\">\n",
       "      <th></th>\n",
       "      <th>barrels08</th>\n",
       "      <th>barrelsA08</th>\n",
       "      <th>charge120</th>\n",
       "      <th>charge240</th>\n",
       "      <th>city08</th>\n",
       "      <th>city08U</th>\n",
       "      <th>cityA08</th>\n",
       "      <th>cityA08U</th>\n",
       "      <th>cityCD</th>\n",
       "      <th>cityE</th>\n",
       "      <th>...</th>\n",
       "      <th>mfrCode</th>\n",
       "      <th>c240Dscr</th>\n",
       "      <th>charge240b</th>\n",
       "      <th>c240bDscr</th>\n",
       "      <th>createdOn</th>\n",
       "      <th>modifiedOn</th>\n",
       "      <th>startStop</th>\n",
       "      <th>phevCity</th>\n",
       "      <th>phevHwy</th>\n",
       "      <th>phevComb</th>\n",
       "    </tr>\n",
       "  </thead>\n",
       "  <tbody>\n",
       "    <tr>\n",
       "      <th>0</th>\n",
       "      <td>15.695714</td>\n",
       "      <td>0.0</td>\n",
       "      <td>0.0</td>\n",
       "      <td>0.0</td>\n",
       "      <td>19</td>\n",
       "      <td>0.0</td>\n",
       "      <td>0</td>\n",
       "      <td>0.0</td>\n",
       "      <td>0.0</td>\n",
       "      <td>0.0</td>\n",
       "      <td>...</td>\n",
       "      <td>NaN</td>\n",
       "      <td>NaN</td>\n",
       "      <td>0.0</td>\n",
       "      <td>NaN</td>\n",
       "      <td>Tue Jan 01 00:00:00 EST 2013</td>\n",
       "      <td>Tue Jan 01 00:00:00 EST 2013</td>\n",
       "      <td>NaN</td>\n",
       "      <td>0</td>\n",
       "      <td>0</td>\n",
       "      <td>0</td>\n",
       "    </tr>\n",
       "    <tr>\n",
       "      <th>1</th>\n",
       "      <td>29.964545</td>\n",
       "      <td>0.0</td>\n",
       "      <td>0.0</td>\n",
       "      <td>0.0</td>\n",
       "      <td>9</td>\n",
       "      <td>0.0</td>\n",
       "      <td>0</td>\n",
       "      <td>0.0</td>\n",
       "      <td>0.0</td>\n",
       "      <td>0.0</td>\n",
       "      <td>...</td>\n",
       "      <td>NaN</td>\n",
       "      <td>NaN</td>\n",
       "      <td>0.0</td>\n",
       "      <td>NaN</td>\n",
       "      <td>Tue Jan 01 00:00:00 EST 2013</td>\n",
       "      <td>Tue Jan 01 00:00:00 EST 2013</td>\n",
       "      <td>NaN</td>\n",
       "      <td>0</td>\n",
       "      <td>0</td>\n",
       "      <td>0</td>\n",
       "    </tr>\n",
       "    <tr>\n",
       "      <th>2</th>\n",
       "      <td>12.207778</td>\n",
       "      <td>0.0</td>\n",
       "      <td>0.0</td>\n",
       "      <td>0.0</td>\n",
       "      <td>23</td>\n",
       "      <td>0.0</td>\n",
       "      <td>0</td>\n",
       "      <td>0.0</td>\n",
       "      <td>0.0</td>\n",
       "      <td>0.0</td>\n",
       "      <td>...</td>\n",
       "      <td>NaN</td>\n",
       "      <td>NaN</td>\n",
       "      <td>0.0</td>\n",
       "      <td>NaN</td>\n",
       "      <td>Tue Jan 01 00:00:00 EST 2013</td>\n",
       "      <td>Tue Jan 01 00:00:00 EST 2013</td>\n",
       "      <td>NaN</td>\n",
       "      <td>0</td>\n",
       "      <td>0</td>\n",
       "      <td>0</td>\n",
       "    </tr>\n",
       "    <tr>\n",
       "      <th>3</th>\n",
       "      <td>29.964545</td>\n",
       "      <td>0.0</td>\n",
       "      <td>0.0</td>\n",
       "      <td>0.0</td>\n",
       "      <td>10</td>\n",
       "      <td>0.0</td>\n",
       "      <td>0</td>\n",
       "      <td>0.0</td>\n",
       "      <td>0.0</td>\n",
       "      <td>0.0</td>\n",
       "      <td>...</td>\n",
       "      <td>NaN</td>\n",
       "      <td>NaN</td>\n",
       "      <td>0.0</td>\n",
       "      <td>NaN</td>\n",
       "      <td>Tue Jan 01 00:00:00 EST 2013</td>\n",
       "      <td>Tue Jan 01 00:00:00 EST 2013</td>\n",
       "      <td>NaN</td>\n",
       "      <td>0</td>\n",
       "      <td>0</td>\n",
       "      <td>0</td>\n",
       "    </tr>\n",
       "    <tr>\n",
       "      <th>4</th>\n",
       "      <td>17.347895</td>\n",
       "      <td>0.0</td>\n",
       "      <td>0.0</td>\n",
       "      <td>0.0</td>\n",
       "      <td>17</td>\n",
       "      <td>0.0</td>\n",
       "      <td>0</td>\n",
       "      <td>0.0</td>\n",
       "      <td>0.0</td>\n",
       "      <td>0.0</td>\n",
       "      <td>...</td>\n",
       "      <td>NaN</td>\n",
       "      <td>NaN</td>\n",
       "      <td>0.0</td>\n",
       "      <td>NaN</td>\n",
       "      <td>Tue Jan 01 00:00:00 EST 2013</td>\n",
       "      <td>Tue Jan 01 00:00:00 EST 2013</td>\n",
       "      <td>NaN</td>\n",
       "      <td>0</td>\n",
       "      <td>0</td>\n",
       "      <td>0</td>\n",
       "    </tr>\n",
       "    <tr>\n",
       "      <th>...</th>\n",
       "      <td>...</td>\n",
       "      <td>...</td>\n",
       "      <td>...</td>\n",
       "      <td>...</td>\n",
       "      <td>...</td>\n",
       "      <td>...</td>\n",
       "      <td>...</td>\n",
       "      <td>...</td>\n",
       "      <td>...</td>\n",
       "      <td>...</td>\n",
       "      <td>...</td>\n",
       "      <td>...</td>\n",
       "      <td>...</td>\n",
       "      <td>...</td>\n",
       "      <td>...</td>\n",
       "      <td>...</td>\n",
       "      <td>...</td>\n",
       "      <td>...</td>\n",
       "      <td>...</td>\n",
       "      <td>...</td>\n",
       "      <td>...</td>\n",
       "    </tr>\n",
       "    <tr>\n",
       "      <th>39096</th>\n",
       "      <td>14.982273</td>\n",
       "      <td>0.0</td>\n",
       "      <td>0.0</td>\n",
       "      <td>0.0</td>\n",
       "      <td>19</td>\n",
       "      <td>0.0</td>\n",
       "      <td>0</td>\n",
       "      <td>0.0</td>\n",
       "      <td>0.0</td>\n",
       "      <td>0.0</td>\n",
       "      <td>...</td>\n",
       "      <td>NaN</td>\n",
       "      <td>NaN</td>\n",
       "      <td>0.0</td>\n",
       "      <td>NaN</td>\n",
       "      <td>Tue Jan 01 00:00:00 EST 2013</td>\n",
       "      <td>Tue Jan 01 00:00:00 EST 2013</td>\n",
       "      <td>NaN</td>\n",
       "      <td>0</td>\n",
       "      <td>0</td>\n",
       "      <td>0</td>\n",
       "    </tr>\n",
       "    <tr>\n",
       "      <th>39097</th>\n",
       "      <td>14.330870</td>\n",
       "      <td>0.0</td>\n",
       "      <td>0.0</td>\n",
       "      <td>0.0</td>\n",
       "      <td>20</td>\n",
       "      <td>0.0</td>\n",
       "      <td>0</td>\n",
       "      <td>0.0</td>\n",
       "      <td>0.0</td>\n",
       "      <td>0.0</td>\n",
       "      <td>...</td>\n",
       "      <td>NaN</td>\n",
       "      <td>NaN</td>\n",
       "      <td>0.0</td>\n",
       "      <td>NaN</td>\n",
       "      <td>Tue Jan 01 00:00:00 EST 2013</td>\n",
       "      <td>Tue Jan 01 00:00:00 EST 2013</td>\n",
       "      <td>NaN</td>\n",
       "      <td>0</td>\n",
       "      <td>0</td>\n",
       "      <td>0</td>\n",
       "    </tr>\n",
       "    <tr>\n",
       "      <th>39098</th>\n",
       "      <td>15.695714</td>\n",
       "      <td>0.0</td>\n",
       "      <td>0.0</td>\n",
       "      <td>0.0</td>\n",
       "      <td>18</td>\n",
       "      <td>0.0</td>\n",
       "      <td>0</td>\n",
       "      <td>0.0</td>\n",
       "      <td>0.0</td>\n",
       "      <td>0.0</td>\n",
       "      <td>...</td>\n",
       "      <td>NaN</td>\n",
       "      <td>NaN</td>\n",
       "      <td>0.0</td>\n",
       "      <td>NaN</td>\n",
       "      <td>Tue Jan 01 00:00:00 EST 2013</td>\n",
       "      <td>Tue Jan 01 00:00:00 EST 2013</td>\n",
       "      <td>NaN</td>\n",
       "      <td>0</td>\n",
       "      <td>0</td>\n",
       "      <td>0</td>\n",
       "    </tr>\n",
       "    <tr>\n",
       "      <th>39099</th>\n",
       "      <td>15.695714</td>\n",
       "      <td>0.0</td>\n",
       "      <td>0.0</td>\n",
       "      <td>0.0</td>\n",
       "      <td>18</td>\n",
       "      <td>0.0</td>\n",
       "      <td>0</td>\n",
       "      <td>0.0</td>\n",
       "      <td>0.0</td>\n",
       "      <td>0.0</td>\n",
       "      <td>...</td>\n",
       "      <td>NaN</td>\n",
       "      <td>NaN</td>\n",
       "      <td>0.0</td>\n",
       "      <td>NaN</td>\n",
       "      <td>Tue Jan 01 00:00:00 EST 2013</td>\n",
       "      <td>Tue Jan 01 00:00:00 EST 2013</td>\n",
       "      <td>NaN</td>\n",
       "      <td>0</td>\n",
       "      <td>0</td>\n",
       "      <td>0</td>\n",
       "    </tr>\n",
       "    <tr>\n",
       "      <th>39100</th>\n",
       "      <td>18.311667</td>\n",
       "      <td>0.0</td>\n",
       "      <td>0.0</td>\n",
       "      <td>0.0</td>\n",
       "      <td>16</td>\n",
       "      <td>0.0</td>\n",
       "      <td>0</td>\n",
       "      <td>0.0</td>\n",
       "      <td>0.0</td>\n",
       "      <td>0.0</td>\n",
       "      <td>...</td>\n",
       "      <td>NaN</td>\n",
       "      <td>NaN</td>\n",
       "      <td>0.0</td>\n",
       "      <td>NaN</td>\n",
       "      <td>Tue Jan 01 00:00:00 EST 2013</td>\n",
       "      <td>Tue Jan 01 00:00:00 EST 2013</td>\n",
       "      <td>NaN</td>\n",
       "      <td>0</td>\n",
       "      <td>0</td>\n",
       "      <td>0</td>\n",
       "    </tr>\n",
       "  </tbody>\n",
       "</table>\n",
       "<p>39101 rows × 83 columns</p>\n",
       "</div>"
      ],
      "text/plain": [
       "       barrels08  barrelsA08  charge120  charge240  city08  city08U  cityA08  \\\n",
       "0      15.695714         0.0        0.0        0.0      19      0.0        0   \n",
       "1      29.964545         0.0        0.0        0.0       9      0.0        0   \n",
       "2      12.207778         0.0        0.0        0.0      23      0.0        0   \n",
       "3      29.964545         0.0        0.0        0.0      10      0.0        0   \n",
       "4      17.347895         0.0        0.0        0.0      17      0.0        0   \n",
       "...          ...         ...        ...        ...     ...      ...      ...   \n",
       "39096  14.982273         0.0        0.0        0.0      19      0.0        0   \n",
       "39097  14.330870         0.0        0.0        0.0      20      0.0        0   \n",
       "39098  15.695714         0.0        0.0        0.0      18      0.0        0   \n",
       "39099  15.695714         0.0        0.0        0.0      18      0.0        0   \n",
       "39100  18.311667         0.0        0.0        0.0      16      0.0        0   \n",
       "\n",
       "       cityA08U  cityCD  cityE  ...  mfrCode  c240Dscr  charge240b  c240bDscr  \\\n",
       "0           0.0     0.0    0.0  ...      NaN       NaN         0.0        NaN   \n",
       "1           0.0     0.0    0.0  ...      NaN       NaN         0.0        NaN   \n",
       "2           0.0     0.0    0.0  ...      NaN       NaN         0.0        NaN   \n",
       "3           0.0     0.0    0.0  ...      NaN       NaN         0.0        NaN   \n",
       "4           0.0     0.0    0.0  ...      NaN       NaN         0.0        NaN   \n",
       "...         ...     ...    ...  ...      ...       ...         ...        ...   \n",
       "39096       0.0     0.0    0.0  ...      NaN       NaN         0.0        NaN   \n",
       "39097       0.0     0.0    0.0  ...      NaN       NaN         0.0        NaN   \n",
       "39098       0.0     0.0    0.0  ...      NaN       NaN         0.0        NaN   \n",
       "39099       0.0     0.0    0.0  ...      NaN       NaN         0.0        NaN   \n",
       "39100       0.0     0.0    0.0  ...      NaN       NaN         0.0        NaN   \n",
       "\n",
       "                          createdOn                    modifiedOn  startStop  \\\n",
       "0      Tue Jan 01 00:00:00 EST 2013  Tue Jan 01 00:00:00 EST 2013        NaN   \n",
       "1      Tue Jan 01 00:00:00 EST 2013  Tue Jan 01 00:00:00 EST 2013        NaN   \n",
       "2      Tue Jan 01 00:00:00 EST 2013  Tue Jan 01 00:00:00 EST 2013        NaN   \n",
       "3      Tue Jan 01 00:00:00 EST 2013  Tue Jan 01 00:00:00 EST 2013        NaN   \n",
       "4      Tue Jan 01 00:00:00 EST 2013  Tue Jan 01 00:00:00 EST 2013        NaN   \n",
       "...                             ...                           ...        ...   \n",
       "39096  Tue Jan 01 00:00:00 EST 2013  Tue Jan 01 00:00:00 EST 2013        NaN   \n",
       "39097  Tue Jan 01 00:00:00 EST 2013  Tue Jan 01 00:00:00 EST 2013        NaN   \n",
       "39098  Tue Jan 01 00:00:00 EST 2013  Tue Jan 01 00:00:00 EST 2013        NaN   \n",
       "39099  Tue Jan 01 00:00:00 EST 2013  Tue Jan 01 00:00:00 EST 2013        NaN   \n",
       "39100  Tue Jan 01 00:00:00 EST 2013  Tue Jan 01 00:00:00 EST 2013        NaN   \n",
       "\n",
       "       phevCity  phevHwy  phevComb  \n",
       "0             0        0         0  \n",
       "1             0        0         0  \n",
       "2             0        0         0  \n",
       "3             0        0         0  \n",
       "4             0        0         0  \n",
       "...         ...      ...       ...  \n",
       "39096         0        0         0  \n",
       "39097         0        0         0  \n",
       "39098         0        0         0  \n",
       "39099         0        0         0  \n",
       "39100         0        0         0  \n",
       "\n",
       "[39101 rows x 83 columns]"
      ]
     },
     "execution_count": 1,
     "metadata": {},
     "output_type": "execute_result"
    }
   ],
   "source": [
    "import pandas as pd \n",
    "import numpy as np \n",
    "fueleco = pd.read_csv(\"vehicles.csv\") # Reading the csv file\n",
    "fueleco"
   ]
  },
  {
   "cell_type": "code",
   "execution_count": 2,
   "id": "6772fc3d",
   "metadata": {},
   "outputs": [
    {
     "name": "stderr",
     "output_type": "stream",
     "text": [
      "C:\\Users\\user\\AppData\\Local\\Temp/ipykernel_12004/3898504838.py:1: FutureWarning: Dropping of nuisance columns in DataFrame reductions (with 'numeric_only=None') is deprecated; in a future version this will raise TypeError.  Select only valid columns before calling the reduction.\n",
      "  fueleco.mean()\n"
     ]
    },
    {
     "data": {
      "text/plain": [
       "barrels08             17.442712\n",
       "barrelsA08             0.219276\n",
       "charge120              0.000000\n",
       "charge240              0.029630\n",
       "city08                18.077799\n",
       "city08U                5.040648\n",
       "cityA08                0.569883\n",
       "cityA08U               0.416097\n",
       "cityCD                 0.000560\n",
       "cityE                  0.225181\n",
       "cityUF                 0.000975\n",
       "co2                   72.538989\n",
       "co2A                   5.543950\n",
       "co2TailpipeAGpm       17.826864\n",
       "co2TailpipeGpm       470.704841\n",
       "comb08                20.323828\n",
       "comb08U                5.652724\n",
       "combA08                0.631160\n",
       "combA08U               0.453725\n",
       "combE                  0.230912\n",
       "combinedCD             0.000459\n",
       "combinedUF             0.000959\n",
       "cylinders              5.729105\n",
       "displ                  3.309829\n",
       "engId               8582.377382\n",
       "feScore                0.122580\n",
       "fuelCost08          2242.470781\n",
       "fuelCostA08           91.335260\n",
       "ghgScore               0.120866\n",
       "ghgScoreA             -0.923889\n",
       "highway08             24.208588\n",
       "highway08U             6.712736\n",
       "highwayA08             0.736452\n",
       "highwayA08U            0.523423\n",
       "highwayCD              0.000343\n",
       "highwayE               0.238526\n",
       "highwayUF              0.000938\n",
       "hlv                    2.029539\n",
       "hpv                   10.411243\n",
       "id                 19662.541188\n",
       "lv2                    1.834812\n",
       "lv4                    6.155930\n",
       "phevBlended            0.001458\n",
       "pv2                   13.649574\n",
       "pv4                   33.883711\n",
       "range                  0.500243\n",
       "rangeCity              0.458375\n",
       "rangeCityA             0.050978\n",
       "rangeHwy               0.450392\n",
       "rangeHwyA              0.046958\n",
       "UCity                 22.789421\n",
       "UCityA                 0.723139\n",
       "UHighway              33.884375\n",
       "UHighwayA              1.009562\n",
       "year                2000.635406\n",
       "youSaveSpend       -3459.572645\n",
       "charge240b             0.005869\n",
       "phevCity               0.094703\n",
       "phevHwy                0.094269\n",
       "phevComb               0.094141\n",
       "dtype: float64"
      ]
     },
     "execution_count": 2,
     "metadata": {},
     "output_type": "execute_result"
    }
   ],
   "source": [
    "fueleco.mean()"
   ]
  },
  {
   "cell_type": "code",
   "execution_count": 3,
   "id": "2592fd65",
   "metadata": {},
   "outputs": [
    {
     "name": "stderr",
     "output_type": "stream",
     "text": [
      "C:\\Users\\user\\AppData\\Local\\Temp/ipykernel_12004/720023129.py:1: FutureWarning: Dropping of nuisance columns in DataFrame reductions (with 'numeric_only=None') is deprecated; in a future version this will raise TypeError.  Select only valid columns before calling the reduction.\n",
      "  fueleco.std()\n"
     ]
    },
    {
     "data": {
      "text/plain": [
       "barrels08              4.580230\n",
       "barrelsA08             1.143837\n",
       "charge120              0.000000\n",
       "charge240              0.487408\n",
       "city08                 6.970672\n",
       "city08U               10.462790\n",
       "cityA08                4.297124\n",
       "cityA08U               4.093495\n",
       "cityCD                 0.045392\n",
       "cityE                  3.180894\n",
       "cityUF                 0.022785\n",
       "co2                  163.252019\n",
       "co2A                  55.956932\n",
       "co2TailpipeAGpm       93.937414\n",
       "co2TailpipeGpm       122.351021\n",
       "comb08                 6.882807\n",
       "comb08U               11.231748\n",
       "combA08                4.395797\n",
       "combA08U               4.131767\n",
       "combE                  3.244463\n",
       "combinedCD             0.040759\n",
       "combinedUF             0.022392\n",
       "cylinders              1.754487\n",
       "displ                  1.361925\n",
       "engId              17606.675590\n",
       "feScore                2.516348\n",
       "fuelCost08           601.273869\n",
       "fuelCostA08          479.485802\n",
       "ghgScore               2.512612\n",
       "ghgScoreA              0.651017\n",
       "highway08              7.128070\n",
       "highway08U            12.809865\n",
       "highwayA08             4.694207\n",
       "highwayA08U            4.343967\n",
       "highwayCD              0.035457\n",
       "highwayE               3.342921\n",
       "highwayUF              0.021931\n",
       "hlv                    5.959735\n",
       "hpv                   28.167271\n",
       "id                 11413.329199\n",
       "lv2                    4.407887\n",
       "lv4                    9.698101\n",
       "phevBlended            0.038153\n",
       "pv2                   31.214466\n",
       "pv4                   45.991687\n",
       "range                  9.742080\n",
       "rangeCity              9.510276\n",
       "rangeCityA             1.383722\n",
       "rangeHwy               9.711025\n",
       "rangeHwyA              1.244770\n",
       "UCity                  9.827224\n",
       "UCityA                 5.965565\n",
       "UHighway              10.399308\n",
       "UHighwayA              6.642943\n",
       "year                  10.690422\n",
       "youSaveSpend        3010.284617\n",
       "charge240b             0.165399\n",
       "phevCity               2.279478\n",
       "phevHwy                2.191115\n",
       "phevComb               2.226500\n",
       "dtype: float64"
      ]
     },
     "execution_count": 3,
     "metadata": {},
     "output_type": "execute_result"
    }
   ],
   "source": [
    "fueleco.std()"
   ]
  },
  {
   "cell_type": "code",
   "execution_count": 4,
   "id": "23f04382",
   "metadata": {},
   "outputs": [
    {
     "ename": "TypeError",
     "evalue": "numpy boolean subtract, the `-` operator, is not supported, use the bitwise_xor, the `^` operator, or the logical_xor function instead.",
     "output_type": "error",
     "traceback": [
      "\u001b[1;31m---------------------------------------------------------------------------\u001b[0m",
      "\u001b[1;31mTypeError\u001b[0m                                 Traceback (most recent call last)",
      "\u001b[1;32m~\\AppData\\Local\\Temp/ipykernel_12004/687189893.py\u001b[0m in \u001b[0;36m<module>\u001b[1;34m\u001b[0m\n\u001b[1;32m----> 1\u001b[1;33m \u001b[0mfueleco\u001b[0m\u001b[1;33m.\u001b[0m\u001b[0mquantile\u001b[0m\u001b[1;33m(\u001b[0m\u001b[1;33m[\u001b[0m\u001b[1;36m0\u001b[0m\u001b[1;33m,\u001b[0m \u001b[1;36m0.25\u001b[0m\u001b[1;33m,\u001b[0m \u001b[1;36m0.5\u001b[0m\u001b[1;33m,\u001b[0m \u001b[1;36m0.75\u001b[0m\u001b[1;33m,\u001b[0m \u001b[1;36m1\u001b[0m\u001b[1;33m]\u001b[0m\u001b[1;33m)\u001b[0m\u001b[1;33m\u001b[0m\u001b[1;33m\u001b[0m\u001b[0m\n\u001b[0m",
      "\u001b[1;32m~\\anaconda3\\lib\\site-packages\\pandas\\core\\frame.py\u001b[0m in \u001b[0;36mquantile\u001b[1;34m(self, q, axis, numeric_only, interpolation)\u001b[0m\n\u001b[0;32m  10310\u001b[0m             \u001b[1;32mreturn\u001b[0m \u001b[0mself\u001b[0m\u001b[1;33m.\u001b[0m\u001b[0m_constructor_sliced\u001b[0m\u001b[1;33m(\u001b[0m\u001b[1;33m[\u001b[0m\u001b[1;33m]\u001b[0m\u001b[1;33m,\u001b[0m \u001b[0mindex\u001b[0m\u001b[1;33m=\u001b[0m\u001b[0mcols\u001b[0m\u001b[1;33m,\u001b[0m \u001b[0mname\u001b[0m\u001b[1;33m=\u001b[0m\u001b[0mq\u001b[0m\u001b[1;33m,\u001b[0m \u001b[0mdtype\u001b[0m\u001b[1;33m=\u001b[0m\u001b[0mnp\u001b[0m\u001b[1;33m.\u001b[0m\u001b[0mfloat64\u001b[0m\u001b[1;33m)\u001b[0m\u001b[1;33m\u001b[0m\u001b[1;33m\u001b[0m\u001b[0m\n\u001b[0;32m  10311\u001b[0m \u001b[1;33m\u001b[0m\u001b[0m\n\u001b[1;32m> 10312\u001b[1;33m         \u001b[0mres\u001b[0m \u001b[1;33m=\u001b[0m \u001b[0mdata\u001b[0m\u001b[1;33m.\u001b[0m\u001b[0m_mgr\u001b[0m\u001b[1;33m.\u001b[0m\u001b[0mquantile\u001b[0m\u001b[1;33m(\u001b[0m\u001b[0mqs\u001b[0m\u001b[1;33m=\u001b[0m\u001b[0mq\u001b[0m\u001b[1;33m,\u001b[0m \u001b[0maxis\u001b[0m\u001b[1;33m=\u001b[0m\u001b[1;36m1\u001b[0m\u001b[1;33m,\u001b[0m \u001b[0minterpolation\u001b[0m\u001b[1;33m=\u001b[0m\u001b[0minterpolation\u001b[0m\u001b[1;33m)\u001b[0m\u001b[1;33m\u001b[0m\u001b[1;33m\u001b[0m\u001b[0m\n\u001b[0m\u001b[0;32m  10313\u001b[0m \u001b[1;33m\u001b[0m\u001b[0m\n\u001b[0;32m  10314\u001b[0m         \u001b[0mresult\u001b[0m \u001b[1;33m=\u001b[0m \u001b[0mself\u001b[0m\u001b[1;33m.\u001b[0m\u001b[0m_constructor\u001b[0m\u001b[1;33m(\u001b[0m\u001b[0mres\u001b[0m\u001b[1;33m)\u001b[0m\u001b[1;33m\u001b[0m\u001b[1;33m\u001b[0m\u001b[0m\n",
      "\u001b[1;32m~\\anaconda3\\lib\\site-packages\\pandas\\core\\internals\\managers.py\u001b[0m in \u001b[0;36mquantile\u001b[1;34m(self, qs, axis, interpolation)\u001b[0m\n\u001b[0;32m   1343\u001b[0m         \u001b[0mnew_axes\u001b[0m\u001b[1;33m[\u001b[0m\u001b[1;36m1\u001b[0m\u001b[1;33m]\u001b[0m \u001b[1;33m=\u001b[0m \u001b[0mFloat64Index\u001b[0m\u001b[1;33m(\u001b[0m\u001b[0mqs\u001b[0m\u001b[1;33m)\u001b[0m\u001b[1;33m\u001b[0m\u001b[1;33m\u001b[0m\u001b[0m\n\u001b[0;32m   1344\u001b[0m \u001b[1;33m\u001b[0m\u001b[0m\n\u001b[1;32m-> 1345\u001b[1;33m         blocks = [\n\u001b[0m\u001b[0;32m   1346\u001b[0m             \u001b[0mblk\u001b[0m\u001b[1;33m.\u001b[0m\u001b[0mquantile\u001b[0m\u001b[1;33m(\u001b[0m\u001b[0maxis\u001b[0m\u001b[1;33m=\u001b[0m\u001b[0maxis\u001b[0m\u001b[1;33m,\u001b[0m \u001b[0mqs\u001b[0m\u001b[1;33m=\u001b[0m\u001b[0mqs\u001b[0m\u001b[1;33m,\u001b[0m \u001b[0minterpolation\u001b[0m\u001b[1;33m=\u001b[0m\u001b[0minterpolation\u001b[0m\u001b[1;33m)\u001b[0m\u001b[1;33m\u001b[0m\u001b[1;33m\u001b[0m\u001b[0m\n\u001b[0;32m   1347\u001b[0m             \u001b[1;32mfor\u001b[0m \u001b[0mblk\u001b[0m \u001b[1;32min\u001b[0m \u001b[0mself\u001b[0m\u001b[1;33m.\u001b[0m\u001b[0mblocks\u001b[0m\u001b[1;33m\u001b[0m\u001b[1;33m\u001b[0m\u001b[0m\n",
      "\u001b[1;32m~\\anaconda3\\lib\\site-packages\\pandas\\core\\internals\\managers.py\u001b[0m in \u001b[0;36m<listcomp>\u001b[1;34m(.0)\u001b[0m\n\u001b[0;32m   1344\u001b[0m \u001b[1;33m\u001b[0m\u001b[0m\n\u001b[0;32m   1345\u001b[0m         blocks = [\n\u001b[1;32m-> 1346\u001b[1;33m             \u001b[0mblk\u001b[0m\u001b[1;33m.\u001b[0m\u001b[0mquantile\u001b[0m\u001b[1;33m(\u001b[0m\u001b[0maxis\u001b[0m\u001b[1;33m=\u001b[0m\u001b[0maxis\u001b[0m\u001b[1;33m,\u001b[0m \u001b[0mqs\u001b[0m\u001b[1;33m=\u001b[0m\u001b[0mqs\u001b[0m\u001b[1;33m,\u001b[0m \u001b[0minterpolation\u001b[0m\u001b[1;33m=\u001b[0m\u001b[0minterpolation\u001b[0m\u001b[1;33m)\u001b[0m\u001b[1;33m\u001b[0m\u001b[1;33m\u001b[0m\u001b[0m\n\u001b[0m\u001b[0;32m   1347\u001b[0m             \u001b[1;32mfor\u001b[0m \u001b[0mblk\u001b[0m \u001b[1;32min\u001b[0m \u001b[0mself\u001b[0m\u001b[1;33m.\u001b[0m\u001b[0mblocks\u001b[0m\u001b[1;33m\u001b[0m\u001b[1;33m\u001b[0m\u001b[0m\n\u001b[0;32m   1348\u001b[0m         ]\n",
      "\u001b[1;32m~\\anaconda3\\lib\\site-packages\\pandas\\core\\internals\\blocks.py\u001b[0m in \u001b[0;36mquantile\u001b[1;34m(self, qs, interpolation, axis)\u001b[0m\n\u001b[0;32m   1321\u001b[0m         \u001b[1;32massert\u001b[0m \u001b[0mis_list_like\u001b[0m\u001b[1;33m(\u001b[0m\u001b[0mqs\u001b[0m\u001b[1;33m)\u001b[0m  \u001b[1;31m# caller is responsible for this\u001b[0m\u001b[1;33m\u001b[0m\u001b[1;33m\u001b[0m\u001b[0m\n\u001b[0;32m   1322\u001b[0m \u001b[1;33m\u001b[0m\u001b[0m\n\u001b[1;32m-> 1323\u001b[1;33m         \u001b[0mresult\u001b[0m \u001b[1;33m=\u001b[0m \u001b[0mquantile_compat\u001b[0m\u001b[1;33m(\u001b[0m\u001b[0mself\u001b[0m\u001b[1;33m.\u001b[0m\u001b[0mvalues\u001b[0m\u001b[1;33m,\u001b[0m \u001b[0mnp\u001b[0m\u001b[1;33m.\u001b[0m\u001b[0masarray\u001b[0m\u001b[1;33m(\u001b[0m\u001b[0mqs\u001b[0m\u001b[1;33m.\u001b[0m\u001b[0m_values\u001b[0m\u001b[1;33m)\u001b[0m\u001b[1;33m,\u001b[0m \u001b[0minterpolation\u001b[0m\u001b[1;33m)\u001b[0m\u001b[1;33m\u001b[0m\u001b[1;33m\u001b[0m\u001b[0m\n\u001b[0m\u001b[0;32m   1324\u001b[0m         \u001b[1;32mreturn\u001b[0m \u001b[0mnew_block\u001b[0m\u001b[1;33m(\u001b[0m\u001b[0mresult\u001b[0m\u001b[1;33m,\u001b[0m \u001b[0mplacement\u001b[0m\u001b[1;33m=\u001b[0m\u001b[0mself\u001b[0m\u001b[1;33m.\u001b[0m\u001b[0m_mgr_locs\u001b[0m\u001b[1;33m,\u001b[0m \u001b[0mndim\u001b[0m\u001b[1;33m=\u001b[0m\u001b[1;36m2\u001b[0m\u001b[1;33m)\u001b[0m\u001b[1;33m\u001b[0m\u001b[1;33m\u001b[0m\u001b[0m\n\u001b[0;32m   1325\u001b[0m \u001b[1;33m\u001b[0m\u001b[0m\n",
      "\u001b[1;32m~\\anaconda3\\lib\\site-packages\\pandas\\core\\array_algos\\quantile.py\u001b[0m in \u001b[0;36mquantile_compat\u001b[1;34m(values, qs, interpolation)\u001b[0m\n\u001b[0;32m     36\u001b[0m         \u001b[0mfill_value\u001b[0m \u001b[1;33m=\u001b[0m \u001b[0mna_value_for_dtype\u001b[0m\u001b[1;33m(\u001b[0m\u001b[0mvalues\u001b[0m\u001b[1;33m.\u001b[0m\u001b[0mdtype\u001b[0m\u001b[1;33m,\u001b[0m \u001b[0mcompat\u001b[0m\u001b[1;33m=\u001b[0m\u001b[1;32mFalse\u001b[0m\u001b[1;33m)\u001b[0m\u001b[1;33m\u001b[0m\u001b[1;33m\u001b[0m\u001b[0m\n\u001b[0;32m     37\u001b[0m         \u001b[0mmask\u001b[0m \u001b[1;33m=\u001b[0m \u001b[0misna\u001b[0m\u001b[1;33m(\u001b[0m\u001b[0mvalues\u001b[0m\u001b[1;33m)\u001b[0m\u001b[1;33m\u001b[0m\u001b[1;33m\u001b[0m\u001b[0m\n\u001b[1;32m---> 38\u001b[1;33m         \u001b[1;32mreturn\u001b[0m \u001b[0m_quantile_with_mask\u001b[0m\u001b[1;33m(\u001b[0m\u001b[0mvalues\u001b[0m\u001b[1;33m,\u001b[0m \u001b[0mmask\u001b[0m\u001b[1;33m,\u001b[0m \u001b[0mfill_value\u001b[0m\u001b[1;33m,\u001b[0m \u001b[0mqs\u001b[0m\u001b[1;33m,\u001b[0m \u001b[0minterpolation\u001b[0m\u001b[1;33m)\u001b[0m\u001b[1;33m\u001b[0m\u001b[1;33m\u001b[0m\u001b[0m\n\u001b[0m\u001b[0;32m     39\u001b[0m     \u001b[1;32melse\u001b[0m\u001b[1;33m:\u001b[0m\u001b[1;33m\u001b[0m\u001b[1;33m\u001b[0m\u001b[0m\n\u001b[0;32m     40\u001b[0m         \u001b[1;31m# In general we don't want to import from arrays here;\u001b[0m\u001b[1;33m\u001b[0m\u001b[1;33m\u001b[0m\u001b[0m\n",
      "\u001b[1;32m~\\anaconda3\\lib\\site-packages\\pandas\\core\\array_algos\\quantile.py\u001b[0m in \u001b[0;36m_quantile_with_mask\u001b[1;34m(values, mask, fill_value, qs, interpolation)\u001b[0m\n\u001b[0;32m     98\u001b[0m     \u001b[1;32melse\u001b[0m\u001b[1;33m:\u001b[0m\u001b[1;33m\u001b[0m\u001b[1;33m\u001b[0m\u001b[0m\n\u001b[0;32m     99\u001b[0m         \u001b[1;31m# asarray needed for Sparse, see GH#24600\u001b[0m\u001b[1;33m\u001b[0m\u001b[1;33m\u001b[0m\u001b[0m\n\u001b[1;32m--> 100\u001b[1;33m         result = nanpercentile(\n\u001b[0m\u001b[0;32m    101\u001b[0m             \u001b[0mvalues\u001b[0m\u001b[1;33m,\u001b[0m\u001b[1;33m\u001b[0m\u001b[1;33m\u001b[0m\u001b[0m\n\u001b[0;32m    102\u001b[0m             \u001b[0mnp\u001b[0m\u001b[1;33m.\u001b[0m\u001b[0marray\u001b[0m\u001b[1;33m(\u001b[0m\u001b[0mqs\u001b[0m\u001b[1;33m)\u001b[0m \u001b[1;33m*\u001b[0m \u001b[1;36m100\u001b[0m\u001b[1;33m,\u001b[0m\u001b[1;33m\u001b[0m\u001b[1;33m\u001b[0m\u001b[0m\n",
      "\u001b[1;32m~\\anaconda3\\lib\\site-packages\\pandas\\core\\nanops.py\u001b[0m in \u001b[0;36mnanpercentile\u001b[1;34m(values, q, na_value, mask, interpolation)\u001b[0m\n\u001b[0;32m   1721\u001b[0m         \u001b[1;32mreturn\u001b[0m \u001b[0mresult\u001b[0m\u001b[1;33m\u001b[0m\u001b[1;33m\u001b[0m\u001b[0m\n\u001b[0;32m   1722\u001b[0m     \u001b[1;32melse\u001b[0m\u001b[1;33m:\u001b[0m\u001b[1;33m\u001b[0m\u001b[1;33m\u001b[0m\u001b[0m\n\u001b[1;32m-> 1723\u001b[1;33m         \u001b[1;32mreturn\u001b[0m \u001b[0mnp\u001b[0m\u001b[1;33m.\u001b[0m\u001b[0mpercentile\u001b[0m\u001b[1;33m(\u001b[0m\u001b[0mvalues\u001b[0m\u001b[1;33m,\u001b[0m \u001b[0mq\u001b[0m\u001b[1;33m,\u001b[0m \u001b[0maxis\u001b[0m\u001b[1;33m=\u001b[0m\u001b[1;36m1\u001b[0m\u001b[1;33m,\u001b[0m \u001b[0minterpolation\u001b[0m\u001b[1;33m=\u001b[0m\u001b[0minterpolation\u001b[0m\u001b[1;33m)\u001b[0m\u001b[1;33m\u001b[0m\u001b[1;33m\u001b[0m\u001b[0m\n\u001b[0m\u001b[0;32m   1724\u001b[0m \u001b[1;33m\u001b[0m\u001b[0m\n\u001b[0;32m   1725\u001b[0m \u001b[1;33m\u001b[0m\u001b[0m\n",
      "\u001b[1;32m<__array_function__ internals>\u001b[0m in \u001b[0;36mpercentile\u001b[1;34m(*args, **kwargs)\u001b[0m\n",
      "\u001b[1;32m~\\anaconda3\\lib\\site-packages\\numpy\\lib\\function_base.py\u001b[0m in \u001b[0;36mpercentile\u001b[1;34m(a, q, axis, out, overwrite_input, interpolation, keepdims)\u001b[0m\n\u001b[0;32m   3816\u001b[0m     \u001b[1;32mif\u001b[0m \u001b[1;32mnot\u001b[0m \u001b[0m_quantile_is_valid\u001b[0m\u001b[1;33m(\u001b[0m\u001b[0mq\u001b[0m\u001b[1;33m)\u001b[0m\u001b[1;33m:\u001b[0m\u001b[1;33m\u001b[0m\u001b[1;33m\u001b[0m\u001b[0m\n\u001b[0;32m   3817\u001b[0m         \u001b[1;32mraise\u001b[0m \u001b[0mValueError\u001b[0m\u001b[1;33m(\u001b[0m\u001b[1;34m\"Percentiles must be in the range [0, 100]\"\u001b[0m\u001b[1;33m)\u001b[0m\u001b[1;33m\u001b[0m\u001b[1;33m\u001b[0m\u001b[0m\n\u001b[1;32m-> 3818\u001b[1;33m     return _quantile_unchecked(\n\u001b[0m\u001b[0;32m   3819\u001b[0m         a, q, axis, out, overwrite_input, interpolation, keepdims)\n\u001b[0;32m   3820\u001b[0m \u001b[1;33m\u001b[0m\u001b[0m\n",
      "\u001b[1;32m~\\anaconda3\\lib\\site-packages\\numpy\\lib\\function_base.py\u001b[0m in \u001b[0;36m_quantile_unchecked\u001b[1;34m(a, q, axis, out, overwrite_input, interpolation, keepdims)\u001b[0m\n\u001b[0;32m   3935\u001b[0m                         interpolation='linear', keepdims=False):\n\u001b[0;32m   3936\u001b[0m     \u001b[1;34m\"\"\"Assumes that q is in [0, 1], and is an ndarray\"\"\"\u001b[0m\u001b[1;33m\u001b[0m\u001b[1;33m\u001b[0m\u001b[0m\n\u001b[1;32m-> 3937\u001b[1;33m     r, k = _ureduce(a, func=_quantile_ureduce_func, q=q, axis=axis, out=out,\n\u001b[0m\u001b[0;32m   3938\u001b[0m                     \u001b[0moverwrite_input\u001b[0m\u001b[1;33m=\u001b[0m\u001b[0moverwrite_input\u001b[0m\u001b[1;33m,\u001b[0m\u001b[1;33m\u001b[0m\u001b[1;33m\u001b[0m\u001b[0m\n\u001b[0;32m   3939\u001b[0m                     interpolation=interpolation)\n",
      "\u001b[1;32m~\\anaconda3\\lib\\site-packages\\numpy\\lib\\function_base.py\u001b[0m in \u001b[0;36m_ureduce\u001b[1;34m(a, func, **kwargs)\u001b[0m\n\u001b[0;32m   3513\u001b[0m         \u001b[0mkeepdim\u001b[0m \u001b[1;33m=\u001b[0m \u001b[1;33m(\u001b[0m\u001b[1;36m1\u001b[0m\u001b[1;33m,\u001b[0m\u001b[1;33m)\u001b[0m \u001b[1;33m*\u001b[0m \u001b[0ma\u001b[0m\u001b[1;33m.\u001b[0m\u001b[0mndim\u001b[0m\u001b[1;33m\u001b[0m\u001b[1;33m\u001b[0m\u001b[0m\n\u001b[0;32m   3514\u001b[0m \u001b[1;33m\u001b[0m\u001b[0m\n\u001b[1;32m-> 3515\u001b[1;33m     \u001b[0mr\u001b[0m \u001b[1;33m=\u001b[0m \u001b[0mfunc\u001b[0m\u001b[1;33m(\u001b[0m\u001b[0ma\u001b[0m\u001b[1;33m,\u001b[0m \u001b[1;33m**\u001b[0m\u001b[0mkwargs\u001b[0m\u001b[1;33m)\u001b[0m\u001b[1;33m\u001b[0m\u001b[1;33m\u001b[0m\u001b[0m\n\u001b[0m\u001b[0;32m   3516\u001b[0m     \u001b[1;32mreturn\u001b[0m \u001b[0mr\u001b[0m\u001b[1;33m,\u001b[0m \u001b[0mkeepdim\u001b[0m\u001b[1;33m\u001b[0m\u001b[1;33m\u001b[0m\u001b[0m\n\u001b[0;32m   3517\u001b[0m \u001b[1;33m\u001b[0m\u001b[0m\n",
      "\u001b[1;32m~\\anaconda3\\lib\\site-packages\\numpy\\lib\\function_base.py\u001b[0m in \u001b[0;36m_quantile_ureduce_func\u001b[1;34m(***failed resolving arguments***)\u001b[0m\n\u001b[0;32m   4062\u001b[0m         \u001b[0mx_above\u001b[0m \u001b[1;33m=\u001b[0m \u001b[0mtake\u001b[0m\u001b[1;33m(\u001b[0m\u001b[0map\u001b[0m\u001b[1;33m,\u001b[0m \u001b[0mindices_above\u001b[0m\u001b[1;33m,\u001b[0m \u001b[0maxis\u001b[0m\u001b[1;33m=\u001b[0m\u001b[1;36m0\u001b[0m\u001b[1;33m)\u001b[0m\u001b[1;33m\u001b[0m\u001b[1;33m\u001b[0m\u001b[0m\n\u001b[0;32m   4063\u001b[0m \u001b[1;33m\u001b[0m\u001b[0m\n\u001b[1;32m-> 4064\u001b[1;33m         \u001b[0mr\u001b[0m \u001b[1;33m=\u001b[0m \u001b[0m_lerp\u001b[0m\u001b[1;33m(\u001b[0m\u001b[0mx_below\u001b[0m\u001b[1;33m,\u001b[0m \u001b[0mx_above\u001b[0m\u001b[1;33m,\u001b[0m \u001b[0mweights_above\u001b[0m\u001b[1;33m,\u001b[0m \u001b[0mout\u001b[0m\u001b[1;33m=\u001b[0m\u001b[0mout\u001b[0m\u001b[1;33m)\u001b[0m\u001b[1;33m\u001b[0m\u001b[1;33m\u001b[0m\u001b[0m\n\u001b[0m\u001b[0;32m   4065\u001b[0m \u001b[1;33m\u001b[0m\u001b[0m\n\u001b[0;32m   4066\u001b[0m     \u001b[1;31m# if any slice contained a nan, then all results on that slice are also nan\u001b[0m\u001b[1;33m\u001b[0m\u001b[1;33m\u001b[0m\u001b[0m\n",
      "\u001b[1;32m~\\anaconda3\\lib\\site-packages\\numpy\\lib\\function_base.py\u001b[0m in \u001b[0;36m_lerp\u001b[1;34m(a, b, t, out)\u001b[0m\n\u001b[0;32m   3959\u001b[0m \u001b[1;32mdef\u001b[0m \u001b[0m_lerp\u001b[0m\u001b[1;33m(\u001b[0m\u001b[0ma\u001b[0m\u001b[1;33m,\u001b[0m \u001b[0mb\u001b[0m\u001b[1;33m,\u001b[0m \u001b[0mt\u001b[0m\u001b[1;33m,\u001b[0m \u001b[0mout\u001b[0m\u001b[1;33m=\u001b[0m\u001b[1;32mNone\u001b[0m\u001b[1;33m)\u001b[0m\u001b[1;33m:\u001b[0m\u001b[1;33m\u001b[0m\u001b[1;33m\u001b[0m\u001b[0m\n\u001b[0;32m   3960\u001b[0m     \u001b[1;34m\"\"\" Linearly interpolate from a to b by a factor of t \"\"\"\u001b[0m\u001b[1;33m\u001b[0m\u001b[1;33m\u001b[0m\u001b[0m\n\u001b[1;32m-> 3961\u001b[1;33m     \u001b[0mdiff_b_a\u001b[0m \u001b[1;33m=\u001b[0m \u001b[0msubtract\u001b[0m\u001b[1;33m(\u001b[0m\u001b[0mb\u001b[0m\u001b[1;33m,\u001b[0m \u001b[0ma\u001b[0m\u001b[1;33m)\u001b[0m\u001b[1;33m\u001b[0m\u001b[1;33m\u001b[0m\u001b[0m\n\u001b[0m\u001b[0;32m   3962\u001b[0m     \u001b[1;31m# asanyarray is a stop-gap until gh-13105\u001b[0m\u001b[1;33m\u001b[0m\u001b[1;33m\u001b[0m\u001b[0m\n\u001b[0;32m   3963\u001b[0m     \u001b[0mlerp_interpolation\u001b[0m \u001b[1;33m=\u001b[0m \u001b[0masanyarray\u001b[0m\u001b[1;33m(\u001b[0m\u001b[0madd\u001b[0m\u001b[1;33m(\u001b[0m\u001b[0ma\u001b[0m\u001b[1;33m,\u001b[0m \u001b[0mdiff_b_a\u001b[0m\u001b[1;33m*\u001b[0m\u001b[0mt\u001b[0m\u001b[1;33m,\u001b[0m \u001b[0mout\u001b[0m\u001b[1;33m=\u001b[0m\u001b[0mout\u001b[0m\u001b[1;33m)\u001b[0m\u001b[1;33m)\u001b[0m\u001b[1;33m\u001b[0m\u001b[1;33m\u001b[0m\u001b[0m\n",
      "\u001b[1;31mTypeError\u001b[0m: numpy boolean subtract, the `-` operator, is not supported, use the bitwise_xor, the `^` operator, or the logical_xor function instead."
     ]
    }
   ],
   "source": [
    "fueleco.quantile([0, 0.25, 0.5, 0.75, 1])"
   ]
  },
  {
   "cell_type": "code",
   "execution_count": 5,
   "id": "460a7ede",
   "metadata": {},
   "outputs": [
    {
     "data": {
      "text/html": [
       "<div>\n",
       "<style scoped>\n",
       "    .dataframe tbody tr th:only-of-type {\n",
       "        vertical-align: middle;\n",
       "    }\n",
       "\n",
       "    .dataframe tbody tr th {\n",
       "        vertical-align: top;\n",
       "    }\n",
       "\n",
       "    .dataframe thead th {\n",
       "        text-align: right;\n",
       "    }\n",
       "</style>\n",
       "<table border=\"1\" class=\"dataframe\">\n",
       "  <thead>\n",
       "    <tr style=\"text-align: right;\">\n",
       "      <th></th>\n",
       "      <th>barrels08</th>\n",
       "      <th>barrelsA08</th>\n",
       "      <th>charge120</th>\n",
       "      <th>charge240</th>\n",
       "      <th>city08</th>\n",
       "      <th>city08U</th>\n",
       "      <th>cityA08</th>\n",
       "      <th>cityA08U</th>\n",
       "      <th>cityCD</th>\n",
       "      <th>cityE</th>\n",
       "      <th>...</th>\n",
       "      <th>UCity</th>\n",
       "      <th>UCityA</th>\n",
       "      <th>UHighway</th>\n",
       "      <th>UHighwayA</th>\n",
       "      <th>year</th>\n",
       "      <th>youSaveSpend</th>\n",
       "      <th>charge240b</th>\n",
       "      <th>phevCity</th>\n",
       "      <th>phevHwy</th>\n",
       "      <th>phevComb</th>\n",
       "    </tr>\n",
       "  </thead>\n",
       "  <tbody>\n",
       "    <tr>\n",
       "      <th>count</th>\n",
       "      <td>39101.000000</td>\n",
       "      <td>39101.000000</td>\n",
       "      <td>39101.0</td>\n",
       "      <td>39101.000000</td>\n",
       "      <td>39101.000000</td>\n",
       "      <td>39101.000000</td>\n",
       "      <td>39101.000000</td>\n",
       "      <td>39101.000000</td>\n",
       "      <td>39101.000000</td>\n",
       "      <td>39101.000000</td>\n",
       "      <td>...</td>\n",
       "      <td>39101.000000</td>\n",
       "      <td>39101.000000</td>\n",
       "      <td>39101.000000</td>\n",
       "      <td>39101.000000</td>\n",
       "      <td>39101.000000</td>\n",
       "      <td>39101.000000</td>\n",
       "      <td>39101.000000</td>\n",
       "      <td>39101.000000</td>\n",
       "      <td>39101.000000</td>\n",
       "      <td>39101.000000</td>\n",
       "    </tr>\n",
       "    <tr>\n",
       "      <th>mean</th>\n",
       "      <td>17.442712</td>\n",
       "      <td>0.219276</td>\n",
       "      <td>0.0</td>\n",
       "      <td>0.029630</td>\n",
       "      <td>18.077799</td>\n",
       "      <td>5.040648</td>\n",
       "      <td>0.569883</td>\n",
       "      <td>0.416097</td>\n",
       "      <td>0.000560</td>\n",
       "      <td>0.225181</td>\n",
       "      <td>...</td>\n",
       "      <td>22.789421</td>\n",
       "      <td>0.723139</td>\n",
       "      <td>33.884375</td>\n",
       "      <td>1.009562</td>\n",
       "      <td>2000.635406</td>\n",
       "      <td>-3459.572645</td>\n",
       "      <td>0.005869</td>\n",
       "      <td>0.094703</td>\n",
       "      <td>0.094269</td>\n",
       "      <td>0.094141</td>\n",
       "    </tr>\n",
       "    <tr>\n",
       "      <th>std</th>\n",
       "      <td>4.580230</td>\n",
       "      <td>1.143837</td>\n",
       "      <td>0.0</td>\n",
       "      <td>0.487408</td>\n",
       "      <td>6.970672</td>\n",
       "      <td>10.462790</td>\n",
       "      <td>4.297124</td>\n",
       "      <td>4.093495</td>\n",
       "      <td>0.045392</td>\n",
       "      <td>3.180894</td>\n",
       "      <td>...</td>\n",
       "      <td>9.827224</td>\n",
       "      <td>5.965565</td>\n",
       "      <td>10.399308</td>\n",
       "      <td>6.642943</td>\n",
       "      <td>10.690422</td>\n",
       "      <td>3010.284617</td>\n",
       "      <td>0.165399</td>\n",
       "      <td>2.279478</td>\n",
       "      <td>2.191115</td>\n",
       "      <td>2.226500</td>\n",
       "    </tr>\n",
       "    <tr>\n",
       "      <th>min</th>\n",
       "      <td>0.060000</td>\n",
       "      <td>0.000000</td>\n",
       "      <td>0.0</td>\n",
       "      <td>0.000000</td>\n",
       "      <td>6.000000</td>\n",
       "      <td>0.000000</td>\n",
       "      <td>0.000000</td>\n",
       "      <td>0.000000</td>\n",
       "      <td>0.000000</td>\n",
       "      <td>0.000000</td>\n",
       "      <td>...</td>\n",
       "      <td>0.000000</td>\n",
       "      <td>0.000000</td>\n",
       "      <td>0.000000</td>\n",
       "      <td>0.000000</td>\n",
       "      <td>1984.000000</td>\n",
       "      <td>-26500.000000</td>\n",
       "      <td>0.000000</td>\n",
       "      <td>0.000000</td>\n",
       "      <td>0.000000</td>\n",
       "      <td>0.000000</td>\n",
       "    </tr>\n",
       "    <tr>\n",
       "      <th>25%</th>\n",
       "      <td>14.330870</td>\n",
       "      <td>0.000000</td>\n",
       "      <td>0.0</td>\n",
       "      <td>0.000000</td>\n",
       "      <td>15.000000</td>\n",
       "      <td>0.000000</td>\n",
       "      <td>0.000000</td>\n",
       "      <td>0.000000</td>\n",
       "      <td>0.000000</td>\n",
       "      <td>0.000000</td>\n",
       "      <td>...</td>\n",
       "      <td>18.000000</td>\n",
       "      <td>0.000000</td>\n",
       "      <td>27.370400</td>\n",
       "      <td>0.000000</td>\n",
       "      <td>1991.000000</td>\n",
       "      <td>-4750.000000</td>\n",
       "      <td>0.000000</td>\n",
       "      <td>0.000000</td>\n",
       "      <td>0.000000</td>\n",
       "      <td>0.000000</td>\n",
       "    </tr>\n",
       "    <tr>\n",
       "      <th>50%</th>\n",
       "      <td>17.347895</td>\n",
       "      <td>0.000000</td>\n",
       "      <td>0.0</td>\n",
       "      <td>0.000000</td>\n",
       "      <td>17.000000</td>\n",
       "      <td>0.000000</td>\n",
       "      <td>0.000000</td>\n",
       "      <td>0.000000</td>\n",
       "      <td>0.000000</td>\n",
       "      <td>0.000000</td>\n",
       "      <td>...</td>\n",
       "      <td>21.111100</td>\n",
       "      <td>0.000000</td>\n",
       "      <td>33.000000</td>\n",
       "      <td>0.000000</td>\n",
       "      <td>2001.000000</td>\n",
       "      <td>-3500.000000</td>\n",
       "      <td>0.000000</td>\n",
       "      <td>0.000000</td>\n",
       "      <td>0.000000</td>\n",
       "      <td>0.000000</td>\n",
       "    </tr>\n",
       "    <tr>\n",
       "      <th>75%</th>\n",
       "      <td>20.115000</td>\n",
       "      <td>0.000000</td>\n",
       "      <td>0.0</td>\n",
       "      <td>0.000000</td>\n",
       "      <td>20.000000</td>\n",
       "      <td>0.000000</td>\n",
       "      <td>0.000000</td>\n",
       "      <td>0.000000</td>\n",
       "      <td>0.000000</td>\n",
       "      <td>0.000000</td>\n",
       "      <td>...</td>\n",
       "      <td>25.475600</td>\n",
       "      <td>0.000000</td>\n",
       "      <td>38.600000</td>\n",
       "      <td>0.000000</td>\n",
       "      <td>2010.000000</td>\n",
       "      <td>-1500.000000</td>\n",
       "      <td>0.000000</td>\n",
       "      <td>0.000000</td>\n",
       "      <td>0.000000</td>\n",
       "      <td>0.000000</td>\n",
       "    </tr>\n",
       "    <tr>\n",
       "      <th>max</th>\n",
       "      <td>47.087143</td>\n",
       "      <td>18.311667</td>\n",
       "      <td>0.0</td>\n",
       "      <td>12.000000</td>\n",
       "      <td>150.000000</td>\n",
       "      <td>150.000000</td>\n",
       "      <td>145.000000</td>\n",
       "      <td>145.083500</td>\n",
       "      <td>5.350000</td>\n",
       "      <td>122.000000</td>\n",
       "      <td>...</td>\n",
       "      <td>224.800000</td>\n",
       "      <td>207.262200</td>\n",
       "      <td>182.700000</td>\n",
       "      <td>173.143600</td>\n",
       "      <td>2018.000000</td>\n",
       "      <td>5250.000000</td>\n",
       "      <td>7.000000</td>\n",
       "      <td>97.000000</td>\n",
       "      <td>81.000000</td>\n",
       "      <td>88.000000</td>\n",
       "    </tr>\n",
       "  </tbody>\n",
       "</table>\n",
       "<p>8 rows × 59 columns</p>\n",
       "</div>"
      ],
      "text/plain": [
       "          barrels08    barrelsA08  charge120     charge240        city08  \\\n",
       "count  39101.000000  39101.000000    39101.0  39101.000000  39101.000000   \n",
       "mean      17.442712      0.219276        0.0      0.029630     18.077799   \n",
       "std        4.580230      1.143837        0.0      0.487408      6.970672   \n",
       "min        0.060000      0.000000        0.0      0.000000      6.000000   \n",
       "25%       14.330870      0.000000        0.0      0.000000     15.000000   \n",
       "50%       17.347895      0.000000        0.0      0.000000     17.000000   \n",
       "75%       20.115000      0.000000        0.0      0.000000     20.000000   \n",
       "max       47.087143     18.311667        0.0     12.000000    150.000000   \n",
       "\n",
       "            city08U       cityA08      cityA08U        cityCD         cityE  \\\n",
       "count  39101.000000  39101.000000  39101.000000  39101.000000  39101.000000   \n",
       "mean       5.040648      0.569883      0.416097      0.000560      0.225181   \n",
       "std       10.462790      4.297124      4.093495      0.045392      3.180894   \n",
       "min        0.000000      0.000000      0.000000      0.000000      0.000000   \n",
       "25%        0.000000      0.000000      0.000000      0.000000      0.000000   \n",
       "50%        0.000000      0.000000      0.000000      0.000000      0.000000   \n",
       "75%        0.000000      0.000000      0.000000      0.000000      0.000000   \n",
       "max      150.000000    145.000000    145.083500      5.350000    122.000000   \n",
       "\n",
       "       ...         UCity        UCityA      UHighway     UHighwayA  \\\n",
       "count  ...  39101.000000  39101.000000  39101.000000  39101.000000   \n",
       "mean   ...     22.789421      0.723139     33.884375      1.009562   \n",
       "std    ...      9.827224      5.965565     10.399308      6.642943   \n",
       "min    ...      0.000000      0.000000      0.000000      0.000000   \n",
       "25%    ...     18.000000      0.000000     27.370400      0.000000   \n",
       "50%    ...     21.111100      0.000000     33.000000      0.000000   \n",
       "75%    ...     25.475600      0.000000     38.600000      0.000000   \n",
       "max    ...    224.800000    207.262200    182.700000    173.143600   \n",
       "\n",
       "               year  youSaveSpend    charge240b      phevCity       phevHwy  \\\n",
       "count  39101.000000  39101.000000  39101.000000  39101.000000  39101.000000   \n",
       "mean    2000.635406  -3459.572645      0.005869      0.094703      0.094269   \n",
       "std       10.690422   3010.284617      0.165399      2.279478      2.191115   \n",
       "min     1984.000000 -26500.000000      0.000000      0.000000      0.000000   \n",
       "25%     1991.000000  -4750.000000      0.000000      0.000000      0.000000   \n",
       "50%     2001.000000  -3500.000000      0.000000      0.000000      0.000000   \n",
       "75%     2010.000000  -1500.000000      0.000000      0.000000      0.000000   \n",
       "max     2018.000000   5250.000000      7.000000     97.000000     81.000000   \n",
       "\n",
       "           phevComb  \n",
       "count  39101.000000  \n",
       "mean       0.094141  \n",
       "std        2.226500  \n",
       "min        0.000000  \n",
       "25%        0.000000  \n",
       "50%        0.000000  \n",
       "75%        0.000000  \n",
       "max       88.000000  \n",
       "\n",
       "[8 rows x 59 columns]"
      ]
     },
     "execution_count": 5,
     "metadata": {},
     "output_type": "execute_result"
    }
   ],
   "source": [
    "fueleco.describe()"
   ]
  },
  {
   "cell_type": "code",
   "execution_count": 6,
   "id": "c9e3483f",
   "metadata": {},
   "outputs": [
    {
     "data": {
      "text/html": [
       "<div>\n",
       "<style scoped>\n",
       "    .dataframe tbody tr th:only-of-type {\n",
       "        vertical-align: middle;\n",
       "    }\n",
       "\n",
       "    .dataframe tbody tr th {\n",
       "        vertical-align: top;\n",
       "    }\n",
       "\n",
       "    .dataframe thead th {\n",
       "        text-align: right;\n",
       "    }\n",
       "</style>\n",
       "<table border=\"1\" class=\"dataframe\">\n",
       "  <thead>\n",
       "    <tr style=\"text-align: right;\">\n",
       "      <th></th>\n",
       "      <th>drive</th>\n",
       "      <th>eng_dscr</th>\n",
       "      <th>fuelType</th>\n",
       "      <th>fuelType1</th>\n",
       "      <th>make</th>\n",
       "      <th>model</th>\n",
       "      <th>mpgData</th>\n",
       "      <th>trany</th>\n",
       "      <th>VClass</th>\n",
       "      <th>guzzler</th>\n",
       "      <th>...</th>\n",
       "      <th>atvType</th>\n",
       "      <th>fuelType2</th>\n",
       "      <th>rangeA</th>\n",
       "      <th>evMotor</th>\n",
       "      <th>mfrCode</th>\n",
       "      <th>c240Dscr</th>\n",
       "      <th>c240bDscr</th>\n",
       "      <th>createdOn</th>\n",
       "      <th>modifiedOn</th>\n",
       "      <th>startStop</th>\n",
       "    </tr>\n",
       "  </thead>\n",
       "  <tbody>\n",
       "    <tr>\n",
       "      <th>count</th>\n",
       "      <td>37912</td>\n",
       "      <td>23431</td>\n",
       "      <td>39101</td>\n",
       "      <td>39101</td>\n",
       "      <td>39101</td>\n",
       "      <td>39101</td>\n",
       "      <td>39101</td>\n",
       "      <td>39090</td>\n",
       "      <td>39101</td>\n",
       "      <td>2335</td>\n",
       "      <td>...</td>\n",
       "      <td>3204</td>\n",
       "      <td>1490</td>\n",
       "      <td>1485</td>\n",
       "      <td>644</td>\n",
       "      <td>8289</td>\n",
       "      <td>53</td>\n",
       "      <td>51</td>\n",
       "      <td>39101</td>\n",
       "      <td>39101</td>\n",
       "      <td>7405</td>\n",
       "    </tr>\n",
       "    <tr>\n",
       "      <th>unique</th>\n",
       "      <td>7</td>\n",
       "      <td>545</td>\n",
       "      <td>14</td>\n",
       "      <td>6</td>\n",
       "      <td>134</td>\n",
       "      <td>3816</td>\n",
       "      <td>2</td>\n",
       "      <td>37</td>\n",
       "      <td>34</td>\n",
       "      <td>3</td>\n",
       "      <td>...</td>\n",
       "      <td>8</td>\n",
       "      <td>4</td>\n",
       "      <td>216</td>\n",
       "      <td>125</td>\n",
       "      <td>46</td>\n",
       "      <td>5</td>\n",
       "      <td>4</td>\n",
       "      <td>195</td>\n",
       "      <td>68</td>\n",
       "      <td>2</td>\n",
       "    </tr>\n",
       "    <tr>\n",
       "      <th>top</th>\n",
       "      <td>Front-Wheel Drive</td>\n",
       "      <td>(FFS)</td>\n",
       "      <td>Regular</td>\n",
       "      <td>Regular Gasoline</td>\n",
       "      <td>Chevrolet</td>\n",
       "      <td>F150 Pickup 2WD</td>\n",
       "      <td>N</td>\n",
       "      <td>Automatic 4-spd</td>\n",
       "      <td>Compact Cars</td>\n",
       "      <td>G</td>\n",
       "      <td>...</td>\n",
       "      <td>FFV</td>\n",
       "      <td>E85</td>\n",
       "      <td>290</td>\n",
       "      <td>288V Ni-MH</td>\n",
       "      <td>GMX</td>\n",
       "      <td>standard charger</td>\n",
       "      <td>80 amp dual charger</td>\n",
       "      <td>Tue Jan 01 00:00:00 EST 2013</td>\n",
       "      <td>Tue Jan 01 00:00:00 EST 2013</td>\n",
       "      <td>N</td>\n",
       "    </tr>\n",
       "    <tr>\n",
       "      <th>freq</th>\n",
       "      <td>13653</td>\n",
       "      <td>8827</td>\n",
       "      <td>25620</td>\n",
       "      <td>26931</td>\n",
       "      <td>3900</td>\n",
       "      <td>214</td>\n",
       "      <td>26400</td>\n",
       "      <td>11045</td>\n",
       "      <td>5661</td>\n",
       "      <td>1356</td>\n",
       "      <td>...</td>\n",
       "      <td>1383</td>\n",
       "      <td>1383</td>\n",
       "      <td>74</td>\n",
       "      <td>117</td>\n",
       "      <td>1255</td>\n",
       "      <td>42</td>\n",
       "      <td>42</td>\n",
       "      <td>34199</td>\n",
       "      <td>29438</td>\n",
       "      <td>5176</td>\n",
       "    </tr>\n",
       "  </tbody>\n",
       "</table>\n",
       "<p>4 rows × 23 columns</p>\n",
       "</div>"
      ],
      "text/plain": [
       "                    drive eng_dscr fuelType         fuelType1       make  \\\n",
       "count               37912    23431    39101             39101      39101   \n",
       "unique                  7      545       14                 6        134   \n",
       "top     Front-Wheel Drive    (FFS)  Regular  Regular Gasoline  Chevrolet   \n",
       "freq                13653     8827    25620             26931       3900   \n",
       "\n",
       "                  model mpgData            trany        VClass guzzler  ...  \\\n",
       "count             39101   39101            39090         39101    2335  ...   \n",
       "unique             3816       2               37            34       3  ...   \n",
       "top     F150 Pickup 2WD       N  Automatic 4-spd  Compact Cars       G  ...   \n",
       "freq                214   26400            11045          5661    1356  ...   \n",
       "\n",
       "       atvType fuelType2 rangeA     evMotor mfrCode          c240Dscr  \\\n",
       "count     3204      1490   1485         644    8289                53   \n",
       "unique       8         4    216         125      46                 5   \n",
       "top        FFV       E85    290  288V Ni-MH     GMX  standard charger   \n",
       "freq      1383      1383     74         117    1255                42   \n",
       "\n",
       "                  c240bDscr                     createdOn  \\\n",
       "count                    51                         39101   \n",
       "unique                    4                           195   \n",
       "top     80 amp dual charger  Tue Jan 01 00:00:00 EST 2013   \n",
       "freq                     42                         34199   \n",
       "\n",
       "                          modifiedOn startStop  \n",
       "count                          39101      7405  \n",
       "unique                            68         2  \n",
       "top     Tue Jan 01 00:00:00 EST 2013         N  \n",
       "freq                           29438      5176  \n",
       "\n",
       "[4 rows x 23 columns]"
      ]
     },
     "execution_count": 6,
     "metadata": {},
     "output_type": "execute_result"
    }
   ],
   "source": [
    "fueleco.describe(include=object) # Description including objects other than numeric values"
   ]
  },
  {
   "cell_type": "code",
   "execution_count": 7,
   "id": "a1d568cc",
   "metadata": {},
   "outputs": [
    {
     "data": {
      "text/html": [
       "<div>\n",
       "<style scoped>\n",
       "    .dataframe tbody tr th:only-of-type {\n",
       "        vertical-align: middle;\n",
       "    }\n",
       "\n",
       "    .dataframe tbody tr th {\n",
       "        vertical-align: top;\n",
       "    }\n",
       "\n",
       "    .dataframe thead th {\n",
       "        text-align: right;\n",
       "    }\n",
       "</style>\n",
       "<table border=\"1\" class=\"dataframe\">\n",
       "  <thead>\n",
       "    <tr style=\"text-align: right;\">\n",
       "      <th></th>\n",
       "      <th>count</th>\n",
       "      <th>mean</th>\n",
       "      <th>std</th>\n",
       "      <th>min</th>\n",
       "      <th>25%</th>\n",
       "      <th>50%</th>\n",
       "      <th>75%</th>\n",
       "      <th>max</th>\n",
       "    </tr>\n",
       "  </thead>\n",
       "  <tbody>\n",
       "    <tr>\n",
       "      <th>barrels08</th>\n",
       "      <td>39101.0</td>\n",
       "      <td>17.442712</td>\n",
       "      <td>4.580230</td>\n",
       "      <td>0.06</td>\n",
       "      <td>14.330870</td>\n",
       "      <td>17.347895</td>\n",
       "      <td>20.115000</td>\n",
       "      <td>47.087143</td>\n",
       "    </tr>\n",
       "    <tr>\n",
       "      <th>barrelsA08</th>\n",
       "      <td>39101.0</td>\n",
       "      <td>0.219276</td>\n",
       "      <td>1.143837</td>\n",
       "      <td>0.00</td>\n",
       "      <td>0.000000</td>\n",
       "      <td>0.000000</td>\n",
       "      <td>0.000000</td>\n",
       "      <td>18.311667</td>\n",
       "    </tr>\n",
       "    <tr>\n",
       "      <th>charge120</th>\n",
       "      <td>39101.0</td>\n",
       "      <td>0.000000</td>\n",
       "      <td>0.000000</td>\n",
       "      <td>0.00</td>\n",
       "      <td>0.000000</td>\n",
       "      <td>0.000000</td>\n",
       "      <td>0.000000</td>\n",
       "      <td>0.000000</td>\n",
       "    </tr>\n",
       "    <tr>\n",
       "      <th>charge240</th>\n",
       "      <td>39101.0</td>\n",
       "      <td>0.029630</td>\n",
       "      <td>0.487408</td>\n",
       "      <td>0.00</td>\n",
       "      <td>0.000000</td>\n",
       "      <td>0.000000</td>\n",
       "      <td>0.000000</td>\n",
       "      <td>12.000000</td>\n",
       "    </tr>\n",
       "    <tr>\n",
       "      <th>city08</th>\n",
       "      <td>39101.0</td>\n",
       "      <td>18.077799</td>\n",
       "      <td>6.970672</td>\n",
       "      <td>6.00</td>\n",
       "      <td>15.000000</td>\n",
       "      <td>17.000000</td>\n",
       "      <td>20.000000</td>\n",
       "      <td>150.000000</td>\n",
       "    </tr>\n",
       "    <tr>\n",
       "      <th>city08U</th>\n",
       "      <td>39101.0</td>\n",
       "      <td>5.040648</td>\n",
       "      <td>10.462790</td>\n",
       "      <td>0.00</td>\n",
       "      <td>0.000000</td>\n",
       "      <td>0.000000</td>\n",
       "      <td>0.000000</td>\n",
       "      <td>150.000000</td>\n",
       "    </tr>\n",
       "    <tr>\n",
       "      <th>cityA08</th>\n",
       "      <td>39101.0</td>\n",
       "      <td>0.569883</td>\n",
       "      <td>4.297124</td>\n",
       "      <td>0.00</td>\n",
       "      <td>0.000000</td>\n",
       "      <td>0.000000</td>\n",
       "      <td>0.000000</td>\n",
       "      <td>145.000000</td>\n",
       "    </tr>\n",
       "    <tr>\n",
       "      <th>cityA08U</th>\n",
       "      <td>39101.0</td>\n",
       "      <td>0.416097</td>\n",
       "      <td>4.093495</td>\n",
       "      <td>0.00</td>\n",
       "      <td>0.000000</td>\n",
       "      <td>0.000000</td>\n",
       "      <td>0.000000</td>\n",
       "      <td>145.083500</td>\n",
       "    </tr>\n",
       "    <tr>\n",
       "      <th>cityCD</th>\n",
       "      <td>39101.0</td>\n",
       "      <td>0.000560</td>\n",
       "      <td>0.045392</td>\n",
       "      <td>0.00</td>\n",
       "      <td>0.000000</td>\n",
       "      <td>0.000000</td>\n",
       "      <td>0.000000</td>\n",
       "      <td>5.350000</td>\n",
       "    </tr>\n",
       "    <tr>\n",
       "      <th>cityE</th>\n",
       "      <td>39101.0</td>\n",
       "      <td>0.225181</td>\n",
       "      <td>3.180894</td>\n",
       "      <td>0.00</td>\n",
       "      <td>0.000000</td>\n",
       "      <td>0.000000</td>\n",
       "      <td>0.000000</td>\n",
       "      <td>122.000000</td>\n",
       "    </tr>\n",
       "    <tr>\n",
       "      <th>cityUF</th>\n",
       "      <td>39101.0</td>\n",
       "      <td>0.000975</td>\n",
       "      <td>0.022785</td>\n",
       "      <td>0.00</td>\n",
       "      <td>0.000000</td>\n",
       "      <td>0.000000</td>\n",
       "      <td>0.000000</td>\n",
       "      <td>0.896000</td>\n",
       "    </tr>\n",
       "    <tr>\n",
       "      <th>co2</th>\n",
       "      <td>39101.0</td>\n",
       "      <td>72.538989</td>\n",
       "      <td>163.252019</td>\n",
       "      <td>-1.00</td>\n",
       "      <td>-1.000000</td>\n",
       "      <td>-1.000000</td>\n",
       "      <td>-1.000000</td>\n",
       "      <td>847.000000</td>\n",
       "    </tr>\n",
       "    <tr>\n",
       "      <th>co2A</th>\n",
       "      <td>39101.0</td>\n",
       "      <td>5.543950</td>\n",
       "      <td>55.956932</td>\n",
       "      <td>-1.00</td>\n",
       "      <td>-1.000000</td>\n",
       "      <td>-1.000000</td>\n",
       "      <td>-1.000000</td>\n",
       "      <td>713.000000</td>\n",
       "    </tr>\n",
       "    <tr>\n",
       "      <th>co2TailpipeAGpm</th>\n",
       "      <td>39101.0</td>\n",
       "      <td>17.826864</td>\n",
       "      <td>93.937414</td>\n",
       "      <td>0.00</td>\n",
       "      <td>0.000000</td>\n",
       "      <td>0.000000</td>\n",
       "      <td>0.000000</td>\n",
       "      <td>713.000000</td>\n",
       "    </tr>\n",
       "    <tr>\n",
       "      <th>co2TailpipeGpm</th>\n",
       "      <td>39101.0</td>\n",
       "      <td>470.704841</td>\n",
       "      <td>122.351021</td>\n",
       "      <td>0.00</td>\n",
       "      <td>386.391304</td>\n",
       "      <td>459.000000</td>\n",
       "      <td>535.789474</td>\n",
       "      <td>1269.571429</td>\n",
       "    </tr>\n",
       "    <tr>\n",
       "      <th>comb08</th>\n",
       "      <td>39101.0</td>\n",
       "      <td>20.323828</td>\n",
       "      <td>6.882807</td>\n",
       "      <td>7.00</td>\n",
       "      <td>17.000000</td>\n",
       "      <td>20.000000</td>\n",
       "      <td>23.000000</td>\n",
       "      <td>136.000000</td>\n",
       "    </tr>\n",
       "    <tr>\n",
       "      <th>comb08U</th>\n",
       "      <td>39101.0</td>\n",
       "      <td>5.652724</td>\n",
       "      <td>11.231748</td>\n",
       "      <td>0.00</td>\n",
       "      <td>0.000000</td>\n",
       "      <td>0.000000</td>\n",
       "      <td>0.000000</td>\n",
       "      <td>136.000000</td>\n",
       "    </tr>\n",
       "    <tr>\n",
       "      <th>combA08</th>\n",
       "      <td>39101.0</td>\n",
       "      <td>0.631160</td>\n",
       "      <td>4.395797</td>\n",
       "      <td>0.00</td>\n",
       "      <td>0.000000</td>\n",
       "      <td>0.000000</td>\n",
       "      <td>0.000000</td>\n",
       "      <td>133.000000</td>\n",
       "    </tr>\n",
       "    <tr>\n",
       "      <th>combA08U</th>\n",
       "      <td>39101.0</td>\n",
       "      <td>0.453725</td>\n",
       "      <td>4.131767</td>\n",
       "      <td>0.00</td>\n",
       "      <td>0.000000</td>\n",
       "      <td>0.000000</td>\n",
       "      <td>0.000000</td>\n",
       "      <td>133.266200</td>\n",
       "    </tr>\n",
       "    <tr>\n",
       "      <th>combE</th>\n",
       "      <td>39101.0</td>\n",
       "      <td>0.230912</td>\n",
       "      <td>3.244463</td>\n",
       "      <td>0.00</td>\n",
       "      <td>0.000000</td>\n",
       "      <td>0.000000</td>\n",
       "      <td>0.000000</td>\n",
       "      <td>121.000000</td>\n",
       "    </tr>\n",
       "    <tr>\n",
       "      <th>combinedCD</th>\n",
       "      <td>39101.0</td>\n",
       "      <td>0.000459</td>\n",
       "      <td>0.040759</td>\n",
       "      <td>0.00</td>\n",
       "      <td>0.000000</td>\n",
       "      <td>0.000000</td>\n",
       "      <td>0.000000</td>\n",
       "      <td>4.800000</td>\n",
       "    </tr>\n",
       "    <tr>\n",
       "      <th>combinedUF</th>\n",
       "      <td>39101.0</td>\n",
       "      <td>0.000959</td>\n",
       "      <td>0.022392</td>\n",
       "      <td>0.00</td>\n",
       "      <td>0.000000</td>\n",
       "      <td>0.000000</td>\n",
       "      <td>0.000000</td>\n",
       "      <td>0.888000</td>\n",
       "    </tr>\n",
       "    <tr>\n",
       "      <th>cylinders</th>\n",
       "      <td>38956.0</td>\n",
       "      <td>5.729105</td>\n",
       "      <td>1.754487</td>\n",
       "      <td>2.00</td>\n",
       "      <td>4.000000</td>\n",
       "      <td>6.000000</td>\n",
       "      <td>6.000000</td>\n",
       "      <td>16.000000</td>\n",
       "    </tr>\n",
       "    <tr>\n",
       "      <th>displ</th>\n",
       "      <td>38958.0</td>\n",
       "      <td>3.309829</td>\n",
       "      <td>1.361925</td>\n",
       "      <td>0.00</td>\n",
       "      <td>2.200000</td>\n",
       "      <td>3.000000</td>\n",
       "      <td>4.300000</td>\n",
       "      <td>8.400000</td>\n",
       "    </tr>\n",
       "    <tr>\n",
       "      <th>engId</th>\n",
       "      <td>39101.0</td>\n",
       "      <td>8582.377382</td>\n",
       "      <td>17606.675590</td>\n",
       "      <td>0.00</td>\n",
       "      <td>0.000000</td>\n",
       "      <td>202.000000</td>\n",
       "      <td>4401.000000</td>\n",
       "      <td>69102.000000</td>\n",
       "    </tr>\n",
       "    <tr>\n",
       "      <th>feScore</th>\n",
       "      <td>39101.0</td>\n",
       "      <td>0.122580</td>\n",
       "      <td>2.516348</td>\n",
       "      <td>-1.00</td>\n",
       "      <td>-1.000000</td>\n",
       "      <td>-1.000000</td>\n",
       "      <td>-1.000000</td>\n",
       "      <td>10.000000</td>\n",
       "    </tr>\n",
       "    <tr>\n",
       "      <th>fuelCost08</th>\n",
       "      <td>39101.0</td>\n",
       "      <td>2242.470781</td>\n",
       "      <td>601.273869</td>\n",
       "      <td>500.00</td>\n",
       "      <td>1850.000000</td>\n",
       "      <td>2250.000000</td>\n",
       "      <td>2500.000000</td>\n",
       "      <td>6850.000000</td>\n",
       "    </tr>\n",
       "    <tr>\n",
       "      <th>fuelCostA08</th>\n",
       "      <td>39101.0</td>\n",
       "      <td>91.335260</td>\n",
       "      <td>479.485802</td>\n",
       "      <td>0.00</td>\n",
       "      <td>0.000000</td>\n",
       "      <td>0.000000</td>\n",
       "      <td>0.000000</td>\n",
       "      <td>3850.000000</td>\n",
       "    </tr>\n",
       "    <tr>\n",
       "      <th>ghgScore</th>\n",
       "      <td>39101.0</td>\n",
       "      <td>0.120866</td>\n",
       "      <td>2.512612</td>\n",
       "      <td>-1.00</td>\n",
       "      <td>-1.000000</td>\n",
       "      <td>-1.000000</td>\n",
       "      <td>-1.000000</td>\n",
       "      <td>10.000000</td>\n",
       "    </tr>\n",
       "    <tr>\n",
       "      <th>ghgScoreA</th>\n",
       "      <td>39101.0</td>\n",
       "      <td>-0.923889</td>\n",
       "      <td>0.651017</td>\n",
       "      <td>-1.00</td>\n",
       "      <td>-1.000000</td>\n",
       "      <td>-1.000000</td>\n",
       "      <td>-1.000000</td>\n",
       "      <td>8.000000</td>\n",
       "    </tr>\n",
       "    <tr>\n",
       "      <th>highway08</th>\n",
       "      <td>39101.0</td>\n",
       "      <td>24.208588</td>\n",
       "      <td>7.128070</td>\n",
       "      <td>9.00</td>\n",
       "      <td>20.000000</td>\n",
       "      <td>24.000000</td>\n",
       "      <td>27.000000</td>\n",
       "      <td>122.000000</td>\n",
       "    </tr>\n",
       "    <tr>\n",
       "      <th>highway08U</th>\n",
       "      <td>39101.0</td>\n",
       "      <td>6.712736</td>\n",
       "      <td>12.809865</td>\n",
       "      <td>0.00</td>\n",
       "      <td>0.000000</td>\n",
       "      <td>0.000000</td>\n",
       "      <td>0.000000</td>\n",
       "      <td>122.000000</td>\n",
       "    </tr>\n",
       "    <tr>\n",
       "      <th>highwayA08</th>\n",
       "      <td>39101.0</td>\n",
       "      <td>0.736452</td>\n",
       "      <td>4.694207</td>\n",
       "      <td>0.00</td>\n",
       "      <td>0.000000</td>\n",
       "      <td>0.000000</td>\n",
       "      <td>0.000000</td>\n",
       "      <td>121.000000</td>\n",
       "    </tr>\n",
       "    <tr>\n",
       "      <th>highwayA08U</th>\n",
       "      <td>39101.0</td>\n",
       "      <td>0.523423</td>\n",
       "      <td>4.343967</td>\n",
       "      <td>0.00</td>\n",
       "      <td>0.000000</td>\n",
       "      <td>0.000000</td>\n",
       "      <td>0.000000</td>\n",
       "      <td>121.200500</td>\n",
       "    </tr>\n",
       "    <tr>\n",
       "      <th>highwayCD</th>\n",
       "      <td>39101.0</td>\n",
       "      <td>0.000343</td>\n",
       "      <td>0.035457</td>\n",
       "      <td>0.00</td>\n",
       "      <td>0.000000</td>\n",
       "      <td>0.000000</td>\n",
       "      <td>0.000000</td>\n",
       "      <td>4.060000</td>\n",
       "    </tr>\n",
       "    <tr>\n",
       "      <th>highwayE</th>\n",
       "      <td>39101.0</td>\n",
       "      <td>0.238526</td>\n",
       "      <td>3.342921</td>\n",
       "      <td>0.00</td>\n",
       "      <td>0.000000</td>\n",
       "      <td>0.000000</td>\n",
       "      <td>0.000000</td>\n",
       "      <td>120.000000</td>\n",
       "    </tr>\n",
       "    <tr>\n",
       "      <th>highwayUF</th>\n",
       "      <td>39101.0</td>\n",
       "      <td>0.000938</td>\n",
       "      <td>0.021931</td>\n",
       "      <td>0.00</td>\n",
       "      <td>0.000000</td>\n",
       "      <td>0.000000</td>\n",
       "      <td>0.000000</td>\n",
       "      <td>0.877000</td>\n",
       "    </tr>\n",
       "    <tr>\n",
       "      <th>hlv</th>\n",
       "      <td>39101.0</td>\n",
       "      <td>2.029539</td>\n",
       "      <td>5.959735</td>\n",
       "      <td>0.00</td>\n",
       "      <td>0.000000</td>\n",
       "      <td>0.000000</td>\n",
       "      <td>0.000000</td>\n",
       "      <td>49.000000</td>\n",
       "    </tr>\n",
       "    <tr>\n",
       "      <th>hpv</th>\n",
       "      <td>39101.0</td>\n",
       "      <td>10.411243</td>\n",
       "      <td>28.167271</td>\n",
       "      <td>0.00</td>\n",
       "      <td>0.000000</td>\n",
       "      <td>0.000000</td>\n",
       "      <td>0.000000</td>\n",
       "      <td>195.000000</td>\n",
       "    </tr>\n",
       "    <tr>\n",
       "      <th>id</th>\n",
       "      <td>39101.0</td>\n",
       "      <td>19662.541188</td>\n",
       "      <td>11413.329199</td>\n",
       "      <td>1.00</td>\n",
       "      <td>9776.000000</td>\n",
       "      <td>19552.000000</td>\n",
       "      <td>29555.000000</td>\n",
       "      <td>39483.000000</td>\n",
       "    </tr>\n",
       "    <tr>\n",
       "      <th>lv2</th>\n",
       "      <td>39101.0</td>\n",
       "      <td>1.834812</td>\n",
       "      <td>4.407887</td>\n",
       "      <td>0.00</td>\n",
       "      <td>0.000000</td>\n",
       "      <td>0.000000</td>\n",
       "      <td>0.000000</td>\n",
       "      <td>41.000000</td>\n",
       "    </tr>\n",
       "    <tr>\n",
       "      <th>lv4</th>\n",
       "      <td>39101.0</td>\n",
       "      <td>6.155930</td>\n",
       "      <td>9.698101</td>\n",
       "      <td>0.00</td>\n",
       "      <td>0.000000</td>\n",
       "      <td>0.000000</td>\n",
       "      <td>13.000000</td>\n",
       "      <td>55.000000</td>\n",
       "    </tr>\n",
       "    <tr>\n",
       "      <th>pv2</th>\n",
       "      <td>39101.0</td>\n",
       "      <td>13.649574</td>\n",
       "      <td>31.214466</td>\n",
       "      <td>0.00</td>\n",
       "      <td>0.000000</td>\n",
       "      <td>0.000000</td>\n",
       "      <td>0.000000</td>\n",
       "      <td>194.000000</td>\n",
       "    </tr>\n",
       "    <tr>\n",
       "      <th>pv4</th>\n",
       "      <td>39101.0</td>\n",
       "      <td>33.883711</td>\n",
       "      <td>45.991687</td>\n",
       "      <td>0.00</td>\n",
       "      <td>0.000000</td>\n",
       "      <td>0.000000</td>\n",
       "      <td>91.000000</td>\n",
       "      <td>192.000000</td>\n",
       "    </tr>\n",
       "    <tr>\n",
       "      <th>range</th>\n",
       "      <td>39101.0</td>\n",
       "      <td>0.500243</td>\n",
       "      <td>9.742080</td>\n",
       "      <td>0.00</td>\n",
       "      <td>0.000000</td>\n",
       "      <td>0.000000</td>\n",
       "      <td>0.000000</td>\n",
       "      <td>335.000000</td>\n",
       "    </tr>\n",
       "    <tr>\n",
       "      <th>rangeCity</th>\n",
       "      <td>39101.0</td>\n",
       "      <td>0.458375</td>\n",
       "      <td>9.510276</td>\n",
       "      <td>0.00</td>\n",
       "      <td>0.000000</td>\n",
       "      <td>0.000000</td>\n",
       "      <td>0.000000</td>\n",
       "      <td>333.100000</td>\n",
       "    </tr>\n",
       "    <tr>\n",
       "      <th>rangeCityA</th>\n",
       "      <td>39101.0</td>\n",
       "      <td>0.050978</td>\n",
       "      <td>1.383722</td>\n",
       "      <td>0.00</td>\n",
       "      <td>0.000000</td>\n",
       "      <td>0.000000</td>\n",
       "      <td>0.000000</td>\n",
       "      <td>103.030000</td>\n",
       "    </tr>\n",
       "    <tr>\n",
       "      <th>rangeHwy</th>\n",
       "      <td>39101.0</td>\n",
       "      <td>0.450392</td>\n",
       "      <td>9.711025</td>\n",
       "      <td>0.00</td>\n",
       "      <td>0.000000</td>\n",
       "      <td>0.000000</td>\n",
       "      <td>0.000000</td>\n",
       "      <td>346.900000</td>\n",
       "    </tr>\n",
       "    <tr>\n",
       "      <th>rangeHwyA</th>\n",
       "      <td>39101.0</td>\n",
       "      <td>0.046958</td>\n",
       "      <td>1.244770</td>\n",
       "      <td>0.00</td>\n",
       "      <td>0.000000</td>\n",
       "      <td>0.000000</td>\n",
       "      <td>0.000000</td>\n",
       "      <td>90.550000</td>\n",
       "    </tr>\n",
       "    <tr>\n",
       "      <th>UCity</th>\n",
       "      <td>39101.0</td>\n",
       "      <td>22.789421</td>\n",
       "      <td>9.827224</td>\n",
       "      <td>0.00</td>\n",
       "      <td>18.000000</td>\n",
       "      <td>21.111100</td>\n",
       "      <td>25.475600</td>\n",
       "      <td>224.800000</td>\n",
       "    </tr>\n",
       "    <tr>\n",
       "      <th>UCityA</th>\n",
       "      <td>39101.0</td>\n",
       "      <td>0.723139</td>\n",
       "      <td>5.965565</td>\n",
       "      <td>0.00</td>\n",
       "      <td>0.000000</td>\n",
       "      <td>0.000000</td>\n",
       "      <td>0.000000</td>\n",
       "      <td>207.262200</td>\n",
       "    </tr>\n",
       "    <tr>\n",
       "      <th>UHighway</th>\n",
       "      <td>39101.0</td>\n",
       "      <td>33.884375</td>\n",
       "      <td>10.399308</td>\n",
       "      <td>0.00</td>\n",
       "      <td>27.370400</td>\n",
       "      <td>33.000000</td>\n",
       "      <td>38.600000</td>\n",
       "      <td>182.700000</td>\n",
       "    </tr>\n",
       "    <tr>\n",
       "      <th>UHighwayA</th>\n",
       "      <td>39101.0</td>\n",
       "      <td>1.009562</td>\n",
       "      <td>6.642943</td>\n",
       "      <td>0.00</td>\n",
       "      <td>0.000000</td>\n",
       "      <td>0.000000</td>\n",
       "      <td>0.000000</td>\n",
       "      <td>173.143600</td>\n",
       "    </tr>\n",
       "    <tr>\n",
       "      <th>year</th>\n",
       "      <td>39101.0</td>\n",
       "      <td>2000.635406</td>\n",
       "      <td>10.690422</td>\n",
       "      <td>1984.00</td>\n",
       "      <td>1991.000000</td>\n",
       "      <td>2001.000000</td>\n",
       "      <td>2010.000000</td>\n",
       "      <td>2018.000000</td>\n",
       "    </tr>\n",
       "    <tr>\n",
       "      <th>youSaveSpend</th>\n",
       "      <td>39101.0</td>\n",
       "      <td>-3459.572645</td>\n",
       "      <td>3010.284617</td>\n",
       "      <td>-26500.00</td>\n",
       "      <td>-4750.000000</td>\n",
       "      <td>-3500.000000</td>\n",
       "      <td>-1500.000000</td>\n",
       "      <td>5250.000000</td>\n",
       "    </tr>\n",
       "    <tr>\n",
       "      <th>charge240b</th>\n",
       "      <td>39101.0</td>\n",
       "      <td>0.005869</td>\n",
       "      <td>0.165399</td>\n",
       "      <td>0.00</td>\n",
       "      <td>0.000000</td>\n",
       "      <td>0.000000</td>\n",
       "      <td>0.000000</td>\n",
       "      <td>7.000000</td>\n",
       "    </tr>\n",
       "    <tr>\n",
       "      <th>phevCity</th>\n",
       "      <td>39101.0</td>\n",
       "      <td>0.094703</td>\n",
       "      <td>2.279478</td>\n",
       "      <td>0.00</td>\n",
       "      <td>0.000000</td>\n",
       "      <td>0.000000</td>\n",
       "      <td>0.000000</td>\n",
       "      <td>97.000000</td>\n",
       "    </tr>\n",
       "    <tr>\n",
       "      <th>phevHwy</th>\n",
       "      <td>39101.0</td>\n",
       "      <td>0.094269</td>\n",
       "      <td>2.191115</td>\n",
       "      <td>0.00</td>\n",
       "      <td>0.000000</td>\n",
       "      <td>0.000000</td>\n",
       "      <td>0.000000</td>\n",
       "      <td>81.000000</td>\n",
       "    </tr>\n",
       "    <tr>\n",
       "      <th>phevComb</th>\n",
       "      <td>39101.0</td>\n",
       "      <td>0.094141</td>\n",
       "      <td>2.226500</td>\n",
       "      <td>0.00</td>\n",
       "      <td>0.000000</td>\n",
       "      <td>0.000000</td>\n",
       "      <td>0.000000</td>\n",
       "      <td>88.000000</td>\n",
       "    </tr>\n",
       "  </tbody>\n",
       "</table>\n",
       "</div>"
      ],
      "text/plain": [
       "                   count          mean           std       min          25%  \\\n",
       "barrels08        39101.0     17.442712      4.580230      0.06    14.330870   \n",
       "barrelsA08       39101.0      0.219276      1.143837      0.00     0.000000   \n",
       "charge120        39101.0      0.000000      0.000000      0.00     0.000000   \n",
       "charge240        39101.0      0.029630      0.487408      0.00     0.000000   \n",
       "city08           39101.0     18.077799      6.970672      6.00    15.000000   \n",
       "city08U          39101.0      5.040648     10.462790      0.00     0.000000   \n",
       "cityA08          39101.0      0.569883      4.297124      0.00     0.000000   \n",
       "cityA08U         39101.0      0.416097      4.093495      0.00     0.000000   \n",
       "cityCD           39101.0      0.000560      0.045392      0.00     0.000000   \n",
       "cityE            39101.0      0.225181      3.180894      0.00     0.000000   \n",
       "cityUF           39101.0      0.000975      0.022785      0.00     0.000000   \n",
       "co2              39101.0     72.538989    163.252019     -1.00    -1.000000   \n",
       "co2A             39101.0      5.543950     55.956932     -1.00    -1.000000   \n",
       "co2TailpipeAGpm  39101.0     17.826864     93.937414      0.00     0.000000   \n",
       "co2TailpipeGpm   39101.0    470.704841    122.351021      0.00   386.391304   \n",
       "comb08           39101.0     20.323828      6.882807      7.00    17.000000   \n",
       "comb08U          39101.0      5.652724     11.231748      0.00     0.000000   \n",
       "combA08          39101.0      0.631160      4.395797      0.00     0.000000   \n",
       "combA08U         39101.0      0.453725      4.131767      0.00     0.000000   \n",
       "combE            39101.0      0.230912      3.244463      0.00     0.000000   \n",
       "combinedCD       39101.0      0.000459      0.040759      0.00     0.000000   \n",
       "combinedUF       39101.0      0.000959      0.022392      0.00     0.000000   \n",
       "cylinders        38956.0      5.729105      1.754487      2.00     4.000000   \n",
       "displ            38958.0      3.309829      1.361925      0.00     2.200000   \n",
       "engId            39101.0   8582.377382  17606.675590      0.00     0.000000   \n",
       "feScore          39101.0      0.122580      2.516348     -1.00    -1.000000   \n",
       "fuelCost08       39101.0   2242.470781    601.273869    500.00  1850.000000   \n",
       "fuelCostA08      39101.0     91.335260    479.485802      0.00     0.000000   \n",
       "ghgScore         39101.0      0.120866      2.512612     -1.00    -1.000000   \n",
       "ghgScoreA        39101.0     -0.923889      0.651017     -1.00    -1.000000   \n",
       "highway08        39101.0     24.208588      7.128070      9.00    20.000000   \n",
       "highway08U       39101.0      6.712736     12.809865      0.00     0.000000   \n",
       "highwayA08       39101.0      0.736452      4.694207      0.00     0.000000   \n",
       "highwayA08U      39101.0      0.523423      4.343967      0.00     0.000000   \n",
       "highwayCD        39101.0      0.000343      0.035457      0.00     0.000000   \n",
       "highwayE         39101.0      0.238526      3.342921      0.00     0.000000   \n",
       "highwayUF        39101.0      0.000938      0.021931      0.00     0.000000   \n",
       "hlv              39101.0      2.029539      5.959735      0.00     0.000000   \n",
       "hpv              39101.0     10.411243     28.167271      0.00     0.000000   \n",
       "id               39101.0  19662.541188  11413.329199      1.00  9776.000000   \n",
       "lv2              39101.0      1.834812      4.407887      0.00     0.000000   \n",
       "lv4              39101.0      6.155930      9.698101      0.00     0.000000   \n",
       "pv2              39101.0     13.649574     31.214466      0.00     0.000000   \n",
       "pv4              39101.0     33.883711     45.991687      0.00     0.000000   \n",
       "range            39101.0      0.500243      9.742080      0.00     0.000000   \n",
       "rangeCity        39101.0      0.458375      9.510276      0.00     0.000000   \n",
       "rangeCityA       39101.0      0.050978      1.383722      0.00     0.000000   \n",
       "rangeHwy         39101.0      0.450392      9.711025      0.00     0.000000   \n",
       "rangeHwyA        39101.0      0.046958      1.244770      0.00     0.000000   \n",
       "UCity            39101.0     22.789421      9.827224      0.00    18.000000   \n",
       "UCityA           39101.0      0.723139      5.965565      0.00     0.000000   \n",
       "UHighway         39101.0     33.884375     10.399308      0.00    27.370400   \n",
       "UHighwayA        39101.0      1.009562      6.642943      0.00     0.000000   \n",
       "year             39101.0   2000.635406     10.690422   1984.00  1991.000000   \n",
       "youSaveSpend     39101.0  -3459.572645   3010.284617 -26500.00 -4750.000000   \n",
       "charge240b       39101.0      0.005869      0.165399      0.00     0.000000   \n",
       "phevCity         39101.0      0.094703      2.279478      0.00     0.000000   \n",
       "phevHwy          39101.0      0.094269      2.191115      0.00     0.000000   \n",
       "phevComb         39101.0      0.094141      2.226500      0.00     0.000000   \n",
       "\n",
       "                          50%           75%           max  \n",
       "barrels08           17.347895     20.115000     47.087143  \n",
       "barrelsA08           0.000000      0.000000     18.311667  \n",
       "charge120            0.000000      0.000000      0.000000  \n",
       "charge240            0.000000      0.000000     12.000000  \n",
       "city08              17.000000     20.000000    150.000000  \n",
       "city08U              0.000000      0.000000    150.000000  \n",
       "cityA08              0.000000      0.000000    145.000000  \n",
       "cityA08U             0.000000      0.000000    145.083500  \n",
       "cityCD               0.000000      0.000000      5.350000  \n",
       "cityE                0.000000      0.000000    122.000000  \n",
       "cityUF               0.000000      0.000000      0.896000  \n",
       "co2                 -1.000000     -1.000000    847.000000  \n",
       "co2A                -1.000000     -1.000000    713.000000  \n",
       "co2TailpipeAGpm      0.000000      0.000000    713.000000  \n",
       "co2TailpipeGpm     459.000000    535.789474   1269.571429  \n",
       "comb08              20.000000     23.000000    136.000000  \n",
       "comb08U              0.000000      0.000000    136.000000  \n",
       "combA08              0.000000      0.000000    133.000000  \n",
       "combA08U             0.000000      0.000000    133.266200  \n",
       "combE                0.000000      0.000000    121.000000  \n",
       "combinedCD           0.000000      0.000000      4.800000  \n",
       "combinedUF           0.000000      0.000000      0.888000  \n",
       "cylinders            6.000000      6.000000     16.000000  \n",
       "displ                3.000000      4.300000      8.400000  \n",
       "engId              202.000000   4401.000000  69102.000000  \n",
       "feScore             -1.000000     -1.000000     10.000000  \n",
       "fuelCost08        2250.000000   2500.000000   6850.000000  \n",
       "fuelCostA08          0.000000      0.000000   3850.000000  \n",
       "ghgScore            -1.000000     -1.000000     10.000000  \n",
       "ghgScoreA           -1.000000     -1.000000      8.000000  \n",
       "highway08           24.000000     27.000000    122.000000  \n",
       "highway08U           0.000000      0.000000    122.000000  \n",
       "highwayA08           0.000000      0.000000    121.000000  \n",
       "highwayA08U          0.000000      0.000000    121.200500  \n",
       "highwayCD            0.000000      0.000000      4.060000  \n",
       "highwayE             0.000000      0.000000    120.000000  \n",
       "highwayUF            0.000000      0.000000      0.877000  \n",
       "hlv                  0.000000      0.000000     49.000000  \n",
       "hpv                  0.000000      0.000000    195.000000  \n",
       "id               19552.000000  29555.000000  39483.000000  \n",
       "lv2                  0.000000      0.000000     41.000000  \n",
       "lv4                  0.000000     13.000000     55.000000  \n",
       "pv2                  0.000000      0.000000    194.000000  \n",
       "pv4                  0.000000     91.000000    192.000000  \n",
       "range                0.000000      0.000000    335.000000  \n",
       "rangeCity            0.000000      0.000000    333.100000  \n",
       "rangeCityA           0.000000      0.000000    103.030000  \n",
       "rangeHwy             0.000000      0.000000    346.900000  \n",
       "rangeHwyA            0.000000      0.000000     90.550000  \n",
       "UCity               21.111100     25.475600    224.800000  \n",
       "UCityA               0.000000      0.000000    207.262200  \n",
       "UHighway            33.000000     38.600000    182.700000  \n",
       "UHighwayA            0.000000      0.000000    173.143600  \n",
       "year              2001.000000   2010.000000   2018.000000  \n",
       "youSaveSpend     -3500.000000  -1500.000000   5250.000000  \n",
       "charge240b           0.000000      0.000000      7.000000  \n",
       "phevCity             0.000000      0.000000     97.000000  \n",
       "phevHwy              0.000000      0.000000     81.000000  \n",
       "phevComb             0.000000      0.000000     88.000000  "
      ]
     },
     "execution_count": 7,
     "metadata": {},
     "output_type": "execute_result"
    }
   ],
   "source": [
    "fueleco.describe().T # Transposing the data frame"
   ]
  },
  {
   "cell_type": "code",
   "execution_count": 8,
   "id": "1a30af01",
   "metadata": {},
   "outputs": [
    {
     "data": {
      "text/plain": [
       "barrels08     float64\n",
       "barrelsA08    float64\n",
       "charge120     float64\n",
       "charge240     float64\n",
       "city08          int64\n",
       "               ...   \n",
       "modifiedOn     object\n",
       "startStop      object\n",
       "phevCity        int64\n",
       "phevHwy         int64\n",
       "phevComb        int64\n",
       "Length: 83, dtype: object"
      ]
     },
     "execution_count": 8,
     "metadata": {},
     "output_type": "execute_result"
    }
   ],
   "source": [
    "fueleco.dtypes"
   ]
  },
  {
   "cell_type": "code",
   "execution_count": 9,
   "id": "7a6a08f3",
   "metadata": {},
   "outputs": [
    {
     "data": {
      "text/plain": [
       "float64    32\n",
       "int64      27\n",
       "object     23\n",
       "bool        1\n",
       "dtype: int64"
      ]
     },
     "execution_count": 9,
     "metadata": {},
     "output_type": "execute_result"
    }
   ],
   "source": [
    "fueleco.dtypes.value_counts() # count for each value of the datatypes "
   ]
  },
  {
   "cell_type": "code",
   "execution_count": 10,
   "id": "cb0fc380",
   "metadata": {},
   "outputs": [
    {
     "data": {
      "text/html": [
       "<div>\n",
       "<style scoped>\n",
       "    .dataframe tbody tr th:only-of-type {\n",
       "        vertical-align: middle;\n",
       "    }\n",
       "\n",
       "    .dataframe tbody tr th {\n",
       "        vertical-align: top;\n",
       "    }\n",
       "\n",
       "    .dataframe thead th {\n",
       "        text-align: right;\n",
       "    }\n",
       "</style>\n",
       "<table border=\"1\" class=\"dataframe\">\n",
       "  <thead>\n",
       "    <tr style=\"text-align: right;\">\n",
       "      <th></th>\n",
       "      <th>count</th>\n",
       "      <th>mean</th>\n",
       "      <th>std</th>\n",
       "      <th>min</th>\n",
       "      <th>25%</th>\n",
       "      <th>50%</th>\n",
       "      <th>75%</th>\n",
       "      <th>max</th>\n",
       "    </tr>\n",
       "  </thead>\n",
       "  <tbody>\n",
       "    <tr>\n",
       "      <th>city08</th>\n",
       "      <td>39101.0</td>\n",
       "      <td>18.077799</td>\n",
       "      <td>6.970672</td>\n",
       "      <td>6.0</td>\n",
       "      <td>15.0</td>\n",
       "      <td>17.0</td>\n",
       "      <td>20.0</td>\n",
       "      <td>150.0</td>\n",
       "    </tr>\n",
       "    <tr>\n",
       "      <th>cityA08</th>\n",
       "      <td>39101.0</td>\n",
       "      <td>0.569883</td>\n",
       "      <td>4.297124</td>\n",
       "      <td>0.0</td>\n",
       "      <td>0.0</td>\n",
       "      <td>0.0</td>\n",
       "      <td>0.0</td>\n",
       "      <td>145.0</td>\n",
       "    </tr>\n",
       "    <tr>\n",
       "      <th>co2</th>\n",
       "      <td>39101.0</td>\n",
       "      <td>72.538989</td>\n",
       "      <td>163.252019</td>\n",
       "      <td>-1.0</td>\n",
       "      <td>-1.0</td>\n",
       "      <td>-1.0</td>\n",
       "      <td>-1.0</td>\n",
       "      <td>847.0</td>\n",
       "    </tr>\n",
       "    <tr>\n",
       "      <th>co2A</th>\n",
       "      <td>39101.0</td>\n",
       "      <td>5.543950</td>\n",
       "      <td>55.956932</td>\n",
       "      <td>-1.0</td>\n",
       "      <td>-1.0</td>\n",
       "      <td>-1.0</td>\n",
       "      <td>-1.0</td>\n",
       "      <td>713.0</td>\n",
       "    </tr>\n",
       "    <tr>\n",
       "      <th>comb08</th>\n",
       "      <td>39101.0</td>\n",
       "      <td>20.323828</td>\n",
       "      <td>6.882807</td>\n",
       "      <td>7.0</td>\n",
       "      <td>17.0</td>\n",
       "      <td>20.0</td>\n",
       "      <td>23.0</td>\n",
       "      <td>136.0</td>\n",
       "    </tr>\n",
       "    <tr>\n",
       "      <th>combA08</th>\n",
       "      <td>39101.0</td>\n",
       "      <td>0.631160</td>\n",
       "      <td>4.395797</td>\n",
       "      <td>0.0</td>\n",
       "      <td>0.0</td>\n",
       "      <td>0.0</td>\n",
       "      <td>0.0</td>\n",
       "      <td>133.0</td>\n",
       "    </tr>\n",
       "    <tr>\n",
       "      <th>engId</th>\n",
       "      <td>39101.0</td>\n",
       "      <td>8582.377382</td>\n",
       "      <td>17606.675590</td>\n",
       "      <td>0.0</td>\n",
       "      <td>0.0</td>\n",
       "      <td>202.0</td>\n",
       "      <td>4401.0</td>\n",
       "      <td>69102.0</td>\n",
       "    </tr>\n",
       "    <tr>\n",
       "      <th>feScore</th>\n",
       "      <td>39101.0</td>\n",
       "      <td>0.122580</td>\n",
       "      <td>2.516348</td>\n",
       "      <td>-1.0</td>\n",
       "      <td>-1.0</td>\n",
       "      <td>-1.0</td>\n",
       "      <td>-1.0</td>\n",
       "      <td>10.0</td>\n",
       "    </tr>\n",
       "    <tr>\n",
       "      <th>fuelCost08</th>\n",
       "      <td>39101.0</td>\n",
       "      <td>2242.470781</td>\n",
       "      <td>601.273869</td>\n",
       "      <td>500.0</td>\n",
       "      <td>1850.0</td>\n",
       "      <td>2250.0</td>\n",
       "      <td>2500.0</td>\n",
       "      <td>6850.0</td>\n",
       "    </tr>\n",
       "    <tr>\n",
       "      <th>fuelCostA08</th>\n",
       "      <td>39101.0</td>\n",
       "      <td>91.335260</td>\n",
       "      <td>479.485802</td>\n",
       "      <td>0.0</td>\n",
       "      <td>0.0</td>\n",
       "      <td>0.0</td>\n",
       "      <td>0.0</td>\n",
       "      <td>3850.0</td>\n",
       "    </tr>\n",
       "    <tr>\n",
       "      <th>ghgScore</th>\n",
       "      <td>39101.0</td>\n",
       "      <td>0.120866</td>\n",
       "      <td>2.512612</td>\n",
       "      <td>-1.0</td>\n",
       "      <td>-1.0</td>\n",
       "      <td>-1.0</td>\n",
       "      <td>-1.0</td>\n",
       "      <td>10.0</td>\n",
       "    </tr>\n",
       "    <tr>\n",
       "      <th>ghgScoreA</th>\n",
       "      <td>39101.0</td>\n",
       "      <td>-0.923889</td>\n",
       "      <td>0.651017</td>\n",
       "      <td>-1.0</td>\n",
       "      <td>-1.0</td>\n",
       "      <td>-1.0</td>\n",
       "      <td>-1.0</td>\n",
       "      <td>8.0</td>\n",
       "    </tr>\n",
       "    <tr>\n",
       "      <th>highway08</th>\n",
       "      <td>39101.0</td>\n",
       "      <td>24.208588</td>\n",
       "      <td>7.128070</td>\n",
       "      <td>9.0</td>\n",
       "      <td>20.0</td>\n",
       "      <td>24.0</td>\n",
       "      <td>27.0</td>\n",
       "      <td>122.0</td>\n",
       "    </tr>\n",
       "    <tr>\n",
       "      <th>highwayA08</th>\n",
       "      <td>39101.0</td>\n",
       "      <td>0.736452</td>\n",
       "      <td>4.694207</td>\n",
       "      <td>0.0</td>\n",
       "      <td>0.0</td>\n",
       "      <td>0.0</td>\n",
       "      <td>0.0</td>\n",
       "      <td>121.0</td>\n",
       "    </tr>\n",
       "    <tr>\n",
       "      <th>hlv</th>\n",
       "      <td>39101.0</td>\n",
       "      <td>2.029539</td>\n",
       "      <td>5.959735</td>\n",
       "      <td>0.0</td>\n",
       "      <td>0.0</td>\n",
       "      <td>0.0</td>\n",
       "      <td>0.0</td>\n",
       "      <td>49.0</td>\n",
       "    </tr>\n",
       "    <tr>\n",
       "      <th>hpv</th>\n",
       "      <td>39101.0</td>\n",
       "      <td>10.411243</td>\n",
       "      <td>28.167271</td>\n",
       "      <td>0.0</td>\n",
       "      <td>0.0</td>\n",
       "      <td>0.0</td>\n",
       "      <td>0.0</td>\n",
       "      <td>195.0</td>\n",
       "    </tr>\n",
       "    <tr>\n",
       "      <th>id</th>\n",
       "      <td>39101.0</td>\n",
       "      <td>19662.541188</td>\n",
       "      <td>11413.329199</td>\n",
       "      <td>1.0</td>\n",
       "      <td>9776.0</td>\n",
       "      <td>19552.0</td>\n",
       "      <td>29555.0</td>\n",
       "      <td>39483.0</td>\n",
       "    </tr>\n",
       "    <tr>\n",
       "      <th>lv2</th>\n",
       "      <td>39101.0</td>\n",
       "      <td>1.834812</td>\n",
       "      <td>4.407887</td>\n",
       "      <td>0.0</td>\n",
       "      <td>0.0</td>\n",
       "      <td>0.0</td>\n",
       "      <td>0.0</td>\n",
       "      <td>41.0</td>\n",
       "    </tr>\n",
       "    <tr>\n",
       "      <th>lv4</th>\n",
       "      <td>39101.0</td>\n",
       "      <td>6.155930</td>\n",
       "      <td>9.698101</td>\n",
       "      <td>0.0</td>\n",
       "      <td>0.0</td>\n",
       "      <td>0.0</td>\n",
       "      <td>13.0</td>\n",
       "      <td>55.0</td>\n",
       "    </tr>\n",
       "    <tr>\n",
       "      <th>pv2</th>\n",
       "      <td>39101.0</td>\n",
       "      <td>13.649574</td>\n",
       "      <td>31.214466</td>\n",
       "      <td>0.0</td>\n",
       "      <td>0.0</td>\n",
       "      <td>0.0</td>\n",
       "      <td>0.0</td>\n",
       "      <td>194.0</td>\n",
       "    </tr>\n",
       "    <tr>\n",
       "      <th>pv4</th>\n",
       "      <td>39101.0</td>\n",
       "      <td>33.883711</td>\n",
       "      <td>45.991687</td>\n",
       "      <td>0.0</td>\n",
       "      <td>0.0</td>\n",
       "      <td>0.0</td>\n",
       "      <td>91.0</td>\n",
       "      <td>192.0</td>\n",
       "    </tr>\n",
       "    <tr>\n",
       "      <th>range</th>\n",
       "      <td>39101.0</td>\n",
       "      <td>0.500243</td>\n",
       "      <td>9.742080</td>\n",
       "      <td>0.0</td>\n",
       "      <td>0.0</td>\n",
       "      <td>0.0</td>\n",
       "      <td>0.0</td>\n",
       "      <td>335.0</td>\n",
       "    </tr>\n",
       "    <tr>\n",
       "      <th>year</th>\n",
       "      <td>39101.0</td>\n",
       "      <td>2000.635406</td>\n",
       "      <td>10.690422</td>\n",
       "      <td>1984.0</td>\n",
       "      <td>1991.0</td>\n",
       "      <td>2001.0</td>\n",
       "      <td>2010.0</td>\n",
       "      <td>2018.0</td>\n",
       "    </tr>\n",
       "    <tr>\n",
       "      <th>youSaveSpend</th>\n",
       "      <td>39101.0</td>\n",
       "      <td>-3459.572645</td>\n",
       "      <td>3010.284617</td>\n",
       "      <td>-26500.0</td>\n",
       "      <td>-4750.0</td>\n",
       "      <td>-3500.0</td>\n",
       "      <td>-1500.0</td>\n",
       "      <td>5250.0</td>\n",
       "    </tr>\n",
       "    <tr>\n",
       "      <th>phevCity</th>\n",
       "      <td>39101.0</td>\n",
       "      <td>0.094703</td>\n",
       "      <td>2.279478</td>\n",
       "      <td>0.0</td>\n",
       "      <td>0.0</td>\n",
       "      <td>0.0</td>\n",
       "      <td>0.0</td>\n",
       "      <td>97.0</td>\n",
       "    </tr>\n",
       "    <tr>\n",
       "      <th>phevHwy</th>\n",
       "      <td>39101.0</td>\n",
       "      <td>0.094269</td>\n",
       "      <td>2.191115</td>\n",
       "      <td>0.0</td>\n",
       "      <td>0.0</td>\n",
       "      <td>0.0</td>\n",
       "      <td>0.0</td>\n",
       "      <td>81.0</td>\n",
       "    </tr>\n",
       "    <tr>\n",
       "      <th>phevComb</th>\n",
       "      <td>39101.0</td>\n",
       "      <td>0.094141</td>\n",
       "      <td>2.226500</td>\n",
       "      <td>0.0</td>\n",
       "      <td>0.0</td>\n",
       "      <td>0.0</td>\n",
       "      <td>0.0</td>\n",
       "      <td>88.0</td>\n",
       "    </tr>\n",
       "  </tbody>\n",
       "</table>\n",
       "</div>"
      ],
      "text/plain": [
       "                count          mean           std      min     25%      50%  \\\n",
       "city08        39101.0     18.077799      6.970672      6.0    15.0     17.0   \n",
       "cityA08       39101.0      0.569883      4.297124      0.0     0.0      0.0   \n",
       "co2           39101.0     72.538989    163.252019     -1.0    -1.0     -1.0   \n",
       "co2A          39101.0      5.543950     55.956932     -1.0    -1.0     -1.0   \n",
       "comb08        39101.0     20.323828      6.882807      7.0    17.0     20.0   \n",
       "combA08       39101.0      0.631160      4.395797      0.0     0.0      0.0   \n",
       "engId         39101.0   8582.377382  17606.675590      0.0     0.0    202.0   \n",
       "feScore       39101.0      0.122580      2.516348     -1.0    -1.0     -1.0   \n",
       "fuelCost08    39101.0   2242.470781    601.273869    500.0  1850.0   2250.0   \n",
       "fuelCostA08   39101.0     91.335260    479.485802      0.0     0.0      0.0   \n",
       "ghgScore      39101.0      0.120866      2.512612     -1.0    -1.0     -1.0   \n",
       "ghgScoreA     39101.0     -0.923889      0.651017     -1.0    -1.0     -1.0   \n",
       "highway08     39101.0     24.208588      7.128070      9.0    20.0     24.0   \n",
       "highwayA08    39101.0      0.736452      4.694207      0.0     0.0      0.0   \n",
       "hlv           39101.0      2.029539      5.959735      0.0     0.0      0.0   \n",
       "hpv           39101.0     10.411243     28.167271      0.0     0.0      0.0   \n",
       "id            39101.0  19662.541188  11413.329199      1.0  9776.0  19552.0   \n",
       "lv2           39101.0      1.834812      4.407887      0.0     0.0      0.0   \n",
       "lv4           39101.0      6.155930      9.698101      0.0     0.0      0.0   \n",
       "pv2           39101.0     13.649574     31.214466      0.0     0.0      0.0   \n",
       "pv4           39101.0     33.883711     45.991687      0.0     0.0      0.0   \n",
       "range         39101.0      0.500243      9.742080      0.0     0.0      0.0   \n",
       "year          39101.0   2000.635406     10.690422   1984.0  1991.0   2001.0   \n",
       "youSaveSpend  39101.0  -3459.572645   3010.284617 -26500.0 -4750.0  -3500.0   \n",
       "phevCity      39101.0      0.094703      2.279478      0.0     0.0      0.0   \n",
       "phevHwy       39101.0      0.094269      2.191115      0.0     0.0      0.0   \n",
       "phevComb      39101.0      0.094141      2.226500      0.0     0.0      0.0   \n",
       "\n",
       "                  75%      max  \n",
       "city08           20.0    150.0  \n",
       "cityA08           0.0    145.0  \n",
       "co2              -1.0    847.0  \n",
       "co2A             -1.0    713.0  \n",
       "comb08           23.0    136.0  \n",
       "combA08           0.0    133.0  \n",
       "engId          4401.0  69102.0  \n",
       "feScore          -1.0     10.0  \n",
       "fuelCost08     2500.0   6850.0  \n",
       "fuelCostA08       0.0   3850.0  \n",
       "ghgScore         -1.0     10.0  \n",
       "ghgScoreA        -1.0      8.0  \n",
       "highway08        27.0    122.0  \n",
       "highwayA08        0.0    121.0  \n",
       "hlv               0.0     49.0  \n",
       "hpv               0.0    195.0  \n",
       "id            29555.0  39483.0  \n",
       "lv2               0.0     41.0  \n",
       "lv4              13.0     55.0  \n",
       "pv2               0.0    194.0  \n",
       "pv4              91.0    192.0  \n",
       "range             0.0    335.0  \n",
       "year           2010.0   2018.0  \n",
       "youSaveSpend  -1500.0   5250.0  \n",
       "phevCity          0.0     97.0  \n",
       "phevHwy           0.0     81.0  \n",
       "phevComb          0.0     88.0  "
      ]
     },
     "execution_count": 10,
     "metadata": {},
     "output_type": "execute_result"
    }
   ],
   "source": [
    "fueleco.select_dtypes(\"int64\").describe().T # selecting only int64 datatype elements and having a description"
   ]
  },
  {
   "cell_type": "code",
   "execution_count": 11,
   "id": "48ab9d56",
   "metadata": {},
   "outputs": [
    {
     "data": {
      "text/plain": [
       "iinfo(min=-128, max=127, dtype=int8)"
      ]
     },
     "execution_count": 11,
     "metadata": {},
     "output_type": "execute_result"
    }
   ],
   "source": [
    "np.iinfo(np.int8) # limits for int8"
   ]
  },
  {
   "cell_type": "code",
   "execution_count": 12,
   "id": "c6d21941",
   "metadata": {},
   "outputs": [
    {
     "data": {
      "text/plain": [
       "iinfo(min=-32768, max=32767, dtype=int16)"
      ]
     },
     "execution_count": 12,
     "metadata": {},
     "output_type": "execute_result"
    }
   ],
   "source": [
    "np.iinfo(np.int16)"
   ]
  },
  {
   "cell_type": "code",
   "execution_count": 13,
   "id": "8991ad7d",
   "metadata": {},
   "outputs": [
    {
     "name": "stdout",
     "output_type": "stream",
     "text": [
      "<class 'pandas.core.frame.DataFrame'>\n",
      "RangeIndex: 39101 entries, 0 to 39100\n",
      "Data columns (total 2 columns):\n",
      " #   Column  Non-Null Count  Dtype\n",
      "---  ------  --------------  -----\n",
      " 0   city08  39101 non-null  int64\n",
      " 1   comb08  39101 non-null  int64\n",
      "dtypes: int64(2)\n",
      "memory usage: 611.1 KB\n"
     ]
    }
   ],
   "source": [
    "fueleco[[\"city08\", \"comb08\"]].info(memory_usage=\"deep\") # getting the memory used by the columns"
   ]
  },
  {
   "cell_type": "code",
   "execution_count": 14,
   "id": "20c4074a",
   "metadata": {},
   "outputs": [
    {
     "name": "stdout",
     "output_type": "stream",
     "text": [
      "<class 'pandas.core.frame.DataFrame'>\n",
      "RangeIndex: 39101 entries, 0 to 39100\n",
      "Data columns (total 2 columns):\n",
      " #   Column  Non-Null Count  Dtype\n",
      "---  ------  --------------  -----\n",
      " 0   city08  39101 non-null  int16\n",
      " 1   comb08  39101 non-null  int16\n",
      "dtypes: int16(2)\n",
      "memory usage: 152.9 KB\n"
     ]
    }
   ],
   "source": [
    "(fueleco[[\"city08\", \"comb08\"]].assign(city08=fueleco.city08.astype(np.int16), comb08=fueleco.comb08.astype(np.int16)).info(memory_usage=\"deep\"))"
   ]
  },
  {
   "cell_type": "code",
   "execution_count": 15,
   "id": "7b909b94",
   "metadata": {},
   "outputs": [
    {
     "data": {
      "text/plain": [
       "134"
      ]
     },
     "execution_count": 15,
     "metadata": {},
     "output_type": "execute_result"
    }
   ],
   "source": [
    "fueleco.make.nunique() # number of unique entries in 'make'"
   ]
  },
  {
   "cell_type": "code",
   "execution_count": 16,
   "id": "a8e04268",
   "metadata": {},
   "outputs": [
    {
     "data": {
      "text/plain": [
       "3816"
      ]
     },
     "execution_count": 16,
     "metadata": {},
     "output_type": "execute_result"
    }
   ],
   "source": [
    "fueleco.model.nunique()# number of unique entries in 'model'"
   ]
  },
  {
   "cell_type": "code",
   "execution_count": 17,
   "id": "62bb938a",
   "metadata": {},
   "outputs": [
    {
     "name": "stdout",
     "output_type": "stream",
     "text": [
      "<class 'pandas.core.frame.DataFrame'>\n",
      "RangeIndex: 39101 entries, 0 to 39100\n",
      "Data columns (total 1 columns):\n",
      " #   Column  Non-Null Count  Dtype \n",
      "---  ------  --------------  ----- \n",
      " 0   make    39101 non-null  object\n",
      "dtypes: object(1)\n",
      "memory usage: 2.4 MB\n"
     ]
    }
   ],
   "source": [
    "fueleco[[\"make\"]].info(memory_usage=\"deep\")"
   ]
  },
  {
   "cell_type": "code",
   "execution_count": 18,
   "id": "eb63ee11",
   "metadata": {},
   "outputs": [
    {
     "name": "stdout",
     "output_type": "stream",
     "text": [
      "<class 'pandas.core.frame.DataFrame'>\n",
      "RangeIndex: 39101 entries, 0 to 39100\n",
      "Data columns (total 1 columns):\n",
      " #   Column  Non-Null Count  Dtype   \n",
      "---  ------  --------------  -----   \n",
      " 0   make    39101 non-null  category\n",
      "dtypes: category(1)\n",
      "memory usage: 89.5 KB\n"
     ]
    }
   ],
   "source": [
    "(fueleco[[\"make\"]].assign(make=fueleco.make.astype(\"category\")).info(memory_usage=\"deep\")) # assigning make as 'category'"
   ]
  },
  {
   "cell_type": "code",
   "execution_count": 19,
   "id": "84391104",
   "metadata": {},
   "outputs": [
    {
     "name": "stdout",
     "output_type": "stream",
     "text": [
      "<class 'pandas.core.frame.DataFrame'>\n",
      "RangeIndex: 39101 entries, 0 to 39100\n",
      "Data columns (total 1 columns):\n",
      " #   Column  Non-Null Count  Dtype \n",
      "---  ------  --------------  ----- \n",
      " 0   model   39101 non-null  object\n",
      "dtypes: object(1)\n",
      "memory usage: 2.5 MB\n"
     ]
    }
   ],
   "source": [
    "fueleco[[\"model\"]].info(memory_usage=\"deep\")"
   ]
  },
  {
   "cell_type": "code",
   "execution_count": 20,
   "id": "3bd27039",
   "metadata": {},
   "outputs": [
    {
     "name": "stdout",
     "output_type": "stream",
     "text": [
      "<class 'pandas.core.frame.DataFrame'>\n",
      "RangeIndex: 39101 entries, 0 to 39100\n",
      "Data columns (total 1 columns):\n",
      " #   Column  Non-Null Count  Dtype   \n",
      "---  ------  --------------  -----   \n",
      " 0   model   39101 non-null  category\n",
      "dtypes: category(1)\n",
      "memory usage: 89.5 KB\n"
     ]
    }
   ],
   "source": [
    "(fueleco[[\"model\"]].assign(model=fueleco.make.astype(\"category\")).info(memory_usage=\"deep\"))"
   ]
  },
  {
   "cell_type": "markdown",
   "id": "f910030e",
   "metadata": {},
   "source": [
    "# Categorical Data"
   ]
  },
  {
   "cell_type": "code",
   "execution_count": 21,
   "id": "2a0063c9",
   "metadata": {},
   "outputs": [
    {
     "data": {
      "text/plain": [
       "Index(['drive', 'eng_dscr', 'fuelType', 'fuelType1', 'make', 'model',\n",
       "       'mpgData', 'trany', 'VClass', 'guzzler', 'trans_dscr', 'tCharger',\n",
       "       'sCharger', 'atvType', 'fuelType2', 'rangeA', 'evMotor', 'mfrCode',\n",
       "       'c240Dscr', 'c240bDscr', 'createdOn', 'modifiedOn', 'startStop'],\n",
       "      dtype='object')"
      ]
     },
     "execution_count": 21,
     "metadata": {},
     "output_type": "execute_result"
    }
   ],
   "source": [
    "fueleco.select_dtypes(object).columns"
   ]
  },
  {
   "cell_type": "code",
   "execution_count": 22,
   "id": "e1631f56",
   "metadata": {},
   "outputs": [
    {
     "data": {
      "text/plain": [
       "7"
      ]
     },
     "execution_count": 22,
     "metadata": {},
     "output_type": "execute_result"
    }
   ],
   "source": [
    "fueleco.drive.nunique()"
   ]
  },
  {
   "cell_type": "code",
   "execution_count": 23,
   "id": "ba0251b8",
   "metadata": {},
   "outputs": [
    {
     "data": {
      "text/plain": [
       "4217     4-Wheel or All-Wheel Drive\n",
       "1736     4-Wheel or All-Wheel Drive\n",
       "36029              Rear-Wheel Drive\n",
       "37631             Front-Wheel Drive\n",
       "1668               Rear-Wheel Drive\n",
       "Name: drive, dtype: object"
      ]
     },
     "execution_count": 23,
     "metadata": {},
     "output_type": "execute_result"
    }
   ],
   "source": [
    "fueleco.drive.sample(5, random_state=42)"
   ]
  },
  {
   "cell_type": "code",
   "execution_count": 24,
   "id": "6afc0937",
   "metadata": {},
   "outputs": [
    {
     "data": {
      "text/plain": [
       "1189"
      ]
     },
     "execution_count": 24,
     "metadata": {},
     "output_type": "execute_result"
    }
   ],
   "source": [
    "fueleco.drive.isna().sum()"
   ]
  },
  {
   "cell_type": "code",
   "execution_count": 25,
   "id": "952f5502",
   "metadata": {},
   "outputs": [
    {
     "data": {
      "text/plain": [
       "3.0408429451932175"
      ]
     },
     "execution_count": 25,
     "metadata": {},
     "output_type": "execute_result"
    }
   ],
   "source": [
    "fueleco.drive.isna().mean() * 100"
   ]
  },
  {
   "cell_type": "code",
   "execution_count": 26,
   "id": "63f20023",
   "metadata": {},
   "outputs": [
    {
     "data": {
      "text/plain": [
       "Front-Wheel Drive             13653\n",
       "Rear-Wheel Drive              13284\n",
       "4-Wheel or All-Wheel Drive     6648\n",
       "All-Wheel Drive                2401\n",
       "4-Wheel Drive                  1221\n",
       "2-Wheel Drive                   507\n",
       "Part-time 4-Wheel Drive         198\n",
       "Name: drive, dtype: int64"
      ]
     },
     "execution_count": 26,
     "metadata": {},
     "output_type": "execute_result"
    }
   ],
   "source": [
    "fueleco.drive.value_counts()"
   ]
  },
  {
   "cell_type": "code",
   "execution_count": 27,
   "id": "5f1940c2",
   "metadata": {},
   "outputs": [
    {
     "data": {
      "text/plain": [
       "Other        23211\n",
       "Chevrolet     3900\n",
       "Ford          3208\n",
       "Dodge         2557\n",
       "GMC           2442\n",
       "Toyota        1976\n",
       "BMW           1807\n",
       "Name: make, dtype: int64"
      ]
     },
     "execution_count": 27,
     "metadata": {},
     "output_type": "execute_result"
    }
   ],
   "source": [
    "top_n = fueleco.make.value_counts().index[:6]\n",
    "(fueleco.assign(make=fueleco.make.where(fueleco.make.isin(top_n), \"Other\")).make.value_counts())"
   ]
  },
  {
   "cell_type": "code",
   "execution_count": 28,
   "id": "a55feb87",
   "metadata": {},
   "outputs": [
    {
     "data": {
      "image/png": "[encoded data removed]",
      "text/plain": [
       "<Figure size 720x576 with 1 Axes>"
      ]
     },
     "metadata": {
      "needs_background": "light"
     },
     "output_type": "display_data"
    }
   ],
   "source": [
    "import matplotlib.pyplot as plt \n",
    "fig, ax = plt.subplots(figsize=(10, 8)) \n",
    "top_n = fueleco.make.value_counts().index[:6] \n",
    "(fueleco.assign(make=fueleco.make.where(fueleco.make.isin(top_n), \"Other\")).make.value_counts().plot.bar(ax=ax)) \n",
    "fig.savefig(\"c5-catpan.png\", dpi=300)"
   ]
  },
  {
   "cell_type": "code",
   "execution_count": 29,
   "id": "dc6b4dd7",
   "metadata": {},
   "outputs": [
    {
     "data": {
      "image/png": "[encoded data removed]",
      "text/plain": [
       "<Figure size 720x576 with 1 Axes>"
      ]
     },
     "metadata": {
      "needs_background": "light"
     },
     "output_type": "display_data"
    }
   ],
   "source": [
    "import seaborn as sns \n",
    "fig, ax = plt.subplots(figsize=(10, 8)) \n",
    "top_n = fueleco.make.value_counts().index[:6]\n",
    "sns.countplot(y=\"make\", data=(fueleco.assign(make=fueleco.make.where(fueleco.make.isin(top_n), \"Other\") ) )) \n",
    "fig.savefig(\"c5-catsns.png\", dpi=300)"
   ]
  },
  {
   "cell_type": "code",
   "execution_count": 30,
   "id": "7048f374",
   "metadata": {},
   "outputs": [
    {
     "data": {
      "text/html": [
       "<div>\n",
       "<style scoped>\n",
       "    .dataframe tbody tr th:only-of-type {\n",
       "        vertical-align: middle;\n",
       "    }\n",
       "\n",
       "    .dataframe tbody tr th {\n",
       "        vertical-align: top;\n",
       "    }\n",
       "\n",
       "    .dataframe thead th {\n",
       "        text-align: right;\n",
       "    }\n",
       "</style>\n",
       "<table border=\"1\" class=\"dataframe\">\n",
       "  <thead>\n",
       "    <tr style=\"text-align: right;\">\n",
       "      <th></th>\n",
       "      <th>barrels08</th>\n",
       "      <th>barrelsA08</th>\n",
       "      <th>charge120</th>\n",
       "      <th>charge240</th>\n",
       "      <th>city08</th>\n",
       "      <th>city08U</th>\n",
       "      <th>cityA08</th>\n",
       "      <th>cityA08U</th>\n",
       "      <th>cityCD</th>\n",
       "      <th>cityE</th>\n",
       "      <th>...</th>\n",
       "      <th>mfrCode</th>\n",
       "      <th>c240Dscr</th>\n",
       "      <th>charge240b</th>\n",
       "      <th>c240bDscr</th>\n",
       "      <th>createdOn</th>\n",
       "      <th>modifiedOn</th>\n",
       "      <th>startStop</th>\n",
       "      <th>phevCity</th>\n",
       "      <th>phevHwy</th>\n",
       "      <th>phevComb</th>\n",
       "    </tr>\n",
       "  </thead>\n",
       "  <tbody>\n",
       "    <tr>\n",
       "      <th>7138</th>\n",
       "      <td>0.240000</td>\n",
       "      <td>0.0</td>\n",
       "      <td>0.0</td>\n",
       "      <td>0.0</td>\n",
       "      <td>81</td>\n",
       "      <td>0.0</td>\n",
       "      <td>0</td>\n",
       "      <td>0.0</td>\n",
       "      <td>0.0</td>\n",
       "      <td>41.0</td>\n",
       "      <td>...</td>\n",
       "      <td>NaN</td>\n",
       "      <td>NaN</td>\n",
       "      <td>0.0</td>\n",
       "      <td>NaN</td>\n",
       "      <td>Tue Jan 01 00:00:00 EST 2013</td>\n",
       "      <td>Thu Jul 07 00:00:00 EDT 2016</td>\n",
       "      <td>N</td>\n",
       "      <td>0</td>\n",
       "      <td>0</td>\n",
       "      <td>0</td>\n",
       "    </tr>\n",
       "    <tr>\n",
       "      <th>8144</th>\n",
       "      <td>0.312000</td>\n",
       "      <td>0.0</td>\n",
       "      <td>0.0</td>\n",
       "      <td>0.0</td>\n",
       "      <td>74</td>\n",
       "      <td>0.0</td>\n",
       "      <td>0</td>\n",
       "      <td>0.0</td>\n",
       "      <td>0.0</td>\n",
       "      <td>46.0</td>\n",
       "      <td>...</td>\n",
       "      <td>NaN</td>\n",
       "      <td>NaN</td>\n",
       "      <td>0.0</td>\n",
       "      <td>NaN</td>\n",
       "      <td>Tue Jan 01 00:00:00 EST 2013</td>\n",
       "      <td>Thu Jul 07 00:00:00 EDT 2016</td>\n",
       "      <td>N</td>\n",
       "      <td>0</td>\n",
       "      <td>0</td>\n",
       "      <td>0</td>\n",
       "    </tr>\n",
       "    <tr>\n",
       "      <th>8147</th>\n",
       "      <td>0.270000</td>\n",
       "      <td>0.0</td>\n",
       "      <td>0.0</td>\n",
       "      <td>0.0</td>\n",
       "      <td>84</td>\n",
       "      <td>0.0</td>\n",
       "      <td>0</td>\n",
       "      <td>0.0</td>\n",
       "      <td>0.0</td>\n",
       "      <td>40.0</td>\n",
       "      <td>...</td>\n",
       "      <td>NaN</td>\n",
       "      <td>NaN</td>\n",
       "      <td>0.0</td>\n",
       "      <td>NaN</td>\n",
       "      <td>Tue Jan 01 00:00:00 EST 2013</td>\n",
       "      <td>Thu Jul 07 00:00:00 EDT 2016</td>\n",
       "      <td>N</td>\n",
       "      <td>0</td>\n",
       "      <td>0</td>\n",
       "      <td>0</td>\n",
       "    </tr>\n",
       "    <tr>\n",
       "      <th>18215</th>\n",
       "      <td>15.695714</td>\n",
       "      <td>0.0</td>\n",
       "      <td>0.0</td>\n",
       "      <td>0.0</td>\n",
       "      <td>18</td>\n",
       "      <td>0.0</td>\n",
       "      <td>0</td>\n",
       "      <td>0.0</td>\n",
       "      <td>0.0</td>\n",
       "      <td>0.0</td>\n",
       "      <td>...</td>\n",
       "      <td>NaN</td>\n",
       "      <td>NaN</td>\n",
       "      <td>0.0</td>\n",
       "      <td>NaN</td>\n",
       "      <td>Tue Jan 01 00:00:00 EST 2013</td>\n",
       "      <td>Tue Jan 01 00:00:00 EST 2013</td>\n",
       "      <td>NaN</td>\n",
       "      <td>0</td>\n",
       "      <td>0</td>\n",
       "      <td>0</td>\n",
       "    </tr>\n",
       "    <tr>\n",
       "      <th>18216</th>\n",
       "      <td>14.982273</td>\n",
       "      <td>0.0</td>\n",
       "      <td>0.0</td>\n",
       "      <td>0.0</td>\n",
       "      <td>20</td>\n",
       "      <td>0.0</td>\n",
       "      <td>0</td>\n",
       "      <td>0.0</td>\n",
       "      <td>0.0</td>\n",
       "      <td>0.0</td>\n",
       "      <td>...</td>\n",
       "      <td>NaN</td>\n",
       "      <td>NaN</td>\n",
       "      <td>0.0</td>\n",
       "      <td>NaN</td>\n",
       "      <td>Tue Jan 01 00:00:00 EST 2013</td>\n",
       "      <td>Tue Jan 01 00:00:00 EST 2013</td>\n",
       "      <td>NaN</td>\n",
       "      <td>0</td>\n",
       "      <td>0</td>\n",
       "      <td>0</td>\n",
       "    </tr>\n",
       "    <tr>\n",
       "      <th>...</th>\n",
       "      <td>...</td>\n",
       "      <td>...</td>\n",
       "      <td>...</td>\n",
       "      <td>...</td>\n",
       "      <td>...</td>\n",
       "      <td>...</td>\n",
       "      <td>...</td>\n",
       "      <td>...</td>\n",
       "      <td>...</td>\n",
       "      <td>...</td>\n",
       "      <td>...</td>\n",
       "      <td>...</td>\n",
       "      <td>...</td>\n",
       "      <td>...</td>\n",
       "      <td>...</td>\n",
       "      <td>...</td>\n",
       "      <td>...</td>\n",
       "      <td>...</td>\n",
       "      <td>...</td>\n",
       "      <td>...</td>\n",
       "      <td>...</td>\n",
       "    </tr>\n",
       "    <tr>\n",
       "      <th>23023</th>\n",
       "      <td>0.240000</td>\n",
       "      <td>0.0</td>\n",
       "      <td>0.0</td>\n",
       "      <td>0.0</td>\n",
       "      <td>79</td>\n",
       "      <td>0.0</td>\n",
       "      <td>0</td>\n",
       "      <td>0.0</td>\n",
       "      <td>0.0</td>\n",
       "      <td>43.0</td>\n",
       "      <td>...</td>\n",
       "      <td>NaN</td>\n",
       "      <td>NaN</td>\n",
       "      <td>0.0</td>\n",
       "      <td>NaN</td>\n",
       "      <td>Tue Jan 01 00:00:00 EST 2013</td>\n",
       "      <td>Fri Apr 11 00:00:00 EDT 2014</td>\n",
       "      <td>N</td>\n",
       "      <td>0</td>\n",
       "      <td>0</td>\n",
       "      <td>0</td>\n",
       "    </tr>\n",
       "    <tr>\n",
       "      <th>23024</th>\n",
       "      <td>0.546000</td>\n",
       "      <td>0.0</td>\n",
       "      <td>0.0</td>\n",
       "      <td>0.0</td>\n",
       "      <td>35</td>\n",
       "      <td>0.0</td>\n",
       "      <td>0</td>\n",
       "      <td>0.0</td>\n",
       "      <td>0.0</td>\n",
       "      <td>96.0</td>\n",
       "      <td>...</td>\n",
       "      <td>NaN</td>\n",
       "      <td>NaN</td>\n",
       "      <td>0.0</td>\n",
       "      <td>NaN</td>\n",
       "      <td>Tue Jan 01 00:00:00 EST 2013</td>\n",
       "      <td>Fri Apr 11 00:00:00 EDT 2014</td>\n",
       "      <td>N</td>\n",
       "      <td>0</td>\n",
       "      <td>0</td>\n",
       "      <td>0</td>\n",
       "    </tr>\n",
       "    <tr>\n",
       "      <th>23026</th>\n",
       "      <td>0.426000</td>\n",
       "      <td>0.0</td>\n",
       "      <td>0.0</td>\n",
       "      <td>0.0</td>\n",
       "      <td>49</td>\n",
       "      <td>0.0</td>\n",
       "      <td>0</td>\n",
       "      <td>0.0</td>\n",
       "      <td>0.0</td>\n",
       "      <td>69.0</td>\n",
       "      <td>...</td>\n",
       "      <td>NaN</td>\n",
       "      <td>NaN</td>\n",
       "      <td>0.0</td>\n",
       "      <td>NaN</td>\n",
       "      <td>Tue Jan 01 00:00:00 EST 2013</td>\n",
       "      <td>Fri Apr 11 00:00:00 EDT 2014</td>\n",
       "      <td>N</td>\n",
       "      <td>0</td>\n",
       "      <td>0</td>\n",
       "      <td>0</td>\n",
       "    </tr>\n",
       "    <tr>\n",
       "      <th>23031</th>\n",
       "      <td>0.426000</td>\n",
       "      <td>0.0</td>\n",
       "      <td>0.0</td>\n",
       "      <td>0.0</td>\n",
       "      <td>49</td>\n",
       "      <td>0.0</td>\n",
       "      <td>0</td>\n",
       "      <td>0.0</td>\n",
       "      <td>0.0</td>\n",
       "      <td>69.0</td>\n",
       "      <td>...</td>\n",
       "      <td>NaN</td>\n",
       "      <td>NaN</td>\n",
       "      <td>0.0</td>\n",
       "      <td>NaN</td>\n",
       "      <td>Tue Jan 01 00:00:00 EST 2013</td>\n",
       "      <td>Fri Apr 11 00:00:00 EDT 2014</td>\n",
       "      <td>N</td>\n",
       "      <td>0</td>\n",
       "      <td>0</td>\n",
       "      <td>0</td>\n",
       "    </tr>\n",
       "    <tr>\n",
       "      <th>23034</th>\n",
       "      <td>0.204000</td>\n",
       "      <td>0.0</td>\n",
       "      <td>0.0</td>\n",
       "      <td>0.0</td>\n",
       "      <td>102</td>\n",
       "      <td>0.0</td>\n",
       "      <td>0</td>\n",
       "      <td>0.0</td>\n",
       "      <td>0.0</td>\n",
       "      <td>33.0</td>\n",
       "      <td>...</td>\n",
       "      <td>NaN</td>\n",
       "      <td>NaN</td>\n",
       "      <td>0.0</td>\n",
       "      <td>NaN</td>\n",
       "      <td>Tue Jan 01 00:00:00 EST 2013</td>\n",
       "      <td>Thu Jul 07 00:00:00 EDT 2016</td>\n",
       "      <td>N</td>\n",
       "      <td>0</td>\n",
       "      <td>0</td>\n",
       "      <td>0</td>\n",
       "    </tr>\n",
       "  </tbody>\n",
       "</table>\n",
       "<p>1189 rows × 83 columns</p>\n",
       "</div>"
      ],
      "text/plain": [
       "       barrels08  barrelsA08  charge120  charge240  city08  city08U  cityA08  \\\n",
       "7138    0.240000         0.0        0.0        0.0      81      0.0        0   \n",
       "8144    0.312000         0.0        0.0        0.0      74      0.0        0   \n",
       "8147    0.270000         0.0        0.0        0.0      84      0.0        0   \n",
       "18215  15.695714         0.0        0.0        0.0      18      0.0        0   \n",
       "18216  14.982273         0.0        0.0        0.0      20      0.0        0   \n",
       "...          ...         ...        ...        ...     ...      ...      ...   \n",
       "23023   0.240000         0.0        0.0        0.0      79      0.0        0   \n",
       "23024   0.546000         0.0        0.0        0.0      35      0.0        0   \n",
       "23026   0.426000         0.0        0.0        0.0      49      0.0        0   \n",
       "23031   0.426000         0.0        0.0        0.0      49      0.0        0   \n",
       "23034   0.204000         0.0        0.0        0.0     102      0.0        0   \n",
       "\n",
       "       cityA08U  cityCD  cityE  ...  mfrCode  c240Dscr  charge240b  c240bDscr  \\\n",
       "7138        0.0     0.0   41.0  ...      NaN       NaN         0.0        NaN   \n",
       "8144        0.0     0.0   46.0  ...      NaN       NaN         0.0        NaN   \n",
       "8147        0.0     0.0   40.0  ...      NaN       NaN         0.0        NaN   \n",
       "18215       0.0     0.0    0.0  ...      NaN       NaN         0.0        NaN   \n",
       "18216       0.0     0.0    0.0  ...      NaN       NaN         0.0        NaN   \n",
       "...         ...     ...    ...  ...      ...       ...         ...        ...   \n",
       "23023       0.0     0.0   43.0  ...      NaN       NaN         0.0        NaN   \n",
       "23024       0.0     0.0   96.0  ...      NaN       NaN         0.0        NaN   \n",
       "23026       0.0     0.0   69.0  ...      NaN       NaN         0.0        NaN   \n",
       "23031       0.0     0.0   69.0  ...      NaN       NaN         0.0        NaN   \n",
       "23034       0.0     0.0   33.0  ...      NaN       NaN         0.0        NaN   \n",
       "\n",
       "                          createdOn                    modifiedOn  startStop  \\\n",
       "7138   Tue Jan 01 00:00:00 EST 2013  Thu Jul 07 00:00:00 EDT 2016          N   \n",
       "8144   Tue Jan 01 00:00:00 EST 2013  Thu Jul 07 00:00:00 EDT 2016          N   \n",
       "8147   Tue Jan 01 00:00:00 EST 2013  Thu Jul 07 00:00:00 EDT 2016          N   \n",
       "18215  Tue Jan 01 00:00:00 EST 2013  Tue Jan 01 00:00:00 EST 2013        NaN   \n",
       "18216  Tue Jan 01 00:00:00 EST 2013  Tue Jan 01 00:00:00 EST 2013        NaN   \n",
       "...                             ...                           ...        ...   \n",
       "23023  Tue Jan 01 00:00:00 EST 2013  Fri Apr 11 00:00:00 EDT 2014          N   \n",
       "23024  Tue Jan 01 00:00:00 EST 2013  Fri Apr 11 00:00:00 EDT 2014          N   \n",
       "23026  Tue Jan 01 00:00:00 EST 2013  Fri Apr 11 00:00:00 EDT 2014          N   \n",
       "23031  Tue Jan 01 00:00:00 EST 2013  Fri Apr 11 00:00:00 EDT 2014          N   \n",
       "23034  Tue Jan 01 00:00:00 EST 2013  Thu Jul 07 00:00:00 EDT 2016          N   \n",
       "\n",
       "       phevCity  phevHwy  phevComb  \n",
       "7138          0        0         0  \n",
       "8144          0        0         0  \n",
       "8147          0        0         0  \n",
       "18215         0        0         0  \n",
       "18216         0        0         0  \n",
       "...         ...      ...       ...  \n",
       "23023         0        0         0  \n",
       "23024         0        0         0  \n",
       "23026         0        0         0  \n",
       "23031         0        0         0  \n",
       "23034         0        0         0  \n",
       "\n",
       "[1189 rows x 83 columns]"
      ]
     },
     "execution_count": 30,
     "metadata": {},
     "output_type": "execute_result"
    }
   ],
   "source": [
    "fueleco[fueleco.drive.isna()]"
   ]
  },
  {
   "cell_type": "code",
   "execution_count": 31,
   "id": "b57a6e1d",
   "metadata": {},
   "outputs": [
    {
     "data": {
      "text/plain": [
       "Front-Wheel Drive             13653\n",
       "Rear-Wheel Drive              13284\n",
       "4-Wheel or All-Wheel Drive     6648\n",
       "All-Wheel Drive                2401\n",
       "4-Wheel Drive                  1221\n",
       "NaN                            1189\n",
       "2-Wheel Drive                   507\n",
       "Part-time 4-Wheel Drive         198\n",
       "Name: drive, dtype: int64"
      ]
     },
     "execution_count": 31,
     "metadata": {},
     "output_type": "execute_result"
    }
   ],
   "source": [
    "fueleco.drive.value_counts(dropna=False)"
   ]
  },
  {
   "cell_type": "code",
   "execution_count": 32,
   "id": "7d7d45e4",
   "metadata": {},
   "outputs": [
    {
     "data": {
      "text/plain": [
       "290            74\n",
       "270            56\n",
       "280            53\n",
       "310            41\n",
       "277            38\n",
       "               ..\n",
       "351             1\n",
       "240/290/290     1\n",
       "303             1\n",
       "340-350         1\n",
       "341             1\n",
       "Name: rangeA, Length: 216, dtype: int64"
      ]
     },
     "execution_count": 32,
     "metadata": {},
     "output_type": "execute_result"
    }
   ],
   "source": [
    "fueleco.rangeA.value_counts()"
   ]
  },
  {
   "cell_type": "code",
   "execution_count": 33,
   "id": "85da39bc",
   "metadata": {},
   "outputs": [
    {
     "data": {
      "text/plain": [
       "/    280\n",
       "-     71\n",
       "dtype: int64"
      ]
     },
     "execution_count": 33,
     "metadata": {},
     "output_type": "execute_result"
    }
   ],
   "source": [
    "(fueleco.rangeA.str.extract(r\"([^0-9.])\").dropna().apply(lambda row: \"\".join(row), axis=1).value_counts())"
   ]
  },
  {
   "cell_type": "code",
   "execution_count": 34,
   "id": "d6489d6f",
   "metadata": {},
   "outputs": [
    {
     "data": {
      "text/plain": [
       "{float, str}"
      ]
     },
     "execution_count": 34,
     "metadata": {},
     "output_type": "execute_result"
    }
   ],
   "source": [
    "set(fueleco.rangeA.apply(type))"
   ]
  },
  {
   "cell_type": "code",
   "execution_count": 35,
   "id": "5931d648",
   "metadata": {},
   "outputs": [
    {
     "data": {
      "text/plain": [
       "37616"
      ]
     },
     "execution_count": 35,
     "metadata": {},
     "output_type": "execute_result"
    }
   ],
   "source": [
    "fueleco.rangeA.isna().sum()"
   ]
  },
  {
   "cell_type": "code",
   "execution_count": 36,
   "id": "c27a9c87",
   "metadata": {},
   "outputs": [
    {
     "data": {
      "text/plain": [
       "0        0.0\n",
       "1        0.0\n",
       "2        0.0\n",
       "3        0.0\n",
       "4        0.0\n",
       "        ... \n",
       "39096    0.0\n",
       "39097    0.0\n",
       "39098    0.0\n",
       "39099    0.0\n",
       "39100    0.0\n",
       "Length: 39101, dtype: float64"
      ]
     },
     "execution_count": 36,
     "metadata": {},
     "output_type": "execute_result"
    }
   ],
   "source": [
    "(fueleco.rangeA.fillna(\"0\").str.replace(\"-\", \"/\").str.split(\"/\", expand=True).astype(float).mean(axis=1))"
   ]
  },
  {
   "cell_type": "code",
   "execution_count": 37,
   "id": "abed6712",
   "metadata": {},
   "outputs": [
    {
     "data": {
      "text/plain": [
       "(-0.45, 44.95]     37688\n",
       "(269.7, 314.65]      559\n",
       "(314.65, 359.6]      352\n",
       "(359.6, 404.55]      205\n",
       "(224.75, 269.7]      181\n",
       "(404.55, 449.5]       82\n",
       "(89.9, 134.85]        12\n",
       "(179.8, 224.75]        9\n",
       "(44.95, 89.9]          8\n",
       "(134.85, 179.8]        5\n",
       "dtype: int64"
      ]
     },
     "execution_count": 37,
     "metadata": {},
     "output_type": "execute_result"
    }
   ],
   "source": [
    "(fueleco.rangeA.fillna(\"0\").str.replace(\"-\", \"/\").str.split(\"/\", expand=True).astype(float).mean(axis=1).pipe(lambda ser_: pd.cut(ser_, 10)).value_counts())"
   ]
  },
  {
   "cell_type": "code",
   "execution_count": 38,
   "id": "1b66fe02",
   "metadata": {},
   "outputs": [
    {
     "ename": "ValueError",
     "evalue": "Bin edges must be unique: array([  0. ,   0. ,   0. ,   0. ,   0. ,   0. ,   0. ,   0. ,   0. ,\n         0. , 449.5]).\nYou can drop duplicate edges by setting the 'duplicates' kwarg",
     "output_type": "error",
     "traceback": [
      "\u001b[1;31m---------------------------------------------------------------------------\u001b[0m",
      "\u001b[1;31mValueError\u001b[0m                                Traceback (most recent call last)",
      "\u001b[1;32m~\\AppData\\Local\\Temp/ipykernel_12004/3883174086.py\u001b[0m in \u001b[0;36m<module>\u001b[1;34m\u001b[0m\n\u001b[1;32m----> 1\u001b[1;33m \u001b[1;33m(\u001b[0m\u001b[0mfueleco\u001b[0m\u001b[1;33m.\u001b[0m\u001b[0mrangeA\u001b[0m\u001b[1;33m.\u001b[0m\u001b[0mfillna\u001b[0m\u001b[1;33m(\u001b[0m\u001b[1;34m\"0\"\u001b[0m\u001b[1;33m)\u001b[0m\u001b[1;33m.\u001b[0m\u001b[0mstr\u001b[0m\u001b[1;33m.\u001b[0m\u001b[0mreplace\u001b[0m\u001b[1;33m(\u001b[0m\u001b[1;34m\"-\"\u001b[0m\u001b[1;33m,\u001b[0m \u001b[1;34m\"/\"\u001b[0m\u001b[1;33m)\u001b[0m\u001b[1;33m.\u001b[0m\u001b[0mstr\u001b[0m\u001b[1;33m.\u001b[0m\u001b[0msplit\u001b[0m\u001b[1;33m(\u001b[0m\u001b[1;34m\"/\"\u001b[0m\u001b[1;33m,\u001b[0m \u001b[0mexpand\u001b[0m\u001b[1;33m=\u001b[0m\u001b[1;32mTrue\u001b[0m\u001b[1;33m)\u001b[0m\u001b[1;33m.\u001b[0m\u001b[0mastype\u001b[0m\u001b[1;33m(\u001b[0m\u001b[0mfloat\u001b[0m\u001b[1;33m)\u001b[0m\u001b[1;33m.\u001b[0m\u001b[0mmean\u001b[0m\u001b[1;33m(\u001b[0m\u001b[0maxis\u001b[0m\u001b[1;33m=\u001b[0m\u001b[1;36m1\u001b[0m\u001b[1;33m)\u001b[0m\u001b[1;33m.\u001b[0m\u001b[0mpipe\u001b[0m\u001b[1;33m(\u001b[0m\u001b[1;32mlambda\u001b[0m \u001b[0mser_\u001b[0m\u001b[1;33m:\u001b[0m \u001b[0mpd\u001b[0m\u001b[1;33m.\u001b[0m\u001b[0mqcut\u001b[0m\u001b[1;33m(\u001b[0m\u001b[0mser_\u001b[0m\u001b[1;33m,\u001b[0m \u001b[1;36m10\u001b[0m\u001b[1;33m)\u001b[0m\u001b[1;33m)\u001b[0m\u001b[1;33m.\u001b[0m\u001b[0mvalue_counts\u001b[0m\u001b[1;33m(\u001b[0m\u001b[1;33m)\u001b[0m\u001b[1;33m)\u001b[0m\u001b[1;33m\u001b[0m\u001b[1;33m\u001b[0m\u001b[0m\n\u001b[0m",
      "\u001b[1;32m~\\anaconda3\\lib\\site-packages\\pandas\\core\\generic.py\u001b[0m in \u001b[0;36mpipe\u001b[1;34m(self, func, *args, **kwargs)\u001b[0m\n\u001b[0;32m   5428\u001b[0m         ...  )  # doctest: +SKIP\n\u001b[0;32m   5429\u001b[0m         \"\"\"\n\u001b[1;32m-> 5430\u001b[1;33m         \u001b[1;32mreturn\u001b[0m \u001b[0mcom\u001b[0m\u001b[1;33m.\u001b[0m\u001b[0mpipe\u001b[0m\u001b[1;33m(\u001b[0m\u001b[0mself\u001b[0m\u001b[1;33m,\u001b[0m \u001b[0mfunc\u001b[0m\u001b[1;33m,\u001b[0m \u001b[1;33m*\u001b[0m\u001b[0margs\u001b[0m\u001b[1;33m,\u001b[0m \u001b[1;33m**\u001b[0m\u001b[0mkwargs\u001b[0m\u001b[1;33m)\u001b[0m\u001b[1;33m\u001b[0m\u001b[1;33m\u001b[0m\u001b[0m\n\u001b[0m\u001b[0;32m   5431\u001b[0m \u001b[1;33m\u001b[0m\u001b[0m\n\u001b[0;32m   5432\u001b[0m     \u001b[1;31m# ----------------------------------------------------------------------\u001b[0m\u001b[1;33m\u001b[0m\u001b[1;33m\u001b[0m\u001b[0m\n",
      "\u001b[1;32m~\\anaconda3\\lib\\site-packages\\pandas\\core\\common.py\u001b[0m in \u001b[0;36mpipe\u001b[1;34m(obj, func, *args, **kwargs)\u001b[0m\n\u001b[0;32m    469\u001b[0m         \u001b[1;32mreturn\u001b[0m \u001b[0mfunc\u001b[0m\u001b[1;33m(\u001b[0m\u001b[1;33m*\u001b[0m\u001b[0margs\u001b[0m\u001b[1;33m,\u001b[0m \u001b[1;33m**\u001b[0m\u001b[0mkwargs\u001b[0m\u001b[1;33m)\u001b[0m\u001b[1;33m\u001b[0m\u001b[1;33m\u001b[0m\u001b[0m\n\u001b[0;32m    470\u001b[0m     \u001b[1;32melse\u001b[0m\u001b[1;33m:\u001b[0m\u001b[1;33m\u001b[0m\u001b[1;33m\u001b[0m\u001b[0m\n\u001b[1;32m--> 471\u001b[1;33m         \u001b[1;32mreturn\u001b[0m \u001b[0mfunc\u001b[0m\u001b[1;33m(\u001b[0m\u001b[0mobj\u001b[0m\u001b[1;33m,\u001b[0m \u001b[1;33m*\u001b[0m\u001b[0margs\u001b[0m\u001b[1;33m,\u001b[0m \u001b[1;33m**\u001b[0m\u001b[0mkwargs\u001b[0m\u001b[1;33m)\u001b[0m\u001b[1;33m\u001b[0m\u001b[1;33m\u001b[0m\u001b[0m\n\u001b[0m\u001b[0;32m    472\u001b[0m \u001b[1;33m\u001b[0m\u001b[0m\n\u001b[0;32m    473\u001b[0m \u001b[1;33m\u001b[0m\u001b[0m\n",
      "\u001b[1;32m~\\AppData\\Local\\Temp/ipykernel_12004/3883174086.py\u001b[0m in \u001b[0;36m<lambda>\u001b[1;34m(ser_)\u001b[0m\n\u001b[1;32m----> 1\u001b[1;33m \u001b[1;33m(\u001b[0m\u001b[0mfueleco\u001b[0m\u001b[1;33m.\u001b[0m\u001b[0mrangeA\u001b[0m\u001b[1;33m.\u001b[0m\u001b[0mfillna\u001b[0m\u001b[1;33m(\u001b[0m\u001b[1;34m\"0\"\u001b[0m\u001b[1;33m)\u001b[0m\u001b[1;33m.\u001b[0m\u001b[0mstr\u001b[0m\u001b[1;33m.\u001b[0m\u001b[0mreplace\u001b[0m\u001b[1;33m(\u001b[0m\u001b[1;34m\"-\"\u001b[0m\u001b[1;33m,\u001b[0m \u001b[1;34m\"/\"\u001b[0m\u001b[1;33m)\u001b[0m\u001b[1;33m.\u001b[0m\u001b[0mstr\u001b[0m\u001b[1;33m.\u001b[0m\u001b[0msplit\u001b[0m\u001b[1;33m(\u001b[0m\u001b[1;34m\"/\"\u001b[0m\u001b[1;33m,\u001b[0m \u001b[0mexpand\u001b[0m\u001b[1;33m=\u001b[0m\u001b[1;32mTrue\u001b[0m\u001b[1;33m)\u001b[0m\u001b[1;33m.\u001b[0m\u001b[0mastype\u001b[0m\u001b[1;33m(\u001b[0m\u001b[0mfloat\u001b[0m\u001b[1;33m)\u001b[0m\u001b[1;33m.\u001b[0m\u001b[0mmean\u001b[0m\u001b[1;33m(\u001b[0m\u001b[0maxis\u001b[0m\u001b[1;33m=\u001b[0m\u001b[1;36m1\u001b[0m\u001b[1;33m)\u001b[0m\u001b[1;33m.\u001b[0m\u001b[0mpipe\u001b[0m\u001b[1;33m(\u001b[0m\u001b[1;32mlambda\u001b[0m \u001b[0mser_\u001b[0m\u001b[1;33m:\u001b[0m \u001b[0mpd\u001b[0m\u001b[1;33m.\u001b[0m\u001b[0mqcut\u001b[0m\u001b[1;33m(\u001b[0m\u001b[0mser_\u001b[0m\u001b[1;33m,\u001b[0m \u001b[1;36m10\u001b[0m\u001b[1;33m)\u001b[0m\u001b[1;33m)\u001b[0m\u001b[1;33m.\u001b[0m\u001b[0mvalue_counts\u001b[0m\u001b[1;33m(\u001b[0m\u001b[1;33m)\u001b[0m\u001b[1;33m)\u001b[0m\u001b[1;33m\u001b[0m\u001b[1;33m\u001b[0m\u001b[0m\n\u001b[0m",
      "\u001b[1;32m~\\anaconda3\\lib\\site-packages\\pandas\\core\\reshape\\tile.py\u001b[0m in \u001b[0;36mqcut\u001b[1;34m(x, q, labels, retbins, precision, duplicates)\u001b[0m\n\u001b[0;32m    370\u001b[0m         \u001b[0mquantiles\u001b[0m \u001b[1;33m=\u001b[0m \u001b[0mq\u001b[0m\u001b[1;33m\u001b[0m\u001b[1;33m\u001b[0m\u001b[0m\n\u001b[0;32m    371\u001b[0m     \u001b[0mbins\u001b[0m \u001b[1;33m=\u001b[0m \u001b[0malgos\u001b[0m\u001b[1;33m.\u001b[0m\u001b[0mquantile\u001b[0m\u001b[1;33m(\u001b[0m\u001b[0mx\u001b[0m\u001b[1;33m,\u001b[0m \u001b[0mquantiles\u001b[0m\u001b[1;33m)\u001b[0m\u001b[1;33m\u001b[0m\u001b[1;33m\u001b[0m\u001b[0m\n\u001b[1;32m--> 372\u001b[1;33m     fac, bins = _bins_to_cuts(\n\u001b[0m\u001b[0;32m    373\u001b[0m         \u001b[0mx\u001b[0m\u001b[1;33m,\u001b[0m\u001b[1;33m\u001b[0m\u001b[1;33m\u001b[0m\u001b[0m\n\u001b[0;32m    374\u001b[0m         \u001b[0mbins\u001b[0m\u001b[1;33m,\u001b[0m\u001b[1;33m\u001b[0m\u001b[1;33m\u001b[0m\u001b[0m\n",
      "\u001b[1;32m~\\anaconda3\\lib\\site-packages\\pandas\\core\\reshape\\tile.py\u001b[0m in \u001b[0;36m_bins_to_cuts\u001b[1;34m(x, bins, right, labels, precision, include_lowest, dtype, duplicates, ordered)\u001b[0m\n\u001b[0;32m    411\u001b[0m     \u001b[1;32mif\u001b[0m \u001b[0mlen\u001b[0m\u001b[1;33m(\u001b[0m\u001b[0munique_bins\u001b[0m\u001b[1;33m)\u001b[0m \u001b[1;33m<\u001b[0m \u001b[0mlen\u001b[0m\u001b[1;33m(\u001b[0m\u001b[0mbins\u001b[0m\u001b[1;33m)\u001b[0m \u001b[1;32mand\u001b[0m \u001b[0mlen\u001b[0m\u001b[1;33m(\u001b[0m\u001b[0mbins\u001b[0m\u001b[1;33m)\u001b[0m \u001b[1;33m!=\u001b[0m \u001b[1;36m2\u001b[0m\u001b[1;33m:\u001b[0m\u001b[1;33m\u001b[0m\u001b[1;33m\u001b[0m\u001b[0m\n\u001b[0;32m    412\u001b[0m         \u001b[1;32mif\u001b[0m \u001b[0mduplicates\u001b[0m \u001b[1;33m==\u001b[0m \u001b[1;34m\"raise\"\u001b[0m\u001b[1;33m:\u001b[0m\u001b[1;33m\u001b[0m\u001b[1;33m\u001b[0m\u001b[0m\n\u001b[1;32m--> 413\u001b[1;33m             raise ValueError(\n\u001b[0m\u001b[0;32m    414\u001b[0m                 \u001b[1;34mf\"Bin edges must be unique: {repr(bins)}.\\n\"\u001b[0m\u001b[1;33m\u001b[0m\u001b[1;33m\u001b[0m\u001b[0m\n\u001b[0;32m    415\u001b[0m                 \u001b[1;34mf\"You can drop duplicate edges by setting the 'duplicates' kwarg\"\u001b[0m\u001b[1;33m\u001b[0m\u001b[1;33m\u001b[0m\u001b[0m\n",
      "\u001b[1;31mValueError\u001b[0m: Bin edges must be unique: array([  0. ,   0. ,   0. ,   0. ,   0. ,   0. ,   0. ,   0. ,   0. ,\n         0. , 449.5]).\nYou can drop duplicate edges by setting the 'duplicates' kwarg"
     ]
    }
   ],
   "source": [
    "(fueleco.rangeA.fillna(\"0\").str.replace(\"-\", \"/\").str.split(\"/\", expand=True).astype(float).mean(axis=1).pipe(lambda ser_: pd.qcut(ser_, 10)).value_counts())"
   ]
  },
  {
   "cell_type": "code",
   "execution_count": 39,
   "id": "9e7ab2c1",
   "metadata": {},
   "outputs": [
    {
     "data": {
      "text/plain": [
       "(5.999, 13.0]    5939\n",
       "(19.0, 21.0]     4477\n",
       "(14.0, 15.0]     4381\n",
       "(17.0, 18.0]     3912\n",
       "(16.0, 17.0]     3881\n",
       "(15.0, 16.0]     3855\n",
       "(21.0, 24.0]     3676\n",
       "(24.0, 150.0]    3235\n",
       "(13.0, 14.0]     2898\n",
       "(18.0, 19.0]     2847\n",
       "Name: city08, dtype: int64"
      ]
     },
     "execution_count": 39,
     "metadata": {},
     "output_type": "execute_result"
    }
   ],
   "source": [
    "(fueleco.city08.pipe(lambda ser: pd.qcut(ser, q=10)).value_counts())"
   ]
  },
  {
   "cell_type": "markdown",
   "id": "f68fb4c1",
   "metadata": {},
   "source": [
    "# Continuous Data"
   ]
  },
  {
   "cell_type": "code",
   "execution_count": 40,
   "id": "d2acb69c",
   "metadata": {},
   "outputs": [
    {
     "data": {
      "text/html": [
       "<div>\n",
       "<style scoped>\n",
       "    .dataframe tbody tr th:only-of-type {\n",
       "        vertical-align: middle;\n",
       "    }\n",
       "\n",
       "    .dataframe tbody tr th {\n",
       "        vertical-align: top;\n",
       "    }\n",
       "\n",
       "    .dataframe thead th {\n",
       "        text-align: right;\n",
       "    }\n",
       "</style>\n",
       "<table border=\"1\" class=\"dataframe\">\n",
       "  <thead>\n",
       "    <tr style=\"text-align: right;\">\n",
       "      <th></th>\n",
       "      <th>barrels08</th>\n",
       "      <th>barrelsA08</th>\n",
       "      <th>charge120</th>\n",
       "      <th>charge240</th>\n",
       "      <th>city08</th>\n",
       "      <th>city08U</th>\n",
       "      <th>cityA08</th>\n",
       "      <th>cityA08U</th>\n",
       "      <th>cityCD</th>\n",
       "      <th>cityE</th>\n",
       "      <th>...</th>\n",
       "      <th>UCity</th>\n",
       "      <th>UCityA</th>\n",
       "      <th>UHighway</th>\n",
       "      <th>UHighwayA</th>\n",
       "      <th>year</th>\n",
       "      <th>youSaveSpend</th>\n",
       "      <th>charge240b</th>\n",
       "      <th>phevCity</th>\n",
       "      <th>phevHwy</th>\n",
       "      <th>phevComb</th>\n",
       "    </tr>\n",
       "  </thead>\n",
       "  <tbody>\n",
       "    <tr>\n",
       "      <th>0</th>\n",
       "      <td>15.695714</td>\n",
       "      <td>0.0</td>\n",
       "      <td>0.0</td>\n",
       "      <td>0.0</td>\n",
       "      <td>19</td>\n",
       "      <td>0.0</td>\n",
       "      <td>0</td>\n",
       "      <td>0.0</td>\n",
       "      <td>0.0</td>\n",
       "      <td>0.0</td>\n",
       "      <td>...</td>\n",
       "      <td>23.3333</td>\n",
       "      <td>0.0</td>\n",
       "      <td>35.0000</td>\n",
       "      <td>0.0</td>\n",
       "      <td>1985</td>\n",
       "      <td>-1750</td>\n",
       "      <td>0.0</td>\n",
       "      <td>0</td>\n",
       "      <td>0</td>\n",
       "      <td>0</td>\n",
       "    </tr>\n",
       "    <tr>\n",
       "      <th>1</th>\n",
       "      <td>29.964545</td>\n",
       "      <td>0.0</td>\n",
       "      <td>0.0</td>\n",
       "      <td>0.0</td>\n",
       "      <td>9</td>\n",
       "      <td>0.0</td>\n",
       "      <td>0</td>\n",
       "      <td>0.0</td>\n",
       "      <td>0.0</td>\n",
       "      <td>0.0</td>\n",
       "      <td>...</td>\n",
       "      <td>11.0000</td>\n",
       "      <td>0.0</td>\n",
       "      <td>19.0000</td>\n",
       "      <td>0.0</td>\n",
       "      <td>1985</td>\n",
       "      <td>-10500</td>\n",
       "      <td>0.0</td>\n",
       "      <td>0</td>\n",
       "      <td>0</td>\n",
       "      <td>0</td>\n",
       "    </tr>\n",
       "    <tr>\n",
       "      <th>2</th>\n",
       "      <td>12.207778</td>\n",
       "      <td>0.0</td>\n",
       "      <td>0.0</td>\n",
       "      <td>0.0</td>\n",
       "      <td>23</td>\n",
       "      <td>0.0</td>\n",
       "      <td>0</td>\n",
       "      <td>0.0</td>\n",
       "      <td>0.0</td>\n",
       "      <td>0.0</td>\n",
       "      <td>...</td>\n",
       "      <td>29.0000</td>\n",
       "      <td>0.0</td>\n",
       "      <td>47.0000</td>\n",
       "      <td>0.0</td>\n",
       "      <td>1985</td>\n",
       "      <td>250</td>\n",
       "      <td>0.0</td>\n",
       "      <td>0</td>\n",
       "      <td>0</td>\n",
       "      <td>0</td>\n",
       "    </tr>\n",
       "    <tr>\n",
       "      <th>3</th>\n",
       "      <td>29.964545</td>\n",
       "      <td>0.0</td>\n",
       "      <td>0.0</td>\n",
       "      <td>0.0</td>\n",
       "      <td>10</td>\n",
       "      <td>0.0</td>\n",
       "      <td>0</td>\n",
       "      <td>0.0</td>\n",
       "      <td>0.0</td>\n",
       "      <td>0.0</td>\n",
       "      <td>...</td>\n",
       "      <td>12.2222</td>\n",
       "      <td>0.0</td>\n",
       "      <td>16.6667</td>\n",
       "      <td>0.0</td>\n",
       "      <td>1985</td>\n",
       "      <td>-10500</td>\n",
       "      <td>0.0</td>\n",
       "      <td>0</td>\n",
       "      <td>0</td>\n",
       "      <td>0</td>\n",
       "    </tr>\n",
       "    <tr>\n",
       "      <th>4</th>\n",
       "      <td>17.347895</td>\n",
       "      <td>0.0</td>\n",
       "      <td>0.0</td>\n",
       "      <td>0.0</td>\n",
       "      <td>17</td>\n",
       "      <td>0.0</td>\n",
       "      <td>0</td>\n",
       "      <td>0.0</td>\n",
       "      <td>0.0</td>\n",
       "      <td>0.0</td>\n",
       "      <td>...</td>\n",
       "      <td>21.0000</td>\n",
       "      <td>0.0</td>\n",
       "      <td>32.0000</td>\n",
       "      <td>0.0</td>\n",
       "      <td>1993</td>\n",
       "      <td>-4750</td>\n",
       "      <td>0.0</td>\n",
       "      <td>0</td>\n",
       "      <td>0</td>\n",
       "      <td>0</td>\n",
       "    </tr>\n",
       "    <tr>\n",
       "      <th>...</th>\n",
       "      <td>...</td>\n",
       "      <td>...</td>\n",
       "      <td>...</td>\n",
       "      <td>...</td>\n",
       "      <td>...</td>\n",
       "      <td>...</td>\n",
       "      <td>...</td>\n",
       "      <td>...</td>\n",
       "      <td>...</td>\n",
       "      <td>...</td>\n",
       "      <td>...</td>\n",
       "      <td>...</td>\n",
       "      <td>...</td>\n",
       "      <td>...</td>\n",
       "      <td>...</td>\n",
       "      <td>...</td>\n",
       "      <td>...</td>\n",
       "      <td>...</td>\n",
       "      <td>...</td>\n",
       "      <td>...</td>\n",
       "      <td>...</td>\n",
       "    </tr>\n",
       "    <tr>\n",
       "      <th>39096</th>\n",
       "      <td>14.982273</td>\n",
       "      <td>0.0</td>\n",
       "      <td>0.0</td>\n",
       "      <td>0.0</td>\n",
       "      <td>19</td>\n",
       "      <td>0.0</td>\n",
       "      <td>0</td>\n",
       "      <td>0.0</td>\n",
       "      <td>0.0</td>\n",
       "      <td>0.0</td>\n",
       "      <td>...</td>\n",
       "      <td>24.0000</td>\n",
       "      <td>0.0</td>\n",
       "      <td>37.0000</td>\n",
       "      <td>0.0</td>\n",
       "      <td>1993</td>\n",
       "      <td>-1500</td>\n",
       "      <td>0.0</td>\n",
       "      <td>0</td>\n",
       "      <td>0</td>\n",
       "      <td>0</td>\n",
       "    </tr>\n",
       "    <tr>\n",
       "      <th>39097</th>\n",
       "      <td>14.330870</td>\n",
       "      <td>0.0</td>\n",
       "      <td>0.0</td>\n",
       "      <td>0.0</td>\n",
       "      <td>20</td>\n",
       "      <td>0.0</td>\n",
       "      <td>0</td>\n",
       "      <td>0.0</td>\n",
       "      <td>0.0</td>\n",
       "      <td>0.0</td>\n",
       "      <td>...</td>\n",
       "      <td>25.0000</td>\n",
       "      <td>0.0</td>\n",
       "      <td>39.0000</td>\n",
       "      <td>0.0</td>\n",
       "      <td>1993</td>\n",
       "      <td>-1000</td>\n",
       "      <td>0.0</td>\n",
       "      <td>0</td>\n",
       "      <td>0</td>\n",
       "      <td>0</td>\n",
       "    </tr>\n",
       "    <tr>\n",
       "      <th>39098</th>\n",
       "      <td>15.695714</td>\n",
       "      <td>0.0</td>\n",
       "      <td>0.0</td>\n",
       "      <td>0.0</td>\n",
       "      <td>18</td>\n",
       "      <td>0.0</td>\n",
       "      <td>0</td>\n",
       "      <td>0.0</td>\n",
       "      <td>0.0</td>\n",
       "      <td>0.0</td>\n",
       "      <td>...</td>\n",
       "      <td>23.0000</td>\n",
       "      <td>0.0</td>\n",
       "      <td>34.0000</td>\n",
       "      <td>0.0</td>\n",
       "      <td>1993</td>\n",
       "      <td>-1750</td>\n",
       "      <td>0.0</td>\n",
       "      <td>0</td>\n",
       "      <td>0</td>\n",
       "      <td>0</td>\n",
       "    </tr>\n",
       "    <tr>\n",
       "      <th>39099</th>\n",
       "      <td>15.695714</td>\n",
       "      <td>0.0</td>\n",
       "      <td>0.0</td>\n",
       "      <td>0.0</td>\n",
       "      <td>18</td>\n",
       "      <td>0.0</td>\n",
       "      <td>0</td>\n",
       "      <td>0.0</td>\n",
       "      <td>0.0</td>\n",
       "      <td>0.0</td>\n",
       "      <td>...</td>\n",
       "      <td>23.0000</td>\n",
       "      <td>0.0</td>\n",
       "      <td>34.0000</td>\n",
       "      <td>0.0</td>\n",
       "      <td>1993</td>\n",
       "      <td>-1750</td>\n",
       "      <td>0.0</td>\n",
       "      <td>0</td>\n",
       "      <td>0</td>\n",
       "      <td>0</td>\n",
       "    </tr>\n",
       "    <tr>\n",
       "      <th>39100</th>\n",
       "      <td>18.311667</td>\n",
       "      <td>0.0</td>\n",
       "      <td>0.0</td>\n",
       "      <td>0.0</td>\n",
       "      <td>16</td>\n",
       "      <td>0.0</td>\n",
       "      <td>0</td>\n",
       "      <td>0.0</td>\n",
       "      <td>0.0</td>\n",
       "      <td>0.0</td>\n",
       "      <td>...</td>\n",
       "      <td>20.0000</td>\n",
       "      <td>0.0</td>\n",
       "      <td>29.0000</td>\n",
       "      <td>0.0</td>\n",
       "      <td>1993</td>\n",
       "      <td>-5500</td>\n",
       "      <td>0.0</td>\n",
       "      <td>0</td>\n",
       "      <td>0</td>\n",
       "      <td>0</td>\n",
       "    </tr>\n",
       "  </tbody>\n",
       "</table>\n",
       "<p>39101 rows × 59 columns</p>\n",
       "</div>"
      ],
      "text/plain": [
       "       barrels08  barrelsA08  charge120  charge240  city08  city08U  cityA08  \\\n",
       "0      15.695714         0.0        0.0        0.0      19      0.0        0   \n",
       "1      29.964545         0.0        0.0        0.0       9      0.0        0   \n",
       "2      12.207778         0.0        0.0        0.0      23      0.0        0   \n",
       "3      29.964545         0.0        0.0        0.0      10      0.0        0   \n",
       "4      17.347895         0.0        0.0        0.0      17      0.0        0   \n",
       "...          ...         ...        ...        ...     ...      ...      ...   \n",
       "39096  14.982273         0.0        0.0        0.0      19      0.0        0   \n",
       "39097  14.330870         0.0        0.0        0.0      20      0.0        0   \n",
       "39098  15.695714         0.0        0.0        0.0      18      0.0        0   \n",
       "39099  15.695714         0.0        0.0        0.0      18      0.0        0   \n",
       "39100  18.311667         0.0        0.0        0.0      16      0.0        0   \n",
       "\n",
       "       cityA08U  cityCD  cityE  ...    UCity  UCityA  UHighway  UHighwayA  \\\n",
       "0           0.0     0.0    0.0  ...  23.3333     0.0   35.0000        0.0   \n",
       "1           0.0     0.0    0.0  ...  11.0000     0.0   19.0000        0.0   \n",
       "2           0.0     0.0    0.0  ...  29.0000     0.0   47.0000        0.0   \n",
       "3           0.0     0.0    0.0  ...  12.2222     0.0   16.6667        0.0   \n",
       "4           0.0     0.0    0.0  ...  21.0000     0.0   32.0000        0.0   \n",
       "...         ...     ...    ...  ...      ...     ...       ...        ...   \n",
       "39096       0.0     0.0    0.0  ...  24.0000     0.0   37.0000        0.0   \n",
       "39097       0.0     0.0    0.0  ...  25.0000     0.0   39.0000        0.0   \n",
       "39098       0.0     0.0    0.0  ...  23.0000     0.0   34.0000        0.0   \n",
       "39099       0.0     0.0    0.0  ...  23.0000     0.0   34.0000        0.0   \n",
       "39100       0.0     0.0    0.0  ...  20.0000     0.0   29.0000        0.0   \n",
       "\n",
       "       year  youSaveSpend  charge240b  phevCity  phevHwy  phevComb  \n",
       "0      1985         -1750         0.0         0        0         0  \n",
       "1      1985        -10500         0.0         0        0         0  \n",
       "2      1985           250         0.0         0        0         0  \n",
       "3      1985        -10500         0.0         0        0         0  \n",
       "4      1993         -4750         0.0         0        0         0  \n",
       "...     ...           ...         ...       ...      ...       ...  \n",
       "39096  1993         -1500         0.0         0        0         0  \n",
       "39097  1993         -1000         0.0         0        0         0  \n",
       "39098  1993         -1750         0.0         0        0         0  \n",
       "39099  1993         -1750         0.0         0        0         0  \n",
       "39100  1993         -5500         0.0         0        0         0  \n",
       "\n",
       "[39101 rows x 59 columns]"
      ]
     },
     "execution_count": 40,
     "metadata": {},
     "output_type": "execute_result"
    }
   ],
   "source": [
    "fueleco.select_dtypes(\"number\")"
   ]
  },
  {
   "cell_type": "code",
   "execution_count": 41,
   "id": "bfe034a3",
   "metadata": {},
   "outputs": [
    {
     "data": {
      "text/plain": [
       "4217     11\n",
       "1736     21\n",
       "36029    16\n",
       "37631    16\n",
       "1668     17\n",
       "Name: city08, dtype: int64"
      ]
     },
     "execution_count": 41,
     "metadata": {},
     "output_type": "execute_result"
    }
   ],
   "source": [
    "fueleco.city08.sample(5, random_state=42)"
   ]
  },
  {
   "cell_type": "code",
   "execution_count": 42,
   "id": "76289ab2",
   "metadata": {},
   "outputs": [
    {
     "data": {
      "text/plain": [
       "0"
      ]
     },
     "execution_count": 42,
     "metadata": {},
     "output_type": "execute_result"
    }
   ],
   "source": [
    "fueleco.city08.isna().sum()"
   ]
  },
  {
   "cell_type": "code",
   "execution_count": 43,
   "id": "fdf7adc5",
   "metadata": {},
   "outputs": [
    {
     "data": {
      "text/plain": [
       "0.0"
      ]
     },
     "execution_count": 43,
     "metadata": {},
     "output_type": "execute_result"
    }
   ],
   "source": [
    "fueleco.city08.isna().mean() * 100"
   ]
  },
  {
   "cell_type": "code",
   "execution_count": 44,
   "id": "4307586d",
   "metadata": {},
   "outputs": [
    {
     "data": {
      "text/plain": [
       "count    39101.000000\n",
       "mean        18.077799\n",
       "std          6.970672\n",
       "min          6.000000\n",
       "25%         15.000000\n",
       "50%         17.000000\n",
       "75%         20.000000\n",
       "max        150.000000\n",
       "Name: city08, dtype: float64"
      ]
     },
     "execution_count": 44,
     "metadata": {},
     "output_type": "execute_result"
    }
   ],
   "source": [
    "fueleco.city08.describe()"
   ]
  },
  {
   "cell_type": "code",
   "execution_count": 45,
   "id": "e7e87aed",
   "metadata": {},
   "outputs": [
    {
     "data": {
      "image/png": "[encoded data removed]",
      "text/plain": [
       "<Figure size 720x576 with 1 Axes>"
      ]
     },
     "metadata": {
      "needs_background": "light"
     },
     "output_type": "display_data"
    }
   ],
   "source": [
    "fig, ax = plt.subplots(figsize=(10, 8)) \n",
    "fueleco.city08.hist(ax=ax) \n",
    "fig.savefig(\"c5-conthistpan.png\", dpi=300)"
   ]
  },
  {
   "cell_type": "code",
   "execution_count": 46,
   "id": "eb47ff8a",
   "metadata": {},
   "outputs": [
    {
     "data": {
      "image/png": "[encoded data removed]",
      "text/plain": [
       "<Figure size 720x576 with 1 Axes>"
      ]
     },
     "metadata": {
      "needs_background": "light"
     },
     "output_type": "display_data"
    }
   ],
   "source": [
    "fig, ax = plt.subplots(figsize=(10, 8)) \n",
    "fueleco.city08.hist(ax=ax, bins=30) \n",
    "fig.savefig(\"c5-conthistpanbins.png\", dpi=300)"
   ]
  },
  {
   "cell_type": "code",
   "execution_count": 47,
   "id": "0dc648e0",
   "metadata": {},
   "outputs": [
    {
     "name": "stderr",
     "output_type": "stream",
     "text": [
      "C:\\Users\\user\\anaconda3\\lib\\site-packages\\seaborn\\distributions.py:2619: FutureWarning: `distplot` is a deprecated function and will be removed in a future version. Please adapt your code to use either `displot` (a figure-level function with similar flexibility) or `histplot` (an axes-level function for histograms).\n",
      "  warnings.warn(msg, FutureWarning)\n",
      "C:\\Users\\user\\anaconda3\\lib\\site-packages\\seaborn\\distributions.py:2103: FutureWarning: The `axis` variable is no longer used and will be removed. Instead, assign variables directly to `x` or `y`.\n",
      "  warnings.warn(msg, FutureWarning)\n"
     ]
    },
    {
     "data": {
      "image/png": "[encoded data removed]",
      "text/plain": [
       "<Figure size 720x576 with 1 Axes>"
      ]
     },
     "metadata": {
      "needs_background": "light"
     },
     "output_type": "display_data"
    }
   ],
   "source": [
    "fig, ax = plt.subplots(figsize=(10, 8)) \n",
    "sns.distplot(fueleco.city08, rug=True, ax=ax) \n",
    "fig.savefig(\"c5-conthistsns.png\", dpi=300)"
   ]
  },
  {
   "cell_type": "code",
   "execution_count": 48,
   "id": "93a23354",
   "metadata": {},
   "outputs": [
    {
     "name": "stderr",
     "output_type": "stream",
     "text": [
      "C:\\Users\\user\\anaconda3\\lib\\site-packages\\seaborn\\_decorators.py:36: FutureWarning: Pass the following variable as a keyword arg: x. From version 0.12, the only valid positional argument will be `data`, and passing other arguments without an explicit keyword will result in an error or misinterpretation.\n",
      "  warnings.warn(\n",
      "C:\\Users\\user\\anaconda3\\lib\\site-packages\\seaborn\\_decorators.py:36: FutureWarning: Pass the following variable as a keyword arg: x. From version 0.12, the only valid positional argument will be `data`, and passing other arguments without an explicit keyword will result in an error or misinterpretation.\n",
      "  warnings.warn(\n",
      "C:\\Users\\user\\anaconda3\\lib\\site-packages\\seaborn\\_decorators.py:36: FutureWarning: Pass the following variable as a keyword arg: x. From version 0.12, the only valid positional argument will be `data`, and passing other arguments without an explicit keyword will result in an error or misinterpretation.\n",
      "  warnings.warn(\n"
     ]
    },
    {
     "data": {
      "image/png": "[encoded data removed]",
      "text/plain": [
       "<Figure size 720x576 with 3 Axes>"
      ]
     },
     "metadata": {
      "needs_background": "light"
     },
     "output_type": "display_data"
    }
   ],
   "source": [
    "fig, axs = plt.subplots(nrows=3, figsize=(10, 8)) \n",
    "sns.boxplot(fueleco.city08, ax=axs[0])\n",
    "sns.violinplot(fueleco.city08, ax=axs[1]) \n",
    "sns.boxenplot(fueleco.city08, ax=axs[2]) \n",
    "fig.savefig(\"c5-contothersns.png\", dpi=300)"
   ]
  },
  {
   "cell_type": "code",
   "execution_count": 49,
   "id": "66aab5d2",
   "metadata": {},
   "outputs": [
    {
     "data": {
      "text/plain": [
       "KstestResult(statistic=0.9999999990134123, pvalue=0.0)"
      ]
     },
     "execution_count": 49,
     "metadata": {},
     "output_type": "execute_result"
    }
   ],
   "source": [
    "from scipy import stats \n",
    "stats.kstest(fueleco.city08, cdf=\"norm\")"
   ]
  },
  {
   "cell_type": "code",
   "execution_count": 50,
   "id": "33ff503a",
   "metadata": {},
   "outputs": [
    {
     "data": {
      "image/png": "[encoded data removed]",
      "text/plain": [
       "<Figure size 720x576 with 1 Axes>"
      ]
     },
     "metadata": {
      "needs_background": "light"
     },
     "output_type": "display_data"
    }
   ],
   "source": [
    "fig, ax = plt.subplots(figsize=(10, 8)) \n",
    "stats.probplot(fueleco.city08, plot=ax) \n",
    "fig.savefig(\"c5-conprob.png\", dpi=300)"
   ]
  },
  {
   "cell_type": "code",
   "execution_count": 51,
   "id": "05a0ed49",
   "metadata": {},
   "outputs": [
    {
     "data": {
      "text/html": [
       "<div>\n",
       "<style scoped>\n",
       "    .dataframe tbody tr th:only-of-type {\n",
       "        vertical-align: middle;\n",
       "    }\n",
       "\n",
       "    .dataframe tbody tr th {\n",
       "        vertical-align: top;\n",
       "    }\n",
       "\n",
       "    .dataframe thead th {\n",
       "        text-align: right;\n",
       "    }\n",
       "</style>\n",
       "<table border=\"1\" class=\"dataframe\">\n",
       "  <thead>\n",
       "    <tr style=\"text-align: right;\">\n",
       "      <th></th>\n",
       "      <th>mean</th>\n",
       "      <th>std</th>\n",
       "    </tr>\n",
       "    <tr>\n",
       "      <th>make</th>\n",
       "      <th></th>\n",
       "      <th></th>\n",
       "    </tr>\n",
       "  </thead>\n",
       "  <tbody>\n",
       "    <tr>\n",
       "      <th>BMW</th>\n",
       "      <td>17.817377</td>\n",
       "      <td>7.372907</td>\n",
       "    </tr>\n",
       "    <tr>\n",
       "      <th>Ford</th>\n",
       "      <td>16.853803</td>\n",
       "      <td>6.701029</td>\n",
       "    </tr>\n",
       "    <tr>\n",
       "      <th>Honda</th>\n",
       "      <td>24.372973</td>\n",
       "      <td>9.154064</td>\n",
       "    </tr>\n",
       "    <tr>\n",
       "      <th>Tesla</th>\n",
       "      <td>92.826087</td>\n",
       "      <td>5.538970</td>\n",
       "    </tr>\n",
       "  </tbody>\n",
       "</table>\n",
       "</div>"
      ],
      "text/plain": [
       "            mean       std\n",
       "make                      \n",
       "BMW    17.817377  7.372907\n",
       "Ford   16.853803  6.701029\n",
       "Honda  24.372973  9.154064\n",
       "Tesla  92.826087  5.538970"
      ]
     },
     "execution_count": 51,
     "metadata": {},
     "output_type": "execute_result"
    }
   ],
   "source": [
    "mask = fueleco.make.isin([\"Ford\", \"Honda\", \"Tesla\", \"BMW\"] ) \n",
    "fueleco[mask].groupby(\"make\").city08.agg([\"mean\", \"std\"])"
   ]
  },
  {
   "cell_type": "code",
   "execution_count": 52,
   "id": "ab582aad",
   "metadata": {},
   "outputs": [
    {
     "data": {
      "image/png": "[encoded data removed]",
      "text/plain": [
       "<Figure size 648x576 with 1 Axes>"
      ]
     },
     "metadata": {
      "needs_background": "light"
     },
     "output_type": "display_data"
    }
   ],
   "source": [
    "g = sns.catplot(x=\"make\", y=\"city08\", data=fueleco[mask],height=8, aspect=1.125, kind=\"box\") \n",
    "g.ax.figure.savefig(\"c5-catbox.png\", dpi=300)"
   ]
  },
  {
   "cell_type": "code",
   "execution_count": 53,
   "id": "fff08e06",
   "metadata": {},
   "outputs": [
    {
     "data": {
      "text/plain": [
       "make\n",
       "BMW      1807\n",
       "Ford     3208\n",
       "Honda     925\n",
       "Tesla      46\n",
       "Name: city08, dtype: int64"
      ]
     },
     "execution_count": 53,
     "metadata": {},
     "output_type": "execute_result"
    }
   ],
   "source": [
    "mask = fueleco.make.isin([\"Ford\", \"Honda\", \"Tesla\", \"BMW\"])\n",
    "(fueleco[mask].groupby(\"make\").city08.count())"
   ]
  },
  {
   "cell_type": "code",
   "execution_count": 54,
   "id": "d71cab03",
   "metadata": {},
   "outputs": [
    {
     "name": "stderr",
     "output_type": "stream",
     "text": [
      "C:\\Users\\user\\anaconda3\\lib\\site-packages\\seaborn\\categorical.py:1296: UserWarning: 35.5% of the points cannot be placed; you may want to decrease the size of the markers or use stripplot.\n",
      "  warnings.warn(msg, UserWarning)\n",
      "C:\\Users\\user\\anaconda3\\lib\\site-packages\\seaborn\\categorical.py:1296: UserWarning: 46.2% of the points cannot be placed; you may want to decrease the size of the markers or use stripplot.\n",
      "  warnings.warn(msg, UserWarning)\n"
     ]
    },
    {
     "data": {
      "image/png": "[encoded data removed]",
      "text/plain": [
       "<Figure size 648x576 with 1 Axes>"
      ]
     },
     "metadata": {
      "needs_background": "light"
     },
     "output_type": "display_data"
    }
   ],
   "source": [
    "g = sns.catplot(x=\"make\", y=\"city08\", data=fueleco[mask], height=8, aspect=1.125, kind=\"box\") \n",
    "sns.swarmplot(x=\"make\", y=\"city08\", data=fueleco[mask], color=\"k\", size=1, ax=g.ax) \n",
    "g.ax.figure.savefig(\"c5-catbox2.png\", dpi=300 )"
   ]
  },
  {
   "cell_type": "code",
   "execution_count": 55,
   "id": "34141c7b",
   "metadata": {},
   "outputs": [
    {
     "data": {
      "image/png": "[encoded data removed]",
      "text/plain": [
       "<Figure size 720x720 with 4 Axes>"
      ]
     },
     "metadata": {
      "needs_background": "light"
     },
     "output_type": "display_data"
    }
   ],
   "source": [
    "g = sns.catplot(x=\"make\", y=\"city08\", data=fueleco[mask], kind=\"box\", col=\"year\", col_order=[2012, 2014, 2016, 2018],col_wrap=2) \n",
    "g.axes[0].figure.savefig(\"c5-catboxcol.png\", dpi=300)"
   ]
  },
  {
   "cell_type": "code",
   "execution_count": 56,
   "id": "9a778eb7",
   "metadata": {},
   "outputs": [
    {
     "data": {
      "image/png": "[encoded data removed]",
      "text/plain": [
       "<Figure size 709.5x576 with 1 Axes>"
      ]
     },
     "metadata": {
      "needs_background": "light"
     },
     "output_type": "display_data"
    }
   ],
   "source": [
    "g = sns.catplot( x=\"make\", y=\"city08\", data=fueleco[mask], height=8, aspect=1.125, kind=\"box\", hue=\"year\", hue_order=[2012, 2014, 2016, 2018]) \n",
    "g.ax.figure.savefig(\"c5-catboxhue.png\", dpi=300 )"
   ]
  },
  {
   "cell_type": "code",
   "execution_count": 57,
   "id": "fd20f49e",
   "metadata": {},
   "outputs": [
    {
     "data": {
      "text/html": [
       "<style type=\"text/css\">\n",
       "#T_84689_row0_col0 {\n",
       "  background-color: #700320;\n",
       "  color: #f1f1f1;\n",
       "}\n",
       "#T_84689_row0_col1 {\n",
       "  background-color: #f5f6f7;\n",
       "  color: #000000;\n",
       "}\n",
       "#T_84689_row1_col0, #T_84689_row3_col1 {\n",
       "  background-color: #67001f;\n",
       "  color: #f1f1f1;\n",
       "}\n",
       "#T_84689_row1_col1 {\n",
       "  background-color: #f6b191;\n",
       "  color: #000000;\n",
       "}\n",
       "#T_84689_row2_col0 {\n",
       "  background-color: #b1182b;\n",
       "  color: #f1f1f1;\n",
       "}\n",
       "#T_84689_row2_col1, #T_84689_row3_col0 {\n",
       "  background-color: #053061;\n",
       "  color: #f1f1f1;\n",
       "}\n",
       "</style>\n",
       "<table id=\"T_84689_\">\n",
       "  <thead>\n",
       "    <tr>\n",
       "      <th class=\"blank level0\" >&nbsp;</th>\n",
       "      <th class=\"col_heading level0 col0\" >mean</th>\n",
       "      <th class=\"col_heading level0 col1\" >std</th>\n",
       "    </tr>\n",
       "    <tr>\n",
       "      <th class=\"index_name level0\" >make</th>\n",
       "      <th class=\"blank col0\" >&nbsp;</th>\n",
       "      <th class=\"blank col1\" >&nbsp;</th>\n",
       "    </tr>\n",
       "  </thead>\n",
       "  <tbody>\n",
       "    <tr>\n",
       "      <th id=\"T_84689_level0_row0\" class=\"row_heading level0 row0\" >BMW</th>\n",
       "      <td id=\"T_84689_row0_col0\" class=\"data row0 col0\" >17.817377</td>\n",
       "      <td id=\"T_84689_row0_col1\" class=\"data row0 col1\" >7.372907</td>\n",
       "    </tr>\n",
       "    <tr>\n",
       "      <th id=\"T_84689_level0_row1\" class=\"row_heading level0 row1\" >Ford</th>\n",
       "      <td id=\"T_84689_row1_col0\" class=\"data row1 col0\" >16.853803</td>\n",
       "      <td id=\"T_84689_row1_col1\" class=\"data row1 col1\" >6.701029</td>\n",
       "    </tr>\n",
       "    <tr>\n",
       "      <th id=\"T_84689_level0_row2\" class=\"row_heading level0 row2\" >Honda</th>\n",
       "      <td id=\"T_84689_row2_col0\" class=\"data row2 col0\" >24.372973</td>\n",
       "      <td id=\"T_84689_row2_col1\" class=\"data row2 col1\" >9.154064</td>\n",
       "    </tr>\n",
       "    <tr>\n",
       "      <th id=\"T_84689_level0_row3\" class=\"row_heading level0 row3\" >Tesla</th>\n",
       "      <td id=\"T_84689_row3_col0\" class=\"data row3 col0\" >92.826087</td>\n",
       "      <td id=\"T_84689_row3_col1\" class=\"data row3 col1\" >5.538970</td>\n",
       "    </tr>\n",
       "  </tbody>\n",
       "</table>\n"
      ],
      "text/plain": [
       "<pandas.io.formats.style.Styler at 0x1f269f03b50>"
      ]
     },
     "execution_count": 57,
     "metadata": {},
     "output_type": "execute_result"
    }
   ],
   "source": [
    "mask = fueleco.make.isin([\"Ford\", \"Honda\", \"Tesla\", \"BMW\"]) \n",
    "(fueleco[mask].groupby(\"make\").city08.agg([\"mean\", \"std\"]).style.background_gradient(cmap=\"RdBu\", axis=0))"
   ]
  },
  {
   "cell_type": "markdown",
   "id": "d9e2f17e",
   "metadata": {},
   "source": [
    "# Comparing two continuous columns"
   ]
  },
  {
   "cell_type": "code",
   "execution_count": 58,
   "id": "520988e1",
   "metadata": {},
   "outputs": [
    {
     "data": {
      "text/plain": [
       "46.333260236736244"
      ]
     },
     "execution_count": 58,
     "metadata": {},
     "output_type": "execute_result"
    }
   ],
   "source": [
    "fueleco.city08.cov(fueleco.highway08)"
   ]
  },
  {
   "cell_type": "code",
   "execution_count": 59,
   "id": "79011bd7",
   "metadata": {},
   "outputs": [
    {
     "data": {
      "text/plain": [
       "47.41994667819078"
      ]
     },
     "execution_count": 59,
     "metadata": {},
     "output_type": "execute_result"
    }
   ],
   "source": [
    "fueleco.city08.cov(fueleco.comb08)"
   ]
  },
  {
   "cell_type": "code",
   "execution_count": 60,
   "id": "8a178a05",
   "metadata": {},
   "outputs": [
    {
     "data": {
      "text/plain": [
       "-5.931560263764761"
      ]
     },
     "execution_count": 60,
     "metadata": {},
     "output_type": "execute_result"
    }
   ],
   "source": [
    "fueleco.city08.cov(fueleco.cylinders)"
   ]
  },
  {
   "cell_type": "code",
   "execution_count": 61,
   "id": "660ef6ea",
   "metadata": {},
   "outputs": [
    {
     "data": {
      "text/plain": [
       "0.9324945062284952"
      ]
     },
     "execution_count": 61,
     "metadata": {},
     "output_type": "execute_result"
    }
   ],
   "source": [
    "fueleco.city08.corr(fueleco.highway08)"
   ]
  },
  {
   "cell_type": "code",
   "execution_count": 62,
   "id": "9bcaa248",
   "metadata": {},
   "outputs": [
    {
     "data": {
      "text/plain": [
       "-0.7016548423827886"
      ]
     },
     "execution_count": 62,
     "metadata": {},
     "output_type": "execute_result"
    }
   ],
   "source": [
    "fueleco.city08.corr(fueleco.cylinders)"
   ]
  },
  {
   "cell_type": "code",
   "execution_count": 63,
   "id": "54e3916d",
   "metadata": {},
   "outputs": [
    {
     "name": "stderr",
     "output_type": "stream",
     "text": [
      "C:\\Users\\user\\AppData\\Local\\Temp/ipykernel_12004/2316518003.py:3: DeprecationWarning: `np.bool` is a deprecated alias for the builtin `bool`. To silence this warning, use `bool` by itself. Doing this will not modify any behavior and is safe. If you specifically wanted the numpy scalar type, use `np.bool_` here.\n",
      "Deprecated in NumPy 1.20; for more details and guidance: https://numpy.org/devdocs/release/1.20.0-notes.html#deprecations\n",
      "  mask = np.zeros_like(corr, dtype=np.bool)\n"
     ]
    },
    {
     "data": {
      "image/png": "[encoded data removed]",
      "text/plain": [
       "<Figure size 720x576 with 2 Axes>"
      ]
     },
     "metadata": {
      "needs_background": "light"
     },
     "output_type": "display_data"
    }
   ],
   "source": [
    "fig, ax = plt.subplots(figsize=(10, 8)) \n",
    "corr = fueleco[[\"city08\", \"highway08\", \"cylinders\"] ].corr() \n",
    "mask = np.zeros_like(corr, dtype=np.bool) \n",
    "mask[np.triu_indices_from(mask)] = True \n",
    "sns.heatmap(corr, mask=mask, fmt=\".2f\", annot=True, ax=ax, cmap=\"RdBu\", vmin=-1, vmax=1, square=True) \n",
    "fig.savefig( \"c5-heatmap.png\", dpi=300, bbox_inches=\"tight\" )"
   ]
  },
  {
   "cell_type": "code",
   "execution_count": 64,
   "id": "6a4af1e1",
   "metadata": {},
   "outputs": [
    {
     "data": {
      "image/png": "[encoded data removed]",
      "text/plain": [
       "<Figure size 576x576 with 1 Axes>"
      ]
     },
     "metadata": {
      "needs_background": "light"
     },
     "output_type": "display_data"
    }
   ],
   "source": [
    "fig, ax = plt.subplots(figsize=(8, 8))\n",
    "fueleco.plot.scatter(x=\"city08\", y=\"highway08\", alpha=0.1, ax=ax) \n",
    "fig.savefig(\"c5-scatpan.png\", dpi=300, bbox_inches=\"tight\")"
   ]
  },
  {
   "cell_type": "code",
   "execution_count": 65,
   "id": "bada09dd",
   "metadata": {},
   "outputs": [
    {
     "data": {
      "image/png": "[encoded data removed]",
      "text/plain": [
       "<Figure size 576x576 with 1 Axes>"
      ]
     },
     "metadata": {
      "needs_background": "light"
     },
     "output_type": "display_data"
    }
   ],
   "source": [
    "fig, ax = plt.subplots(figsize=(8, 8)) \n",
    "fueleco.plot.scatter(x=\"city08\", y=\"cylinders\", alpha=0.1, ax=ax)\n",
    "fig.savefig(\"c5-scatpan-cyl.png\", dpi=300, bbox_inches=\"tight\")"
   ]
  },
  {
   "cell_type": "code",
   "execution_count": 66,
   "id": "822c6399",
   "metadata": {},
   "outputs": [
    {
     "data": {
      "text/plain": [
       "145"
      ]
     },
     "execution_count": 66,
     "metadata": {},
     "output_type": "execute_result"
    }
   ],
   "source": [
    "fueleco.cylinders.isna().sum()"
   ]
  },
  {
   "cell_type": "code",
   "execution_count": 67,
   "id": "75e855a0",
   "metadata": {},
   "outputs": [
    {
     "data": {
      "image/png": "[encoded data removed]",
      "text/plain": [
       "<Figure size 576x576 with 1 Axes>"
      ]
     },
     "metadata": {
      "needs_background": "light"
     },
     "output_type": "display_data"
    }
   ],
   "source": [
    "fig, ax = plt.subplots(figsize=(8, 8)) \n",
    "(fueleco.assign(cylinders=fueleco.cylinders.fillna(0)).plot.scatter( x=\"city08\", y=\"cylinders\", alpha=0.1, ax=ax ) ) \n",
    "fig.savefig(\"c5-scatpan-cyl0.png\", dpi=300, bbox_inches=\"tight\")"
   ]
  },
  {
   "cell_type": "code",
   "execution_count": 68,
   "id": "c3f2cee4",
   "metadata": {},
   "outputs": [
    {
     "data": {
      "image/png": "[encoded data removed]",
      "text/plain": [
       "<Figure size 360x360 with 1 Axes>"
      ]
     },
     "metadata": {
      "needs_background": "light"
     },
     "output_type": "display_data"
    }
   ],
   "source": [
    "res = sns.lmplot(x=\"city08\", y=\"highway08\", data=fueleco) \n",
    "res.fig.savefig( \"c5-lmplot.png\", dpi=300, bbox_inches=\"tight\" )"
   ]
  },
  {
   "cell_type": "code",
   "execution_count": 69,
   "id": "ba676fd8",
   "metadata": {},
   "outputs": [
    {
     "data": {
      "text/plain": [
       "0.9324945062284952"
      ]
     },
     "execution_count": 69,
     "metadata": {},
     "output_type": "execute_result"
    }
   ],
   "source": [
    "fueleco.city08.corr(fueleco.highway08 * 2)"
   ]
  },
  {
   "cell_type": "code",
   "execution_count": 70,
   "id": "255a3f3f",
   "metadata": {},
   "outputs": [
    {
     "data": {
      "text/plain": [
       "92.66652047347249"
      ]
     },
     "execution_count": 70,
     "metadata": {},
     "output_type": "execute_result"
    }
   ],
   "source": [
    "fueleco.city08.cov(fueleco.highway08 * 2)"
   ]
  },
  {
   "cell_type": "code",
   "execution_count": 71,
   "id": "e9eb469a",
   "metadata": {},
   "outputs": [
    {
     "data": {
      "image/png": "[encoded data removed]",
      "text/plain": [
       "<Figure size 639.25x576 with 1 Axes>"
      ]
     },
     "metadata": {
      "needs_background": "light"
     },
     "output_type": "display_data"
    }
   ],
   "source": [
    "res = sns.relplot(x=\"city08\", y=\"highway08\", data=fueleco.assign( cylinders=fueleco.cylinders.fillna(0) ), hue=\"year\", size=\"barrels08\", alpha=0.5, height=8) \n",
    "res.fig.savefig(\"c5-relplot2.png\", dpi=300, bbox_inches=\"tight\")"
   ]
  },
  {
   "cell_type": "code",
   "execution_count": 72,
   "id": "0f403ef5",
   "metadata": {},
   "outputs": [
    {
     "data": {
      "image/png": "[encoded data removed]",
      "text/plain": [
       "<Figure size 927.25x432 with 2 Axes>"
      ]
     },
     "metadata": {
      "needs_background": "light"
     },
     "output_type": "display_data"
    }
   ],
   "source": [
    "res = sns.relplot( x=\"city08\", y=\"highway08\", data=fueleco.assign(cylinders=fueleco.cylinders.fillna(0)), hue=\"year\", size=\"barrels08\", alpha=0.5, height=6, col=\"make\", col_order=[\"Ford\", \"Tesla\"],) \n",
    "res.fig.savefig(\"c5-relplot3.png\", dpi=300, bbox_inches=\"tight\")"
   ]
  },
  {
   "cell_type": "code",
   "execution_count": 73,
   "id": "218159c5",
   "metadata": {},
   "outputs": [
    {
     "data": {
      "text/plain": [
       "-0.9743658763718624"
      ]
     },
     "execution_count": 73,
     "metadata": {},
     "output_type": "execute_result"
    }
   ],
   "source": [
    "fueleco.city08.corr(fueleco.barrels08, method=\"spearman\")"
   ]
  },
  {
   "cell_type": "markdown",
   "id": "efd15abd",
   "metadata": {},
   "source": [
    "# Comparing categorical values with categorical values"
   ]
  },
  {
   "cell_type": "code",
   "execution_count": 74,
   "id": "d09b1a62",
   "metadata": {},
   "outputs": [],
   "source": [
    "def generalize(ser, match_name, default): \n",
    "    seen = None \n",
    "    for match, name in match_name: \n",
    "        mask = ser.str.contains(match) \n",
    "        if seen is None: \n",
    "            seen = mask \n",
    "        else: \n",
    "            seen |= mask \n",
    "        ser = ser.where(~mask, name) \n",
    "    ser = ser.where(seen, default) \n",
    "    return ser "
   ]
  },
  {
   "cell_type": "code",
   "execution_count": 75,
   "id": "3dc78fe2",
   "metadata": {},
   "outputs": [],
   "source": [
    "makes = [\"Ford\", \"Tesla\", \"BMW\", \"Toyota\"] \n",
    "data = fueleco[fueleco.make.isin(makes)].assign(SClass=lambda df_: generalize(df_.VClass, [(\"Seaters\", \"Car\"), (\"Car\", \"Car\"), (\"Utility\", \"SUV\"), (\"Truck\", \"Truck\"), (\"Van\", \"Van\"), (\"van\", \"Van\"), (\"Wagon\", \"Wagon\")], \"other\"))"
   ]
  },
  {
   "cell_type": "code",
   "execution_count": 76,
   "id": "bc315b99",
   "metadata": {},
   "outputs": [
    {
     "data": {
      "text/html": [
       "<div>\n",
       "<style scoped>\n",
       "    .dataframe tbody tr th:only-of-type {\n",
       "        vertical-align: middle;\n",
       "    }\n",
       "\n",
       "    .dataframe tbody tr th {\n",
       "        vertical-align: top;\n",
       "    }\n",
       "\n",
       "    .dataframe thead th {\n",
       "        text-align: right;\n",
       "    }\n",
       "</style>\n",
       "<table border=\"1\" class=\"dataframe\">\n",
       "  <thead>\n",
       "    <tr style=\"text-align: right;\">\n",
       "      <th>SClass</th>\n",
       "      <th>Car</th>\n",
       "      <th>SUV</th>\n",
       "      <th>Truck</th>\n",
       "      <th>Van</th>\n",
       "      <th>Wagon</th>\n",
       "      <th>other</th>\n",
       "    </tr>\n",
       "    <tr>\n",
       "      <th>make</th>\n",
       "      <th></th>\n",
       "      <th></th>\n",
       "      <th></th>\n",
       "      <th></th>\n",
       "      <th></th>\n",
       "      <th></th>\n",
       "    </tr>\n",
       "  </thead>\n",
       "  <tbody>\n",
       "    <tr>\n",
       "      <th>BMW</th>\n",
       "      <td>1557.0</td>\n",
       "      <td>158.0</td>\n",
       "      <td>NaN</td>\n",
       "      <td>NaN</td>\n",
       "      <td>92.0</td>\n",
       "      <td>NaN</td>\n",
       "    </tr>\n",
       "    <tr>\n",
       "      <th>Ford</th>\n",
       "      <td>1075.0</td>\n",
       "      <td>372.0</td>\n",
       "      <td>1040.0</td>\n",
       "      <td>332.0</td>\n",
       "      <td>155.0</td>\n",
       "      <td>234.0</td>\n",
       "    </tr>\n",
       "    <tr>\n",
       "      <th>Tesla</th>\n",
       "      <td>36.0</td>\n",
       "      <td>10.0</td>\n",
       "      <td>NaN</td>\n",
       "      <td>NaN</td>\n",
       "      <td>NaN</td>\n",
       "      <td>NaN</td>\n",
       "    </tr>\n",
       "    <tr>\n",
       "      <th>Toyota</th>\n",
       "      <td>773.0</td>\n",
       "      <td>376.0</td>\n",
       "      <td>478.0</td>\n",
       "      <td>94.0</td>\n",
       "      <td>132.0</td>\n",
       "      <td>123.0</td>\n",
       "    </tr>\n",
       "  </tbody>\n",
       "</table>\n",
       "</div>"
      ],
      "text/plain": [
       "SClass     Car    SUV   Truck    Van  Wagon  other\n",
       "make                                              \n",
       "BMW     1557.0  158.0     NaN    NaN   92.0    NaN\n",
       "Ford    1075.0  372.0  1040.0  332.0  155.0  234.0\n",
       "Tesla     36.0   10.0     NaN    NaN    NaN    NaN\n",
       "Toyota   773.0  376.0   478.0   94.0  132.0  123.0"
      ]
     },
     "execution_count": 76,
     "metadata": {},
     "output_type": "execute_result"
    }
   ],
   "source": [
    "data.groupby([\"make\", \"SClass\"]).size().unstack()"
   ]
  },
  {
   "cell_type": "code",
   "execution_count": 77,
   "id": "9832709d",
   "metadata": {},
   "outputs": [
    {
     "data": {
      "text/html": [
       "<div>\n",
       "<style scoped>\n",
       "    .dataframe tbody tr th:only-of-type {\n",
       "        vertical-align: middle;\n",
       "    }\n",
       "\n",
       "    .dataframe tbody tr th {\n",
       "        vertical-align: top;\n",
       "    }\n",
       "\n",
       "    .dataframe thead th {\n",
       "        text-align: right;\n",
       "    }\n",
       "</style>\n",
       "<table border=\"1\" class=\"dataframe\">\n",
       "  <thead>\n",
       "    <tr style=\"text-align: right;\">\n",
       "      <th>SClass</th>\n",
       "      <th>Car</th>\n",
       "      <th>SUV</th>\n",
       "      <th>Truck</th>\n",
       "      <th>Van</th>\n",
       "      <th>Wagon</th>\n",
       "      <th>other</th>\n",
       "    </tr>\n",
       "    <tr>\n",
       "      <th>make</th>\n",
       "      <th></th>\n",
       "      <th></th>\n",
       "      <th></th>\n",
       "      <th></th>\n",
       "      <th></th>\n",
       "      <th></th>\n",
       "    </tr>\n",
       "  </thead>\n",
       "  <tbody>\n",
       "    <tr>\n",
       "      <th>BMW</th>\n",
       "      <td>1557</td>\n",
       "      <td>158</td>\n",
       "      <td>0</td>\n",
       "      <td>0</td>\n",
       "      <td>92</td>\n",
       "      <td>0</td>\n",
       "    </tr>\n",
       "    <tr>\n",
       "      <th>Ford</th>\n",
       "      <td>1075</td>\n",
       "      <td>372</td>\n",
       "      <td>1040</td>\n",
       "      <td>332</td>\n",
       "      <td>155</td>\n",
       "      <td>234</td>\n",
       "    </tr>\n",
       "    <tr>\n",
       "      <th>Tesla</th>\n",
       "      <td>36</td>\n",
       "      <td>10</td>\n",
       "      <td>0</td>\n",
       "      <td>0</td>\n",
       "      <td>0</td>\n",
       "      <td>0</td>\n",
       "    </tr>\n",
       "    <tr>\n",
       "      <th>Toyota</th>\n",
       "      <td>773</td>\n",
       "      <td>376</td>\n",
       "      <td>478</td>\n",
       "      <td>94</td>\n",
       "      <td>132</td>\n",
       "      <td>123</td>\n",
       "    </tr>\n",
       "  </tbody>\n",
       "</table>\n",
       "</div>"
      ],
      "text/plain": [
       "SClass   Car  SUV  Truck  Van  Wagon  other\n",
       "make                                       \n",
       "BMW     1557  158      0    0     92      0\n",
       "Ford    1075  372   1040  332    155    234\n",
       "Tesla     36   10      0    0      0      0\n",
       "Toyota   773  376    478   94    132    123"
      ]
     },
     "execution_count": 77,
     "metadata": {},
     "output_type": "execute_result"
    }
   ],
   "source": [
    "pd.crosstab(data.make, data.SClass)"
   ]
  },
  {
   "cell_type": "code",
   "execution_count": 78,
   "id": "ed53a2ec",
   "metadata": {},
   "outputs": [
    {
     "data": {
      "text/html": [
       "<div>\n",
       "<style scoped>\n",
       "    .dataframe tbody tr th:only-of-type {\n",
       "        vertical-align: middle;\n",
       "    }\n",
       "\n",
       "    .dataframe tbody tr th {\n",
       "        vertical-align: top;\n",
       "    }\n",
       "\n",
       "    .dataframe thead tr th {\n",
       "        text-align: left;\n",
       "    }\n",
       "\n",
       "    .dataframe thead tr:last-of-type th {\n",
       "        text-align: right;\n",
       "    }\n",
       "</style>\n",
       "<table border=\"1\" class=\"dataframe\">\n",
       "  <thead>\n",
       "    <tr>\n",
       "      <th></th>\n",
       "      <th>SClass</th>\n",
       "      <th colspan=\"7\" halign=\"left\">Car</th>\n",
       "      <th colspan=\"3\" halign=\"left\">SUV</th>\n",
       "      <th>...</th>\n",
       "      <th colspan=\"4\" halign=\"left\">Van</th>\n",
       "      <th colspan=\"3\" halign=\"left\">Wagon</th>\n",
       "      <th colspan=\"3\" halign=\"left\">other</th>\n",
       "    </tr>\n",
       "    <tr>\n",
       "      <th></th>\n",
       "      <th>VClass</th>\n",
       "      <th>Compact Cars</th>\n",
       "      <th>Large Cars</th>\n",
       "      <th>Midsize Cars</th>\n",
       "      <th>Minicompact Cars</th>\n",
       "      <th>Subcompact Cars</th>\n",
       "      <th>Two Seaters</th>\n",
       "      <th>Vans, Cargo Type</th>\n",
       "      <th>Small Sport Utility Vehicle 2WD</th>\n",
       "      <th>Small Sport Utility Vehicle 4WD</th>\n",
       "      <th>Sport Utility Vehicle - 2WD</th>\n",
       "      <th>...</th>\n",
       "      <th>Minivan - 2WD</th>\n",
       "      <th>Minivan - 4WD</th>\n",
       "      <th>Vans</th>\n",
       "      <th>Vans, Passenger Type</th>\n",
       "      <th>Midsize Station Wagons</th>\n",
       "      <th>Midsize-Large Station Wagons</th>\n",
       "      <th>Small Station Wagons</th>\n",
       "      <th>Special Purpose Vehicle 2WD</th>\n",
       "      <th>Special Purpose Vehicle 4WD</th>\n",
       "      <th>Special Purpose Vehicles</th>\n",
       "    </tr>\n",
       "    <tr>\n",
       "      <th>year</th>\n",
       "      <th>make</th>\n",
       "      <th></th>\n",
       "      <th></th>\n",
       "      <th></th>\n",
       "      <th></th>\n",
       "      <th></th>\n",
       "      <th></th>\n",
       "      <th></th>\n",
       "      <th></th>\n",
       "      <th></th>\n",
       "      <th></th>\n",
       "      <th></th>\n",
       "      <th></th>\n",
       "      <th></th>\n",
       "      <th></th>\n",
       "      <th></th>\n",
       "      <th></th>\n",
       "      <th></th>\n",
       "      <th></th>\n",
       "      <th></th>\n",
       "      <th></th>\n",
       "      <th></th>\n",
       "    </tr>\n",
       "  </thead>\n",
       "  <tbody>\n",
       "    <tr>\n",
       "      <th rowspan=\"3\" valign=\"top\">1984</th>\n",
       "      <th>BMW</th>\n",
       "      <td>6</td>\n",
       "      <td>0</td>\n",
       "      <td>0</td>\n",
       "      <td>0</td>\n",
       "      <td>10</td>\n",
       "      <td>0</td>\n",
       "      <td>0</td>\n",
       "      <td>0</td>\n",
       "      <td>0</td>\n",
       "      <td>0</td>\n",
       "      <td>...</td>\n",
       "      <td>0</td>\n",
       "      <td>0</td>\n",
       "      <td>0</td>\n",
       "      <td>0</td>\n",
       "      <td>0</td>\n",
       "      <td>0</td>\n",
       "      <td>0</td>\n",
       "      <td>0</td>\n",
       "      <td>0</td>\n",
       "      <td>0</td>\n",
       "    </tr>\n",
       "    <tr>\n",
       "      <th>Ford</th>\n",
       "      <td>33</td>\n",
       "      <td>3</td>\n",
       "      <td>9</td>\n",
       "      <td>0</td>\n",
       "      <td>14</td>\n",
       "      <td>6</td>\n",
       "      <td>26</td>\n",
       "      <td>0</td>\n",
       "      <td>0</td>\n",
       "      <td>0</td>\n",
       "      <td>...</td>\n",
       "      <td>0</td>\n",
       "      <td>0</td>\n",
       "      <td>0</td>\n",
       "      <td>12</td>\n",
       "      <td>5</td>\n",
       "      <td>2</td>\n",
       "      <td>12</td>\n",
       "      <td>0</td>\n",
       "      <td>21</td>\n",
       "      <td>6</td>\n",
       "    </tr>\n",
       "    <tr>\n",
       "      <th>Toyota</th>\n",
       "      <td>13</td>\n",
       "      <td>0</td>\n",
       "      <td>0</td>\n",
       "      <td>3</td>\n",
       "      <td>22</td>\n",
       "      <td>0</td>\n",
       "      <td>4</td>\n",
       "      <td>0</td>\n",
       "      <td>0</td>\n",
       "      <td>0</td>\n",
       "      <td>...</td>\n",
       "      <td>0</td>\n",
       "      <td>0</td>\n",
       "      <td>0</td>\n",
       "      <td>4</td>\n",
       "      <td>0</td>\n",
       "      <td>0</td>\n",
       "      <td>10</td>\n",
       "      <td>0</td>\n",
       "      <td>3</td>\n",
       "      <td>2</td>\n",
       "    </tr>\n",
       "    <tr>\n",
       "      <th rowspan=\"2\" valign=\"top\">1985</th>\n",
       "      <th>BMW</th>\n",
       "      <td>7</td>\n",
       "      <td>0</td>\n",
       "      <td>0</td>\n",
       "      <td>0</td>\n",
       "      <td>6</td>\n",
       "      <td>0</td>\n",
       "      <td>0</td>\n",
       "      <td>0</td>\n",
       "      <td>0</td>\n",
       "      <td>0</td>\n",
       "      <td>...</td>\n",
       "      <td>0</td>\n",
       "      <td>0</td>\n",
       "      <td>0</td>\n",
       "      <td>0</td>\n",
       "      <td>0</td>\n",
       "      <td>0</td>\n",
       "      <td>0</td>\n",
       "      <td>0</td>\n",
       "      <td>0</td>\n",
       "      <td>0</td>\n",
       "    </tr>\n",
       "    <tr>\n",
       "      <th>Ford</th>\n",
       "      <td>31</td>\n",
       "      <td>2</td>\n",
       "      <td>5</td>\n",
       "      <td>0</td>\n",
       "      <td>13</td>\n",
       "      <td>3</td>\n",
       "      <td>0</td>\n",
       "      <td>0</td>\n",
       "      <td>0</td>\n",
       "      <td>0</td>\n",
       "      <td>...</td>\n",
       "      <td>0</td>\n",
       "      <td>0</td>\n",
       "      <td>26</td>\n",
       "      <td>0</td>\n",
       "      <td>0</td>\n",
       "      <td>3</td>\n",
       "      <td>13</td>\n",
       "      <td>5</td>\n",
       "      <td>9</td>\n",
       "      <td>6</td>\n",
       "    </tr>\n",
       "    <tr>\n",
       "      <th>...</th>\n",
       "      <th>...</th>\n",
       "      <td>...</td>\n",
       "      <td>...</td>\n",
       "      <td>...</td>\n",
       "      <td>...</td>\n",
       "      <td>...</td>\n",
       "      <td>...</td>\n",
       "      <td>...</td>\n",
       "      <td>...</td>\n",
       "      <td>...</td>\n",
       "      <td>...</td>\n",
       "      <td>...</td>\n",
       "      <td>...</td>\n",
       "      <td>...</td>\n",
       "      <td>...</td>\n",
       "      <td>...</td>\n",
       "      <td>...</td>\n",
       "      <td>...</td>\n",
       "      <td>...</td>\n",
       "      <td>...</td>\n",
       "      <td>...</td>\n",
       "      <td>...</td>\n",
       "    </tr>\n",
       "    <tr>\n",
       "      <th rowspan=\"2\" valign=\"top\">2017</th>\n",
       "      <th>Tesla</th>\n",
       "      <td>0</td>\n",
       "      <td>8</td>\n",
       "      <td>0</td>\n",
       "      <td>0</td>\n",
       "      <td>0</td>\n",
       "      <td>0</td>\n",
       "      <td>0</td>\n",
       "      <td>0</td>\n",
       "      <td>0</td>\n",
       "      <td>0</td>\n",
       "      <td>...</td>\n",
       "      <td>0</td>\n",
       "      <td>0</td>\n",
       "      <td>0</td>\n",
       "      <td>0</td>\n",
       "      <td>0</td>\n",
       "      <td>0</td>\n",
       "      <td>0</td>\n",
       "      <td>0</td>\n",
       "      <td>0</td>\n",
       "      <td>0</td>\n",
       "    </tr>\n",
       "    <tr>\n",
       "      <th>Toyota</th>\n",
       "      <td>3</td>\n",
       "      <td>0</td>\n",
       "      <td>16</td>\n",
       "      <td>2</td>\n",
       "      <td>2</td>\n",
       "      <td>0</td>\n",
       "      <td>0</td>\n",
       "      <td>5</td>\n",
       "      <td>3</td>\n",
       "      <td>0</td>\n",
       "      <td>...</td>\n",
       "      <td>1</td>\n",
       "      <td>1</td>\n",
       "      <td>0</td>\n",
       "      <td>0</td>\n",
       "      <td>1</td>\n",
       "      <td>0</td>\n",
       "      <td>0</td>\n",
       "      <td>0</td>\n",
       "      <td>0</td>\n",
       "      <td>0</td>\n",
       "    </tr>\n",
       "    <tr>\n",
       "      <th rowspan=\"3\" valign=\"top\">2018</th>\n",
       "      <th>BMW</th>\n",
       "      <td>37</td>\n",
       "      <td>12</td>\n",
       "      <td>5</td>\n",
       "      <td>0</td>\n",
       "      <td>25</td>\n",
       "      <td>1</td>\n",
       "      <td>0</td>\n",
       "      <td>0</td>\n",
       "      <td>2</td>\n",
       "      <td>0</td>\n",
       "      <td>...</td>\n",
       "      <td>0</td>\n",
       "      <td>0</td>\n",
       "      <td>0</td>\n",
       "      <td>0</td>\n",
       "      <td>0</td>\n",
       "      <td>0</td>\n",
       "      <td>2</td>\n",
       "      <td>0</td>\n",
       "      <td>0</td>\n",
       "      <td>0</td>\n",
       "    </tr>\n",
       "    <tr>\n",
       "      <th>Ford</th>\n",
       "      <td>0</td>\n",
       "      <td>0</td>\n",
       "      <td>8</td>\n",
       "      <td>0</td>\n",
       "      <td>0</td>\n",
       "      <td>0</td>\n",
       "      <td>0</td>\n",
       "      <td>4</td>\n",
       "      <td>2</td>\n",
       "      <td>0</td>\n",
       "      <td>...</td>\n",
       "      <td>0</td>\n",
       "      <td>0</td>\n",
       "      <td>0</td>\n",
       "      <td>3</td>\n",
       "      <td>0</td>\n",
       "      <td>0</td>\n",
       "      <td>0</td>\n",
       "      <td>6</td>\n",
       "      <td>0</td>\n",
       "      <td>0</td>\n",
       "    </tr>\n",
       "    <tr>\n",
       "      <th>Toyota</th>\n",
       "      <td>4</td>\n",
       "      <td>0</td>\n",
       "      <td>16</td>\n",
       "      <td>0</td>\n",
       "      <td>2</td>\n",
       "      <td>0</td>\n",
       "      <td>0</td>\n",
       "      <td>2</td>\n",
       "      <td>3</td>\n",
       "      <td>0</td>\n",
       "      <td>...</td>\n",
       "      <td>0</td>\n",
       "      <td>0</td>\n",
       "      <td>0</td>\n",
       "      <td>0</td>\n",
       "      <td>0</td>\n",
       "      <td>0</td>\n",
       "      <td>0</td>\n",
       "      <td>0</td>\n",
       "      <td>0</td>\n",
       "      <td>0</td>\n",
       "    </tr>\n",
       "  </tbody>\n",
       "</table>\n",
       "<p>111 rows × 29 columns</p>\n",
       "</div>"
      ],
      "text/plain": [
       "SClass               Car                                           \\\n",
       "VClass      Compact Cars Large Cars Midsize Cars Minicompact Cars   \n",
       "year make                                                           \n",
       "1984 BMW               6          0            0                0   \n",
       "     Ford             33          3            9                0   \n",
       "     Toyota           13          0            0                3   \n",
       "1985 BMW               7          0            0                0   \n",
       "     Ford             31          2            5                0   \n",
       "...                  ...        ...          ...              ...   \n",
       "2017 Tesla             0          8            0                0   \n",
       "     Toyota            3          0           16                2   \n",
       "2018 BMW              37         12            5                0   \n",
       "     Ford              0          0            8                0   \n",
       "     Toyota            4          0           16                0   \n",
       "\n",
       "SClass                                                    \\\n",
       "VClass      Subcompact Cars Two Seaters Vans, Cargo Type   \n",
       "year make                                                  \n",
       "1984 BMW                 10           0                0   \n",
       "     Ford                14           6               26   \n",
       "     Toyota              22           0                4   \n",
       "1985 BMW                  6           0                0   \n",
       "     Ford                13           3                0   \n",
       "...                     ...         ...              ...   \n",
       "2017 Tesla                0           0                0   \n",
       "     Toyota               2           0                0   \n",
       "2018 BMW                 25           1                0   \n",
       "     Ford                 0           0                0   \n",
       "     Toyota               2           0                0   \n",
       "\n",
       "SClass                                  SUV                                  \\\n",
       "VClass      Small Sport Utility Vehicle 2WD Small Sport Utility Vehicle 4WD   \n",
       "year make                                                                     \n",
       "1984 BMW                                  0                               0   \n",
       "     Ford                                 0                               0   \n",
       "     Toyota                               0                               0   \n",
       "1985 BMW                                  0                               0   \n",
       "     Ford                                 0                               0   \n",
       "...                                     ...                             ...   \n",
       "2017 Tesla                                0                               0   \n",
       "     Toyota                               5                               3   \n",
       "2018 BMW                                  0                               2   \n",
       "     Ford                                 4                               2   \n",
       "     Toyota                               2                               3   \n",
       "\n",
       "SClass                                   ...           Van                     \\\n",
       "VClass      Sport Utility Vehicle - 2WD  ... Minivan - 2WD Minivan - 4WD Vans   \n",
       "year make                                ...                                    \n",
       "1984 BMW                              0  ...             0             0    0   \n",
       "     Ford                             0  ...             0             0    0   \n",
       "     Toyota                           0  ...             0             0    0   \n",
       "1985 BMW                              0  ...             0             0    0   \n",
       "     Ford                             0  ...             0             0   26   \n",
       "...                                 ...  ...           ...           ...  ...   \n",
       "2017 Tesla                            0  ...             0             0    0   \n",
       "     Toyota                           0  ...             1             1    0   \n",
       "2018 BMW                              0  ...             0             0    0   \n",
       "     Ford                             0  ...             0             0    0   \n",
       "     Toyota                           0  ...             0             0    0   \n",
       "\n",
       "SClass                                            Wagon  \\\n",
       "VClass      Vans, Passenger Type Midsize Station Wagons   \n",
       "year make                                                 \n",
       "1984 BMW                       0                      0   \n",
       "     Ford                     12                      5   \n",
       "     Toyota                    4                      0   \n",
       "1985 BMW                       0                      0   \n",
       "     Ford                      0                      0   \n",
       "...                          ...                    ...   \n",
       "2017 Tesla                     0                      0   \n",
       "     Toyota                    0                      1   \n",
       "2018 BMW                       0                      0   \n",
       "     Ford                      3                      0   \n",
       "     Toyota                    0                      0   \n",
       "\n",
       "SClass                                                         \\\n",
       "VClass      Midsize-Large Station Wagons Small Station Wagons   \n",
       "year make                                                       \n",
       "1984 BMW                               0                    0   \n",
       "     Ford                              2                   12   \n",
       "     Toyota                            0                   10   \n",
       "1985 BMW                               0                    0   \n",
       "     Ford                              3                   13   \n",
       "...                                  ...                  ...   \n",
       "2017 Tesla                             0                    0   \n",
       "     Toyota                            0                    0   \n",
       "2018 BMW                               0                    2   \n",
       "     Ford                              0                    0   \n",
       "     Toyota                            0                    0   \n",
       "\n",
       "SClass                            other                              \\\n",
       "VClass      Special Purpose Vehicle 2WD Special Purpose Vehicle 4WD   \n",
       "year make                                                             \n",
       "1984 BMW                              0                           0   \n",
       "     Ford                             0                          21   \n",
       "     Toyota                           0                           3   \n",
       "1985 BMW                              0                           0   \n",
       "     Ford                             5                           9   \n",
       "...                                 ...                         ...   \n",
       "2017 Tesla                            0                           0   \n",
       "     Toyota                           0                           0   \n",
       "2018 BMW                              0                           0   \n",
       "     Ford                             6                           0   \n",
       "     Toyota                           0                           0   \n",
       "\n",
       "SClass                                \n",
       "VClass      Special Purpose Vehicles  \n",
       "year make                             \n",
       "1984 BMW                           0  \n",
       "     Ford                          6  \n",
       "     Toyota                        2  \n",
       "1985 BMW                           0  \n",
       "     Ford                          6  \n",
       "...                              ...  \n",
       "2017 Tesla                         0  \n",
       "     Toyota                        0  \n",
       "2018 BMW                           0  \n",
       "     Ford                          0  \n",
       "     Toyota                        0  \n",
       "\n",
       "[111 rows x 29 columns]"
      ]
     },
     "execution_count": 78,
     "metadata": {},
     "output_type": "execute_result"
    }
   ],
   "source": [
    "pd.crosstab( [data.year, data.make], [data.SClass, data.VClass])"
   ]
  },
  {
   "cell_type": "code",
   "execution_count": 79,
   "id": "38d0acf5",
   "metadata": {},
   "outputs": [],
   "source": [
    "import scipy.stats as ss \n",
    "import numpy as np \n",
    "def cramers_v(x, y): \n",
    "    confusion_matrix = pd.crosstab(x, y) \n",
    "    chi2 = ss.chi2_contingency(confusion_matrix)[0] \n",
    "    n = confusion_matrix.sum().sum() \n",
    "    phi2 = chi2 / n \n",
    "    r, k = confusion_matrix.shape \n",
    "    phi2corr = max( 0, phi2 - ((k - 1) * (r - 1)) / (n - 1) ) \n",
    "    rcorr = r - ((r - 1) ** 2) / (n - 1) \n",
    "    kcorr = k - ((k - 1) ** 2) / (n - 1)\n",
    "    return np.sqrt( phi2corr / min((kcorr - 1), (rcorr - 1)) ) "
   ]
  },
  {
   "cell_type": "code",
   "execution_count": 80,
   "id": "2d584748",
   "metadata": {},
   "outputs": [
    {
     "data": {
      "text/plain": [
       "0.2859720982171866"
      ]
     },
     "execution_count": 80,
     "metadata": {},
     "output_type": "execute_result"
    }
   ],
   "source": [
    "cramers_v(data.make, data.SClass)"
   ]
  },
  {
   "cell_type": "code",
   "execution_count": 81,
   "id": "6adbbd5c",
   "metadata": {},
   "outputs": [
    {
     "data": {
      "text/plain": [
       "0.2859720982171866"
      ]
     },
     "execution_count": 81,
     "metadata": {},
     "output_type": "execute_result"
    }
   ],
   "source": [
    "data.make.corr(data.SClass, cramers_v)"
   ]
  },
  {
   "cell_type": "code",
   "execution_count": 82,
   "id": "9318524f",
   "metadata": {},
   "outputs": [
    {
     "data": {
      "image/png": "[encoded data removed]",
      "text/plain": [
       "<Figure size 720x576 with 1 Axes>"
      ]
     },
     "metadata": {
      "needs_background": "light"
     },
     "output_type": "display_data"
    }
   ],
   "source": [
    "fig, ax = plt.subplots(figsize=(10, 8)) \n",
    "(data.pipe(lambda df_: pd.crosstab(df_.make, df_.SClass)).plot.bar(ax=ax)) \n",
    "fig.savefig(\"c5-bar.png\", dpi=300, bbox_inches=\"tight\")"
   ]
  },
  {
   "cell_type": "code",
   "execution_count": 83,
   "id": "6742fd09",
   "metadata": {},
   "outputs": [
    {
     "data": {
      "image/png": "[encoded data removed]",
      "text/plain": [
       "<Figure size 430.125x360 with 1 Axes>"
      ]
     },
     "metadata": {
      "needs_background": "light"
     },
     "output_type": "display_data"
    }
   ],
   "source": [
    "res = sns.catplot( kind=\"count\", x=\"make\", hue=\"SClass\", data=data ) \n",
    "res.fig.savefig( \"c5-barsns.png\", dpi=300, bbox_inches=\"tight\" )"
   ]
  },
  {
   "cell_type": "code",
   "execution_count": 84,
   "id": "9fc1bd9b",
   "metadata": {},
   "outputs": [
    {
     "data": {
      "image/png": "[encoded data removed]",
      "text/plain": [
       "<Figure size 720x576 with 1 Axes>"
      ]
     },
     "metadata": {
      "needs_background": "light"
     },
     "output_type": "display_data"
    }
   ],
   "source": [
    "fig, ax = plt.subplots(figsize=(10, 8)) \n",
    "(data.pipe( lambda df_: pd.crosstab(df_.make, df_.SClass) ).pipe(lambda df_: df_.div(df_.sum(axis=1), axis=0)).plot.bar(stacked=True, ax=ax)) \n",
    "fig.savefig(\"c5-barstacked.png\", dpi=300, bbox_inches=\"tight\")"
   ]
  },
  {
   "cell_type": "code",
   "execution_count": 85,
   "id": "2d24b71a",
   "metadata": {},
   "outputs": [
    {
     "data": {
      "text/plain": [
       "0.6335899102918267"
      ]
     },
     "execution_count": 85,
     "metadata": {},
     "output_type": "execute_result"
    }
   ],
   "source": [
    "cramers_v(data.make, data.trany)"
   ]
  },
  {
   "cell_type": "code",
   "execution_count": 86,
   "id": "ccee050d",
   "metadata": {},
   "outputs": [
    {
     "data": {
      "text/plain": [
       "0.9542350243671587"
      ]
     },
     "execution_count": 86,
     "metadata": {},
     "output_type": "execute_result"
    }
   ],
   "source": [
    "cramers_v(data.make, data.model)"
   ]
  },
  {
   "cell_type": "markdown",
   "id": "58a7cf77",
   "metadata": {},
   "source": [
    "# Using the pandas profiling library"
   ]
  },
  {
   "cell_type": "code",
   "execution_count": 87,
   "id": "4100ae07",
   "metadata": {},
   "outputs": [],
   "source": [
    "# pip install pandas-profiling"
   ]
  },
  {
   "cell_type": "code",
   "execution_count": null,
   "id": "fc0b77c6",
   "metadata": {},
   "outputs": [
    {
     "data": {
      "application/vnd.jupyter.widget-view+json": {
       "model_id": "479cd164cb5b49128ec9d010b582b7c6",
       "version_major": 2,
       "version_minor": 0
      },
      "text/plain": [
       "Summarize dataset:   0%|          | 0/5 [00:00<?, ?it/s]"
      ]
     },
     "metadata": {},
     "output_type": "display_data"
    },
    {
     "data": {
      "application/vnd.jupyter.widget-view+json": {
       "model_id": "623d3aecfcf5440e9f82f74ba027664d",
       "version_major": 2,
       "version_minor": 0
      },
      "text/plain": [
       "Generate report structure:   0%|          | 0/1 [00:00<?, ?it/s]"
      ]
     },
     "metadata": {},
     "output_type": "display_data"
    },
    {
     "data": {
      "application/vnd.jupyter.widget-view+json": {
       "model_id": "1e62f7f73202489497c87c9a1ad70b65",
       "version_major": 2,
       "version_minor": 0
      },
      "text/plain": [
       "Render HTML:   0%|          | 0/1 [00:00<?, ?it/s]"
      ]
     },
     "metadata": {},
     "output_type": "display_data"
    }
   ],
   "source": [
    "import pandas_profiling as pp \n",
    "pp.ProfileReport(fueleco)"
   ]
  },
  {
   "cell_type": "code",
   "execution_count": 90,
   "id": "2c070886",
   "metadata": {},
   "outputs": [
    {
     "data": {
      "application/vnd.jupyter.widget-view+json": {
       "model_id": "422a9b789996485885e6da2c7fb45923",
       "version_major": 2,
       "version_minor": 0
      },
      "text/plain": [
       "Summarize dataset:   0%|          | 0/5 [00:00<?, ?it/s]"
      ]
     },
     "metadata": {},
     "output_type": "display_data"
    },
    {
     "name": "stderr",
     "output_type": "stream",
     "text": [
      "C:\\Users\\user\\anaconda3\\lib\\site-packages\\pandas_profiling\\model\\correlations.py:55: UserWarning: There was an attempt to calculate the cramers correlation, but this failed.\n",
      "To hide this warning, disable the calculation\n",
      "(using `df.profile_report(correlations={\"cramers\": {\"calculate\": False}})`\n",
      "If this is problematic for your use case, please report this as an issue:\n",
      "https://github.com/ydataai/pandas-profiling/issues\n",
      "(include the error message: 'No data; `observed` has size 0.')\n",
      "  warnings.warn(\n",
      "C:\\Users\\user\\anaconda3\\lib\\site-packages\\missingno\\missingno.py:254: UserWarning: FixedFormatter should only be used together with FixedLocator\n",
      "  ax1.set_xticklabels(\n",
      "C:\\Users\\user\\anaconda3\\lib\\site-packages\\pandas_profiling\\model\\missing.py:89: UserWarning: There was an attempt to generate the Count missing values diagrams, but this failed.\n",
      "To hide this warning, disable the calculation\n",
      "(using `df.profile_report(missing_diagrams={\"Count\": False}`)\n",
      "If this is problematic for your use case, please report this as an issue:\n",
      "https://github.com/ydataai/pandas-profiling/issues\n",
      "(include the error message: 'The number of FixedLocator locations (7), usually from a call to set_ticks, does not match the number of ticklabels (83).')\n",
      "  warnings.warn(\n"
     ]
    },
    {
     "data": {
      "application/vnd.jupyter.widget-view+json": {
       "model_id": "4d2fccd0e60742b98dd709f63cc25025",
       "version_major": 2,
       "version_minor": 0
      },
      "text/plain": [
       "Generate report structure:   0%|          | 0/1 [00:00<?, ?it/s]"
      ]
     },
     "metadata": {},
     "output_type": "display_data"
    },
    {
     "data": {
      "application/vnd.jupyter.widget-view+json": {
       "model_id": "1a13ee2901bf42079a9ffec210d95fdf",
       "version_major": 2,
       "version_minor": 0
      },
      "text/plain": [
       "Render HTML:   0%|          | 0/1 [00:00<?, ?it/s]"
      ]
     },
     "metadata": {},
     "output_type": "display_data"
    },
    {
     "data": {
      "application/vnd.jupyter.widget-view+json": {
       "model_id": "fe48ee0c94fe4e5fa47dcfd65f39fb34",
       "version_major": 2,
       "version_minor": 0
      },
      "text/plain": [
       "Export report to file:   0%|          | 0/1 [00:00<?, ?it/s]"
      ]
     },
     "metadata": {},
     "output_type": "display_data"
    },
    {
     "data": {
      "image/png": "[encoded data removed]",
      "text/plain": [
       "<Figure size 720x360 with 3 Axes>"
      ]
     },
     "metadata": {},
     "output_type": "display_data"
    }
   ],
   "source": [
    "report = pp.ProfileReport(fueleco)\n",
    "report.to_file(\"fuel.html\")"
   ]
  }
 ],
 "metadata": {
  "kernelspec": {
   "display_name": "Python 3 (ipykernel)",
   "language": "python",
   "name": "python3"
  },
  "language_info": {
   "codemirror_mode": {
    "name": "ipython",
    "version": 3
   },
   "file_extension": ".py",
   "mimetype": "text/x-python",
   "name": "python",
   "nbconvert_exporter": "python",
   "pygments_lexer": "ipython3",
   "version": "3.9.7"
  },
  "vscode": {
   "interpreter": {
    "hash": "a077222d77dfe082b8f1dd562ad70e458ac2ab76993a0b248ab0476e32e9e8dd"
   }
  }
 },
 "nbformat": 4,
 "nbformat_minor": 5
}
