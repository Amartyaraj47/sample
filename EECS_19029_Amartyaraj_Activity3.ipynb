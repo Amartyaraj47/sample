{
 "cells": [
  {
   "cell_type": "markdown",
   "id": "c53e1e30",
   "metadata": {},
   "source": [
    "## <span style='color:Yellow'> Name : </span> `Amartyaraj Kumar`\n",
    "#  <span style='color:Yellow'> Roll : </span>  `19029`"
   ]
  },
  {
   "cell_type": "markdown",
   "id": "915c2dfa",
   "metadata": {},
   "source": [
    "### This Notebook has got two parts. \n",
    "### You may want to work on the Part I first, which is at the bottom of this page. \n",
    "### Then come back to the Part II  in the top."
   ]
  },
  {
   "cell_type": "markdown",
   "id": "deb82a08",
   "metadata": {},
   "source": [
    "# Part II Problem Exercises"
   ]
  },
  {
   "cell_type": "markdown",
   "id": "246caaa3",
   "metadata": {},
   "source": [
    "## Exercise 1, with List\n",
    "Create a list called `years_list`, starting with the year of your birth, and each year thereafter until the year of your fifth birthday. For example, if you were born in 1980, the list would be `years_list = [1980, 1981, 1982, 1983, 1984, 1985]`.   ((We are NOT going to check if your year of birth in this exercise is matching with your true records.))\n",
    "\n",
    "In which year in `years_list` was your third birthday? Remember, you were 0 years of age for your first year."
   ]
  },
  {
   "cell_type": "code",
   "execution_count": 1,
   "id": "88ad24d3",
   "metadata": {},
   "outputs": [
    {
     "name": "stdout",
     "output_type": "stream",
     "text": [
      "2004\n"
     ]
    }
   ],
   "source": [
    "years_list = [2000,2001,2002,2003,2004,2005]\n",
    "third_birthday = years_list[4]\n",
    "print(third_birthday)"
   ]
  },
  {
   "cell_type": "markdown",
   "id": "ea29c84e",
   "metadata": {},
   "source": [
    "### Notes on Lists\n",
    "\n",
    "A list is a sequence of elements ordered by their position. Duplicates are allowed. Lists provide high-performance indexed access. Since the list is a sequential data type, it possesses all the previously described operators for sequences. In addition, the following indexed, 0-based accesses and operations can be performed on lists:\n",
    "\n",
    "`pop(i)` returns the ith element of the list and removes it from the list. By default (i. e., without specifying the index), the first element is returned.\n",
    "\n",
    "`list[i] = element` replaces the element at position i with the passed element.\n",
    "\n",
    "`append(element)` appends the element to the end of the list.\n",
    "\n",
    "`insert(i, element)` inserts the element at index i in the list.\n",
    "\n",
    "`extend(other_list)` appends the elements of other_list to the end of the list.\n",
    "\n",
    "`count(value)` counts how many times the value value occurs in the list.\n",
    "\n",
    "`index(value)` returns the index where the value value first occurs in the list.\n",
    "\n",
    "`remove(value)` removes the element with the value value from the list. Only the first one will be deleted if multiple elements with this value exist. If there is no such value, a ValueError is raised.\n",
    "\n",
    "`reverse()` reverses the order of the elements in the list.\n",
    "\n",
    "`sort()` sorts the list in ascending order. An inverse (descending) sort is obtained with sort(reverse=True).\n",
    "\n",
    "A list is a sequence of elements ordered by their position. Duplicates are allowed. Lists provide high-performance indexed access. Since the list is a sequential data type, it possesses all theoperators for sequences. In addition, 0-based accesses and operations can be performed on lists.\n"
   ]
  },
  {
   "cell_type": "markdown",
   "id": "662beb47",
   "metadata": {},
   "source": [
    "## Exercise 2, with List methods\n",
    "Now create two lists, then add few elements, remove some elements in one of the lists, then `append` one list with another list, `reverse` the list and demonstrate the use of these methods in the lists.\n",
    "For example,\n",
    "\n",
    "`numbers = [1, 2, 3, 4]`\n",
    "\n",
    "`names = [\"Peter\", \"Tim\", \"Mike\", \"Tom\", \"Mike\"]`\n",
    "\n",
    "`names.append(\"Tom\")`\n",
    "\n",
    "Create such lists, experiment with these methods and print them."
   ]
  },
  {
   "cell_type": "code",
   "execution_count": 1,
   "id": "a11f4766",
   "metadata": {},
   "outputs": [
    {
     "name": "stdout",
     "output_type": "stream",
     "text": [
      "[1, 2, 5, 9, 17, 'AIIMS', 'IISER', 'IIT', 'HCU', 4, 8, 12, 16, 'BITS', 'IIIT', 'ISI']\n",
      "['ISI', 'IIIT', 'BITS', 16, 12, 8, 4, 'HCU', 'IIT', 'IISER', 'AIIMS', 17, 9, 5, 2, 1]\n"
     ]
    }
   ],
   "source": [
    "list_A = [1, 2, 5, 9, 17, 'AIIMS', 'IISER', 'IIT']\n",
    "list_B = [4, 8, 12, 16, 'BITS', 'IIIT', 'CMI', 'ISI']\n",
    "list_A.append('HCU')\n",
    "list_B.remove('CMI')\n",
    "list_A.extend(list_B)\n",
    "print(list_A)\n",
    "list_A.reverse()\n",
    "print(list_A)"
   ]
  },
  {
   "cell_type": "markdown",
   "id": "f7eebc90",
   "metadata": {},
   "source": [
    "## Exercise 3, with Sets\n",
    "Find the common elements of two lists, A and B, and return them as a set using 'intersection' method\n",
    "\n",
    "Examples\n",
    "\n",
    "list1 = [1, 2, 4, 7, 8] \n",
    "\n",
    "list2 = [2, 3, 7, 9] \n",
    "\n",
    "result = {2, 7}\n"
   ]
  },
  {
   "cell_type": "code",
   "execution_count": 11,
   "id": "47289987",
   "metadata": {},
   "outputs": [
    {
     "name": "stdout",
     "output_type": "stream",
     "text": [
      "{3, 5, 7, 9, 11, 13, 15}\n"
     ]
    }
   ],
   "source": [
    "list1 = {1,3,5,7,9,11,13,15,17}\n",
    "list2 = {2,3,4,5,6,7,8,9,10,11,12,13,14,15}\n",
    "print(list1.intersection(list2))"
   ]
  },
  {
   "cell_type": "markdown",
   "id": "4c2d1c6e",
   "metadata": {},
   "source": [
    "## Exercise 4: Create Dictionary\n",
    "Define a dict, `menu`, that contains the items and prices in rupees on a restaurant menu\n",
    "\n",
    "- sandwich is 45\n",
    "- coffee is 22\n",
    "- juice is 50\n",
    "- cake is 63"
   ]
  },
  {
   "cell_type": "code",
   "execution_count": 11,
   "id": "9928b9d3",
   "metadata": {},
   "outputs": [
    {
     "name": "stdout",
     "output_type": "stream",
     "text": [
      "{'Sandwich': 45, 'Coffee': 22, 'Juice': 50, 'Cake': 63}\n"
     ]
    }
   ],
   "source": [
    "menu = {'Sandwich' : 45, 'Coffee' : 22, 'Juice' : 50, 'Cake' : 63}\n",
    "print(menu)\n",
    "\n"
   ]
  },
  {
   "cell_type": "code",
   "execution_count": 17,
   "id": "fc3ff646",
   "metadata": {
    "scrolled": true
   },
   "outputs": [
    {
     "name": "stdout",
     "output_type": "stream",
     "text": [
      "Sandwich : 45\n",
      "Coffee : 22\n",
      "Juice : 50\n",
      "Cake : 63\n"
     ]
    }
   ],
   "source": [
    "for item in menu.keys():\n",
    "    print(item, \":\", menu[item])"
   ]
  },
  {
   "cell_type": "markdown",
   "id": "e93283fd",
   "metadata": {},
   "source": [
    "## Exercise 5: Odds and evens\n",
    "\n",
    "1. Define two empty lists, `odds` and `evens`.\n",
    "2. Ask the user, repeatedly, to enter a number.\n",
    "     - If they enter an empty string, exit the loop\n",
    "     - If they enter a non-numeric string, scold them and try again\n",
    "     - Turn the user's input into an integer, and check if it's odd or even. If it's odd, add it to `odds`. If it's even, add it to `evens`.\n",
    "3. After the loop, print both `odds` and `evens`.  "
   ]
  },
  {
   "cell_type": "code",
   "execution_count": 28,
   "id": "6c860c58",
   "metadata": {},
   "outputs": [
    {
     "name": "stdout",
     "output_type": "stream",
     "text": [
      "[123, 123, 15, 16785] [12, 124, 1234]\n"
     ]
    }
   ],
   "source": [
    "odd,even = [],[]\n",
    "user_input = input(\"enter a number \\n\")\n",
    "\n",
    "while user_input != \"\":\n",
    "    try:\n",
    "        user_input = int(user_input)\n",
    "        if user_input%2 == 0:\n",
    "            even.append(user_input)\n",
    "        else:\n",
    "            odd.append(user_input)\n",
    "    except ValueError:\n",
    "        print(\"Scold\")\n",
    "    user_input = input(\"enter\")\n",
    "\n",
    "print(odd,even)\n",
    "    "
   ]
  },
  {
   "cell_type": "markdown",
   "id": "68f24b79",
   "metadata": {},
   "source": [
    "## Exercise 6: Vowels, digits, and others\n",
    "\n",
    "1. Define a `counts` dict with three keys: `vowels`, `digits`, and `others`.  All three should have the value 0.\n",
    "2. Ask the user, repeatedly, to enter a string.\n",
    "    - If they enter an empty string, stop asking, and print `counts`.\n",
    "3. Go through each character in the entered string, and check:\n",
    "    - Is it a vowel? If so, add 1 to `counts['vowels']`\n",
    "    - Is it a digit? If so, add 1 to `counts['digits']`\n",
    "    - If neither, add 1 to `counts['others']`.\n",
    "    \n",
    "Example:\n",
    "\n",
    "    Enter string: hello\n",
    "    Enter string: bye 123\n",
    "    Enter string: [ENTER]\n",
    "    {'vowels':3, 'digits':3, 'others':6}"
   ]
  },
  {
   "cell_type": "code",
   "execution_count": 24,
   "id": "e587bb84",
   "metadata": {},
   "outputs": [
    {
     "name": "stdout",
     "output_type": "stream",
     "text": [
      "Type your word here \n",
      "Amartyaraj Kumar\n",
      "No of vowels : 6\n",
      "No of others : 10\n",
      "No of Digits : 0\n"
     ]
    }
   ],
   "source": [
    "vowels = 0\n",
    "others = 0\n",
    "digitS = 0\n",
    "user_in = input('Type your word here \\n' )\n",
    "word = user_in.strip()\n",
    "\n",
    "v = list('aeiouAEIOU')\n",
    "n = list('1234567890')\n",
    "\n",
    "for alphabet in word:\n",
    "        if alphabet in v:\n",
    "            vowels += 1\n",
    "        elif alphabet in n:\n",
    "            digitS += 1\n",
    "        else:\n",
    "            others += 1\n",
    "            \n",
    "\n",
    "print ('No of vowels :', vowels)\n",
    "print ('No of others :', others)\n",
    "print ('No of Digits :', digitS)\n",
    "\n",
    "\n"
   ]
  },
  {
   "cell_type": "markdown",
   "id": "54738c92",
   "metadata": {},
   "source": [
    "# Part I Practice Exercises\n",
    "\n",
    "### To make things easier, first work on the Practice Exercises given in the pdf file and enter them in cells below."
   ]
  },
  {
   "cell_type": "code",
   "execution_count": null,
   "id": "fda589fb",
   "metadata": {},
   "outputs": [],
   "source": []
  },
  {
   "cell_type": "code",
   "execution_count": null,
   "id": "bf8292cf",
   "metadata": {},
   "outputs": [],
   "source": []
  },
  {
   "cell_type": "code",
   "execution_count": null,
   "id": "767e869d",
   "metadata": {},
   "outputs": [],
   "source": []
  },
  {
   "cell_type": "code",
   "execution_count": null,
   "id": "df8e1db3",
   "metadata": {},
   "outputs": [],
   "source": []
  },
  {
   "cell_type": "code",
   "execution_count": null,
   "id": "3f7ba376",
   "metadata": {},
   "outputs": [],
   "source": []
  },
  {
   "cell_type": "code",
   "execution_count": null,
   "id": "40580859",
   "metadata": {},
   "outputs": [],
   "source": []
  },
  {
   "cell_type": "code",
   "execution_count": null,
   "id": "d24e7469",
   "metadata": {},
   "outputs": [],
   "source": []
  },
  {
   "cell_type": "code",
   "execution_count": null,
   "id": "6edbbd43",
   "metadata": {},
   "outputs": [],
   "source": []
  },
  {
   "cell_type": "code",
   "execution_count": null,
   "id": "706e9f3c",
   "metadata": {},
   "outputs": [],
   "source": []
  },
  {
   "cell_type": "code",
   "execution_count": null,
   "id": "c723e8cb",
   "metadata": {},
   "outputs": [],
   "source": []
  },
  {
   "cell_type": "code",
   "execution_count": null,
   "id": "50092331",
   "metadata": {},
   "outputs": [],
   "source": []
  }
 ],
 "metadata": {
  "kernelspec": {
   "display_name": "Python 3 (ipykernel)",
   "language": "python",
   "name": "python3"
  },
  "language_info": {
   "codemirror_mode": {
    "name": "ipython",
    "version": 3
   },
   "file_extension": ".py",
   "mimetype": "text/x-python",
   "name": "python",
   "nbconvert_exporter": "python",
   "pygments_lexer": "ipython3",
   "version": "3.9.7"
  },
  "vscode": {
   "interpreter": {
    "hash": "a077222d77dfe082b8f1dd562ad70e458ac2ab76993a0b248ab0476e32e9e8dd"
   }
  }
 },
 "nbformat": 4,
 "nbformat_minor": 5
}
