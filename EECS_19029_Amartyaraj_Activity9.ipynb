{
 "cells": [
  {
   "cell_type": "markdown",
   "id": "9373af32",
   "metadata": {},
   "source": [
    "# Activity 9\n",
    "## <span style='color:Red'> Name : </span> `Amartyaraj Kumar`\n",
    "#  <span style='color:Red'> Roll : </span>  `19029` \n",
    "#### <span style='color:Red'> Date : </span>  `24/10/22`"
   ]
  },
  {
   "cell_type": "markdown",
   "id": "61b0bd92",
   "metadata": {},
   "source": [
    "## <span style='color:Green'>Activity 1: </span> `Creating a NumPy Array (from a List)`"
   ]
  },
  {
   "cell_type": "code",
   "execution_count": 1,
   "id": "4a9dc031",
   "metadata": {},
   "outputs": [],
   "source": [
    "import numpy as np"
   ]
  },
  {
   "cell_type": "code",
   "execution_count": 2,
   "id": "58f5f223",
   "metadata": {},
   "outputs": [
    {
     "data": {
      "text/plain": [
       "[1, 2, 3]"
      ]
     },
     "execution_count": 2,
     "metadata": {},
     "output_type": "execute_result"
    }
   ],
   "source": [
    "list_1 = [1,2,3]\n",
    "list_1"
   ]
  },
  {
   "cell_type": "code",
   "execution_count": 3,
   "id": "366e5594",
   "metadata": {},
   "outputs": [
    {
     "data": {
      "text/plain": [
       "array([1, 2, 3])"
      ]
     },
     "execution_count": 3,
     "metadata": {},
     "output_type": "execute_result"
    }
   ],
   "source": [
    "array_1 = np.array(list_1)\n",
    "array_1"
   ]
  },
  {
   "cell_type": "code",
   "execution_count": 4,
   "id": "b628ee08",
   "metadata": {},
   "outputs": [
    {
     "data": {
      "text/plain": [
       "array([1.2, 3.4, 5.6])"
      ]
     },
     "execution_count": 4,
     "metadata": {},
     "output_type": "execute_result"
    }
   ],
   "source": [
    "a = np.array([1.2, 3.4, 5.6])\n",
    "a"
   ]
  },
  {
   "cell_type": "code",
   "execution_count": 5,
   "id": "a44717b4",
   "metadata": {},
   "outputs": [
    {
     "data": {
      "text/plain": [
       "numpy.ndarray"
      ]
     },
     "execution_count": 5,
     "metadata": {},
     "output_type": "execute_result"
    }
   ],
   "source": [
    "type(a)"
   ]
  },
  {
   "cell_type": "code",
   "execution_count": 6,
   "id": "f8310b3b",
   "metadata": {},
   "outputs": [
    {
     "data": {
      "text/plain": [
       "numpy.ndarray"
      ]
     },
     "execution_count": 6,
     "metadata": {},
     "output_type": "execute_result"
    }
   ],
   "source": [
    "type(array_1)"
   ]
  },
  {
   "cell_type": "code",
   "execution_count": 9,
   "id": "dd8019cd",
   "metadata": {},
   "outputs": [
    {
     "data": {
      "text/plain": [
       "list"
      ]
     },
     "execution_count": 9,
     "metadata": {},
     "output_type": "execute_result"
    }
   ],
   "source": [
    "type(list_1)"
   ]
  },
  {
   "cell_type": "code",
   "execution_count": 10,
   "id": "88735e98",
   "metadata": {},
   "outputs": [
    {
     "data": {
      "text/plain": [
       "array([('MMM', 100), ('AOS', 101), ('ABT', 102), ('ABBV', 103),\n",
       "       ('ACN', 104), ('ATVI', 105), ('AYI', 106), ('ADBE', 107),\n",
       "       ('AAP', 108), ('AMD', 109), ('AES', 110), ('AET', 111),\n",
       "       ('AMG', 112), ('AFL', 113), ('A', 114), ('APD', 115),\n",
       "       ('AKAM', 116), ('ALK', 117), ('ALB', 118), ('ARE', 119),\n",
       "       ('ALXN', 120), ('ALGN', 121), ('ALLE', 122), ('AGN', 123),\n",
       "       ('ADS', 124), ('LNT', 125), ('ALL', 126), ('GOOGL', 127),\n",
       "       ('GOOG', 128), ('MO', 129), ('AMZN', 130), ('AEE', 131),\n",
       "       ('AAL', 132), ('AEP', 133), ('AXP', 134), ('AIG', 135),\n",
       "       ('AMT', 136), ('AWK', 137), ('AMP', 138), ('ABC', 139),\n",
       "       ('AME', 140), ('AMGN', 141), ('APH', 142), ('APC', 143),\n",
       "       ('ADI', 144), ('ANDV', 145), ('ANSS', 146), ('ANTM', 147),\n",
       "       ('AON', 148)], dtype=[('Symbol', '<U5'), ('Price', '<i4')])"
      ]
     },
     "execution_count": 10,
     "metadata": {},
     "output_type": "execute_result"
    }
   ],
   "source": [
    "data = np.genfromtxt('./Activity 9/datasets/stock.csv', delimiter=',',names=True\n",
    ",dtype=None, encoding='ascii')\n",
    "data"
   ]
  },
  {
   "cell_type": "code",
   "execution_count": 11,
   "id": "38c81414",
   "metadata": {},
   "outputs": [
    {
     "data": {
      "text/plain": [
       "numpy.ndarray"
      ]
     },
     "execution_count": 11,
     "metadata": {},
     "output_type": "execute_result"
    }
   ],
   "source": [
    "type(data)"
   ]
  },
  {
   "cell_type": "markdown",
   "id": "2b644281",
   "metadata": {},
   "source": [
    "## <span style='color:Green'>Activity 2: </span> `Adding Two NumPy Arrays`"
   ]
  },
  {
   "cell_type": "code",
   "execution_count": 12,
   "id": "6979a4cc",
   "metadata": {},
   "outputs": [],
   "source": [
    "import numpy as np"
   ]
  },
  {
   "cell_type": "code",
   "execution_count": 13,
   "id": "abfed568",
   "metadata": {},
   "outputs": [],
   "source": [
    "list_1 = [1,2,3]\n",
    "array_1 = np.array(list_1)"
   ]
  },
  {
   "cell_type": "code",
   "execution_count": 14,
   "id": "d7d2e820",
   "metadata": {},
   "outputs": [
    {
     "data": {
      "text/plain": [
       "[1, 2, 3, 1, 2, 3]"
      ]
     },
     "execution_count": 14,
     "metadata": {},
     "output_type": "execute_result"
    }
   ],
   "source": [
    "list_2 = list_1 + list_1\n",
    "list_2"
   ]
  },
  {
   "cell_type": "code",
   "execution_count": 15,
   "id": "17e7c2fc",
   "metadata": {},
   "outputs": [
    {
     "data": {
      "text/plain": [
       "array([2, 4, 6])"
      ]
     },
     "execution_count": 15,
     "metadata": {},
     "output_type": "execute_result"
    }
   ],
   "source": [
    "array_2 = array_1 + array_1\n",
    "array_2"
   ]
  },
  {
   "cell_type": "code",
   "execution_count": 17,
   "id": "6e9be738",
   "metadata": {},
   "outputs": [
    {
     "data": {
      "text/plain": [
       "array([202., 204., 206., 208., 210., 212., 214., 216., 218., 220., 222.,\n",
       "       224., 226., 228., 230., 232., 234., 236., 238., 240., 242., 244.,\n",
       "       246., 248., 250., 252., 254., 256., 258., 260., 262., 264., 266.,\n",
       "       268., 270., 272., 274., 276., 278., 280., 282., 284., 286., 288.,\n",
       "       290., 292., 294., 296.])"
      ]
     },
     "execution_count": 17,
     "metadata": {},
     "output_type": "execute_result"
    }
   ],
   "source": [
    "data = np.genfromtxt('./Activity 9/datasets/numbers.csv', delimiter=',',names=True)\n",
    "data = data.astype('float64')\n",
    "data + data"
   ]
  },
  {
   "cell_type": "markdown",
   "id": "55cdaae3",
   "metadata": {},
   "source": [
    "Exercise 3: Mathematical Operations on NumPy\n",
    "Arrays"
   ]
  },
  {
   "cell_type": "code",
   "execution_count": null,
   "id": "26ea1a53",
   "metadata": {},
   "outputs": [
    {
     "data": {
      "text/plain": [
       "array([101., 102., 103., 104., 105., 106., 107., 108., 109., 110., 111.,\n",
       "       112., 113., 114., 115., 116., 117., 118., 119., 120., 121., 122.,\n",
       "       123., 124., 125., 126., 127., 128., 129., 130., 131., 132., 133.,\n",
       "       134., 135., 136., 137., 138., 139., 140., 141., 142., 143., 144.,\n",
       "       145., 146., 147., 148.])"
      ]
     },
     "metadata": {},
     "output_type": "display_data"
    }
   ],
   "source": [
    "import numpy as np\n",
    "data = np.genfromtxt('numbers.csv',delimiter=',',names=True)\n",
    "data = data.astype('float64')\n",
    "data"
   ]
  },
  {
   "cell_type": "code",
   "execution_count": null,
   "id": "3af70182",
   "metadata": {},
   "outputs": [
    {
     "data": {
      "text/plain": [
       "array([4545., 4590., 4635., 4680., 4725., 4770., 4815., 4860., 4905.,\n",
       "       4950., 4995., 5040., 5085., 5130., 5175., 5220., 5265., 5310.,\n",
       "       5355., 5400., 5445., 5490., 5535., 5580., 5625., 5670., 5715.,\n",
       "       5760., 5805., 5850., 5895., 5940., 5985., 6030., 6075., 6120.,\n",
       "       6165., 6210., 6255., 6300., 6345., 6390., 6435., 6480., 6525.,\n",
       "       6570., 6615., 6660.])"
      ]
     },
     "metadata": {},
     "output_type": "display_data"
    }
   ],
   "source": [
    "data * 45"
   ]
  },
  {
   "cell_type": "code",
   "execution_count": null,
   "id": "6efbf585",
   "metadata": {},
   "outputs": [
    {
     "data": {
      "text/plain": [
       "array([1.49187592, 1.50664697, 1.52141802, 1.53618907, 1.55096012,\n",
       "       1.56573117, 1.58050222, 1.59527326, 1.61004431, 1.62481536,\n",
       "       1.63958641, 1.65435746, 1.66912851, 1.68389956, 1.69867061,\n",
       "       1.71344165, 1.7282127 , 1.74298375, 1.7577548 , 1.77252585,\n",
       "       1.7872969 , 1.80206795, 1.816839  , 1.83161004, 1.84638109,\n",
       "       1.86115214, 1.87592319, 1.89069424, 1.90546529, 1.92023634,\n",
       "       1.93500739, 1.94977843, 1.96454948, 1.97932053, 1.99409158,\n",
       "       2.00886263, 2.02363368, 2.03840473, 2.05317578, 2.06794682,\n",
       "       2.08271787, 2.09748892, 2.11225997, 2.12703102, 2.14180207,\n",
       "       2.15657312, 2.17134417, 2.18611521])"
      ]
     },
     "metadata": {},
     "output_type": "display_data"
    }
   ],
   "source": [
    "data / 67.7"
   ]
  },
  {
   "cell_type": "code",
   "execution_count": null,
   "id": "3d3869be",
   "metadata": {},
   "outputs": [
    {
     "name": "stdout",
     "output_type": "stream",
     "text": [
      "array_1 raised to the power of array_1:  [ 1  4 27]\n"
     ]
    }
   ],
   "source": [
    "list_1 = [1,2,3]\n",
    "array_1 = np.array(list_1)\n",
    "print(\"array_1 raised to the power of array_1: \",array_1**array_1)"
   ]
  },
  {
   "cell_type": "markdown",
   "id": "fd8ba974",
   "metadata": {},
   "source": [
    "Exercise 4: Advanced Mathematical Operations on\n",
    "NumPy Arrays"
   ]
  },
  {
   "cell_type": "code",
   "execution_count": null,
   "id": "b4ce1f36",
   "metadata": {},
   "outputs": [
    {
     "data": {
      "text/plain": [
       "[[101],\n",
       " [102],\n",
       " [103],\n",
       " [104],\n",
       " [105],\n",
       " [106],\n",
       " [107],\n",
       " [108],\n",
       " [109],\n",
       " [110],\n",
       " [111],\n",
       " [112],\n",
       " [113],\n",
       " [114],\n",
       " [115],\n",
       " [116],\n",
       " [117],\n",
       " [118],\n",
       " [119],\n",
       " [120],\n",
       " [121],\n",
       " [122],\n",
       " [123],\n",
       " [124],\n",
       " [125],\n",
       " [126],\n",
       " [127],\n",
       " [128],\n",
       " [129],\n",
       " [130],\n",
       " [131],\n",
       " [132],\n",
       " [133],\n",
       " [134],\n",
       " [135],\n",
       " [136],\n",
       " [137],\n",
       " [138],\n",
       " [139],\n",
       " [140],\n",
       " [141],\n",
       " [142],\n",
       " [143],\n",
       " [144],\n",
       " [145],\n",
       " [146],\n",
       " [147],\n",
       " [148]]"
      ]
     },
     "metadata": {},
     "output_type": "display_data"
    }
   ],
   "source": [
    "import pandas as pd\n",
    "df = pd.read_csv(\"numbers.csv\")\n",
    "list_5 = df.values.tolist()\n",
    "list_5"
   ]
  },
  {
   "cell_type": "code",
   "execution_count": null,
   "id": "79249ae2",
   "metadata": {},
   "outputs": [
    {
     "data": {
      "text/plain": [
       "array([[101],\n",
       "       [102],\n",
       "       [103],\n",
       "       [104],\n",
       "       [105],\n",
       "       [106],\n",
       "       [107],\n",
       "       [108],\n",
       "       [109],\n",
       "       [110],\n",
       "       [111],\n",
       "       [112],\n",
       "       [113],\n",
       "       [114],\n",
       "       [115],\n",
       "       [116],\n",
       "       [117],\n",
       "       [118],\n",
       "       [119],\n",
       "       [120],\n",
       "       [121],\n",
       "       [122],\n",
       "       [123],\n",
       "       [124],\n",
       "       [125],\n",
       "       [126],\n",
       "       [127],\n",
       "       [128],\n",
       "       [129],\n",
       "       [130],\n",
       "       [131],\n",
       "       [132],\n",
       "       [133],\n",
       "       [134],\n",
       "       [135],\n",
       "       [136],\n",
       "       [137],\n",
       "       [138],\n",
       "       [139],\n",
       "       [140],\n",
       "       [141],\n",
       "       [142],\n",
       "       [143],\n",
       "       [144],\n",
       "       [145],\n",
       "       [146],\n",
       "       [147],\n",
       "       [148]])"
      ]
     },
     "metadata": {},
     "output_type": "display_data"
    }
   ],
   "source": [
    "import numpy as np\n",
    "array_5 = np.array(list_5)\n",
    "array_5"
   ]
  },
  {
   "cell_type": "code",
   "execution_count": null,
   "id": "1fc75c2b",
   "metadata": {},
   "outputs": [
    {
     "data": {
      "text/plain": [
       "array([[ 0.45202579],\n",
       "       [ 0.99482679],\n",
       "       [ 0.62298863],\n",
       "       [-0.3216224 ],\n",
       "       [-0.97053528],\n",
       "       [-0.7271425 ],\n",
       "       [ 0.18478174],\n",
       "       [ 0.92681851],\n",
       "       [ 0.81674261],\n",
       "       [-0.04424268],\n",
       "       [-0.86455145],\n",
       "       [-0.8899956 ],\n",
       "       [-0.09718191],\n",
       "       [ 0.78498039],\n",
       "       [ 0.94543533],\n",
       "       [ 0.23666139],\n",
       "       [-0.68969794],\n",
       "       [-0.98195217],\n",
       "       [-0.3714041 ],\n",
       "       [ 0.58061118],\n",
       "       [ 0.99881522],\n",
       "       [ 0.49871315],\n",
       "       [-0.45990349],\n",
       "       [-0.99568699],\n",
       "       [-0.61604046],\n",
       "       [ 0.32999083],\n",
       "       [ 0.97263007],\n",
       "       [ 0.72103771],\n",
       "       [-0.19347339],\n",
       "       [-0.93010595],\n",
       "       [-0.81160339],\n",
       "       [ 0.05308359],\n",
       "       [ 0.86896576],\n",
       "       [ 0.88592482],\n",
       "       [ 0.08836869],\n",
       "       [-0.79043321],\n",
       "       [-0.94251445],\n",
       "       [-0.22805226],\n",
       "       [ 0.69608013],\n",
       "       [ 0.98023966],\n",
       "       [ 0.36317137],\n",
       "       [-0.58779501],\n",
       "       [-0.99834536],\n",
       "       [-0.49102159],\n",
       "       [ 0.46774516],\n",
       "       [ 0.99646917],\n",
       "       [ 0.60904402],\n",
       "       [-0.33833339]])"
      ]
     },
     "metadata": {},
     "output_type": "display_data"
    }
   ],
   "source": [
    "np.sin(array_5)"
   ]
  },
  {
   "cell_type": "code",
   "execution_count": null,
   "id": "9e9b22a9",
   "metadata": {},
   "outputs": [
    {
     "data": {
      "text/plain": [
       "array([[4.61512052],\n",
       "       [4.62497281],\n",
       "       [4.63472899],\n",
       "       [4.6443909 ],\n",
       "       [4.65396035],\n",
       "       [4.66343909],\n",
       "       [4.67282883],\n",
       "       [4.68213123],\n",
       "       [4.69134788],\n",
       "       [4.70048037],\n",
       "       [4.7095302 ],\n",
       "       [4.71849887],\n",
       "       [4.72738782],\n",
       "       [4.73619845],\n",
       "       [4.74493213],\n",
       "       [4.75359019],\n",
       "       [4.76217393],\n",
       "       [4.77068462],\n",
       "       [4.77912349],\n",
       "       [4.78749174],\n",
       "       [4.79579055],\n",
       "       [4.80402104],\n",
       "       [4.81218436],\n",
       "       [4.82028157],\n",
       "       [4.82831374],\n",
       "       [4.83628191],\n",
       "       [4.84418709],\n",
       "       [4.85203026],\n",
       "       [4.8598124 ],\n",
       "       [4.86753445],\n",
       "       [4.87519732],\n",
       "       [4.88280192],\n",
       "       [4.89034913],\n",
       "       [4.8978398 ],\n",
       "       [4.90527478],\n",
       "       [4.91265489],\n",
       "       [4.91998093],\n",
       "       [4.92725369],\n",
       "       [4.93447393],\n",
       "       [4.94164242],\n",
       "       [4.94875989],\n",
       "       [4.95582706],\n",
       "       [4.96284463],\n",
       "       [4.9698133 ],\n",
       "       [4.97673374],\n",
       "       [4.98360662],\n",
       "       [4.99043259],\n",
       "       [4.99721227]])"
      ]
     },
     "metadata": {},
     "output_type": "display_data"
    }
   ],
   "source": [
    "np.log(array_5)"
   ]
  },
  {
   "cell_type": "code",
   "execution_count": null,
   "id": "8a2e6851",
   "metadata": {},
   "outputs": [
    {
     "data": {
      "text/plain": [
       "array([[7.30705998e+43],\n",
       "       [1.98626484e+44],\n",
       "       [5.39922761e+44],\n",
       "       [1.46766223e+45],\n",
       "       [3.98951957e+45],\n",
       "       [1.08446386e+46],\n",
       "       [2.94787839e+46],\n",
       "       [8.01316426e+46],\n",
       "       [2.17820388e+47],\n",
       "       [5.92097203e+47],\n",
       "       [1.60948707e+48],\n",
       "       [4.37503945e+48],\n",
       "       [1.18925902e+49],\n",
       "       [3.23274119e+49],\n",
       "       [8.78750164e+49],\n",
       "       [2.38869060e+50],\n",
       "       [6.49313426e+50],\n",
       "       [1.76501689e+51],\n",
       "       [4.79781333e+51],\n",
       "       [1.30418088e+52],\n",
       "       [3.54513118e+52],\n",
       "       [9.63666567e+52],\n",
       "       [2.61951732e+53],\n",
       "       [7.12058633e+53],\n",
       "       [1.93557604e+54],\n",
       "       [5.26144118e+54],\n",
       "       [1.43020800e+55],\n",
       "       [3.88770841e+55],\n",
       "       [1.05678871e+56],\n",
       "       [2.87264955e+56],\n",
       "       [7.80867107e+56],\n",
       "       [2.12261687e+57],\n",
       "       [5.76987086e+57],\n",
       "       [1.56841351e+58],\n",
       "       [4.26338995e+58],\n",
       "       [1.15890954e+59],\n",
       "       [3.15024275e+59],\n",
       "       [8.56324762e+59],\n",
       "       [2.32773204e+60],\n",
       "       [6.32743171e+60],\n",
       "       [1.71997426e+61],\n",
       "       [4.67537478e+61],\n",
       "       [1.27089863e+62],\n",
       "       [3.45466066e+62],\n",
       "       [9.39074129e+62],\n",
       "       [2.55266814e+63],\n",
       "       [6.93887142e+63],\n",
       "       [1.88618081e+64]])"
      ]
     },
     "metadata": {},
     "output_type": "display_data"
    }
   ],
   "source": [
    "np.exp(array_5)"
   ]
  },
  {
   "cell_type": "markdown",
   "id": "6608202d",
   "metadata": {},
   "source": [
    "Exercise 5: Generating Arrays Using arange and\n",
    "linspace Methods"
   ]
  },
  {
   "cell_type": "code",
   "execution_count": null,
   "id": "0efbea55",
   "metadata": {},
   "outputs": [
    {
     "data": {
      "text/plain": [
       "array([ 5,  6,  7,  8,  9, 10, 11, 12, 13, 14, 15])"
      ]
     },
     "metadata": {},
     "output_type": "display_data"
    }
   ],
   "source": [
    "import numpy as np\n",
    "np.arange(5,16)"
   ]
  },
  {
   "cell_type": "code",
   "execution_count": null,
   "id": "f7a1a5ec",
   "metadata": {},
   "outputs": [
    {
     "name": "stdout",
     "output_type": "stream",
     "text": [
      "Numbers spaced apart by 2:  [ 0  2  4  6  8 10]\n",
      "Numbers spaced apart by a floating point number:  [ 0.   2.5  5.   7.5 10. ]\n",
      "Every 5th number from 30 in reverse order\n",
      " [30 25 20 15 10  5  0]\n"
     ]
    }
   ],
   "source": [
    "print(\"Numbers spaced apart by 2: \",np.arange(0,11,2))\n",
    "print(\"Numbers spaced apart by a floating point number: \",np.arange(0,11,2.5))\n",
    "print(\"Every 5th number from 30 in reverse order\\n\",np.arange(30,-1,-5))"
   ]
  },
  {
   "cell_type": "code",
   "execution_count": null,
   "id": "6ef5d5bf",
   "metadata": {},
   "outputs": [
    {
     "name": "stdout",
     "output_type": "stream",
     "text": [
      "11 linearly spaced numbers between 1 and 5:  [1.  1.4 1.8 2.2 2.6 3.  3.4 3.8 4.2 4.6 5. ]\n"
     ]
    }
   ],
   "source": [
    "print(\"11 linearly spaced numbers between 1 and 5: \",np.linspace(1,5,11))"
   ]
  },
  {
   "cell_type": "markdown",
   "id": "ca212ed9",
   "metadata": {},
   "source": [
    "Exercise 6: Creating Multi-Dimensional Arrays"
   ]
  },
  {
   "cell_type": "code",
   "execution_count": null,
   "id": "2e72905c",
   "metadata": {},
   "outputs": [
    {
     "name": "stdout",
     "output_type": "stream",
     "text": [
      "Type/Class of this object: <class 'numpy.ndarray'>\n",
      "Here is the matrix\n",
      "----------\n",
      " [[1 2 3]\n",
      " [4 5 6]\n",
      " [7 8 9]] \n",
      "----------\n"
     ]
    }
   ],
   "source": [
    "import pandas as pd\n",
    "import numpy as np\n",
    "df = pd.read_csv(\"numbers2.csv\",header=None)\n",
    "list_2D = df.values\n",
    "mat1 = np.array(list_2D)\n",
    "print(\"Type/Class of this object:\",type(mat1))\n",
    "print(\"Here is the matrix\\n----------\\n\",mat1, \"\\n----------\")"
   ]
  },
  {
   "cell_type": "code",
   "execution_count": null,
   "id": "37e3e6fc",
   "metadata": {},
   "outputs": [
    {
     "name": "stdout",
     "output_type": "stream",
     "text": [
      "[[1.5 2.  3. ]\n",
      " [4.  5.  6. ]]\n"
     ]
    }
   ],
   "source": [
    "tuple_2D = np.array([(1.5,2,3), (4,5,6)])\n",
    "mat_tuple = np.array(tuple_2D)\n",
    "print (mat_tuple)"
   ]
  },
  {
   "cell_type": "markdown",
   "id": "41c28275",
   "metadata": {},
   "source": [
    "Exercise 7: The Dimension, Shape, Size, and Data Type\n",
    "of Two-dimensional Arrays"
   ]
  },
  {
   "cell_type": "code",
   "execution_count": null,
   "id": "51ad60ea",
   "metadata": {},
   "outputs": [],
   "source": [
    "import pandas as pd\n",
    "import numpy as np\n",
    "df = pd.read_csv(\"numbers2.csv\",header=None)\n",
    "list_2D = df.values\n",
    "mat1 = np.array(list_2D)"
   ]
  },
  {
   "cell_type": "code",
   "execution_count": null,
   "id": "bafa56b9",
   "metadata": {},
   "outputs": [
    {
     "name": "stdout",
     "output_type": "stream",
     "text": [
      "Dimension of this matrix: 2\n"
     ]
    }
   ],
   "source": [
    "print(\"Dimension of this matrix: \",mat1.ndim,sep='')"
   ]
  },
  {
   "cell_type": "markdown",
   "id": "3d2317ff",
   "metadata": {},
   "source": [
    "print(\"Size of this matrix: \",mat1.size,sep='')"
   ]
  },
  {
   "cell_type": "code",
   "execution_count": null,
   "id": "1d3eac55",
   "metadata": {},
   "outputs": [
    {
     "name": "stdout",
     "output_type": "stream",
     "text": [
      "Shape of this matrix: (3, 3)\n"
     ]
    }
   ],
   "source": [
    "print(\"Shape of this matrix: \",mat1.shape,sep='')"
   ]
  },
  {
   "cell_type": "code",
   "execution_count": null,
   "id": "503ad774",
   "metadata": {},
   "outputs": [
    {
     "name": "stdout",
     "output_type": "stream",
     "text": [
      "Data type of this matrix: int64\n"
     ]
    }
   ],
   "source": [
    "print(\"Data type of this matrix: \",mat1.dtype,sep='')"
   ]
  },
  {
   "cell_type": "markdown",
   "id": "9c795c08",
   "metadata": {},
   "source": [
    "Exercise 8: Zeros, Ones, Random, Identity Matrices, and Vectors"
   ]
  },
  {
   "cell_type": "code",
   "execution_count": null,
   "id": "9ea5a4f9",
   "metadata": {},
   "outputs": [
    {
     "name": "stdout",
     "output_type": "stream",
     "text": [
      "Vector of zeros:  [0. 0. 0. 0. 0.]\n"
     ]
    }
   ],
   "source": [
    "import numpy as np\n",
    "print(\"Vector of zeros: \",np.zeros(5))"
   ]
  },
  {
   "cell_type": "code",
   "execution_count": null,
   "id": "eb8d70b0",
   "metadata": {},
   "outputs": [
    {
     "name": "stdout",
     "output_type": "stream",
     "text": [
      "Matrix of zeros:  [[0. 0. 0. 0.]\n",
      " [0. 0. 0. 0.]\n",
      " [0. 0. 0. 0.]]\n"
     ]
    }
   ],
   "source": [
    "print(\"Matrix of zeros: \",np.zeros((3,4)))"
   ]
  },
  {
   "cell_type": "code",
   "execution_count": null,
   "id": "abc0767a",
   "metadata": {},
   "outputs": [
    {
     "name": "stdout",
     "output_type": "stream",
     "text": [
      "Matrix of 5's:  [[5. 5. 5.]\n",
      " [5. 5. 5.]\n",
      " [5. 5. 5.]]\n"
     ]
    }
   ],
   "source": [
    "print(\"Matrix of 5's: \",5*np.ones((3,3)))"
   ]
  },
  {
   "cell_type": "code",
   "execution_count": null,
   "id": "0d27990c",
   "metadata": {},
   "outputs": [
    {
     "name": "stdout",
     "output_type": "stream",
     "text": [
      "Identity matrix of dimension 2: [[1. 0.]\n",
      " [0. 1.]]\n"
     ]
    }
   ],
   "source": [
    "print(\"Identity matrix of dimension 2:\",np.eye(2))"
   ]
  },
  {
   "cell_type": "code",
   "execution_count": null,
   "id": "3629302c",
   "metadata": {},
   "outputs": [
    {
     "name": "stdout",
     "output_type": "stream",
     "text": [
      "Identity matrix of dimension 4: [[1. 0. 0. 0.]\n",
      " [0. 1. 0. 0.]\n",
      " [0. 0. 1. 0.]\n",
      " [0. 0. 0. 1.]]\n"
     ]
    }
   ],
   "source": [
    "print(\"Identity matrix of dimension 4:\",np.eye(4))"
   ]
  },
  {
   "cell_type": "code",
   "execution_count": null,
   "id": "45e3d0bb",
   "metadata": {},
   "outputs": [
    {
     "name": "stdout",
     "output_type": "stream",
     "text": [
      "Random matrix of shape(4,3):\n",
      " [[2 3 9]\n",
      " [5 2 4]\n",
      " [6 5 7]\n",
      " [5 7 9]]\n"
     ]
    }
   ],
   "source": [
    "print(\"Random matrix of shape(4,3):\\n\",np.random.randint(low=1,high=10,size=(4,3)))"
   ]
  },
  {
   "cell_type": "markdown",
   "id": "2bc3e3de",
   "metadata": {},
   "source": [
    "Exercise 9: Reshaping, Ravel, Min, Max, and Sorting"
   ]
  },
  {
   "cell_type": "code",
   "execution_count": null,
   "id": "8e98e220",
   "metadata": {},
   "outputs": [],
   "source": [
    "import numpy as np\n",
    "a = np.random.randint(1,100,30)\n",
    "b = a.reshape(2,3,5)\n",
    "c = a.reshape(6,5)"
   ]
  },
  {
   "cell_type": "code",
   "execution_count": null,
   "id": "d11713b1",
   "metadata": {},
   "outputs": [
    {
     "name": "stdout",
     "output_type": "stream",
     "text": [
      "Shape of a: (30,)\n",
      "Shape of b: (2, 3, 5)\n",
      "Shape of c: (6, 5)\n"
     ]
    }
   ],
   "source": [
    "print (\"Shape of a:\", a.shape)\n",
    "print (\"Shape of b:\", b.shape)\n",
    "print (\"Shape of c:\", c.shape)"
   ]
  },
  {
   "cell_type": "code",
   "execution_count": null,
   "id": "83ff804f",
   "metadata": {},
   "outputs": [
    {
     "name": "stdout",
     "output_type": "stream",
     "text": [
      "\n",
      "a looks like\n",
      " [15 66  6 71  2 88 50 39 55 22 37 24 70 33 53  7 26 17 75 20 78 66 18 61\n",
      " 36 75 97 22 83 74]\n",
      "\n",
      "b looks like\n",
      " [[[15 66  6 71  2]\n",
      "  [88 50 39 55 22]\n",
      "  [37 24 70 33 53]]\n",
      "\n",
      " [[ 7 26 17 75 20]\n",
      "  [78 66 18 61 36]\n",
      "  [75 97 22 83 74]]]\n",
      "\n",
      "c looks like\n",
      " [[15 66  6 71  2]\n",
      " [88 50 39 55 22]\n",
      " [37 24 70 33 53]\n",
      " [ 7 26 17 75 20]\n",
      " [78 66 18 61 36]\n",
      " [75 97 22 83 74]]\n"
     ]
    }
   ],
   "source": [
    "print(\"\\na looks like\\n\",a)\n",
    "print(\"\\nb looks like\\n\",b)\n",
    "print(\"\\nc looks like\\n\",c)"
   ]
  },
  {
   "cell_type": "code",
   "execution_count": null,
   "id": "42713cfa",
   "metadata": {},
   "outputs": [
    {
     "name": "stdout",
     "output_type": "stream",
     "text": [
      "[15 66  6 71  2 88 50 39 55 22 37 24 70 33 53  7 26 17 75 20 78 66 18 61\n",
      " 36 75 97 22 83 74]\n"
     ]
    }
   ],
   "source": [
    "b_flat = b.ravel()\n",
    "print(b_flat)"
   ]
  },
  {
   "cell_type": "markdown",
   "id": "686de366",
   "metadata": {},
   "source": [
    "Exercise 10: Indexing and Slicing"
   ]
  },
  {
   "cell_type": "code",
   "execution_count": null,
   "id": "0195838e",
   "metadata": {},
   "outputs": [
    {
     "name": "stdout",
     "output_type": "stream",
     "text": [
      "Array: [ 0  1  2  3  4  5  6  7  8  9 10]\n"
     ]
    }
   ],
   "source": [
    "import numpy as np\n",
    "array_1 = np.arange(0,11)\n",
    "print(\"Array:\",array_1)"
   ]
  },
  {
   "cell_type": "code",
   "execution_count": null,
   "id": "0fa42a07",
   "metadata": {},
   "outputs": [
    {
     "name": "stdout",
     "output_type": "stream",
     "text": [
      "Array: [ 0  1  2  3  4  5  6  7  8  9 10]\n"
     ]
    }
   ],
   "source": [
    "import numpy as np\n",
    "array_1 = np.arange(0,11)\n",
    "print(\"Array:\",array_1)"
   ]
  },
  {
   "cell_type": "code",
   "execution_count": null,
   "id": "9cbb1c4e",
   "metadata": {},
   "outputs": [
    {
     "name": "stdout",
     "output_type": "stream",
     "text": [
      "Array: [ 0  1  2  3  4  5  6  7  8  9 10]\n"
     ]
    }
   ],
   "source": [
    "import numpy as np\n",
    "array_1 = np.arange(0,11)\n",
    "print(\"Array:\",array_1)"
   ]
  },
  {
   "cell_type": "code",
   "execution_count": null,
   "id": "f6fd1c54",
   "metadata": {},
   "outputs": [
    {
     "name": "stdout",
     "output_type": "stream",
     "text": [
      "Elements up to 4th index are: [0 1 2 3]\n"
     ]
    }
   ],
   "source": [
    "print(\"Elements up to 4th index are:\",array_1[:4])"
   ]
  },
  {
   "cell_type": "code",
   "execution_count": null,
   "id": "ea74d033",
   "metadata": {},
   "outputs": [
    {
     "name": "stdout",
     "output_type": "stream",
     "text": [
      "Elements from last backwards are: [10  9  8  7  6  5  4  3  2  1  0]\n"
     ]
    }
   ],
   "source": [
    "print(\"Elements from last backwards are:\",array_1[-1::-1])"
   ]
  },
  {
   "cell_type": "code",
   "execution_count": null,
   "id": "c520ff1e",
   "metadata": {},
   "outputs": [
    {
     "name": "stdout",
     "output_type": "stream",
     "text": [
      "3 Elements from last backwards are: [10  8  6]\n"
     ]
    }
   ],
   "source": [
    "print(\"3 Elements from last backwards are:\",array_1[-1:-6:-2])"
   ]
  },
  {
   "cell_type": "code",
   "execution_count": null,
   "id": "df10f3f6",
   "metadata": {},
   "outputs": [
    {
     "name": "stdout",
     "output_type": "stream",
     "text": [
      "New array: [ 0  2  4  6  8 10 12 14 16 18 20]\n"
     ]
    }
   ],
   "source": [
    "array_2 = np.arange(0,21,2)\n",
    "print(\"New array:\",array_2)"
   ]
  },
  {
   "cell_type": "code",
   "execution_count": null,
   "id": "fa32cd6a",
   "metadata": {},
   "outputs": [
    {
     "name": "stdout",
     "output_type": "stream",
     "text": [
      "Elements at 2nd, 4th, and 9th index are: [ 4  8 18]\n"
     ]
    }
   ],
   "source": [
    "print(\"Elements at 2nd, 4th, and 9th index are:\",array_2[[2,4,9]])"
   ]
  },
  {
   "cell_type": "code",
   "execution_count": null,
   "id": "dc2289a1",
   "metadata": {},
   "outputs": [
    {
     "name": "stdout",
     "output_type": "stream",
     "text": [
      "Matrix of random 2-digit numbers\n",
      "  [[31 37 77 90 63]\n",
      " [66 63 62 18 69]\n",
      " [78 68 98 30 43]]\n"
     ]
    }
   ],
   "source": [
    "matrix_1 = np.random.randint(10,100,15).reshape(3,5)\n",
    "print(\"Matrix of random 2-digit numbers\\n \",matrix_1)"
   ]
  },
  {
   "cell_type": "code",
   "execution_count": null,
   "id": "a19a4d62",
   "metadata": {},
   "outputs": [
    {
     "name": "stdout",
     "output_type": "stream",
     "text": [
      "\n",
      "Double bracket indexing\n",
      "\n",
      "Element in row index 1 and column index 2: 62\n"
     ]
    }
   ],
   "source": [
    "print(\"\\nDouble bracket indexing\\n\")\n",
    "print(\"Element in row index 1 and column index 2:\", matrix_1[1][2])"
   ]
  },
  {
   "cell_type": "code",
   "execution_count": null,
   "id": "768296d0",
   "metadata": {},
   "outputs": [
    {
     "name": "stdout",
     "output_type": "stream",
     "text": [
      "\n",
      "Single bracket with comma indexing\n",
      "\n",
      "Element in row index 1 and column index 2: 62\n"
     ]
    }
   ],
   "source": [
    "print(\"\\nSingle bracket with comma indexing\\n\")\n",
    "print(\"Element in row index 1 and column index 2:\",matrix_1[1,2])"
   ]
  },
  {
   "cell_type": "code",
   "execution_count": null,
   "id": "9978defe",
   "metadata": {},
   "outputs": [
    {
     "name": "stdout",
     "output_type": "stream",
     "text": [
      "\n",
      "Row or column extract\n",
      "\n",
      "Entire row at index 2: [78 68 98 30 43]\n",
      "Entire column at index 3: [90 18 30]\n"
     ]
    }
   ],
   "source": [
    "print(\"\\nRow or column extract\\n\")\n",
    "print(\"Entire row at index 2:\", matrix_1[2])\n",
    "print(\"Entire column at index 3:\",\n",
    "matrix_1[:,3])"
   ]
  },
  {
   "cell_type": "code",
   "execution_count": null,
   "id": "3a491d74",
   "metadata": {},
   "outputs": [
    {
     "name": "stdout",
     "output_type": "stream",
     "text": [
      "\n",
      "Subsetting sub-matrices\n",
      "\n",
      "Matrix with row indices 1 and 2 and column indices 3 and 4\n",
      " [[18 69]\n",
      " [30 43]]\n"
     ]
    }
   ],
   "source": [
    "print(\"\\nSubsetting sub-matrices\\n\")\n",
    "print(\"Matrix with row indices 1 and 2 and column indices 3 and 4\\n\", matrix_1[1:3,3:5])"
   ]
  },
  {
   "cell_type": "code",
   "execution_count": null,
   "id": "8eaac0dd",
   "metadata": {},
   "outputs": [
    {
     "name": "stdout",
     "output_type": "stream",
     "text": [
      "Matrix with row indices 0 and 1 and column indices 1 and 3\n",
      " [[37 90]\n",
      " [63 18]]\n"
     ]
    }
   ],
   "source": [
    "print(\"Matrix with row indices 0 and 1 and column indices 1 and 3\\n\",matrix_1[0:2,[1,3]])"
   ]
  },
  {
   "cell_type": "code",
   "execution_count": null,
   "id": "545dfe7f",
   "metadata": {},
   "outputs": [
    {
     "name": "stdout",
     "output_type": "stream",
     "text": [
      "Matrix of random 2-digit numbers\n",
      " [[92 10 30 93 51]\n",
      " [21 20 76 55 47]\n",
      " [96 28 93 92 77]]\n",
      "\n",
      "Elements greater than 50\n",
      " [92 93 51 76 55 96 93 92 77]\n"
     ]
    }
   ],
   "source": [
    "matrix_1 = np.array(np.random.randint(10,100,15)).reshape(3,5)\n",
    "print(\"Matrix of random 2-digit numbers\\n\",matrix_1)\n",
    "print (\"\\nElements greater than 50\\n\",matrix_1[matrix_1>50])"
   ]
  },
  {
   "cell_type": "markdown",
   "id": "9bd7f96f",
   "metadata": {},
   "source": [
    "Exercise 11: Array Operations"
   ]
  },
  {
   "cell_type": "code",
   "execution_count": null,
   "id": "8fd44d4d",
   "metadata": {},
   "outputs": [
    {
     "name": "stdout",
     "output_type": "stream",
     "text": [
      "\n",
      "1st Matrix of random single-digit numbers\n",
      " [[6 1 7]\n",
      " [8 9 2]\n",
      " [5 8 6]]\n",
      "\n",
      "2nd Matrix of random single-digit numbers\n",
      " [[4 9 8]\n",
      " [8 1 9]\n",
      " [7 8 7]]\n"
     ]
    }
   ],
   "source": [
    "import numpy as np\n",
    "matrix_1 = np.random.randint(1,10,9).reshape(3,3)\n",
    "matrix_2 = np.random.randint(1,10,9).reshape(3,3)\n",
    "print(\"\\n1st Matrix of random single-digit numbers\\n\",matrix_1)\n",
    "print(\"\\n2nd Matrix of random single-digit numbers\\n\",matrix_2)"
   ]
  },
  {
   "cell_type": "code",
   "execution_count": null,
   "id": "c9de1372",
   "metadata": {},
   "outputs": [
    {
     "name": "stdout",
     "output_type": "stream",
     "text": [
      "\n",
      "Addition\n",
      " [[10 10 15]\n",
      " [16 10 11]\n",
      " [12 16 13]]\n",
      "\n",
      "Multiplication\n",
      " [[24  9 56]\n",
      " [64  9 18]\n",
      " [35 64 42]]\n",
      "\n",
      "Division\n",
      " [[1.5        0.11111111 0.875     ]\n",
      " [1.         9.         0.22222222]\n",
      " [0.71428571 1.         0.85714286]]\n",
      "\n",
      "Linear combination: 3*A - 2*B\n",
      " [[ 10 -15   5]\n",
      " [  8  25 -12]\n",
      " [  1   8   4]]\n"
     ]
    }
   ],
   "source": [
    "print(\"\\nAddition\\n\", matrix_1+matrix_2)\n",
    "print(\"\\nMultiplication\\n\", matrix_1*matrix_2)\n",
    "print(\"\\nDivision\\n\", matrix_1/matrix_2)\n",
    "print(\"\\nLinear combination: 3*A - 2*B\\n\",3*matrix_1-2*matrix_2)"
   ]
  },
  {
   "cell_type": "code",
   "execution_count": null,
   "id": "3be714a5",
   "metadata": {},
   "outputs": [
    {
     "name": "stdout",
     "output_type": "stream",
     "text": [
      "\n",
      "Addition of a scalar (100)\n",
      " [[106 101 107]\n",
      " [108 109 102]\n",
      " [105 108 106]]\n",
      "\n",
      "Exponentiation, matrix cubed here\n",
      " [[216   1 343]\n",
      " [512 729   8]\n",
      " [125 512 216]]\n",
      "\n",
      "Exponentiation, square root using 'pow' function\n",
      " [[2.44948974 1.         2.64575131]\n",
      " [2.82842712 3.         1.41421356]\n",
      " [2.23606798 2.82842712 2.44948974]]\n"
     ]
    }
   ],
   "source": [
    "print(\"\\nAddition of a scalar (100)\\n\",100+matrix_1)\n",
    "print(\"\\nExponentiation, matrix cubed here\\n\", matrix_1**3)\n",
    "print(\"\\nExponentiation, square root using 'pow' function\\n\", pow(matrix_1,0.5))"
   ]
  },
  {
   "cell_type": "code",
   "execution_count": null,
   "id": "24d76aeb",
   "metadata": {},
   "outputs": [
    {
     "name": "stdout",
     "output_type": "stream",
     "text": [
      "Matrix a\n",
      " [[1 2]\n",
      " [3 4]]\n",
      "Matrix b\n",
      " [[5 6]\n",
      " [7 8]]\n",
      "Vertical stacking\n",
      " [[1 2]\n",
      " [3 4]\n",
      " [5 6]\n",
      " [7 8]]\n",
      "Horizontal stacking\n",
      " [[1 2 5 6]\n",
      " [3 4 7 8]]\n"
     ]
    }
   ],
   "source": [
    "a = np.array([[1,2],[3,4]])\n",
    "b = np.array([[5,6],[7,8]])\n",
    "print(\"Matrix a\\n\",a)\n",
    "print(\"Matrix b\\n\",b)\n",
    "print(\"Vertical stacking\\n\",np.vstack((a,b)))\n",
    "print(\"Horizontal stacking\\n\",np.hstack((a,b)))"
   ]
  },
  {
   "cell_type": "markdown",
   "id": "9e14658a",
   "metadata": {},
   "source": [
    "Exercise 12: Generating Statistics from a CSV File"
   ]
  },
  {
   "cell_type": "code",
   "execution_count": null,
   "id": "d8c7e444",
   "metadata": {},
   "outputs": [
    {
     "data": {
      "text/html": [
       "<div>\n",
       "<style scoped>\n",
       "    .dataframe tbody tr th:only-of-type {\n",
       "        vertical-align: middle;\n",
       "    }\n",
       "\n",
       "    .dataframe tbody tr th {\n",
       "        vertical-align: top;\n",
       "    }\n",
       "\n",
       "    .dataframe thead th {\n",
       "        text-align: right;\n",
       "    }\n",
       "</style>\n",
       "<table border=\"1\" class=\"dataframe\">\n",
       "  <thead>\n",
       "    <tr style=\"text-align: right;\">\n",
       "      <th></th>\n",
       "      <th>CRIM</th>\n",
       "      <th>ZN</th>\n",
       "      <th>INDUS</th>\n",
       "      <th>CHAS</th>\n",
       "      <th>NOX</th>\n",
       "      <th>RM</th>\n",
       "      <th>AGE</th>\n",
       "      <th>DIS</th>\n",
       "      <th>RAD</th>\n",
       "      <th>TAX</th>\n",
       "      <th>PTRATIO</th>\n",
       "      <th>B</th>\n",
       "      <th>LSTAT</th>\n",
       "      <th>PRICE</th>\n",
       "    </tr>\n",
       "  </thead>\n",
       "  <tbody>\n",
       "    <tr>\n",
       "      <th>0</th>\n",
       "      <td>0.00632</td>\n",
       "      <td>18.0</td>\n",
       "      <td>2.31</td>\n",
       "      <td>0</td>\n",
       "      <td>0.538</td>\n",
       "      <td>6.575</td>\n",
       "      <td>65.2</td>\n",
       "      <td>4.0900</td>\n",
       "      <td>1</td>\n",
       "      <td>296</td>\n",
       "      <td>15.3</td>\n",
       "      <td>396.90</td>\n",
       "      <td>4.98</td>\n",
       "      <td>24.0</td>\n",
       "    </tr>\n",
       "    <tr>\n",
       "      <th>1</th>\n",
       "      <td>0.02731</td>\n",
       "      <td>0.0</td>\n",
       "      <td>7.07</td>\n",
       "      <td>0</td>\n",
       "      <td>0.469</td>\n",
       "      <td>6.421</td>\n",
       "      <td>78.9</td>\n",
       "      <td>4.9671</td>\n",
       "      <td>2</td>\n",
       "      <td>242</td>\n",
       "      <td>17.8</td>\n",
       "      <td>396.90</td>\n",
       "      <td>9.14</td>\n",
       "      <td>21.6</td>\n",
       "    </tr>\n",
       "    <tr>\n",
       "      <th>2</th>\n",
       "      <td>0.02729</td>\n",
       "      <td>0.0</td>\n",
       "      <td>7.07</td>\n",
       "      <td>0</td>\n",
       "      <td>0.469</td>\n",
       "      <td>7.185</td>\n",
       "      <td>61.1</td>\n",
       "      <td>4.9671</td>\n",
       "      <td>2</td>\n",
       "      <td>242</td>\n",
       "      <td>17.8</td>\n",
       "      <td>392.83</td>\n",
       "      <td>4.03</td>\n",
       "      <td>34.7</td>\n",
       "    </tr>\n",
       "    <tr>\n",
       "      <th>3</th>\n",
       "      <td>0.03237</td>\n",
       "      <td>0.0</td>\n",
       "      <td>2.18</td>\n",
       "      <td>0</td>\n",
       "      <td>0.458</td>\n",
       "      <td>6.998</td>\n",
       "      <td>45.8</td>\n",
       "      <td>6.0622</td>\n",
       "      <td>3</td>\n",
       "      <td>222</td>\n",
       "      <td>18.7</td>\n",
       "      <td>394.63</td>\n",
       "      <td>2.94</td>\n",
       "      <td>33.4</td>\n",
       "    </tr>\n",
       "    <tr>\n",
       "      <th>4</th>\n",
       "      <td>0.06905</td>\n",
       "      <td>0.0</td>\n",
       "      <td>2.18</td>\n",
       "      <td>0</td>\n",
       "      <td>0.458</td>\n",
       "      <td>7.147</td>\n",
       "      <td>54.2</td>\n",
       "      <td>6.0622</td>\n",
       "      <td>3</td>\n",
       "      <td>222</td>\n",
       "      <td>18.7</td>\n",
       "      <td>396.90</td>\n",
       "      <td>5.33</td>\n",
       "      <td>36.2</td>\n",
       "    </tr>\n",
       "    <tr>\n",
       "      <th>...</th>\n",
       "      <td>...</td>\n",
       "      <td>...</td>\n",
       "      <td>...</td>\n",
       "      <td>...</td>\n",
       "      <td>...</td>\n",
       "      <td>...</td>\n",
       "      <td>...</td>\n",
       "      <td>...</td>\n",
       "      <td>...</td>\n",
       "      <td>...</td>\n",
       "      <td>...</td>\n",
       "      <td>...</td>\n",
       "      <td>...</td>\n",
       "      <td>...</td>\n",
       "    </tr>\n",
       "    <tr>\n",
       "      <th>501</th>\n",
       "      <td>0.06263</td>\n",
       "      <td>0.0</td>\n",
       "      <td>11.93</td>\n",
       "      <td>0</td>\n",
       "      <td>0.573</td>\n",
       "      <td>6.593</td>\n",
       "      <td>69.1</td>\n",
       "      <td>2.4786</td>\n",
       "      <td>1</td>\n",
       "      <td>273</td>\n",
       "      <td>21.0</td>\n",
       "      <td>391.99</td>\n",
       "      <td>9.67</td>\n",
       "      <td>22.4</td>\n",
       "    </tr>\n",
       "    <tr>\n",
       "      <th>502</th>\n",
       "      <td>0.04527</td>\n",
       "      <td>0.0</td>\n",
       "      <td>11.93</td>\n",
       "      <td>0</td>\n",
       "      <td>0.573</td>\n",
       "      <td>6.120</td>\n",
       "      <td>76.7</td>\n",
       "      <td>2.2875</td>\n",
       "      <td>1</td>\n",
       "      <td>273</td>\n",
       "      <td>21.0</td>\n",
       "      <td>396.90</td>\n",
       "      <td>9.08</td>\n",
       "      <td>20.6</td>\n",
       "    </tr>\n",
       "    <tr>\n",
       "      <th>503</th>\n",
       "      <td>0.06076</td>\n",
       "      <td>0.0</td>\n",
       "      <td>11.93</td>\n",
       "      <td>0</td>\n",
       "      <td>0.573</td>\n",
       "      <td>6.976</td>\n",
       "      <td>91.0</td>\n",
       "      <td>2.1675</td>\n",
       "      <td>1</td>\n",
       "      <td>273</td>\n",
       "      <td>21.0</td>\n",
       "      <td>396.90</td>\n",
       "      <td>5.64</td>\n",
       "      <td>23.9</td>\n",
       "    </tr>\n",
       "    <tr>\n",
       "      <th>504</th>\n",
       "      <td>0.10959</td>\n",
       "      <td>0.0</td>\n",
       "      <td>11.93</td>\n",
       "      <td>0</td>\n",
       "      <td>0.573</td>\n",
       "      <td>6.794</td>\n",
       "      <td>89.3</td>\n",
       "      <td>2.3889</td>\n",
       "      <td>1</td>\n",
       "      <td>273</td>\n",
       "      <td>21.0</td>\n",
       "      <td>393.45</td>\n",
       "      <td>6.48</td>\n",
       "      <td>22.0</td>\n",
       "    </tr>\n",
       "    <tr>\n",
       "      <th>505</th>\n",
       "      <td>0.04741</td>\n",
       "      <td>0.0</td>\n",
       "      <td>11.93</td>\n",
       "      <td>0</td>\n",
       "      <td>0.573</td>\n",
       "      <td>6.030</td>\n",
       "      <td>80.8</td>\n",
       "      <td>2.5050</td>\n",
       "      <td>1</td>\n",
       "      <td>273</td>\n",
       "      <td>21.0</td>\n",
       "      <td>396.90</td>\n",
       "      <td>7.88</td>\n",
       "      <td>11.9</td>\n",
       "    </tr>\n",
       "  </tbody>\n",
       "</table>\n",
       "<p>506 rows × 14 columns</p>\n",
       "</div>"
      ],
      "text/plain": [
       "        CRIM    ZN  INDUS  CHAS    NOX     RM   AGE     DIS  RAD  TAX  \\\n",
       "0    0.00632  18.0   2.31     0  0.538  6.575  65.2  4.0900    1  296   \n",
       "1    0.02731   0.0   7.07     0  0.469  6.421  78.9  4.9671    2  242   \n",
       "2    0.02729   0.0   7.07     0  0.469  7.185  61.1  4.9671    2  242   \n",
       "3    0.03237   0.0   2.18     0  0.458  6.998  45.8  6.0622    3  222   \n",
       "4    0.06905   0.0   2.18     0  0.458  7.147  54.2  6.0622    3  222   \n",
       "..       ...   ...    ...   ...    ...    ...   ...     ...  ...  ...   \n",
       "501  0.06263   0.0  11.93     0  0.573  6.593  69.1  2.4786    1  273   \n",
       "502  0.04527   0.0  11.93     0  0.573  6.120  76.7  2.2875    1  273   \n",
       "503  0.06076   0.0  11.93     0  0.573  6.976  91.0  2.1675    1  273   \n",
       "504  0.10959   0.0  11.93     0  0.573  6.794  89.3  2.3889    1  273   \n",
       "505  0.04741   0.0  11.93     0  0.573  6.030  80.8  2.5050    1  273   \n",
       "\n",
       "     PTRATIO       B  LSTAT  PRICE  \n",
       "0       15.3  396.90   4.98   24.0  \n",
       "1       17.8  396.90   9.14   21.6  \n",
       "2       17.8  392.83   4.03   34.7  \n",
       "3       18.7  394.63   2.94   33.4  \n",
       "4       18.7  396.90   5.33   36.2  \n",
       "..       ...     ...    ...    ...  \n",
       "501     21.0  391.99   9.67   22.4  \n",
       "502     21.0  396.90   9.08   20.6  \n",
       "503     21.0  396.90   5.64   23.9  \n",
       "504     21.0  393.45   6.48   22.0  \n",
       "505     21.0  396.90   7.88   11.9  \n",
       "\n",
       "[506 rows x 14 columns]"
      ]
     },
     "metadata": {},
     "output_type": "display_data"
    }
   ],
   "source": [
    "import pandas as pd\n",
    "df = pd.read_csv(\"Boston_housing.csv\")\n",
    "df.head()"
   ]
  },
  {
   "cell_type": "code",
   "execution_count": null,
   "id": "4d41cd6e",
   "metadata": {},
   "outputs": [
    {
     "data": {
      "text/html": [
       "<div>\n",
       "<style scoped>\n",
       "    .dataframe tbody tr th:only-of-type {\n",
       "        vertical-align: middle;\n",
       "    }\n",
       "\n",
       "    .dataframe tbody tr th {\n",
       "        vertical-align: top;\n",
       "    }\n",
       "\n",
       "    .dataframe thead th {\n",
       "        text-align: right;\n",
       "    }\n",
       "</style>\n",
       "<table border=\"1\" class=\"dataframe\">\n",
       "  <thead>\n",
       "    <tr style=\"text-align: right;\">\n",
       "      <th></th>\n",
       "      <th>CRIM</th>\n",
       "      <th>ZN</th>\n",
       "      <th>INDUS</th>\n",
       "      <th>CHAS</th>\n",
       "      <th>NOX</th>\n",
       "      <th>RM</th>\n",
       "      <th>AGE</th>\n",
       "      <th>DIS</th>\n",
       "      <th>RAD</th>\n",
       "      <th>TAX</th>\n",
       "      <th>PTRATIO</th>\n",
       "      <th>B</th>\n",
       "      <th>LSTAT</th>\n",
       "      <th>PRICE</th>\n",
       "    </tr>\n",
       "  </thead>\n",
       "  <tbody>\n",
       "    <tr>\n",
       "      <th>0</th>\n",
       "      <td>0.00632</td>\n",
       "      <td>18.0</td>\n",
       "      <td>2.31</td>\n",
       "      <td>0</td>\n",
       "      <td>0.538</td>\n",
       "      <td>6.575</td>\n",
       "      <td>65.2</td>\n",
       "      <td>4.0900</td>\n",
       "      <td>1</td>\n",
       "      <td>296</td>\n",
       "      <td>15.3</td>\n",
       "      <td>396.90</td>\n",
       "      <td>4.98</td>\n",
       "      <td>24.0</td>\n",
       "    </tr>\n",
       "    <tr>\n",
       "      <th>1</th>\n",
       "      <td>0.02731</td>\n",
       "      <td>0.0</td>\n",
       "      <td>7.07</td>\n",
       "      <td>0</td>\n",
       "      <td>0.469</td>\n",
       "      <td>6.421</td>\n",
       "      <td>78.9</td>\n",
       "      <td>4.9671</td>\n",
       "      <td>2</td>\n",
       "      <td>242</td>\n",
       "      <td>17.8</td>\n",
       "      <td>396.90</td>\n",
       "      <td>9.14</td>\n",
       "      <td>21.6</td>\n",
       "    </tr>\n",
       "    <tr>\n",
       "      <th>2</th>\n",
       "      <td>0.02729</td>\n",
       "      <td>0.0</td>\n",
       "      <td>7.07</td>\n",
       "      <td>0</td>\n",
       "      <td>0.469</td>\n",
       "      <td>7.185</td>\n",
       "      <td>61.1</td>\n",
       "      <td>4.9671</td>\n",
       "      <td>2</td>\n",
       "      <td>242</td>\n",
       "      <td>17.8</td>\n",
       "      <td>392.83</td>\n",
       "      <td>4.03</td>\n",
       "      <td>34.7</td>\n",
       "    </tr>\n",
       "    <tr>\n",
       "      <th>3</th>\n",
       "      <td>0.03237</td>\n",
       "      <td>0.0</td>\n",
       "      <td>2.18</td>\n",
       "      <td>0</td>\n",
       "      <td>0.458</td>\n",
       "      <td>6.998</td>\n",
       "      <td>45.8</td>\n",
       "      <td>6.0622</td>\n",
       "      <td>3</td>\n",
       "      <td>222</td>\n",
       "      <td>18.7</td>\n",
       "      <td>394.63</td>\n",
       "      <td>2.94</td>\n",
       "      <td>33.4</td>\n",
       "    </tr>\n",
       "    <tr>\n",
       "      <th>4</th>\n",
       "      <td>0.06905</td>\n",
       "      <td>0.0</td>\n",
       "      <td>2.18</td>\n",
       "      <td>0</td>\n",
       "      <td>0.458</td>\n",
       "      <td>7.147</td>\n",
       "      <td>54.2</td>\n",
       "      <td>6.0622</td>\n",
       "      <td>3</td>\n",
       "      <td>222</td>\n",
       "      <td>18.7</td>\n",
       "      <td>396.90</td>\n",
       "      <td>5.33</td>\n",
       "      <td>36.2</td>\n",
       "    </tr>\n",
       "    <tr>\n",
       "      <th>5</th>\n",
       "      <td>0.02985</td>\n",
       "      <td>0.0</td>\n",
       "      <td>2.18</td>\n",
       "      <td>0</td>\n",
       "      <td>0.458</td>\n",
       "      <td>6.430</td>\n",
       "      <td>58.7</td>\n",
       "      <td>6.0622</td>\n",
       "      <td>3</td>\n",
       "      <td>222</td>\n",
       "      <td>18.7</td>\n",
       "      <td>394.12</td>\n",
       "      <td>5.21</td>\n",
       "      <td>28.7</td>\n",
       "    </tr>\n",
       "    <tr>\n",
       "      <th>6</th>\n",
       "      <td>0.08829</td>\n",
       "      <td>12.5</td>\n",
       "      <td>7.87</td>\n",
       "      <td>0</td>\n",
       "      <td>0.524</td>\n",
       "      <td>6.012</td>\n",
       "      <td>66.6</td>\n",
       "      <td>5.5605</td>\n",
       "      <td>5</td>\n",
       "      <td>311</td>\n",
       "      <td>15.2</td>\n",
       "      <td>395.60</td>\n",
       "      <td>12.43</td>\n",
       "      <td>22.9</td>\n",
       "    </tr>\n",
       "    <tr>\n",
       "      <th>7</th>\n",
       "      <td>0.14455</td>\n",
       "      <td>12.5</td>\n",
       "      <td>7.87</td>\n",
       "      <td>0</td>\n",
       "      <td>0.524</td>\n",
       "      <td>6.172</td>\n",
       "      <td>96.1</td>\n",
       "      <td>5.9505</td>\n",
       "      <td>5</td>\n",
       "      <td>311</td>\n",
       "      <td>15.2</td>\n",
       "      <td>396.90</td>\n",
       "      <td>19.15</td>\n",
       "      <td>27.1</td>\n",
       "    </tr>\n",
       "    <tr>\n",
       "      <th>8</th>\n",
       "      <td>0.21124</td>\n",
       "      <td>12.5</td>\n",
       "      <td>7.87</td>\n",
       "      <td>0</td>\n",
       "      <td>0.524</td>\n",
       "      <td>5.631</td>\n",
       "      <td>100.0</td>\n",
       "      <td>6.0821</td>\n",
       "      <td>5</td>\n",
       "      <td>311</td>\n",
       "      <td>15.2</td>\n",
       "      <td>386.63</td>\n",
       "      <td>29.93</td>\n",
       "      <td>16.5</td>\n",
       "    </tr>\n",
       "    <tr>\n",
       "      <th>9</th>\n",
       "      <td>0.17004</td>\n",
       "      <td>12.5</td>\n",
       "      <td>7.87</td>\n",
       "      <td>0</td>\n",
       "      <td>0.524</td>\n",
       "      <td>6.004</td>\n",
       "      <td>85.9</td>\n",
       "      <td>6.5921</td>\n",
       "      <td>5</td>\n",
       "      <td>311</td>\n",
       "      <td>15.2</td>\n",
       "      <td>386.71</td>\n",
       "      <td>17.10</td>\n",
       "      <td>18.9</td>\n",
       "    </tr>\n",
       "  </tbody>\n",
       "</table>\n",
       "</div>"
      ],
      "text/plain": [
       "      CRIM    ZN  INDUS  CHAS    NOX     RM    AGE     DIS  RAD  TAX  PTRATIO  \\\n",
       "0  0.00632  18.0   2.31     0  0.538  6.575   65.2  4.0900    1  296     15.3   \n",
       "1  0.02731   0.0   7.07     0  0.469  6.421   78.9  4.9671    2  242     17.8   \n",
       "2  0.02729   0.0   7.07     0  0.469  7.185   61.1  4.9671    2  242     17.8   \n",
       "3  0.03237   0.0   2.18     0  0.458  6.998   45.8  6.0622    3  222     18.7   \n",
       "4  0.06905   0.0   2.18     0  0.458  7.147   54.2  6.0622    3  222     18.7   \n",
       "5  0.02985   0.0   2.18     0  0.458  6.430   58.7  6.0622    3  222     18.7   \n",
       "6  0.08829  12.5   7.87     0  0.524  6.012   66.6  5.5605    5  311     15.2   \n",
       "7  0.14455  12.5   7.87     0  0.524  6.172   96.1  5.9505    5  311     15.2   \n",
       "8  0.21124  12.5   7.87     0  0.524  5.631  100.0  6.0821    5  311     15.2   \n",
       "9  0.17004  12.5   7.87     0  0.524  6.004   85.9  6.5921    5  311     15.2   \n",
       "\n",
       "        B  LSTAT  PRICE  \n",
       "0  396.90   4.98   24.0  \n",
       "1  396.90   9.14   21.6  \n",
       "2  392.83   4.03   34.7  \n",
       "3  394.63   2.94   33.4  \n",
       "4  396.90   5.33   36.2  \n",
       "5  394.12   5.21   28.7  \n",
       "6  395.60  12.43   22.9  \n",
       "7  396.90  19.15   27.1  \n",
       "8  386.63  29.93   16.5  \n",
       "9  386.71  17.10   18.9  "
      ]
     },
     "metadata": {},
     "output_type": "display_data"
    }
   ],
   "source": [
    "df.head(10)"
   ]
  },
  {
   "cell_type": "code",
   "execution_count": null,
   "id": "8bfee50a",
   "metadata": {},
   "outputs": [
    {
     "data": {
      "text/plain": [
       "506"
      ]
     },
     "metadata": {},
     "output_type": "display_data"
    }
   ],
   "source": [
    "len(df)"
   ]
  },
  {
   "cell_type": "code",
   "execution_count": null,
   "id": "d939c5b1",
   "metadata": {},
   "outputs": [
    {
     "data": {
      "text/html": [
       "<div>\n",
       "<style scoped>\n",
       "    .dataframe tbody tr th:only-of-type {\n",
       "        vertical-align: middle;\n",
       "    }\n",
       "\n",
       "    .dataframe tbody tr th {\n",
       "        vertical-align: top;\n",
       "    }\n",
       "\n",
       "    .dataframe thead th {\n",
       "        text-align: right;\n",
       "    }\n",
       "</style>\n",
       "<table border=\"1\" class=\"dataframe\">\n",
       "  <thead>\n",
       "    <tr style=\"text-align: right;\">\n",
       "      <th></th>\n",
       "      <th>CRIM</th>\n",
       "      <th>ZN</th>\n",
       "      <th>INDUS</th>\n",
       "      <th>RM</th>\n",
       "      <th>AGE</th>\n",
       "      <th>DIS</th>\n",
       "      <th>RAD</th>\n",
       "      <th>TAX</th>\n",
       "      <th>PTRATIO</th>\n",
       "      <th>PRICE</th>\n",
       "    </tr>\n",
       "  </thead>\n",
       "  <tbody>\n",
       "    <tr>\n",
       "      <th>0</th>\n",
       "      <td>0.00632</td>\n",
       "      <td>18.0</td>\n",
       "      <td>2.31</td>\n",
       "      <td>6.575</td>\n",
       "      <td>65.2</td>\n",
       "      <td>4.0900</td>\n",
       "      <td>1</td>\n",
       "      <td>296</td>\n",
       "      <td>15.3</td>\n",
       "      <td>24.0</td>\n",
       "    </tr>\n",
       "    <tr>\n",
       "      <th>1</th>\n",
       "      <td>0.02731</td>\n",
       "      <td>0.0</td>\n",
       "      <td>7.07</td>\n",
       "      <td>6.421</td>\n",
       "      <td>78.9</td>\n",
       "      <td>4.9671</td>\n",
       "      <td>2</td>\n",
       "      <td>242</td>\n",
       "      <td>17.8</td>\n",
       "      <td>21.6</td>\n",
       "    </tr>\n",
       "    <tr>\n",
       "      <th>2</th>\n",
       "      <td>0.02729</td>\n",
       "      <td>0.0</td>\n",
       "      <td>7.07</td>\n",
       "      <td>7.185</td>\n",
       "      <td>61.1</td>\n",
       "      <td>4.9671</td>\n",
       "      <td>2</td>\n",
       "      <td>242</td>\n",
       "      <td>17.8</td>\n",
       "      <td>34.7</td>\n",
       "    </tr>\n",
       "    <tr>\n",
       "      <th>3</th>\n",
       "      <td>0.03237</td>\n",
       "      <td>0.0</td>\n",
       "      <td>2.18</td>\n",
       "      <td>6.998</td>\n",
       "      <td>45.8</td>\n",
       "      <td>6.0622</td>\n",
       "      <td>3</td>\n",
       "      <td>222</td>\n",
       "      <td>18.7</td>\n",
       "      <td>33.4</td>\n",
       "    </tr>\n",
       "    <tr>\n",
       "      <th>4</th>\n",
       "      <td>0.06905</td>\n",
       "      <td>0.0</td>\n",
       "      <td>2.18</td>\n",
       "      <td>7.147</td>\n",
       "      <td>54.2</td>\n",
       "      <td>6.0622</td>\n",
       "      <td>3</td>\n",
       "      <td>222</td>\n",
       "      <td>18.7</td>\n",
       "      <td>36.2</td>\n",
       "    </tr>\n",
       "    <tr>\n",
       "      <th>...</th>\n",
       "      <td>...</td>\n",
       "      <td>...</td>\n",
       "      <td>...</td>\n",
       "      <td>...</td>\n",
       "      <td>...</td>\n",
       "      <td>...</td>\n",
       "      <td>...</td>\n",
       "      <td>...</td>\n",
       "      <td>...</td>\n",
       "      <td>...</td>\n",
       "    </tr>\n",
       "    <tr>\n",
       "      <th>501</th>\n",
       "      <td>0.06263</td>\n",
       "      <td>0.0</td>\n",
       "      <td>11.93</td>\n",
       "      <td>6.593</td>\n",
       "      <td>69.1</td>\n",
       "      <td>2.4786</td>\n",
       "      <td>1</td>\n",
       "      <td>273</td>\n",
       "      <td>21.0</td>\n",
       "      <td>22.4</td>\n",
       "    </tr>\n",
       "    <tr>\n",
       "      <th>502</th>\n",
       "      <td>0.04527</td>\n",
       "      <td>0.0</td>\n",
       "      <td>11.93</td>\n",
       "      <td>6.120</td>\n",
       "      <td>76.7</td>\n",
       "      <td>2.2875</td>\n",
       "      <td>1</td>\n",
       "      <td>273</td>\n",
       "      <td>21.0</td>\n",
       "      <td>20.6</td>\n",
       "    </tr>\n",
       "    <tr>\n",
       "      <th>503</th>\n",
       "      <td>0.06076</td>\n",
       "      <td>0.0</td>\n",
       "      <td>11.93</td>\n",
       "      <td>6.976</td>\n",
       "      <td>91.0</td>\n",
       "      <td>2.1675</td>\n",
       "      <td>1</td>\n",
       "      <td>273</td>\n",
       "      <td>21.0</td>\n",
       "      <td>23.9</td>\n",
       "    </tr>\n",
       "    <tr>\n",
       "      <th>504</th>\n",
       "      <td>0.10959</td>\n",
       "      <td>0.0</td>\n",
       "      <td>11.93</td>\n",
       "      <td>6.794</td>\n",
       "      <td>89.3</td>\n",
       "      <td>2.3889</td>\n",
       "      <td>1</td>\n",
       "      <td>273</td>\n",
       "      <td>21.0</td>\n",
       "      <td>22.0</td>\n",
       "    </tr>\n",
       "    <tr>\n",
       "      <th>505</th>\n",
       "      <td>0.04741</td>\n",
       "      <td>0.0</td>\n",
       "      <td>11.93</td>\n",
       "      <td>6.030</td>\n",
       "      <td>80.8</td>\n",
       "      <td>2.5050</td>\n",
       "      <td>1</td>\n",
       "      <td>273</td>\n",
       "      <td>21.0</td>\n",
       "      <td>11.9</td>\n",
       "    </tr>\n",
       "  </tbody>\n",
       "</table>\n",
       "<p>506 rows × 10 columns</p>\n",
       "</div>"
      ],
      "text/plain": [
       "        CRIM    ZN  INDUS     RM   AGE     DIS  RAD  TAX  PTRATIO  PRICE\n",
       "0    0.00632  18.0   2.31  6.575  65.2  4.0900    1  296     15.3   24.0\n",
       "1    0.02731   0.0   7.07  6.421  78.9  4.9671    2  242     17.8   21.6\n",
       "2    0.02729   0.0   7.07  7.185  61.1  4.9671    2  242     17.8   34.7\n",
       "3    0.03237   0.0   2.18  6.998  45.8  6.0622    3  222     18.7   33.4\n",
       "4    0.06905   0.0   2.18  7.147  54.2  6.0622    3  222     18.7   36.2\n",
       "..       ...   ...    ...    ...   ...     ...  ...  ...      ...    ...\n",
       "501  0.06263   0.0  11.93  6.593  69.1  2.4786    1  273     21.0   22.4\n",
       "502  0.04527   0.0  11.93  6.120  76.7  2.2875    1  273     21.0   20.6\n",
       "503  0.06076   0.0  11.93  6.976  91.0  2.1675    1  273     21.0   23.9\n",
       "504  0.10959   0.0  11.93  6.794  89.3  2.3889    1  273     21.0   22.0\n",
       "505  0.04741   0.0  11.93  6.030  80.8  2.5050    1  273     21.0   11.9\n",
       "\n",
       "[506 rows x 10 columns]"
      ]
     },
     "metadata": {},
     "output_type": "display_data"
    }
   ],
   "source": [
    "df = df.drop(['CHAS', 'NOX', 'B', 'LSTAT'], axis = 1)\n",
    "df"
   ]
  },
  {
   "cell_type": "code",
   "execution_count": null,
   "id": "1f3a32ed",
   "metadata": {},
   "outputs": [
    {
     "data": {
      "text/html": [
       "<div>\n",
       "<style scoped>\n",
       "    .dataframe tbody tr th:only-of-type {\n",
       "        vertical-align: middle;\n",
       "    }\n",
       "\n",
       "    .dataframe tbody tr th {\n",
       "        vertical-align: top;\n",
       "    }\n",
       "\n",
       "    .dataframe thead th {\n",
       "        text-align: right;\n",
       "    }\n",
       "</style>\n",
       "<table border=\"1\" class=\"dataframe\">\n",
       "  <thead>\n",
       "    <tr style=\"text-align: right;\">\n",
       "      <th></th>\n",
       "      <th>CRIM</th>\n",
       "      <th>ZN</th>\n",
       "      <th>INDUS</th>\n",
       "      <th>RM</th>\n",
       "      <th>AGE</th>\n",
       "      <th>DIS</th>\n",
       "      <th>RAD</th>\n",
       "      <th>TAX</th>\n",
       "      <th>PTRATIO</th>\n",
       "      <th>PRICE</th>\n",
       "    </tr>\n",
       "  </thead>\n",
       "  <tbody>\n",
       "    <tr>\n",
       "      <th>499</th>\n",
       "      <td>0.17783</td>\n",
       "      <td>0.0</td>\n",
       "      <td>9.69</td>\n",
       "      <td>5.569</td>\n",
       "      <td>73.5</td>\n",
       "      <td>2.3999</td>\n",
       "      <td>6</td>\n",
       "      <td>391</td>\n",
       "      <td>19.2</td>\n",
       "      <td>17.5</td>\n",
       "    </tr>\n",
       "    <tr>\n",
       "      <th>500</th>\n",
       "      <td>0.22438</td>\n",
       "      <td>0.0</td>\n",
       "      <td>9.69</td>\n",
       "      <td>6.027</td>\n",
       "      <td>79.7</td>\n",
       "      <td>2.4982</td>\n",
       "      <td>6</td>\n",
       "      <td>391</td>\n",
       "      <td>19.2</td>\n",
       "      <td>16.8</td>\n",
       "    </tr>\n",
       "    <tr>\n",
       "      <th>501</th>\n",
       "      <td>0.06263</td>\n",
       "      <td>0.0</td>\n",
       "      <td>11.93</td>\n",
       "      <td>6.593</td>\n",
       "      <td>69.1</td>\n",
       "      <td>2.4786</td>\n",
       "      <td>1</td>\n",
       "      <td>273</td>\n",
       "      <td>21.0</td>\n",
       "      <td>22.4</td>\n",
       "    </tr>\n",
       "    <tr>\n",
       "      <th>502</th>\n",
       "      <td>0.04527</td>\n",
       "      <td>0.0</td>\n",
       "      <td>11.93</td>\n",
       "      <td>6.120</td>\n",
       "      <td>76.7</td>\n",
       "      <td>2.2875</td>\n",
       "      <td>1</td>\n",
       "      <td>273</td>\n",
       "      <td>21.0</td>\n",
       "      <td>20.6</td>\n",
       "    </tr>\n",
       "    <tr>\n",
       "      <th>503</th>\n",
       "      <td>0.06076</td>\n",
       "      <td>0.0</td>\n",
       "      <td>11.93</td>\n",
       "      <td>6.976</td>\n",
       "      <td>91.0</td>\n",
       "      <td>2.1675</td>\n",
       "      <td>1</td>\n",
       "      <td>273</td>\n",
       "      <td>21.0</td>\n",
       "      <td>23.9</td>\n",
       "    </tr>\n",
       "    <tr>\n",
       "      <th>504</th>\n",
       "      <td>0.10959</td>\n",
       "      <td>0.0</td>\n",
       "      <td>11.93</td>\n",
       "      <td>6.794</td>\n",
       "      <td>89.3</td>\n",
       "      <td>2.3889</td>\n",
       "      <td>1</td>\n",
       "      <td>273</td>\n",
       "      <td>21.0</td>\n",
       "      <td>22.0</td>\n",
       "    </tr>\n",
       "    <tr>\n",
       "      <th>505</th>\n",
       "      <td>0.04741</td>\n",
       "      <td>0.0</td>\n",
       "      <td>11.93</td>\n",
       "      <td>6.030</td>\n",
       "      <td>80.8</td>\n",
       "      <td>2.5050</td>\n",
       "      <td>1</td>\n",
       "      <td>273</td>\n",
       "      <td>21.0</td>\n",
       "      <td>11.9</td>\n",
       "    </tr>\n",
       "  </tbody>\n",
       "</table>\n",
       "</div>"
      ],
      "text/plain": [
       "        CRIM   ZN  INDUS     RM   AGE     DIS  RAD  TAX  PTRATIO  PRICE\n",
       "499  0.17783  0.0   9.69  5.569  73.5  2.3999    6  391     19.2   17.5\n",
       "500  0.22438  0.0   9.69  6.027  79.7  2.4982    6  391     19.2   16.8\n",
       "501  0.06263  0.0  11.93  6.593  69.1  2.4786    1  273     21.0   22.4\n",
       "502  0.04527  0.0  11.93  6.120  76.7  2.2875    1  273     21.0   20.6\n",
       "503  0.06076  0.0  11.93  6.976  91.0  2.1675    1  273     21.0   23.9\n",
       "504  0.10959  0.0  11.93  6.794  89.3  2.3889    1  273     21.0   22.0\n",
       "505  0.04741  0.0  11.93  6.030  80.8  2.5050    1  273     21.0   11.9"
      ]
     },
     "metadata": {},
     "output_type": "display_data"
    }
   ],
   "source": [
    "df.tail(7)"
   ]
  },
  {
   "cell_type": "code",
   "execution_count": null,
   "id": "210dbc84",
   "metadata": {},
   "outputs": [
    {
     "data": {
      "image/png": "[encoded data removed]",
      "text/plain": [
       "<Figure size 432x288 with 12 Axes>"
      ]
     },
     "metadata": {},
     "output_type": "display_data"
    }
   ],
   "source": [
    "hist = df.hist(bins = 10)"
   ]
  },
  {
   "cell_type": "code",
   "execution_count": null,
   "id": "5bb92928",
   "metadata": {},
   "outputs": [
    {
     "ename": "NameError",
     "evalue": "name 'linespace' is not defined",
     "output_type": "error",
     "traceback": [
      "\u001b[1;31m---------------------------------------------------------------------------\u001b[0m\n",
      "\u001b[1;31mNameError\u001b[0m                                 Traceback (most recent call last)\n",
      "Input \u001b[1;32mIn [88]\u001b[0m, in \u001b[0;36m<cell line: 1>\u001b[1;34m()\u001b[0m\n",
      "\u001b[1;32m----> 1\u001b[0m x \u001b[38;5;241m=\u001b[39m \u001b[43mlinespace\u001b[49m(\u001b[38;5;241m1\u001b[39m,\u001b[38;5;241m1\u001b[39m,\u001b[38;5;28mlen\u001b[39m(df))\n",
      "\u001b[0;32m      2\u001b[0m \u001b[38;5;66;03m# for col in df.columns:\u001b[39;00m\n",
      "\u001b[0;32m      3\u001b[0m \u001b[38;5;66;03m#     plt.plot()\u001b[39;00m\n",
      "\u001b[0;32m      4\u001b[0m x\n",
      "\n",
      "\u001b[1;31mNameError\u001b[0m: name 'linespace' is not defined"
     ]
    }
   ],
   "source": [
    "x = np.linspace(1,1,len(df))\n",
    "# for col in df.columns:\n",
    "#     plt.plot()\n",
    "x"
   ]
  },
  {
   "cell_type": "code",
   "execution_count": null,
   "id": "72a0995c",
   "metadata": {},
   "outputs": [],
   "source": []
  },
  {
   "cell_type": "code",
   "execution_count": null,
   "id": "9f0d2b49",
   "metadata": {},
   "outputs": [],
   "source": []
  },
  {
   "cell_type": "code",
   "execution_count": null,
   "id": "76d636de",
   "metadata": {},
   "outputs": [],
   "source": []
  },
  {
   "cell_type": "code",
   "execution_count": null,
   "id": "a5ad064c",
   "metadata": {},
   "outputs": [],
   "source": []
  },
  {
   "cell_type": "code",
   "execution_count": null,
   "id": "4fa72dfe",
   "metadata": {},
   "outputs": [],
   "source": []
  },
  {
   "cell_type": "code",
   "execution_count": null,
   "id": "7e8d226a",
   "metadata": {},
   "outputs": [],
   "source": []
  },
  {
   "cell_type": "code",
   "execution_count": null,
   "id": "17980066",
   "metadata": {},
   "outputs": [],
   "source": []
  },
  {
   "cell_type": "code",
   "execution_count": null,
   "id": "2e4c05ff",
   "metadata": {},
   "outputs": [],
   "source": []
  },
  {
   "cell_type": "code",
   "execution_count": null,
   "id": "4b67347b",
   "metadata": {},
   "outputs": [],
   "source": []
  },
  {
   "cell_type": "code",
   "execution_count": null,
   "id": "3ab84369",
   "metadata": {},
   "outputs": [],
   "source": []
  },
  {
   "cell_type": "code",
   "execution_count": null,
   "id": "9dec2ab7",
   "metadata": {},
   "outputs": [],
   "source": []
  },
  {
   "cell_type": "code",
   "execution_count": null,
   "id": "c40c9160",
   "metadata": {},
   "outputs": [],
   "source": []
  },
  {
   "cell_type": "code",
   "execution_count": null,
   "id": "dca3c90b",
   "metadata": {},
   "outputs": [],
   "source": []
  },
  {
   "cell_type": "code",
   "execution_count": null,
   "id": "4c54e77f",
   "metadata": {},
   "outputs": [],
   "source": []
  }
 ],
 "metadata": {
  "kernelspec": {
   "display_name": "Python 3 (ipykernel)",
   "language": "python",
   "name": "python3"
  },
  "language_info": {
   "codemirror_mode": {
    "name": "ipython",
    "version": 3
   },
   "file_extension": ".py",
   "mimetype": "text/x-python",
   "name": "python",
   "nbconvert_exporter": "python",
   "pygments_lexer": "ipython3",
   "version": "3.9.13"
  },
  "vscode": {
   "interpreter": {
    "hash": "3b53fefe42d2d71b636828d40fad557841cd1616365ae1c416b9de74dc15856a"
   }
  }
 },
 "nbformat": 4,
 "nbformat_minor": 5
}
