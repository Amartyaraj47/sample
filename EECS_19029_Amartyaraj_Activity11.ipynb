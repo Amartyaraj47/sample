{
 "cells": [
  {
   "cell_type": "markdown",
   "id": "9373af32",
   "metadata": {},
   "source": [
    "# Activity 11\n",
    "## <span style='color:Red'> Name : </span> `Amartyaraj Kumar`\n",
    "#  <span style='color:Red'> Roll : </span>  `19029` \n",
    "#### <span style='color:Red'> Date : </span>  `12/11/22`"
   ]
  },
  {
   "cell_type": "markdown",
   "id": "c9658c31",
   "metadata": {},
   "source": [
    "# Introduction to TensorFlow"
   ]
  },
  {
   "cell_type": "markdown",
   "id": "61b0bd92",
   "metadata": {},
   "source": [
    "## <span style='color:Green'>Activity 1: </span> `Implementing a Mathematical Equation`"
   ]
  },
  {
   "cell_type": "code",
   "execution_count": 1,
   "id": "4a9dc031",
   "metadata": {},
   "outputs": [
    {
     "name": "stdout",
     "output_type": "stream",
     "text": [
      "Requirement already satisfied: pip in c:\\users\\amart\\anaconda3\\lib\\site-packages (22.2.2)\n",
      "Collecting pip\n",
      "  Downloading pip-22.3.1-py3-none-any.whl (2.1 MB)\n",
      "     ---------------------------------------- 2.1/2.1 MB 6.5 MB/s eta 0:00:00\n",
      "Installing collected packages: pip\n",
      "  Attempting uninstall: pip\n",
      "    Found existing installation: pip 22.2.2\n",
      "    Uninstalling pip-22.2.2:\n",
      "      Successfully uninstalled pip-22.2.2\n",
      "Successfully installed pip-22.3.1\n",
      "Note: you may need to restart the kernel to use updated packages.\n"
     ]
    }
   ],
   "source": [
    "pip install --upgrade pip"
   ]
  },
  {
   "cell_type": "code",
   "execution_count": 1,
   "id": "2a42eb37",
   "metadata": {},
   "outputs": [
    {
     "name": "stdout",
     "output_type": "stream",
     "text": [
      "Collecting tensorflow\n",
      "  Downloading tensorflow-2.10.0-cp39-cp39-win_amd64.whl (455.9 MB)\n",
      "     -------------------------------------- 455.9/455.9 MB 3.5 MB/s eta 0:00:00\n",
      "Requirement already satisfied: typing-extensions>=3.6.6 in c:\\users\\amart\\anaconda3\\lib\\site-packages (from tensorflow) (4.3.0)\n",
      "Collecting opt-einsum>=2.3.2\n",
      "  Downloading opt_einsum-3.3.0-py3-none-any.whl (65 kB)\n",
      "     ---------------------------------------- 65.5/65.5 kB 3.7 MB/s eta 0:00:00\n",
      "Collecting flatbuffers>=2.0\n",
      "  Downloading flatbuffers-22.10.26-py2.py3-none-any.whl (26 kB)\n",
      "Collecting absl-py>=1.0.0\n",
      "  Downloading absl_py-1.3.0-py3-none-any.whl (124 kB)\n",
      "     -------------------------------------- 124.6/124.6 kB 7.6 MB/s eta 0:00:00\n",
      "Collecting protobuf<3.20,>=3.9.2\n",
      "  Downloading protobuf-3.19.6-cp39-cp39-win_amd64.whl (895 kB)\n",
      "     -------------------------------------- 895.9/895.9 kB 7.1 MB/s eta 0:00:00\n",
      "Collecting termcolor>=1.1.0\n",
      "  Downloading termcolor-2.1.0-py3-none-any.whl (5.8 kB)\n",
      "Requirement already satisfied: numpy>=1.20 in c:\\users\\amart\\anaconda3\\lib\\site-packages (from tensorflow) (1.21.5)\n",
      "Collecting tensorflow-io-gcs-filesystem>=0.23.1\n",
      "  Downloading tensorflow_io_gcs_filesystem-0.27.0-cp39-cp39-win_amd64.whl (1.5 MB)\n",
      "     ---------------------------------------- 1.5/1.5 MB 6.7 MB/s eta 0:00:00\n",
      "Collecting keras<2.11,>=2.10.0\n",
      "  Downloading keras-2.10.0-py2.py3-none-any.whl (1.7 MB)\n",
      "     ---------------------------------------- 1.7/1.7 MB 6.7 MB/s eta 0:00:00\n",
      "Requirement already satisfied: packaging in c:\\users\\amart\\anaconda3\\lib\\site-packages (from tensorflow) (21.3)\n",
      "Collecting tensorflow-estimator<2.11,>=2.10.0\n",
      "  Downloading tensorflow_estimator-2.10.0-py2.py3-none-any.whl (438 kB)\n",
      "     -------------------------------------- 438.7/438.7 kB 6.9 MB/s eta 0:00:00\n",
      "Collecting google-pasta>=0.1.1\n",
      "  Downloading google_pasta-0.2.0-py3-none-any.whl (57 kB)\n",
      "     ---------------------------------------- 57.5/57.5 kB ? eta 0:00:00\n",
      "Collecting gast<=0.4.0,>=0.2.1\n",
      "  Downloading gast-0.4.0-py3-none-any.whl (9.8 kB)\n",
      "Collecting grpcio<2.0,>=1.24.3\n",
      "  Downloading grpcio-1.50.0-cp39-cp39-win_amd64.whl (3.7 MB)\n",
      "     ---------------------------------------- 3.7/3.7 MB 6.9 MB/s eta 0:00:00\n",
      "Requirement already satisfied: wrapt>=1.11.0 in c:\\users\\amart\\anaconda3\\lib\\site-packages (from tensorflow) (1.14.1)\n",
      "Collecting tensorboard<2.11,>=2.10\n",
      "  Downloading tensorboard-2.10.1-py3-none-any.whl (5.9 MB)\n",
      "     ---------------------------------------- 5.9/5.9 MB 7.4 MB/s eta 0:00:00\n",
      "Requirement already satisfied: six>=1.12.0 in c:\\users\\amart\\anaconda3\\lib\\site-packages (from tensorflow) (1.16.0)\n",
      "Collecting keras-preprocessing>=1.1.1\n",
      "  Downloading Keras_Preprocessing-1.1.2-py2.py3-none-any.whl (42 kB)\n",
      "     ---------------------------------------- 42.6/42.6 kB ? eta 0:00:00\n",
      "Requirement already satisfied: h5py>=2.9.0 in c:\\users\\amart\\anaconda3\\lib\\site-packages (from tensorflow) (3.7.0)\n",
      "Collecting libclang>=13.0.0\n",
      "  Downloading libclang-14.0.6-py2.py3-none-win_amd64.whl (14.2 MB)\n",
      "     ---------------------------------------- 14.2/14.2 MB 7.1 MB/s eta 0:00:00\n",
      "Collecting astunparse>=1.6.0\n",
      "  Downloading astunparse-1.6.3-py2.py3-none-any.whl (12 kB)\n",
      "Requirement already satisfied: setuptools in c:\\users\\amart\\anaconda3\\lib\\site-packages (from tensorflow) (63.4.1)\n",
      "Requirement already satisfied: wheel<1.0,>=0.23.0 in c:\\users\\amart\\anaconda3\\lib\\site-packages (from astunparse>=1.6.0->tensorflow) (0.37.1)\n",
      "Collecting google-auth<3,>=1.6.3\n",
      "  Downloading google_auth-2.14.1-py2.py3-none-any.whl (175 kB)\n",
      "     ------------------------------------- 175.4/175.4 kB 10.3 MB/s eta 0:00:00\n",
      "Collecting tensorboard-plugin-wit>=1.6.0\n",
      "  Downloading tensorboard_plugin_wit-1.8.1-py3-none-any.whl (781 kB)\n",
      "     -------------------------------------- 781.3/781.3 kB 8.2 MB/s eta 0:00:00\n",
      "Collecting google-auth-oauthlib<0.5,>=0.4.1\n",
      "  Downloading google_auth_oauthlib-0.4.6-py2.py3-none-any.whl (18 kB)\n",
      "Requirement already satisfied: requests<3,>=2.21.0 in c:\\users\\amart\\anaconda3\\lib\\site-packages (from tensorboard<2.11,>=2.10->tensorflow) (2.28.1)\n",
      "Collecting tensorboard-data-server<0.7.0,>=0.6.0\n",
      "  Downloading tensorboard_data_server-0.6.1-py3-none-any.whl (2.4 kB)\n",
      "Requirement already satisfied: werkzeug>=1.0.1 in c:\\users\\amart\\anaconda3\\lib\\site-packages (from tensorboard<2.11,>=2.10->tensorflow) (2.0.3)\n",
      "Requirement already satisfied: markdown>=2.6.8 in c:\\users\\amart\\anaconda3\\lib\\site-packages (from tensorboard<2.11,>=2.10->tensorflow) (3.3.4)\n",
      "Requirement already satisfied: pyparsing!=3.0.5,>=2.0.2 in c:\\users\\amart\\anaconda3\\lib\\site-packages (from packaging->tensorflow) (3.0.9)\n",
      "Requirement already satisfied: pyasn1-modules>=0.2.1 in c:\\users\\amart\\anaconda3\\lib\\site-packages (from google-auth<3,>=1.6.3->tensorboard<2.11,>=2.10->tensorflow) (0.2.8)\n",
      "Collecting cachetools<6.0,>=2.0.0\n",
      "  Downloading cachetools-5.2.0-py3-none-any.whl (9.3 kB)\n",
      "Collecting rsa<5,>=3.1.4\n",
      "  Downloading rsa-4.9-py3-none-any.whl (34 kB)\n",
      "Collecting requests-oauthlib>=0.7.0\n",
      "  Downloading requests_oauthlib-1.3.1-py2.py3-none-any.whl (23 kB)\n",
      "Requirement already satisfied: idna<4,>=2.5 in c:\\users\\amart\\anaconda3\\lib\\site-packages (from requests<3,>=2.21.0->tensorboard<2.11,>=2.10->tensorflow) (3.3)\n",
      "Requirement already satisfied: urllib3<1.27,>=1.21.1 in c:\\users\\amart\\anaconda3\\lib\\site-packages (from requests<3,>=2.21.0->tensorboard<2.11,>=2.10->tensorflow) (1.26.11)\n",
      "Requirement already satisfied: certifi>=2017.4.17 in c:\\users\\amart\\anaconda3\\lib\\site-packages (from requests<3,>=2.21.0->tensorboard<2.11,>=2.10->tensorflow) (2022.9.14)\n",
      "Requirement already satisfied: charset-normalizer<3,>=2 in c:\\users\\amart\\anaconda3\\lib\\site-packages (from requests<3,>=2.21.0->tensorboard<2.11,>=2.10->tensorflow) (2.0.4)\n",
      "Requirement already satisfied: pyasn1<0.5.0,>=0.4.6 in c:\\users\\amart\\anaconda3\\lib\\site-packages (from pyasn1-modules>=0.2.1->google-auth<3,>=1.6.3->tensorboard<2.11,>=2.10->tensorflow) (0.4.8)\n",
      "Collecting oauthlib>=3.0.0\n",
      "  Downloading oauthlib-3.2.2-py3-none-any.whl (151 kB)\n",
      "     -------------------------------------- 151.7/151.7 kB 4.6 MB/s eta 0:00:00\n",
      "Installing collected packages: tensorboard-plugin-wit, libclang, keras, flatbuffers, termcolor, tensorflow-io-gcs-filesystem, tensorflow-estimator, tensorboard-data-server, rsa, protobuf, opt-einsum, oauthlib, keras-preprocessing, grpcio, google-pasta, gast, cachetools, astunparse, absl-py, requests-oauthlib, google-auth, google-auth-oauthlib, tensorboard, tensorflow\n",
      "Successfully installed absl-py-1.3.0 astunparse-1.6.3 cachetools-5.2.0 flatbuffers-22.10.26 gast-0.4.0 google-auth-2.14.1 google-auth-oauthlib-0.4.6 google-pasta-0.2.0 grpcio-1.50.0 keras-2.10.0 keras-preprocessing-1.1.2 libclang-14.0.6 oauthlib-3.2.2 opt-einsum-3.3.0 protobuf-3.19.6 requests-oauthlib-1.3.1 rsa-4.9 tensorboard-2.10.1 tensorboard-data-server-0.6.1 tensorboard-plugin-wit-1.8.1 tensorflow-2.10.0 tensorflow-estimator-2.10.0 tensorflow-io-gcs-filesystem-0.27.0 termcolor-2.1.0\n",
      "Note: you may need to restart the kernel to use updated packages.\n"
     ]
    }
   ],
   "source": [
    "pip install tensorflow"
   ]
  },
  {
   "cell_type": "code",
   "execution_count": 2,
   "id": "9e08a2c0",
   "metadata": {},
   "outputs": [],
   "source": [
    "import tensorflow as tf"
   ]
  },
  {
   "cell_type": "code",
   "execution_count": 4,
   "id": "58f5f223",
   "metadata": {},
   "outputs": [],
   "source": [
    "X=tf.Variable(3)\n",
    "Y=tf.Variable(4)"
   ]
  },
  {
   "cell_type": "code",
   "execution_count": 5,
   "id": "366e5594",
   "metadata": {},
   "outputs": [],
   "source": [
    "C=tf.constant(2)"
   ]
  },
  {
   "cell_type": "code",
   "execution_count": 6,
   "id": "b628ee08",
   "metadata": {},
   "outputs": [],
   "source": [
    "def myfunc(x,y,c):\n",
    "    Z=x*x*y+y+c\n",
    "    return Z"
   ]
  },
  {
   "cell_type": "code",
   "execution_count": 7,
   "id": "a44717b4",
   "metadata": {},
   "outputs": [
    {
     "name": "stdout",
     "output_type": "stream",
     "text": [
      "42\r\n"
     ]
    }
   ],
   "source": [
    "result=myfunc(X,Y,C)\n",
    "tf.print(result)"
   ]
  },
  {
   "cell_type": "markdown",
   "id": "2b644281",
   "metadata": {},
   "source": [
    "## <span style='color:Green'>Activity 2: </span> `Matrix Multiplication Using TensorFlow`"
   ]
  },
  {
   "cell_type": "code",
   "execution_count": 8,
   "id": "6979a4cc",
   "metadata": {},
   "outputs": [],
   "source": [
    "X=tf.Variable([[1,2,3],[4,5,6]])\n",
    "Y=tf.Variable([[7,8],[9,10],[11,12]])"
   ]
  },
  {
   "cell_type": "code",
   "execution_count": 9,
   "id": "abfed568",
   "metadata": {},
   "outputs": [
    {
     "name": "stdout",
     "output_type": "stream",
     "text": [
      "[[1 2 3]\n",
      " [4 5 6]]\r\n"
     ]
    }
   ],
   "source": [
    "tf.print(X)"
   ]
  },
  {
   "cell_type": "code",
   "execution_count": 10,
   "id": "d7d2e820",
   "metadata": {},
   "outputs": [
    {
     "name": "stdout",
     "output_type": "stream",
     "text": [
      "[[7 8]\n",
      " [9 10]\n",
      " [11 12]]\r\n"
     ]
    }
   ],
   "source": [
    "tf.print(Y)"
   ]
  },
  {
   "cell_type": "code",
   "execution_count": 11,
   "id": "17e7c2fc",
   "metadata": {},
   "outputs": [
    {
     "name": "stdout",
     "output_type": "stream",
     "text": [
      "[[58 64]\n",
      " [139 154]]\r\n"
     ]
    }
   ],
   "source": [
    "c1=tf.matmul(X,Y)\n",
    "tf.print(c1)"
   ]
  },
  {
   "cell_type": "code",
   "execution_count": 12,
   "id": "6e9be738",
   "metadata": {},
   "outputs": [
    {
     "name": "stdout",
     "output_type": "stream",
     "text": [
      "[[39 54 69]\n",
      " [49 68 87]\n",
      " [59 82 105]]\r\n"
     ]
    }
   ],
   "source": [
    "c2=tf.matmul(Y,X)\n",
    "tf.print(c2)"
   ]
  },
  {
   "cell_type": "markdown",
   "id": "a1da41b5",
   "metadata": {},
   "source": [
    "## <span style='color:Green'>Activity 3: </span> `Reshaping Matrices Using the reshape() Function in TensorFlow`"
   ]
  },
  {
   "cell_type": "code",
   "execution_count": 13,
   "id": "6efbf585",
   "metadata": {},
   "outputs": [],
   "source": [
    "A=tf.Variable([[1,2,3,4], [5,6,7,8], [9,10,11,12], [13,14,15,16], [17,18,19,20]])"
   ]
  },
  {
   "cell_type": "code",
   "execution_count": 14,
   "id": "3d3869be",
   "metadata": {},
   "outputs": [
    {
     "name": "stdout",
     "output_type": "stream",
     "text": [
      "[[1 2 3 4]\n",
      " [5 6 7 8]\n",
      " [9 10 11 12]\n",
      " [13 14 15 16]\n",
      " [17 18 19 20]]\r\n"
     ]
    }
   ],
   "source": [
    "tf.print(A)"
   ]
  },
  {
   "cell_type": "code",
   "execution_count": 16,
   "id": "bfc5bb80",
   "metadata": {},
   "outputs": [
    {
     "data": {
      "text/plain": [
       "TensorShape([5, 4])"
      ]
     },
     "execution_count": 16,
     "metadata": {},
     "output_type": "execute_result"
    }
   ],
   "source": [
    "A.shape"
   ]
  },
  {
   "cell_type": "code",
   "execution_count": 18,
   "id": "27c33a97",
   "metadata": {},
   "outputs": [
    {
     "name": "stdout",
     "output_type": "stream",
     "text": [
      "[[[1]\n",
      "  [2]\n",
      "  [3]\n",
      "  [4]]\n",
      "\n",
      " [[5]\n",
      "  [6]\n",
      "  [7]\n",
      "  [8]]\n",
      "\n",
      " [[9]\n",
      "  [10]\n",
      "  [11]\n",
      "  [12]]\n",
      "\n",
      " [[13]\n",
      "  [14]\n",
      "  [15]\n",
      "  [16]]\n",
      "\n",
      " [[17]\n",
      "  [18]\n",
      "  [19]\n",
      "  [20]]]\r\n"
     ]
    }
   ],
   "source": [
    "tf.print(tf.reshape(A,[5,4,1]))"
   ]
  },
  {
   "cell_type": "code",
   "execution_count": 19,
   "id": "07a34553",
   "metadata": {},
   "outputs": [
    {
     "data": {
      "text/plain": [
       "TensorShape([5, 4])"
      ]
     },
     "execution_count": 19,
     "metadata": {},
     "output_type": "execute_result"
    }
   ],
   "source": [
    "A.shape"
   ]
  },
  {
   "cell_type": "code",
   "execution_count": 20,
   "id": "a1b73d87",
   "metadata": {},
   "outputs": [],
   "source": [
    "A = tf.reshape(A,[5,4,1])"
   ]
  },
  {
   "cell_type": "code",
   "execution_count": 21,
   "id": "7425840e",
   "metadata": {},
   "outputs": [
    {
     "data": {
      "text/plain": [
       "TensorShape([5, 4, 1])"
      ]
     },
     "execution_count": 21,
     "metadata": {},
     "output_type": "execute_result"
    }
   ],
   "source": [
    "A.shape"
   ]
  },
  {
   "cell_type": "code",
   "execution_count": 22,
   "id": "1c517b49",
   "metadata": {},
   "outputs": [
    {
     "name": "stdout",
     "output_type": "stream",
     "text": [
      "[[[1]\n",
      "  [2]\n",
      "  [3]\n",
      "  [4]]\n",
      "\n",
      " [[5]\n",
      "  [6]\n",
      "  [7]\n",
      "  [8]]\n",
      "\n",
      " [[9]\n",
      "  [10]\n",
      "  [11]\n",
      "  [12]]\n",
      "\n",
      " [[13]\n",
      "  [14]\n",
      "  [15]\n",
      "  [16]]\n",
      "\n",
      " [[17]\n",
      "  [18]\n",
      "  [19]\n",
      "  [20]]]\r\n"
     ]
    }
   ],
   "source": [
    "tf.print(A)"
   ]
  },
  {
   "cell_type": "markdown",
   "id": "8c4bb07b",
   "metadata": {},
   "source": [
    "## <span style='color:Green'>Activity 4: </span> `Implementing the argmax() Function`"
   ]
  },
  {
   "cell_type": "code",
   "execution_count": 23,
   "id": "7124f66a",
   "metadata": {},
   "outputs": [],
   "source": [
    "X=tf.Variable([[91,12,15], [11,88,21],[90, 87,75]])"
   ]
  },
  {
   "cell_type": "code",
   "execution_count": 24,
   "id": "7b5eda27",
   "metadata": {},
   "outputs": [
    {
     "name": "stdout",
     "output_type": "stream",
     "text": [
      "[[91 12 15]\n",
      " [11 88 21]\n",
      " [90 87 75]]\r\n"
     ]
    }
   ],
   "source": [
    "tf.print(X)"
   ]
  },
  {
   "cell_type": "code",
   "execution_count": 25,
   "id": "7b9ff98b",
   "metadata": {},
   "outputs": [
    {
     "data": {
      "text/plain": [
       "TensorShape([3, 3])"
      ]
     },
     "execution_count": 25,
     "metadata": {},
     "output_type": "execute_result"
    }
   ],
   "source": [
    "X.shape"
   ]
  },
  {
   "cell_type": "code",
   "execution_count": 26,
   "id": "eeb0bd0b",
   "metadata": {},
   "outputs": [
    {
     "name": "stdout",
     "output_type": "stream",
     "text": [
      "[0 1 2]\r\n"
     ]
    }
   ],
   "source": [
    "tf.print(tf.argmax(X,axis=0))"
   ]
  },
  {
   "cell_type": "code",
   "execution_count": 27,
   "id": "980f3908",
   "metadata": {},
   "outputs": [
    {
     "name": "stdout",
     "output_type": "stream",
     "text": [
      "[0 1 0]\r\n"
     ]
    }
   ],
   "source": [
    "tf.print(tf.argmax(X,axis=1))"
   ]
  },
  {
   "cell_type": "markdown",
   "id": "652b87d4",
   "metadata": {},
   "source": [
    "## <span style='color:Green'>Activity 5: </span> `Using an Optimizer for a Simple Linear Regression`"
   ]
  },
  {
   "cell_type": "code",
   "execution_count": 28,
   "id": "40b8fccf",
   "metadata": {},
   "outputs": [],
   "source": [
    "import tensorflow as tf\n",
    "w=tf.Variable(0.0)\n",
    "b=tf.Variable(0.0)"
   ]
  },
  {
   "cell_type": "code",
   "execution_count": 29,
   "id": "b4ce1f36",
   "metadata": {},
   "outputs": [],
   "source": [
    "def regression(x):\n",
    "    model=w*x+b\n",
    "    return model"
   ]
  },
  {
   "cell_type": "code",
   "execution_count": 30,
   "id": "79249ae2",
   "metadata": {},
   "outputs": [],
   "source": [
    "x=[1,2,3,4]\n",
    "y=[0,-1,-2,-3]"
   ]
  },
  {
   "cell_type": "code",
   "execution_count": 31,
   "id": "1fc75c2b",
   "metadata": {},
   "outputs": [],
   "source": [
    "loss=lambda:abs(regression(x)-y)"
   ]
  },
  {
   "cell_type": "code",
   "execution_count": 32,
   "id": "610c0107",
   "metadata": {},
   "outputs": [],
   "source": [
    "optimizer=tf.optimizers.Adam(.01)"
   ]
  },
  {
   "cell_type": "code",
   "execution_count": 33,
   "id": "f10cf136",
   "metadata": {},
   "outputs": [],
   "source": [
    "for i in range(1000):\n",
    "    optimizer.minimize(loss,[w,b])"
   ]
  },
  {
   "cell_type": "code",
   "execution_count": 34,
   "id": "c7ac1578",
   "metadata": {},
   "outputs": [
    {
     "name": "stdout",
     "output_type": "stream",
     "text": [
      "-1.00371706 0.999803364\r\n"
     ]
    }
   ],
   "source": [
    "tf.print(w,b)"
   ]
  },
  {
   "cell_type": "code",
   "execution_count": 35,
   "id": "4df96812",
   "metadata": {},
   "outputs": [
    {
     "name": "stdout",
     "output_type": "stream",
     "text": [
      "[-0.00391370058 -1.00763083 -2.01134801 -3.01506495]\r\n"
     ]
    }
   ],
   "source": [
    "tf.print(regression([1,2,3,4]))"
   ]
  },
  {
   "cell_type": "markdown",
   "id": "ed7b6094",
   "metadata": {},
   "source": [
    "# Regression and Classification Models"
   ]
  },
  {
   "cell_type": "markdown",
   "id": "ca03eedb",
   "metadata": {},
   "source": [
    "## <span style='color:Green'>Activity 6: </span> `Creating an ANN with TensorFlow`"
   ]
  },
  {
   "cell_type": "code",
   "execution_count": 36,
   "id": "9e9b22a9",
   "metadata": {},
   "outputs": [],
   "source": [
    "import tensorflow as tf\n",
    "model = tf.keras.Sequential()"
   ]
  },
  {
   "cell_type": "code",
   "execution_count": 38,
   "id": "8a2e6851",
   "metadata": {},
   "outputs": [],
   "source": [
    "model.add(tf.keras.layers.InputLayer(input_shape=(8,), \\\n",
    "name='Input_layer'))"
   ]
  },
  {
   "cell_type": "code",
   "execution_count": 39,
   "id": "0efbea55",
   "metadata": {},
   "outputs": [],
   "source": [
    "model.add(tf.keras.layers.Dense(4, activation='relu',\n",
    "\\\n",
    "name='First_hidden_layer'))\n",
    "model.add(tf.keras.layers.Dense(1,\n",
    "name='Output_layer'))"
   ]
  },
  {
   "cell_type": "code",
   "execution_count": 40,
   "id": "f7a1a5ec",
   "metadata": {},
   "outputs": [
    {
     "data": {
      "text/plain": [
       "[<tf.Variable 'First_hidden_layer/kernel:0' shape=(8, 4) dtype=float32, numpy=\n",
       " array([[ 0.03380632, -0.3711094 , -0.09778374,  0.23758161],\n",
       "        [ 0.65324765, -0.6127907 ,  0.57401854, -0.50358504],\n",
       "        [-0.7049505 ,  0.16309178,  0.50038236, -0.39459077],\n",
       "        [ 0.67216986, -0.00566202,  0.5173488 ,  0.6491197 ],\n",
       "        [ 0.69835037,  0.6676809 ,  0.5859353 ,  0.0272727 ],\n",
       "        [-0.34816515,  0.53284556,  0.61228305, -0.6861104 ],\n",
       "        [-0.4673996 ,  0.5500867 ,  0.10452622, -0.68527925],\n",
       "        [-0.22451052,  0.62958795,  0.26397163,  0.2603898 ]],\n",
       "       dtype=float32)>,\n",
       " <tf.Variable 'First_hidden_layer/bias:0' shape=(4,) dtype=float32, numpy=array([0., 0., 0., 0.], dtype=float32)>,\n",
       " <tf.Variable 'Output_layer/kernel:0' shape=(4, 1) dtype=float32, numpy=\n",
       " array([[ 0.15801549],\n",
       "        [ 0.64632094],\n",
       "        [ 1.0149627 ],\n",
       "        [-0.9763608 ]], dtype=float32)>,\n",
       " <tf.Variable 'Output_layer/bias:0' shape=(1,) dtype=float32, numpy=array([0.], dtype=float32)>]"
      ]
     },
     "execution_count": 40,
     "metadata": {},
     "output_type": "execute_result"
    }
   ],
   "source": [
    "model.variables"
   ]
  },
  {
   "cell_type": "code",
   "execution_count": 48,
   "id": "6ef5d5bf",
   "metadata": {},
   "outputs": [],
   "source": [
    "data = tf.random.normal((32,8))"
   ]
  },
  {
   "cell_type": "code",
   "execution_count": 49,
   "id": "c76f9aa4",
   "metadata": {},
   "outputs": [
    {
     "name": "stdout",
     "output_type": "stream",
     "text": [
      "1/1 [==============================] - 0s 43ms/step\n"
     ]
    },
    {
     "data": {
      "text/plain": [
       "array([[-0.7534119 ],\n",
       "       [ 0.40862477],\n",
       "       [-1.0003477 ],\n",
       "       [ 0.3012515 ],\n",
       "       [ 2.2869735 ],\n",
       "       [ 0.58293223],\n",
       "       [ 0.21602638],\n",
       "       [-1.4903439 ],\n",
       "       [-0.19946504],\n",
       "       [ 0.2786739 ],\n",
       "       [-0.52295446],\n",
       "       [ 2.5273001 ],\n",
       "       [-1.5412862 ],\n",
       "       [ 0.        ],\n",
       "       [ 0.2360581 ],\n",
       "       [ 2.0624735 ],\n",
       "       [ 0.29785728],\n",
       "       [ 2.1208594 ],\n",
       "       [ 2.665603  ],\n",
       "       [ 0.4029443 ],\n",
       "       [ 1.3464026 ],\n",
       "       [ 0.12461513],\n",
       "       [ 2.3253002 ],\n",
       "       [ 0.779581  ],\n",
       "       [-0.19167063],\n",
       "       [ 2.6823916 ],\n",
       "       [ 0.68106896],\n",
       "       [-0.7699774 ],\n",
       "       [ 0.4649785 ],\n",
       "       [ 1.8580629 ],\n",
       "       [-0.25737178],\n",
       "       [ 1.4468434 ]], dtype=float32)"
      ]
     },
     "execution_count": 49,
     "metadata": {},
     "output_type": "execute_result"
    }
   ],
   "source": [
    "model.predict(data)"
   ]
  },
  {
   "cell_type": "markdown",
   "id": "cfc2fdc1",
   "metadata": {},
   "source": [
    "## <span style='color:Green'>Activity 7: </span> `Creating a Linear Regression Model as an ANN with TensorFlow`"
   ]
  },
  {
   "cell_type": "code",
   "execution_count": 51,
   "id": "c7f04a86",
   "metadata": {},
   "outputs": [],
   "source": [
    "import tensorflow as tf\n",
    "import pandas as pd"
   ]
  },
  {
   "cell_type": "code",
   "execution_count": 52,
   "id": "abae7c38",
   "metadata": {},
   "outputs": [
    {
     "data": {
      "text/html": [
       "<div>\n",
       "<style scoped>\n",
       "    .dataframe tbody tr th:only-of-type {\n",
       "        vertical-align: middle;\n",
       "    }\n",
       "\n",
       "    .dataframe tbody tr th {\n",
       "        vertical-align: top;\n",
       "    }\n",
       "\n",
       "    .dataframe thead th {\n",
       "        text-align: right;\n",
       "    }\n",
       "</style>\n",
       "<table border=\"1\" class=\"dataframe\">\n",
       "  <thead>\n",
       "    <tr style=\"text-align: right;\">\n",
       "      <th></th>\n",
       "      <th>station</th>\n",
       "      <th>Date</th>\n",
       "      <th>Present_Tmax</th>\n",
       "      <th>Present_Tmin</th>\n",
       "      <th>LDAPS_RHmin</th>\n",
       "      <th>LDAPS_RHmax</th>\n",
       "      <th>LDAPS_Tmax_lapse</th>\n",
       "      <th>LDAPS_Tmin_lapse</th>\n",
       "      <th>LDAPS_WS</th>\n",
       "      <th>LDAPS_LH</th>\n",
       "      <th>...</th>\n",
       "      <th>LDAPS_PPT2</th>\n",
       "      <th>LDAPS_PPT3</th>\n",
       "      <th>LDAPS_PPT4</th>\n",
       "      <th>lat</th>\n",
       "      <th>lon</th>\n",
       "      <th>DEM</th>\n",
       "      <th>Slope</th>\n",
       "      <th>Solar radiation</th>\n",
       "      <th>Next_Tmax</th>\n",
       "      <th>Next_Tmin</th>\n",
       "    </tr>\n",
       "  </thead>\n",
       "  <tbody>\n",
       "    <tr>\n",
       "      <th>0</th>\n",
       "      <td>1.0</td>\n",
       "      <td>2013-06-30</td>\n",
       "      <td>28.7</td>\n",
       "      <td>21.4</td>\n",
       "      <td>58.255688</td>\n",
       "      <td>91.116364</td>\n",
       "      <td>28.074101</td>\n",
       "      <td>23.006936</td>\n",
       "      <td>6.818887</td>\n",
       "      <td>69.451805</td>\n",
       "      <td>...</td>\n",
       "      <td>0.0</td>\n",
       "      <td>0.0</td>\n",
       "      <td>0.0</td>\n",
       "      <td>37.6046</td>\n",
       "      <td>126.991</td>\n",
       "      <td>212.3350</td>\n",
       "      <td>2.7850</td>\n",
       "      <td>5992.895996</td>\n",
       "      <td>29.1</td>\n",
       "      <td>21.2</td>\n",
       "    </tr>\n",
       "    <tr>\n",
       "      <th>1</th>\n",
       "      <td>2.0</td>\n",
       "      <td>2013-06-30</td>\n",
       "      <td>31.9</td>\n",
       "      <td>21.6</td>\n",
       "      <td>52.263397</td>\n",
       "      <td>90.604721</td>\n",
       "      <td>29.850689</td>\n",
       "      <td>24.035009</td>\n",
       "      <td>5.691890</td>\n",
       "      <td>51.937448</td>\n",
       "      <td>...</td>\n",
       "      <td>0.0</td>\n",
       "      <td>0.0</td>\n",
       "      <td>0.0</td>\n",
       "      <td>37.6046</td>\n",
       "      <td>127.032</td>\n",
       "      <td>44.7624</td>\n",
       "      <td>0.5141</td>\n",
       "      <td>5869.312500</td>\n",
       "      <td>30.5</td>\n",
       "      <td>22.5</td>\n",
       "    </tr>\n",
       "    <tr>\n",
       "      <th>2</th>\n",
       "      <td>3.0</td>\n",
       "      <td>2013-06-30</td>\n",
       "      <td>31.6</td>\n",
       "      <td>23.3</td>\n",
       "      <td>48.690479</td>\n",
       "      <td>83.973587</td>\n",
       "      <td>30.091292</td>\n",
       "      <td>24.565633</td>\n",
       "      <td>6.138224</td>\n",
       "      <td>20.573050</td>\n",
       "      <td>...</td>\n",
       "      <td>0.0</td>\n",
       "      <td>0.0</td>\n",
       "      <td>0.0</td>\n",
       "      <td>37.5776</td>\n",
       "      <td>127.058</td>\n",
       "      <td>33.3068</td>\n",
       "      <td>0.2661</td>\n",
       "      <td>5863.555664</td>\n",
       "      <td>31.1</td>\n",
       "      <td>23.9</td>\n",
       "    </tr>\n",
       "    <tr>\n",
       "      <th>3</th>\n",
       "      <td>4.0</td>\n",
       "      <td>2013-06-30</td>\n",
       "      <td>32.0</td>\n",
       "      <td>23.4</td>\n",
       "      <td>58.239788</td>\n",
       "      <td>96.483688</td>\n",
       "      <td>29.704629</td>\n",
       "      <td>23.326177</td>\n",
       "      <td>5.650050</td>\n",
       "      <td>65.727144</td>\n",
       "      <td>...</td>\n",
       "      <td>0.0</td>\n",
       "      <td>0.0</td>\n",
       "      <td>0.0</td>\n",
       "      <td>37.6450</td>\n",
       "      <td>127.022</td>\n",
       "      <td>45.7160</td>\n",
       "      <td>2.5348</td>\n",
       "      <td>5856.964844</td>\n",
       "      <td>31.7</td>\n",
       "      <td>24.3</td>\n",
       "    </tr>\n",
       "    <tr>\n",
       "      <th>4</th>\n",
       "      <td>5.0</td>\n",
       "      <td>2013-06-30</td>\n",
       "      <td>31.4</td>\n",
       "      <td>21.9</td>\n",
       "      <td>56.174095</td>\n",
       "      <td>90.155128</td>\n",
       "      <td>29.113934</td>\n",
       "      <td>23.486480</td>\n",
       "      <td>5.735004</td>\n",
       "      <td>107.965535</td>\n",
       "      <td>...</td>\n",
       "      <td>0.0</td>\n",
       "      <td>0.0</td>\n",
       "      <td>0.0</td>\n",
       "      <td>37.5507</td>\n",
       "      <td>127.135</td>\n",
       "      <td>35.0380</td>\n",
       "      <td>0.5055</td>\n",
       "      <td>5859.552246</td>\n",
       "      <td>31.2</td>\n",
       "      <td>22.5</td>\n",
       "    </tr>\n",
       "  </tbody>\n",
       "</table>\n",
       "<p>5 rows × 25 columns</p>\n",
       "</div>"
      ],
      "text/plain": [
       "   station        Date  Present_Tmax  Present_Tmin  LDAPS_RHmin  LDAPS_RHmax  \\\n",
       "0      1.0  2013-06-30          28.7          21.4    58.255688    91.116364   \n",
       "1      2.0  2013-06-30          31.9          21.6    52.263397    90.604721   \n",
       "2      3.0  2013-06-30          31.6          23.3    48.690479    83.973587   \n",
       "3      4.0  2013-06-30          32.0          23.4    58.239788    96.483688   \n",
       "4      5.0  2013-06-30          31.4          21.9    56.174095    90.155128   \n",
       "\n",
       "   LDAPS_Tmax_lapse  LDAPS_Tmin_lapse  LDAPS_WS    LDAPS_LH  ...  LDAPS_PPT2  \\\n",
       "0         28.074101         23.006936  6.818887   69.451805  ...         0.0   \n",
       "1         29.850689         24.035009  5.691890   51.937448  ...         0.0   \n",
       "2         30.091292         24.565633  6.138224   20.573050  ...         0.0   \n",
       "3         29.704629         23.326177  5.650050   65.727144  ...         0.0   \n",
       "4         29.113934         23.486480  5.735004  107.965535  ...         0.0   \n",
       "\n",
       "   LDAPS_PPT3  LDAPS_PPT4      lat      lon       DEM   Slope  \\\n",
       "0         0.0         0.0  37.6046  126.991  212.3350  2.7850   \n",
       "1         0.0         0.0  37.6046  127.032   44.7624  0.5141   \n",
       "2         0.0         0.0  37.5776  127.058   33.3068  0.2661   \n",
       "3         0.0         0.0  37.6450  127.022   45.7160  2.5348   \n",
       "4         0.0         0.0  37.5507  127.135   35.0380  0.5055   \n",
       "\n",
       "   Solar radiation  Next_Tmax  Next_Tmin  \n",
       "0      5992.895996       29.1       21.2  \n",
       "1      5869.312500       30.5       22.5  \n",
       "2      5863.555664       31.1       23.9  \n",
       "3      5856.964844       31.7       24.3  \n",
       "4      5859.552246       31.2       22.5  \n",
       "\n",
       "[5 rows x 25 columns]"
      ]
     },
     "execution_count": 52,
     "metadata": {},
     "output_type": "execute_result"
    }
   ],
   "source": [
    "df = pd.read_csv('./Activity 11/Datasets/Bias_correction_ucl.csv')\n",
    "df.head()"
   ]
  },
  {
   "cell_type": "code",
   "execution_count": 53,
   "id": "7e5f1f01",
   "metadata": {},
   "outputs": [],
   "source": [
    "df.drop('Date', inplace=True, axis=1)\n",
    "df.dropna(inplace=True)"
   ]
  },
  {
   "cell_type": "code",
   "execution_count": 54,
   "id": "009a0c56",
   "metadata": {},
   "outputs": [],
   "source": [
    "target = df[['Next_Tmax', 'Next_Tmin']]\n",
    "features = df.drop(['Next_Tmax', 'Next_Tmin'],\n",
    "axis=1)"
   ]
  },
  {
   "cell_type": "code",
   "execution_count": 55,
   "id": "3964d347",
   "metadata": {},
   "outputs": [],
   "source": [
    "from sklearn.preprocessing import MinMaxScaler\n",
    "scaler = MinMaxScaler()\n",
    "feature_array = scaler.fit_transform(features)\n",
    "features = pd.DataFrame(feature_array,\n",
    "columns=features.columns)"
   ]
  },
  {
   "cell_type": "code",
   "execution_count": 56,
   "id": "1f439cea",
   "metadata": {},
   "outputs": [],
   "source": [
    "model = tf.keras.Sequential()"
   ]
  },
  {
   "cell_type": "code",
   "execution_count": 57,
   "id": "c0702c83",
   "metadata": {},
   "outputs": [],
   "source": [
    "model.add(tf.keras.layers.InputLayer\\\n",
    "(input_shape=(features.shape[1],), \\\n",
    "name='Input_layer'))"
   ]
  },
  {
   "cell_type": "code",
   "execution_count": 58,
   "id": "cb483ab5",
   "metadata": {},
   "outputs": [],
   "source": [
    "model.add(tf.keras.layers.Dense(2,\n",
    "name='Output_layer'))"
   ]
  },
  {
   "cell_type": "code",
   "execution_count": 59,
   "id": "b2c27310",
   "metadata": {},
   "outputs": [],
   "source": [
    "model.compile(tf.optimizers.RMSprop(0.001),\n",
    "loss='mse')"
   ]
  },
  {
   "cell_type": "code",
   "execution_count": 61,
   "id": "29685cae",
   "metadata": {},
   "outputs": [],
   "source": [
    "tensorboard_callback = tf.keras.callbacks\\\n",
    ".TensorBoard(log_dir=\"./logs\")"
   ]
  },
  {
   "cell_type": "code",
   "execution_count": 62,
   "id": "8fd05a42",
   "metadata": {},
   "outputs": [
    {
     "name": "stdout",
     "output_type": "stream",
     "text": [
      "Epoch 1/50\n",
      "238/238 [==============================] - 1s 1ms/step - loss: 662.0165\n",
      "Epoch 2/50\n",
      "238/238 [==============================] - 0s 2ms/step - loss: 557.5430\n",
      "Epoch 3/50\n",
      "238/238 [==============================] - 0s 2ms/step - loss: 462.8298\n",
      "Epoch 4/50\n",
      "238/238 [==============================] - 0s 1ms/step - loss: 377.6689\n",
      "Epoch 5/50\n",
      "238/238 [==============================] - 0s 2ms/step - loss: 302.0603\n",
      "Epoch 6/50\n",
      "238/238 [==============================] - 0s 2ms/step - loss: 236.1071\n",
      "Epoch 7/50\n",
      "238/238 [==============================] - 0s 2ms/step - loss: 179.7164\n",
      "Epoch 8/50\n",
      "238/238 [==============================] - 1s 2ms/step - loss: 132.8354\n",
      "Epoch 9/50\n",
      "238/238 [==============================] - 0s 2ms/step - loss: 95.5889\n",
      "Epoch 10/50\n",
      "238/238 [==============================] - 0s 1ms/step - loss: 67.6969\n",
      "Epoch 11/50\n",
      "238/238 [==============================] - 0s 1ms/step - loss: 48.5868\n",
      "Epoch 12/50\n",
      "238/238 [==============================] - 0s 2ms/step - loss: 35.8947\n",
      "Epoch 13/50\n",
      "238/238 [==============================] - 0s 1ms/step - loss: 27.8984\n",
      "Epoch 14/50\n",
      "238/238 [==============================] - 0s 2ms/step - loss: 23.3689\n",
      "Epoch 15/50\n",
      "238/238 [==============================] - 0s 2ms/step - loss: 20.6119\n",
      "Epoch 16/50\n",
      "238/238 [==============================] - 0s 1ms/step - loss: 18.5431\n",
      "Epoch 17/50\n",
      "238/238 [==============================] - 0s 2ms/step - loss: 16.7748\n",
      "Epoch 18/50\n",
      "238/238 [==============================] - 0s 2ms/step - loss: 15.2052\n",
      "Epoch 19/50\n",
      "238/238 [==============================] - 0s 2ms/step - loss: 13.7662\n",
      "Epoch 20/50\n",
      "238/238 [==============================] - 0s 1ms/step - loss: 12.4778\n",
      "Epoch 21/50\n",
      "238/238 [==============================] - 0s 2ms/step - loss: 11.2964\n",
      "Epoch 22/50\n",
      "238/238 [==============================] - 0s 2ms/step - loss: 10.2881\n",
      "Epoch 23/50\n",
      "238/238 [==============================] - 0s 2ms/step - loss: 9.3894\n",
      "Epoch 24/50\n",
      "238/238 [==============================] - 0s 1ms/step - loss: 8.5835\n",
      "Epoch 25/50\n",
      "238/238 [==============================] - 0s 1ms/step - loss: 7.8763\n",
      "Epoch 26/50\n",
      "238/238 [==============================] - 0s 2ms/step - loss: 7.2637\n",
      "Epoch 27/50\n",
      "238/238 [==============================] - 0s 2ms/step - loss: 6.7243\n",
      "Epoch 28/50\n",
      "238/238 [==============================] - 0s 1ms/step - loss: 6.2721\n",
      "Epoch 29/50\n",
      "238/238 [==============================] - 0s 2ms/step - loss: 5.8791\n",
      "Epoch 30/50\n",
      "238/238 [==============================] - 0s 1ms/step - loss: 5.5557\n",
      "Epoch 31/50\n",
      "238/238 [==============================] - 0s 1ms/step - loss: 5.2899\n",
      "Epoch 32/50\n",
      "238/238 [==============================] - 0s 2ms/step - loss: 5.0703\n",
      "Epoch 33/50\n",
      "238/238 [==============================] - 0s 2ms/step - loss: 4.8863\n",
      "Epoch 34/50\n",
      "238/238 [==============================] - 0s 2ms/step - loss: 4.7344\n",
      "Epoch 35/50\n",
      "238/238 [==============================] - 0s 1ms/step - loss: 4.6090\n",
      "Epoch 36/50\n",
      "238/238 [==============================] - 0s 1ms/step - loss: 4.5017\n",
      "Epoch 37/50\n",
      "238/238 [==============================] - 0s 2ms/step - loss: 4.4078\n",
      "Epoch 38/50\n",
      "238/238 [==============================] - 0s 2ms/step - loss: 4.3282\n",
      "Epoch 39/50\n",
      "238/238 [==============================] - 1s 2ms/step - loss: 4.2489\n",
      "Epoch 40/50\n",
      "238/238 [==============================] - 0s 2ms/step - loss: 4.1768\n",
      "Epoch 41/50\n",
      "238/238 [==============================] - 0s 2ms/step - loss: 4.1110\n",
      "Epoch 42/50\n",
      "238/238 [==============================] - 0s 2ms/step - loss: 4.0494\n",
      "Epoch 43/50\n",
      "238/238 [==============================] - 0s 2ms/step - loss: 3.9888\n",
      "Epoch 44/50\n",
      "238/238 [==============================] - 0s 2ms/step - loss: 3.9325\n",
      "Epoch 45/50\n",
      "238/238 [==============================] - 0s 2ms/step - loss: 3.8767\n",
      "Epoch 46/50\n",
      "238/238 [==============================] - 0s 1ms/step - loss: 3.8207\n",
      "Epoch 47/50\n",
      "238/238 [==============================] - 0s 1ms/step - loss: 3.7722\n",
      "Epoch 48/50\n",
      "238/238 [==============================] - 0s 1ms/step - loss: 3.7228\n",
      "Epoch 49/50\n",
      "238/238 [==============================] - 0s 1ms/step - loss: 3.6763\n",
      "Epoch 50/50\n",
      "238/238 [==============================] - 0s 1ms/step - loss: 3.6332\n"
     ]
    },
    {
     "data": {
      "text/plain": [
       "<keras.callbacks.History at 0x19b64e8adc0>"
      ]
     },
     "execution_count": 62,
     "metadata": {},
     "output_type": "execute_result"
    }
   ],
   "source": [
    "model.fit(x=features.to_numpy(),\n",
    "y=target.to_numpy(),\\\n",
    "epochs=50,\n",
    "callbacks=[tensorboard_callback])"
   ]
  },
  {
   "cell_type": "code",
   "execution_count": 63,
   "id": "8e7f7b60",
   "metadata": {},
   "outputs": [
    {
     "name": "stdout",
     "output_type": "stream",
     "text": [
      "238/238 [==============================] - 0s 1ms/step - loss: 3.6092\n",
      "loss: 3.609191417694092\n"
     ]
    }
   ],
   "source": [
    "loss = model.evaluate(features.to_numpy(),\n",
    "target.to_numpy())\n",
    "print('loss:', loss)"
   ]
  },
  {
   "cell_type": "markdown",
   "id": "1ba00b27",
   "metadata": {},
   "source": [
    "## <span style='color:Green'>Activity 8: </span> `Creating a Multi-Layer ANN with TensorFlow`"
   ]
  },
  {
   "cell_type": "code",
   "execution_count": 69,
   "id": "c113b938",
   "metadata": {},
   "outputs": [],
   "source": [
    "import tensorflow as tf\n",
    "import pandas as pd"
   ]
  },
  {
   "cell_type": "code",
   "execution_count": 64,
   "id": "25646700",
   "metadata": {},
   "outputs": [],
   "source": [
    "# load the data\n",
    "df = pd.read_csv('./Activity 11/Datasets/Bias_correction_ucl.csv')"
   ]
  },
  {
   "cell_type": "code",
   "execution_count": 65,
   "id": "4f9b8527",
   "metadata": {},
   "outputs": [],
   "source": [
    "df.drop('Date', inplace=True, axis=1)\n",
    "df.dropna(inplace=True)"
   ]
  },
  {
   "cell_type": "code",
   "execution_count": 66,
   "id": "5bec939c",
   "metadata": {},
   "outputs": [],
   "source": [
    "target = df[['Next_Tmax', 'Next_Tmin']]\n",
    "features = df.drop(['Next_Tmax', 'Next_Tmin'],\n",
    "axis=1)"
   ]
  },
  {
   "cell_type": "code",
   "execution_count": 67,
   "id": "d3abe640",
   "metadata": {},
   "outputs": [],
   "source": [
    "from sklearn.preprocessing import MinMaxScaler\n",
    "scaler = MinMaxScaler()\n",
    "\n",
    "feature_array = scaler.fit_transform(features)\n",
    "features = pd.DataFrame(feature_array,\n",
    "columns=features.columns)"
   ]
  },
  {
   "cell_type": "code",
   "execution_count": 68,
   "id": "86ecfe72",
   "metadata": {},
   "outputs": [],
   "source": [
    "model = tf.keras.Sequential()"
   ]
  },
  {
   "cell_type": "code",
   "execution_count": 69,
   "id": "11b9fbb3",
   "metadata": {},
   "outputs": [],
   "source": [
    "model.add(tf.keras.layers.InputLayer\\\n",
    "(input_shape=(features.shape\n",
    "[1],), \\\n",
    "name='Input_layer'))"
   ]
  },
  {
   "cell_type": "code",
   "execution_count": 70,
   "id": "60777268",
   "metadata": {},
   "outputs": [],
   "source": [
    "model.add(tf.keras.layers.Dense(16,\n",
    "name='Dense_layer_1'))\n",
    "model.add(tf.keras.layers.Dense(8,\n",
    "name='Dense_layer_2'))\n",
    "model.add(tf.keras.layers.Dense(4,\n",
    "name='Dense_layer_3'))\n",
    "model.add(tf.keras.layers.Dense(2,\n",
    "name='Output_layer'))"
   ]
  },
  {
   "cell_type": "code",
   "execution_count": 71,
   "id": "f32b680d",
   "metadata": {},
   "outputs": [],
   "source": [
    "model.compile(tf.optimizers.RMSprop(0.001),\n",
    "loss='mse')"
   ]
  },
  {
   "cell_type": "code",
   "execution_count": 72,
   "id": "0e8ab4e9",
   "metadata": {},
   "outputs": [],
   "source": [
    "tensorboard_callback = tf.keras.callbacks\\\n",
    ".TensorBoard(log_dir=\"./logs\")"
   ]
  },
  {
   "cell_type": "code",
   "execution_count": 73,
   "id": "8d5f2023",
   "metadata": {},
   "outputs": [
    {
     "name": "stdout",
     "output_type": "stream",
     "text": [
      "Epoch 1/50\n",
      "190/190 [==============================] - 1s 3ms/step - loss: 423.1741 - val_loss: 35.0995\n",
      "Epoch 2/50\n",
      "190/190 [==============================] - 0s 2ms/step - loss: 17.2627 - val_loss: 8.5652\n",
      "Epoch 3/50\n",
      "190/190 [==============================] - 0s 2ms/step - loss: 6.2625 - val_loss: 5.2382\n",
      "Epoch 4/50\n",
      "190/190 [==============================] - 0s 2ms/step - loss: 4.1942 - val_loss: 4.2865\n",
      "Epoch 5/50\n",
      "190/190 [==============================] - 0s 2ms/step - loss: 3.4030 - val_loss: 3.9633\n",
      "Epoch 6/50\n",
      "190/190 [==============================] - 0s 2ms/step - loss: 2.9888 - val_loss: 3.5797\n",
      "Epoch 7/50\n",
      "190/190 [==============================] - 0s 2ms/step - loss: 2.6371 - val_loss: 3.0588\n",
      "Epoch 8/50\n",
      "190/190 [==============================] - 1s 3ms/step - loss: 2.3943 - val_loss: 3.2480\n",
      "Epoch 9/50\n",
      "190/190 [==============================] - 1s 3ms/step - loss: 2.2182 - val_loss: 2.9126\n",
      "Epoch 10/50\n",
      "190/190 [==============================] - 1s 3ms/step - loss: 2.0713 - val_loss: 2.4937\n",
      "Epoch 11/50\n",
      "190/190 [==============================] - 1s 3ms/step - loss: 1.9782 - val_loss: 2.6223\n",
      "Epoch 12/50\n",
      "190/190 [==============================] - 0s 2ms/step - loss: 1.8986 - val_loss: 2.3110\n",
      "Epoch 13/50\n",
      "190/190 [==============================] - 1s 3ms/step - loss: 1.8415 - val_loss: 2.3925\n",
      "Epoch 14/50\n",
      "190/190 [==============================] - 1s 3ms/step - loss: 1.8010 - val_loss: 2.2321\n",
      "Epoch 15/50\n",
      "190/190 [==============================] - 1s 3ms/step - loss: 1.7590 - val_loss: 2.1451\n",
      "Epoch 16/50\n",
      "190/190 [==============================] - 0s 2ms/step - loss: 1.7381 - val_loss: 2.1904\n",
      "Epoch 17/50\n",
      "190/190 [==============================] - 0s 2ms/step - loss: 1.7154 - val_loss: 2.1290\n",
      "Epoch 18/50\n",
      "190/190 [==============================] - 0s 2ms/step - loss: 1.7007 - val_loss: 2.0060\n",
      "Epoch 19/50\n",
      "190/190 [==============================] - 0s 2ms/step - loss: 1.6854 - val_loss: 1.9624\n",
      "Epoch 20/50\n",
      "190/190 [==============================] - 0s 2ms/step - loss: 1.6702 - val_loss: 2.1192\n",
      "Epoch 21/50\n",
      "190/190 [==============================] - 0s 2ms/step - loss: 1.6613 - val_loss: 2.2868\n",
      "Epoch 22/50\n",
      "190/190 [==============================] - 0s 2ms/step - loss: 1.6577 - val_loss: 2.1160\n",
      "Epoch 23/50\n",
      "190/190 [==============================] - 0s 2ms/step - loss: 1.6446 - val_loss: 1.9319\n",
      "Epoch 24/50\n",
      "190/190 [==============================] - 0s 2ms/step - loss: 1.6464 - val_loss: 1.9996\n",
      "Epoch 25/50\n",
      "190/190 [==============================] - 0s 2ms/step - loss: 1.6368 - val_loss: 2.0841\n",
      "Epoch 26/50\n",
      "190/190 [==============================] - 0s 2ms/step - loss: 1.6358 - val_loss: 2.2234\n",
      "Epoch 27/50\n",
      "190/190 [==============================] - 0s 2ms/step - loss: 1.6336 - val_loss: 1.9202\n",
      "Epoch 28/50\n",
      "190/190 [==============================] - 0s 2ms/step - loss: 1.6245 - val_loss: 1.9236\n",
      "Epoch 29/50\n",
      "190/190 [==============================] - 0s 2ms/step - loss: 1.6201 - val_loss: 1.8431\n",
      "Epoch 30/50\n",
      "190/190 [==============================] - 1s 3ms/step - loss: 1.6295 - val_loss: 1.8906\n",
      "Epoch 31/50\n",
      "190/190 [==============================] - 0s 3ms/step - loss: 1.6328 - val_loss: 1.8890\n",
      "Epoch 32/50\n",
      "190/190 [==============================] - 0s 2ms/step - loss: 1.6215 - val_loss: 1.9298\n",
      "Epoch 33/50\n",
      "190/190 [==============================] - 0s 2ms/step - loss: 1.6206 - val_loss: 2.0325\n",
      "Epoch 34/50\n",
      "190/190 [==============================] - 0s 2ms/step - loss: 1.6165 - val_loss: 1.9386\n",
      "Epoch 35/50\n",
      "190/190 [==============================] - 0s 2ms/step - loss: 1.6165 - val_loss: 2.0203\n",
      "Epoch 36/50\n",
      "190/190 [==============================] - 1s 3ms/step - loss: 1.6220 - val_loss: 1.9648\n",
      "Epoch 37/50\n",
      "190/190 [==============================] - 0s 2ms/step - loss: 1.6111 - val_loss: 1.9885\n",
      "Epoch 38/50\n",
      "190/190 [==============================] - 0s 2ms/step - loss: 1.6143 - val_loss: 2.2334\n",
      "Epoch 39/50\n",
      "190/190 [==============================] - 0s 3ms/step - loss: 1.6158 - val_loss: 2.0102\n",
      "Epoch 40/50\n",
      "190/190 [==============================] - 0s 2ms/step - loss: 1.5993 - val_loss: 1.9232\n",
      "Epoch 41/50\n",
      "190/190 [==============================] - 1s 3ms/step - loss: 1.6106 - val_loss: 1.8782\n",
      "Epoch 42/50\n",
      "190/190 [==============================] - 0s 2ms/step - loss: 1.6110 - val_loss: 1.8611\n",
      "Epoch 43/50\n",
      "190/190 [==============================] - 0s 2ms/step - loss: 1.6100 - val_loss: 2.0886\n",
      "Epoch 44/50\n",
      "190/190 [==============================] - 1s 3ms/step - loss: 1.6058 - val_loss: 1.9371\n",
      "Epoch 45/50\n",
      "190/190 [==============================] - 0s 3ms/step - loss: 1.6029 - val_loss: 2.0719\n",
      "Epoch 46/50\n",
      "190/190 [==============================] - 1s 3ms/step - loss: 1.6028 - val_loss: 1.9162\n",
      "Epoch 47/50\n",
      "190/190 [==============================] - 0s 3ms/step - loss: 1.6005 - val_loss: 2.1253\n",
      "Epoch 48/50\n",
      "190/190 [==============================] - 1s 3ms/step - loss: 1.6160 - val_loss: 2.0582\n",
      "Epoch 49/50\n",
      "190/190 [==============================] - 1s 3ms/step - loss: 1.6020 - val_loss: 2.1785\n",
      "Epoch 50/50\n",
      "190/190 [==============================] - 0s 2ms/step - loss: 1.6030 - val_loss: 2.1184\n"
     ]
    },
    {
     "data": {
      "text/plain": [
       "<keras.callbacks.History at 0x19b6702ec70>"
      ]
     },
     "execution_count": 73,
     "metadata": {},
     "output_type": "execute_result"
    }
   ],
   "source": [
    "model.fit(x=features.to_numpy(),\n",
    "y=target.to_numpy(),\\\n",
    "epochs=50, callbacks=[tensorboard_callback]\n",
    ", \\\n",
    "validation_split=0.2)"
   ]
  },
  {
   "cell_type": "code",
   "execution_count": 74,
   "id": "f30561fb",
   "metadata": {},
   "outputs": [
    {
     "name": "stdout",
     "output_type": "stream",
     "text": [
      "238/238 [==============================] - 0s 1ms/step - loss: 1.7006\n",
      "loss: 1.7005542516708374\n"
     ]
    }
   ],
   "source": [
    "loss = model.evaluate(features.to_numpy(),\n",
    "target.to_numpy())\n",
    "print('loss:', loss)"
   ]
  },
  {
   "cell_type": "markdown",
   "id": "bd2f8785",
   "metadata": {},
   "source": [
    "## <span style='color:Green'>Activity 9: </span> `Creating a Logistic Regression Model as an ANN with TensorFlow`"
   ]
  },
  {
   "cell_type": "code",
   "execution_count": 78,
   "id": "b2916cef",
   "metadata": {},
   "outputs": [],
   "source": [
    "df = pd.read_csv('./Activity 11/Datasets/qsar_androgen_receptor.csv', sep=';')"
   ]
  },
  {
   "cell_type": "code",
   "execution_count": 79,
   "id": "3d47fa89",
   "metadata": {},
   "outputs": [],
   "source": [
    "df.dropna(inplace=True)"
   ]
  },
  {
   "cell_type": "code",
   "execution_count": 80,
   "id": "980941c3",
   "metadata": {},
   "outputs": [],
   "source": [
    "target = df['positive'].apply(lambda x: 1 if\n",
    "x=='positive' else 0)\n",
    "features = df.drop('positive', axis=1)"
   ]
  },
  {
   "cell_type": "code",
   "execution_count": 81,
   "id": "f8a8d4e5",
   "metadata": {},
   "outputs": [],
   "source": [
    "model = tf.keras.Sequential()"
   ]
  },
  {
   "cell_type": "code",
   "execution_count": 82,
   "id": "9532f08c",
   "metadata": {},
   "outputs": [],
   "source": [
    "model.add(tf.keras.layers.InputLayer\\\n",
    "(input_shape=(features.shape[1],), \\\n",
    "name='Input_layer'))"
   ]
  },
  {
   "cell_type": "code",
   "execution_count": 83,
   "id": "0d58eb75",
   "metadata": {},
   "outputs": [],
   "source": [
    "model.add(tf.keras.layers.Dense(1,\n",
    "name='Output_layer', \\\n",
    "activation='sigmoid')\n",
    ")"
   ]
  },
  {
   "cell_type": "code",
   "execution_count": 84,
   "id": "b95fda98",
   "metadata": {},
   "outputs": [],
   "source": [
    "model.compile(tf.optimizers.RMSprop(0.0001), \\\n",
    "loss='binary_crossentropy',\n",
    "metrics=['accuracy'])"
   ]
  },
  {
   "cell_type": "code",
   "execution_count": 86,
   "id": "1b32de8e",
   "metadata": {},
   "outputs": [],
   "source": [
    "tensorboard_callback = tf.keras.callbacks.TensorBoard(log_dir=\"./logs\")"
   ]
  },
  {
   "cell_type": "code",
   "execution_count": 87,
   "id": "da95eeb4",
   "metadata": {},
   "outputs": [
    {
     "name": "stdout",
     "output_type": "stream",
     "text": [
      "Epoch 1/50\n",
      "43/43 [==============================] - 1s 10ms/step - loss: 0.6926 - accuracy: 0.5282 - val_loss: 0.6186 - val_accuracy: 0.7337\n",
      "Epoch 2/50\n",
      "43/43 [==============================] - 0s 4ms/step - loss: 0.6214 - accuracy: 0.7352 - val_loss: 0.5187 - val_accuracy: 0.8728\n",
      "Epoch 3/50\n",
      "43/43 [==============================] - 0s 4ms/step - loss: 0.5730 - accuracy: 0.8227 - val_loss: 0.4545 - val_accuracy: 0.9112\n",
      "Epoch 4/50\n",
      "43/43 [==============================] - 0s 4ms/step - loss: 0.5387 - accuracy: 0.8494 - val_loss: 0.4092 - val_accuracy: 0.9231\n",
      "Epoch 5/50\n",
      "43/43 [==============================] - 0s 4ms/step - loss: 0.5130 - accuracy: 0.8635 - val_loss: 0.3804 - val_accuracy: 0.9260\n",
      "Epoch 6/50\n",
      "43/43 [==============================] - 0s 4ms/step - loss: 0.4948 - accuracy: 0.8687 - val_loss: 0.3585 - val_accuracy: 0.9260\n",
      "Epoch 7/50\n",
      "43/43 [==============================] - 0s 4ms/step - loss: 0.4795 - accuracy: 0.8702 - val_loss: 0.3443 - val_accuracy: 0.9260\n",
      "Epoch 8/50\n",
      "43/43 [==============================] - 0s 4ms/step - loss: 0.4672 - accuracy: 0.8709 - val_loss: 0.3326 - val_accuracy: 0.9260\n",
      "Epoch 9/50\n",
      "43/43 [==============================] - 0s 4ms/step - loss: 0.4560 - accuracy: 0.8709 - val_loss: 0.3242 - val_accuracy: 0.9260\n",
      "Epoch 10/50\n",
      "43/43 [==============================] - 0s 4ms/step - loss: 0.4461 - accuracy: 0.8717 - val_loss: 0.3170 - val_accuracy: 0.9260\n",
      "Epoch 11/50\n",
      "43/43 [==============================] - 0s 4ms/step - loss: 0.4375 - accuracy: 0.8717 - val_loss: 0.3131 - val_accuracy: 0.9260\n",
      "Epoch 12/50\n",
      "43/43 [==============================] - 0s 4ms/step - loss: 0.4295 - accuracy: 0.8717 - val_loss: 0.3087 - val_accuracy: 0.9260\n",
      "Epoch 13/50\n",
      "43/43 [==============================] - 0s 5ms/step - loss: 0.4217 - accuracy: 0.8717 - val_loss: 0.3061 - val_accuracy: 0.9260\n",
      "Epoch 14/50\n",
      "43/43 [==============================] - 0s 4ms/step - loss: 0.4142 - accuracy: 0.8717 - val_loss: 0.3028 - val_accuracy: 0.9260\n",
      "Epoch 15/50\n",
      "43/43 [==============================] - 0s 4ms/step - loss: 0.4071 - accuracy: 0.8717 - val_loss: 0.3009 - val_accuracy: 0.9260\n",
      "Epoch 16/50\n",
      "43/43 [==============================] - 0s 4ms/step - loss: 0.4001 - accuracy: 0.8717 - val_loss: 0.3001 - val_accuracy: 0.9260\n",
      "Epoch 17/50\n",
      "43/43 [==============================] - 0s 4ms/step - loss: 0.3935 - accuracy: 0.8717 - val_loss: 0.2975 - val_accuracy: 0.9260\n",
      "Epoch 18/50\n",
      "43/43 [==============================] - 0s 5ms/step - loss: 0.3870 - accuracy: 0.8717 - val_loss: 0.2958 - val_accuracy: 0.9260\n",
      "Epoch 19/50\n",
      "43/43 [==============================] - 0s 5ms/step - loss: 0.3809 - accuracy: 0.8717 - val_loss: 0.2950 - val_accuracy: 0.9260\n",
      "Epoch 20/50\n",
      "43/43 [==============================] - 0s 4ms/step - loss: 0.3751 - accuracy: 0.8724 - val_loss: 0.2934 - val_accuracy: 0.9260\n",
      "Epoch 21/50\n",
      "43/43 [==============================] - 0s 5ms/step - loss: 0.3696 - accuracy: 0.8724 - val_loss: 0.2924 - val_accuracy: 0.9260\n",
      "Epoch 22/50\n",
      "43/43 [==============================] - 0s 7ms/step - loss: 0.3643 - accuracy: 0.8731 - val_loss: 0.2908 - val_accuracy: 0.9260\n",
      "Epoch 23/50\n",
      "43/43 [==============================] - 0s 8ms/step - loss: 0.3591 - accuracy: 0.8746 - val_loss: 0.2901 - val_accuracy: 0.9231\n",
      "Epoch 24/50\n",
      "43/43 [==============================] - 0s 5ms/step - loss: 0.3542 - accuracy: 0.8761 - val_loss: 0.2906 - val_accuracy: 0.9260\n",
      "Epoch 25/50\n",
      "43/43 [==============================] - 0s 5ms/step - loss: 0.3492 - accuracy: 0.8783 - val_loss: 0.2906 - val_accuracy: 0.9260\n",
      "Epoch 26/50\n",
      "43/43 [==============================] - 0s 4ms/step - loss: 0.3444 - accuracy: 0.8798 - val_loss: 0.2912 - val_accuracy: 0.9260\n",
      "Epoch 27/50\n",
      "43/43 [==============================] - 0s 4ms/step - loss: 0.3400 - accuracy: 0.8820 - val_loss: 0.2919 - val_accuracy: 0.9290\n",
      "Epoch 28/50\n",
      "43/43 [==============================] - 0s 4ms/step - loss: 0.3357 - accuracy: 0.8828 - val_loss: 0.2921 - val_accuracy: 0.9290\n",
      "Epoch 29/50\n",
      "43/43 [==============================] - 0s 3ms/step - loss: 0.3316 - accuracy: 0.8835 - val_loss: 0.2916 - val_accuracy: 0.9290\n",
      "Epoch 30/50\n",
      "43/43 [==============================] - 0s 3ms/step - loss: 0.3276 - accuracy: 0.8843 - val_loss: 0.2923 - val_accuracy: 0.9260\n",
      "Epoch 31/50\n",
      "43/43 [==============================] - 0s 3ms/step - loss: 0.3237 - accuracy: 0.8858 - val_loss: 0.2930 - val_accuracy: 0.9231\n",
      "Epoch 32/50\n",
      "43/43 [==============================] - 0s 4ms/step - loss: 0.3198 - accuracy: 0.8880 - val_loss: 0.2951 - val_accuracy: 0.9201\n",
      "Epoch 33/50\n",
      "43/43 [==============================] - 0s 4ms/step - loss: 0.3163 - accuracy: 0.8895 - val_loss: 0.2958 - val_accuracy: 0.9201\n",
      "Epoch 34/50\n",
      "43/43 [==============================] - 0s 7ms/step - loss: 0.3130 - accuracy: 0.8924 - val_loss: 0.2955 - val_accuracy: 0.9260\n",
      "Epoch 35/50\n",
      "43/43 [==============================] - 0s 5ms/step - loss: 0.3097 - accuracy: 0.8954 - val_loss: 0.2959 - val_accuracy: 0.9290\n",
      "Epoch 36/50\n",
      "43/43 [==============================] - 0s 4ms/step - loss: 0.3067 - accuracy: 0.8961 - val_loss: 0.2976 - val_accuracy: 0.9320\n",
      "Epoch 37/50\n",
      "43/43 [==============================] - 0s 4ms/step - loss: 0.3037 - accuracy: 0.8984 - val_loss: 0.2996 - val_accuracy: 0.9320\n",
      "Epoch 38/50\n",
      "43/43 [==============================] - 0s 4ms/step - loss: 0.3009 - accuracy: 0.8999 - val_loss: 0.2972 - val_accuracy: 0.9320\n",
      "Epoch 39/50\n",
      "43/43 [==============================] - 0s 4ms/step - loss: 0.2984 - accuracy: 0.9006 - val_loss: 0.2983 - val_accuracy: 0.9320\n",
      "Epoch 40/50\n",
      "43/43 [==============================] - 0s 4ms/step - loss: 0.2956 - accuracy: 0.9021 - val_loss: 0.2993 - val_accuracy: 0.9320\n",
      "Epoch 41/50\n",
      "43/43 [==============================] - 0s 4ms/step - loss: 0.2930 - accuracy: 0.9036 - val_loss: 0.2986 - val_accuracy: 0.9260\n",
      "Epoch 42/50\n",
      "43/43 [==============================] - 0s 4ms/step - loss: 0.2903 - accuracy: 0.9043 - val_loss: 0.2993 - val_accuracy: 0.9320\n",
      "Epoch 43/50\n",
      "43/43 [==============================] - 0s 4ms/step - loss: 0.2880 - accuracy: 0.9043 - val_loss: 0.3000 - val_accuracy: 0.9290\n",
      "Epoch 44/50\n",
      "43/43 [==============================] - 0s 4ms/step - loss: 0.2856 - accuracy: 0.9050 - val_loss: 0.3010 - val_accuracy: 0.9201\n",
      "Epoch 45/50\n",
      "43/43 [==============================] - 0s 4ms/step - loss: 0.2834 - accuracy: 0.9050 - val_loss: 0.3045 - val_accuracy: 0.9201\n",
      "Epoch 46/50\n",
      "43/43 [==============================] - 0s 5ms/step - loss: 0.2811 - accuracy: 0.9080 - val_loss: 0.3036 - val_accuracy: 0.9172\n",
      "Epoch 47/50\n",
      "43/43 [==============================] - 0s 4ms/step - loss: 0.2792 - accuracy: 0.9073 - val_loss: 0.3046 - val_accuracy: 0.9172\n",
      "Epoch 48/50\n",
      "43/43 [==============================] - 0s 4ms/step - loss: 0.2772 - accuracy: 0.9088 - val_loss: 0.3037 - val_accuracy: 0.9172\n",
      "Epoch 49/50\n",
      "43/43 [==============================] - 0s 5ms/step - loss: 0.2753 - accuracy: 0.9088 - val_loss: 0.3063 - val_accuracy: 0.9112\n",
      "Epoch 50/50\n",
      "43/43 [==============================] - 0s 4ms/step - loss: 0.2733 - accuracy: 0.9095 - val_loss: 0.3092 - val_accuracy: 0.9083\n"
     ]
    },
    {
     "data": {
      "text/plain": [
       "<keras.callbacks.History at 0x19b66fab070>"
      ]
     },
     "execution_count": 87,
     "metadata": {},
     "output_type": "execute_result"
    }
   ],
   "source": [
    "model.fit(x=features.to_numpy(), y=target.to_numpy(),\n",
    "\\\n",
    "\n",
    "epochs=50, callbacks=[tensorboard_callback]\n",
    ", \\\n",
    "validation_split=0.2)"
   ]
  },
  {
   "cell_type": "code",
   "execution_count": 88,
   "id": "e335405d",
   "metadata": {},
   "outputs": [
    {
     "name": "stdout",
     "output_type": "stream",
     "text": [
      "53/53 [==============================] - 0s 2ms/step - loss: 0.2792 - accuracy: 0.9093\n",
      "loss: 0.27924981713294983, accuracy: 0.9092526435852051\n"
     ]
    }
   ],
   "source": [
    "loss, accuracy = model.evaluate(features.to_numpy(),\n",
    "\\\n",
    "target.to_numpy())\n",
    "print(f'loss: {loss}, accuracy: {accuracy}')"
   ]
  }
 ],
 "metadata": {
  "kernelspec": {
   "display_name": "Python 3 (ipykernel)",
   "language": "python",
   "name": "python3"
  },
  "language_info": {
   "codemirror_mode": {
    "name": "ipython",
    "version": 3
   },
   "file_extension": ".py",
   "mimetype": "text/x-python",
   "name": "python",
   "nbconvert_exporter": "python",
   "pygments_lexer": "ipython3",
   "version": "3.9.13"
  },
  "vscode": {
   "interpreter": {
    "hash": "3b53fefe42d2d71b636828d40fad557841cd1616365ae1c416b9de74dc15856a"
   }
  }
 },
 "nbformat": 4,
 "nbformat_minor": 5
}
