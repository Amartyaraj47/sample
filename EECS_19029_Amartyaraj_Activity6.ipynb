{
 "cells": [
  {
   "cell_type": "markdown",
   "id": "9373af32",
   "metadata": {},
   "source": [
    "## <span style='color:Yellow'> Name : </span> `Amartyaraj Kumar`\n",
    "#  <span style='color:Yellow'> Roll : </span>  `19029` \n",
    "#### <span style='color:Yellow'> Date : </span>  `10/09/22`"
   ]
  },
  {
   "cell_type": "markdown",
   "id": "61b0bd92",
   "metadata": {},
   "source": [
    "#### Couple of Multiple Choice Questions (just warm up)"
   ]
  },
  {
   "cell_type": "markdown",
   "id": "66c1be3d",
   "metadata": {},
   "source": [
    "### MCQ 1"
   ]
  },
  {
   "cell_type": "markdown",
   "id": "95f839f7",
   "metadata": {},
   "source": [
    "Given what we've discussed in this course so far, if you wanted to store information about a date, how would you do so?\n",
    "\n",
    "- A) string\n",
    "- B) dictionary\n",
    "- C) list\n",
    "- D) integers stored in separate variables"
   ]
  },
  {
   "cell_type": "code",
   "execution_count": 73,
   "id": "4a9dc031",
   "metadata": {},
   "outputs": [],
   "source": [
    "# Your answer here:\n",
    "\n",
    "## String"
   ]
  },
  {
   "cell_type": "markdown",
   "id": "d23f5554",
   "metadata": {},
   "source": [
    "### MCQ 2\n",
    "\n",
    "Which of the following statements is true about the example we've been using? "
   ]
  },
  {
   "cell_type": "code",
   "execution_count": 74,
   "id": "cb0fc380",
   "metadata": {},
   "outputs": [],
   "source": [
    "class Dog():\n",
    "    \n",
    "    sound = 'Woof'\n",
    "    \n",
    "    def speak(self, n_times=2):\n",
    "        return self.sound * n_times"
   ]
  },
  {
   "cell_type": "markdown",
   "id": "498c97a5",
   "metadata": {},
   "source": [
    "- A) `Dog` is a Class, `sound` is an attribute, and `speak` is a method. \n",
    "- B) `Dog` is a function, `sound` is an attribute, and `speak` is a method. \n",
    "- C) `Dog` is a Class, `sound` is a method, and `speak` is an attribute. \n",
    "- D) `Dog` is a function, `sound` is an method, and `speak` is an attribute. "
   ]
  },
  {
   "cell_type": "code",
   "execution_count": 125,
   "id": "48ab9d56",
   "metadata": {},
   "outputs": [],
   "source": [
    "# Your answer here:\n",
    "\n",
    "## A"
   ]
  },
  {
   "cell_type": "markdown",
   "id": "4a11c595",
   "metadata": {},
   "source": [
    "### This Notebook has got two parts. \n",
    "### You may want to work on the Part I first, which is at the bottom of this page. \n",
    "### Then come back to the Part II  in the top."
   ]
  },
  {
   "cell_type": "markdown",
   "id": "6f70ce16",
   "metadata": {},
   "source": [
    "# Part II Problem Exercises"
   ]
  },
  {
   "cell_type": "markdown",
   "id": "c927fe51",
   "metadata": {},
   "source": [
    "# Exercise: Creating Simple Objects\n",
    "\n",
    "Create Scoop class and three instances -- here, each instance is one scoop of ice cream\n",
    "\n",
    "You should be able to say the following:\n",
    "\n",
    "`s1 = Scoop('chocolate')`\n",
    "\n",
    "`s2 = Scoop('vanilla')`\n",
    "\n",
    "`s3 = Scoop('coffee')`\n",
    "\n"
   ]
  },
  {
   "cell_type": "markdown",
   "id": "e1a30c0e",
   "metadata": {},
   "source": [
    "Once we are done with the above, then, when I say, `print(s1.flavor)` it should print `chocolate`\n"
   ]
  },
  {
   "cell_type": "code",
   "execution_count": 2,
   "id": "a8e04268",
   "metadata": {},
   "outputs": [],
   "source": [
    "# YOUR CODE HERE\n",
    "\n",
    "class Scoop():\n",
    "    def __init__(self, flavor):\n",
    "        self.flavor = flavor\n",
    "        \n"
   ]
  },
  {
   "cell_type": "code",
   "execution_count": 4,
   "id": "62bb938a",
   "metadata": {},
   "outputs": [
    {
     "name": "stdout",
     "output_type": "stream",
     "text": [
      "chocolate\n"
     ]
    }
   ],
   "source": [
    "s1 = Scoop('chocolate')\n",
    "s2 = Scoop('vanilla')\n",
    "s3 = Scoop('coffee')\n",
    "\n",
    "print(s1.flavor)"
   ]
  },
  {
   "cell_type": "markdown",
   "id": "de3c9346",
   "metadata": {},
   "source": [
    "Iterate over those flavors in a list and print their names \n",
    "\n",
    "It should print `chocolate, vanilla, coffee`"
   ]
  },
  {
   "cell_type": "code",
   "execution_count": 18,
   "id": "eb63ee11",
   "metadata": {},
   "outputs": [
    {
     "name": "stdout",
     "output_type": "stream",
     "text": [
      "chocolate, vanilla, coffee\n"
     ]
    }
   ],
   "source": [
    "# YOUR CODE HERE\n",
    "S = [s1, s2, s3]  # Global frame Scoop , inherited childs s1, s2, s3\n",
    "list1 = ['','',''] # blank list\n",
    "for i in range(3):\n",
    "    list1[i] = S[i].flavor\n",
    "print(', '.join(list1))\n",
    "\n"
   ]
  },
  {
   "cell_type": "markdown",
   "id": "628d2561",
   "metadata": {},
   "source": [
    "# Exercise: Visualize the code with pythontutor\n",
    "\n",
    "Copy the whole code from previous exercise, paste the code in www.pythontutor.com and observe line by line and write your understanding/comments, based on what you visualized."
   ]
  },
  {
   "cell_type": "markdown",
   "id": "aedfa7ae",
   "metadata": {},
   "source": [
    "# Exercise: Create a Bowl Class and methods in it\n",
    "\n",
    "From the previous exercise, we have three scoops. (you can cut and paste the previous exercise code)\n",
    "\n",
    "Now create a Bowl class.  \n",
    "\n",
    "We can put scoops in the Bowl! (we are NOT inheriting anything here). A compositional relationship here.\n",
    "\n",
    "Scoop is a separate class and Bowl is a separate class.\n",
    "\n",
    "    b = Bowl()\n",
    "    \n",
    "Hint: Within the Bowl class create an attribute with empty list `self.scoops = [ ]`.\n",
    "\n",
    "Hint: Create two methods, one for adding scoops (`add_scoops`), given that we may have variable number of scoops, you may want to use splat args (`*new_scoops`) in the `add_scoops` method. Then create another method `flavors` and return the added scoops\n",
    "\n",
    "    b.add_scoops(s1, s2)\n",
    "    b.add_scoops(s3)\n",
    "    b.flavors()  # returns a string of \"chocolate, vanilla, coffee\" \n",
    "    "
   ]
  },
  {
   "cell_type": "code",
   "execution_count": 21,
   "id": "5f1940c2",
   "metadata": {},
   "outputs": [],
   "source": [
    "class Scoop():\n",
    "    def __init__(self, flavor):\n",
    "        self.flavor = flavor\n",
    "\n",
    "\n",
    "class Bowl():\n",
    "    def __init__(self):\n",
    "        self.scoops = []\n",
    "         \n",
    "    def add_scoops(self, *new_scoops):\n",
    "        self.scoops += new_scoops\n",
    "\n",
    "    def flavors(self):\n",
    "        output = []\n",
    "        for flv in self.scoops:\n",
    "            output.append(str(flv.flavor))\n",
    "        #print(output)\n",
    "        #print(\", \".join(output))\n",
    "        return \", \".join(output)\n",
    "\n",
    "\n",
    "\n"
   ]
  },
  {
   "cell_type": "code",
   "execution_count": 22,
   "id": "b57a6e1d",
   "metadata": {},
   "outputs": [
    {
     "data": {
      "text/plain": [
       "'chocolate, vanilla, coffee'"
      ]
     },
     "execution_count": 22,
     "metadata": {},
     "output_type": "execute_result"
    }
   ],
   "source": [
    "b = Bowl()\n",
    "b.add_scoops(s1, s2)\n",
    "b.add_scoops(s3)\n",
    "\n",
    "b.flavors()"
   ]
  },
  {
   "cell_type": "markdown",
   "id": "0e05f860",
   "metadata": {},
   "source": [
    "# Exercise: Class Attribute\n",
    "\n",
    "Modify the Bowl class, such that adding a new scoop to the bowl will only work if you have fewer than 3 scoops.  In other words: max 3 scoops per bowl.\n",
    "\n",
    "Adding a new scoop to a bowl that is already full will be silently ignored.\n",
    "\n",
    "##### Hint: You may want to use the following method in the Bowl class\n",
    "\n",
    "    def add_scoops(self, *new_scoops):\n",
    "\n",
    "        self.scoops += new_scoops[:self.max_scoops-len(self.scoops)]\n"
   ]
  },
  {
   "cell_type": "code",
   "execution_count": 25,
   "id": "5931d648",
   "metadata": {},
   "outputs": [],
   "source": [
    "# YOUR CODE HERE\n",
    "\n",
    "class Bowl():\n",
    "    def __init__(self):\n",
    "        self.scoops = []\n",
    "        self.max_scoops = 3\n",
    "         \n",
    "    def add_scoops(self, *new_scoops):\n",
    "        self.scoops += new_scoops[0:self.max_scoops-len(self.scoops)]\n",
    "    \n",
    "\n",
    "    def flavors(self):\n",
    "        output = []\n",
    "        for flv in self.scoops:\n",
    "            output.append(str(flv.flavor))\n",
    "        #print(output)\n",
    "        #print(\", \".join(output))\n",
    "        return \", \".join(output)\n"
   ]
  },
  {
   "cell_type": "code",
   "execution_count": 27,
   "id": "c27a9c87",
   "metadata": {},
   "outputs": [
    {
     "data": {
      "text/plain": [
       "'chocolate, vanilla, Raspberry'"
      ]
     },
     "execution_count": 27,
     "metadata": {},
     "output_type": "execute_result"
    }
   ],
   "source": [
    "b = Bowl()\n",
    "b.add_scoops(s1, s2, Scoop('Raspberry'))\n",
    "b.add_scoops(s3)\n",
    "\n",
    "b.flavors()"
   ]
  },
  {
   "cell_type": "markdown",
   "id": "576ab846",
   "metadata": {},
   "source": [
    "# Exercise: Inheritance\n",
    "Take our existing Bowl class (for ice cream), and create a\n",
    "    subclass called BigBowl.  A BigBowl is just like a Bowl, except\n",
    "    that it has a maximum of 5 scoops, not 3."
   ]
  },
  {
   "cell_type": "code",
   "execution_count": 30,
   "id": "76289ab2",
   "metadata": {},
   "outputs": [],
   "source": [
    "# YOUR CODE HERE\n",
    "class BigBowl(Bowl):\n",
    "    def __init__(self):\n",
    "        self.scoops = []\n",
    "        self.max_scoops = 5\n",
    "\n"
   ]
  },
  {
   "cell_type": "code",
   "execution_count": 32,
   "id": "fdf7adc5",
   "metadata": {},
   "outputs": [
    {
     "data": {
      "text/plain": [
       "'chocolate, vanilla, Raspberry, coffee'"
      ]
     },
     "execution_count": 32,
     "metadata": {},
     "output_type": "execute_result"
    }
   ],
   "source": [
    "b = BigBowl()\n",
    "b.add_scoops(s1, s2, Scoop('Raspberry'))\n",
    "b.add_scoops(s3)\n",
    "\n",
    "b.flavors()"
   ]
  },
  {
   "cell_type": "markdown",
   "id": "e658541f",
   "metadata": {},
   "source": [
    "# Part I Practice Exercises\n",
    "\n",
    "### To make things easier, first work on the Practice Exercises given in the pdf file and enter them in cells below."
   ]
  },
  {
   "cell_type": "markdown",
   "id": "0515aacd",
   "metadata": {},
   "source": [
    "# Excercise 1"
   ]
  },
  {
   "cell_type": "code",
   "execution_count": 80,
   "id": "05a0ed49",
   "metadata": {},
   "outputs": [
    {
     "data": {
      "text/plain": [
       "str"
      ]
     },
     "execution_count": 80,
     "metadata": {},
     "output_type": "execute_result"
    }
   ],
   "source": [
    "my_str = 'hello World!'\n",
    "type(my_str)"
   ]
  },
  {
   "cell_type": "code",
   "execution_count": 81,
   "id": "fff08e06",
   "metadata": {},
   "outputs": [
    {
     "name": "stdout",
     "output_type": "stream",
     "text": [
      "str(object='') -> str\n",
      "str(bytes_or_buffer[, encoding[, errors]]) -> str\n",
      "\n",
      "Create a new string object from the given object. If encoding or\n",
      "errors is specified, then the object must expose a data buffer\n",
      "that will be decoded using the given encoding and error handler.\n",
      "Otherwise, returns the result of object.__str__() (if defined)\n",
      "or repr(object).\n",
      "encoding defaults to sys.getdefaultencoding().\n",
      "errors defaults to 'strict'.\n"
     ]
    }
   ],
   "source": [
    "print(my_str.__doc__)"
   ]
  },
  {
   "cell_type": "code",
   "execution_count": 82,
   "id": "d71cab03",
   "metadata": {},
   "outputs": [
    {
     "data": {
      "text/plain": [
       "['__repr__',\n",
       " '__hash__',\n",
       " '__str__',\n",
       " '__getattribute__',\n",
       " '__lt__',\n",
       " '__le__',\n",
       " '__eq__',\n",
       " '__ne__',\n",
       " '__gt__',\n",
       " '__ge__',\n",
       " '__iter__',\n",
       " '__mod__',\n",
       " '__rmod__',\n",
       " '__len__',\n",
       " '__getitem__',\n",
       " '__add__',\n",
       " '__mul__',\n",
       " '__rmul__',\n",
       " '__contains__',\n",
       " '__new__',\n",
       " 'encode',\n",
       " 'replace',\n",
       " 'split',\n",
       " 'rsplit',\n",
       " 'join',\n",
       " 'capitalize',\n",
       " 'casefold',\n",
       " 'title',\n",
       " 'center',\n",
       " 'count',\n",
       " 'expandtabs',\n",
       " 'find',\n",
       " 'partition',\n",
       " 'index',\n",
       " 'ljust',\n",
       " 'lower',\n",
       " 'lstrip',\n",
       " 'rfind',\n",
       " 'rindex',\n",
       " 'rjust',\n",
       " 'rstrip',\n",
       " 'rpartition',\n",
       " 'splitlines',\n",
       " 'strip',\n",
       " 'swapcase',\n",
       " 'translate',\n",
       " 'upper',\n",
       " 'startswith',\n",
       " 'endswith',\n",
       " 'removeprefix',\n",
       " 'removesuffix',\n",
       " 'isascii',\n",
       " 'islower',\n",
       " 'isupper',\n",
       " 'istitle',\n",
       " 'isspace',\n",
       " 'isdecimal',\n",
       " 'isdigit',\n",
       " 'isnumeric',\n",
       " 'isalpha',\n",
       " 'isalnum',\n",
       " 'isidentifier',\n",
       " 'isprintable',\n",
       " 'zfill',\n",
       " 'format',\n",
       " 'format_map',\n",
       " '__format__',\n",
       " 'maketrans',\n",
       " '__sizeof__',\n",
       " '__getnewargs__',\n",
       " '__doc__',\n",
       " '__setattr__',\n",
       " '__delattr__',\n",
       " '__init__',\n",
       " '__reduce_ex__',\n",
       " '__reduce__',\n",
       " '__subclasshook__',\n",
       " '__init_subclass__',\n",
       " '__dir__',\n",
       " '__class__']"
      ]
     },
     "execution_count": 82,
     "metadata": {},
     "output_type": "execute_result"
    }
   ],
   "source": [
    "my_str.__dir__()"
   ]
  },
  {
   "cell_type": "code",
   "execution_count": 83,
   "id": "34141c7b",
   "metadata": {},
   "outputs": [
    {
     "data": {
      "text/plain": [
       "'Hello world!'"
      ]
     },
     "execution_count": 83,
     "metadata": {},
     "output_type": "execute_result"
    }
   ],
   "source": [
    "my_str.capitalize()"
   ]
  },
  {
   "cell_type": "code",
   "execution_count": 84,
   "id": "9a778eb7",
   "metadata": {},
   "outputs": [
    {
     "data": {
      "text/plain": [
       "'HELLO WORLD!'"
      ]
     },
     "execution_count": 84,
     "metadata": {},
     "output_type": "execute_result"
    }
   ],
   "source": [
    "my_str.upper()"
   ]
  },
  {
   "cell_type": "code",
   "execution_count": 85,
   "id": "fd20f49e",
   "metadata": {},
   "outputs": [
    {
     "data": {
      "text/plain": [
       "'helloWorld!'"
      ]
     },
     "execution_count": 85,
     "metadata": {},
     "output_type": "execute_result"
    }
   ],
   "source": [
    "my_str.replace(' ', '')"
   ]
  },
  {
   "cell_type": "markdown",
   "id": "bd6cd425",
   "metadata": {},
   "source": [
    "# Excercise 2"
   ]
  },
  {
   "cell_type": "code",
   "execution_count": 86,
   "id": "520988e1",
   "metadata": {},
   "outputs": [],
   "source": [
    "class Pet():\n",
    "    \"\"\"\n",
    "    A class to capture useful\n",
    "    information regarding my pets, just\n",
    "    incase I lose track of them.\n",
    "    \"\"\"\n",
    "    is_human = False\n",
    "    owner = 'Michael Smith'"
   ]
  },
  {
   "cell_type": "code",
   "execution_count": 87,
   "id": "79011bd7",
   "metadata": {},
   "outputs": [],
   "source": [
    "chubbles = Pet()\n"
   ]
  },
  {
   "cell_type": "code",
   "execution_count": 88,
   "id": "8a178a05",
   "metadata": {},
   "outputs": [
    {
     "data": {
      "text/plain": [
       "False"
      ]
     },
     "execution_count": 88,
     "metadata": {},
     "output_type": "execute_result"
    }
   ],
   "source": [
    "chubbles.is_human"
   ]
  },
  {
   "cell_type": "code",
   "execution_count": 89,
   "id": "cfc48a24",
   "metadata": {},
   "outputs": [
    {
     "name": "stdout",
     "output_type": "stream",
     "text": [
      "Michael Smith\n",
      "\n",
      "    A class to capture useful\n",
      "    information regarding my pets, just\n",
      "    incase I lose track of them.\n",
      "    \n"
     ]
    }
   ],
   "source": [
    "print(chubbles.owner)\n",
    "print(chubbles.__doc__)"
   ]
  },
  {
   "cell_type": "markdown",
   "id": "3fdbfd59",
   "metadata": {},
   "source": [
    "# Excercise 3"
   ]
  },
  {
   "cell_type": "code",
   "execution_count": 90,
   "id": "9bcaa248",
   "metadata": {},
   "outputs": [],
   "source": [
    "class Circle():\n",
    "    is_shape = True\n",
    "    def __init__(self, radius, color):\n",
    "        self.radius = radius\n",
    "        self.color = color"
   ]
  },
  {
   "cell_type": "code",
   "execution_count": 91,
   "id": "54e3916d",
   "metadata": {},
   "outputs": [],
   "source": [
    "first_circle = Circle(2, 'blue')\n",
    "second_circle = Circle(3, 'red')"
   ]
  },
  {
   "cell_type": "code",
   "execution_count": 92,
   "id": "6a4af1e1",
   "metadata": {},
   "outputs": [
    {
     "data": {
      "text/plain": [
       "True"
      ]
     },
     "execution_count": 92,
     "metadata": {},
     "output_type": "execute_result"
    }
   ],
   "source": [
    "first_circle.is_shape"
   ]
  },
  {
   "cell_type": "code",
   "execution_count": 93,
   "id": "bada09dd",
   "metadata": {},
   "outputs": [
    {
     "data": {
      "text/plain": [
       "'red'"
      ]
     },
     "execution_count": 93,
     "metadata": {},
     "output_type": "execute_result"
    }
   ],
   "source": [
    "second_circle.color"
   ]
  },
  {
   "cell_type": "markdown",
   "id": "ee59544d",
   "metadata": {},
   "source": [
    "# Excercise 4"
   ]
  },
  {
   "cell_type": "code",
   "execution_count": 94,
   "id": "d4fc5921",
   "metadata": {},
   "outputs": [],
   "source": [
    "class Country():\n",
    "    def __init__(self, name='Unspecified', population=None, size_kmsq=None):\n",
    "        self.name = name\n",
    "        self.population = population\n",
    "        self.size_kmsq = size_kmsq"
   ]
  },
  {
   "cell_type": "code",
   "execution_count": 95,
   "id": "988da20f",
   "metadata": {},
   "outputs": [],
   "source": [
    "usa = Country(name='United States of America', size_kmsq=9.8e6)"
   ]
  },
  {
   "cell_type": "code",
   "execution_count": 96,
   "id": "bfb2730c",
   "metadata": {},
   "outputs": [
    {
     "data": {
      "text/plain": [
       "{'name': 'United States of America',\n",
       " 'population': None,\n",
       " 'size_kmsq': 9800000.0}"
      ]
     },
     "execution_count": 96,
     "metadata": {},
     "output_type": "execute_result"
    }
   ],
   "source": [
    "usa.__dict__"
   ]
  },
  {
   "cell_type": "code",
   "execution_count": 97,
   "id": "7a801f13",
   "metadata": {},
   "outputs": [],
   "source": [
    "class Pet():\n",
    "    def __init__(self, height):\n",
    "        self.height = height\n",
    "    is_human = False\n",
    "    owner = 'Michael Smith'\n",
    "\n",
    "    def is_tall(self):\n",
    "        return self.height >= 50"
   ]
  },
  {
   "cell_type": "code",
   "execution_count": 98,
   "id": "3782f97a",
   "metadata": {},
   "outputs": [
    {
     "data": {
      "text/plain": [
       "False"
      ]
     },
     "execution_count": 98,
     "metadata": {},
     "output_type": "execute_result"
    }
   ],
   "source": [
    "bowser = Pet(40)\n",
    "bowser.is_tall()"
   ]
  },
  {
   "cell_type": "code",
   "execution_count": 99,
   "id": "7b9bc86c",
   "metadata": {},
   "outputs": [
    {
     "data": {
      "text/plain": [
       "True"
      ]
     },
     "execution_count": 99,
     "metadata": {},
     "output_type": "execute_result"
    }
   ],
   "source": [
    "bowser.height = 60\n",
    "bowser.is_tall()"
   ]
  },
  {
   "cell_type": "markdown",
   "id": "51a78807",
   "metadata": {},
   "source": [
    "# Excercise 5a"
   ]
  },
  {
   "cell_type": "code",
   "execution_count": 100,
   "id": "d067abea",
   "metadata": {},
   "outputs": [],
   "source": [
    "class Pet():\n",
    "    def __init__(self, height):\n",
    "        self.height = height\n",
    "    is_human = False\n",
    "    owner = 'Michael Smith'\n",
    "\n",
    "    def is_tall(self, tall_if_at_least):\n",
    "        return self.height >= tall_if_at_least"
   ]
  },
  {
   "cell_type": "code",
   "execution_count": 101,
   "id": "d230060f",
   "metadata": {},
   "outputs": [
    {
     "data": {
      "text/plain": [
       "True"
      ]
     },
     "execution_count": 101,
     "metadata": {},
     "output_type": "execute_result"
    }
   ],
   "source": [
    "bowser = Pet(40)\n",
    "bowser.is_tall(30)"
   ]
  },
  {
   "cell_type": "code",
   "execution_count": 102,
   "id": "f3b44601",
   "metadata": {},
   "outputs": [
    {
     "data": {
      "text/plain": [
       "False"
      ]
     },
     "execution_count": 102,
     "metadata": {},
     "output_type": "execute_result"
    }
   ],
   "source": [
    "bowser.is_tall(50)"
   ]
  },
  {
   "cell_type": "markdown",
   "id": "79cebca5",
   "metadata": {},
   "source": [
    "# Excercise 6"
   ]
  },
  {
   "cell_type": "code",
   "execution_count": 103,
   "id": "c67c0c9f",
   "metadata": {},
   "outputs": [],
   "source": [
    "class Country():\n",
    "    def __init__(self,\n",
    "    name='Unspecified', population=None, size_kmsq=None):\n",
    "        self.name = name\n",
    "        self.population = population\n",
    "        self.size_kmsq = size_kmsq\n",
    "    def size_miles_sq(self,\n",
    "        conversion_rate=0.621371):\n",
    "        return self.size_kmsq *conversion_rate ** 2"
   ]
  },
  {
   "cell_type": "code",
   "execution_count": 104,
   "id": "1cd89b8a",
   "metadata": {},
   "outputs": [
    {
     "data": {
      "text/plain": [
       "919694.772584862"
      ]
     },
     "execution_count": 104,
     "metadata": {},
     "output_type": "execute_result"
    }
   ],
   "source": [
    "algeria = Country(name='Algeria', size_kmsq=2.382e6)\n",
    "algeria.size_miles_sq()"
   ]
  },
  {
   "cell_type": "code",
   "execution_count": 105,
   "id": "83efa9b9",
   "metadata": {},
   "outputs": [
    {
     "data": {
      "text/plain": [
       "857520.0"
      ]
     },
     "execution_count": 105,
     "metadata": {},
     "output_type": "execute_result"
    }
   ],
   "source": [
    "algeria.size_miles_sq(conversion_rate=0.6)"
   ]
  },
  {
   "cell_type": "markdown",
   "id": "33784bc0",
   "metadata": {},
   "source": [
    "# Execrcise 7"
   ]
  },
  {
   "cell_type": "code",
   "execution_count": 106,
   "id": "c4d6291a",
   "metadata": {},
   "outputs": [],
   "source": [
    "class Country():\n",
    "    def __init__(self, name='Unspecified', population=None, size_kmsq=None):\n",
    "        self.name = name\n",
    "        self.population = population\n",
    "        self.size_kmsq = size_kmsq\n",
    "    def __str__(self):\n",
    "        return self.name        "
   ]
  },
  {
   "cell_type": "code",
   "execution_count": 107,
   "id": "48cdb4d7",
   "metadata": {},
   "outputs": [
    {
     "name": "stdout",
     "output_type": "stream",
     "text": [
      "Chad\n"
     ]
    }
   ],
   "source": [
    "chad = Country(name='Chad')\n",
    "print(chad)"
   ]
  },
  {
   "cell_type": "code",
   "execution_count": 108,
   "id": "156b47cf",
   "metadata": {},
   "outputs": [],
   "source": [
    "class Country():\n",
    "    def __init__(self, name='Unspecified', population=None, size_kmsq=None):\n",
    "        self.name = name\n",
    "        self.population = population\n",
    "        self.size_kmsq = size_kmsq   \n",
    "    def __str__(self):\n",
    "        label = self.name\n",
    "        if self.population:\n",
    "            label = '%s, population: %s' % (label, self.population)\n",
    "        if self.size_kmsq:\n",
    "            label = '%s, size_kmsq: %s' % (label, self.size_kmsq)\n",
    "        return label"
   ]
  },
  {
   "cell_type": "code",
   "execution_count": 109,
   "id": "11581363",
   "metadata": {},
   "outputs": [
    {
     "name": "stdout",
     "output_type": "stream",
     "text": [
      "Chad, population: 100, size_kmsq: 100\n"
     ]
    }
   ],
   "source": [
    "chad = Country(name='Chad', population=100, size_kmsq = 100)\n",
    "print(chad)"
   ]
  },
  {
   "cell_type": "markdown",
   "id": "d550ff67",
   "metadata": {},
   "source": [
    "# Inheritance"
   ]
  },
  {
   "cell_type": "code",
   "execution_count": 110,
   "id": "8679dc52",
   "metadata": {},
   "outputs": [],
   "source": [
    "class Cat():\n",
    "    is_feline = True\n",
    "    def __init__(self, name, weight):\n",
    "        self.name = name\n",
    "        self.weight = weight"
   ]
  },
  {
   "cell_type": "code",
   "execution_count": 111,
   "id": "d802c225",
   "metadata": {},
   "outputs": [],
   "source": [
    "class Dog():\n",
    "    is_feline = False\n",
    "    def __init__(self, name, weight):\n",
    "        self.name = name\n",
    "        self.weight = weight"
   ]
  },
  {
   "cell_type": "code",
   "execution_count": 112,
   "id": "d8f8f489",
   "metadata": {},
   "outputs": [],
   "source": [
    "class Pet():\n",
    "    def __init__(self, name, weight):\n",
    "        self.name = name\n",
    "        self.weight = weight"
   ]
  },
  {
   "cell_type": "code",
   "execution_count": 113,
   "id": "96aa29ed",
   "metadata": {},
   "outputs": [],
   "source": [
    "class Cat(Pet):\n",
    "    is_feline = True\n",
    "class Dog(Pet):\n",
    "    is_feline = False"
   ]
  },
  {
   "cell_type": "code",
   "execution_count": 114,
   "id": "dbf21a3a",
   "metadata": {},
   "outputs": [
    {
     "data": {
      "text/plain": [
       "8"
      ]
     },
     "execution_count": 114,
     "metadata": {},
     "output_type": "execute_result"
    }
   ],
   "source": [
    "my_cat = Cat('Kibbles', 8)\n",
    "my_cat.weight"
   ]
  },
  {
   "cell_type": "markdown",
   "id": "9b874abf",
   "metadata": {},
   "source": [
    "# Excercise 8"
   ]
  },
  {
   "cell_type": "code",
   "execution_count": 115,
   "id": "eb37ac8c",
   "metadata": {},
   "outputs": [],
   "source": [
    "class Person():\n",
    "    def __init__(self, first_name, last_name):\n",
    "        self.first_name = first_name"
   ]
  },
  {
   "cell_type": "code",
   "execution_count": 116,
   "id": "807ddf12",
   "metadata": {},
   "outputs": [],
   "source": [
    "class Baby(Person):\n",
    "    def speak(self):\n",
    "        print('Blah blah blah')"
   ]
  },
  {
   "cell_type": "code",
   "execution_count": 117,
   "id": "f09e4170",
   "metadata": {},
   "outputs": [],
   "source": [
    "class Adult(Person):\n",
    "    def speak(self):\n",
    "        print('Hello, my name is %s' %self.first_name)"
   ]
  },
  {
   "cell_type": "code",
   "execution_count": 118,
   "id": "b42f1d8d",
   "metadata": {},
   "outputs": [
    {
     "name": "stdout",
     "output_type": "stream",
     "text": [
      "Blah blah blah\n",
      "Hello, my name is Thomas\n"
     ]
    }
   ],
   "source": [
    "jess = Baby('Jessie', 'Mcdonald')\n",
    "tom = Adult('Thomas', 'Smith')\n",
    "jess.speak()\n",
    "tom.speak()"
   ]
  },
  {
   "cell_type": "markdown",
   "id": "042c29eb",
   "metadata": {},
   "source": [
    "# Sub-Classing Classes from Python Packages"
   ]
  },
  {
   "cell_type": "code",
   "execution_count": 119,
   "id": "e7d589c1",
   "metadata": {},
   "outputs": [],
   "source": [
    "class MyInt(int):\n",
    "    def is_divisible_by(self, x):\n",
    "        return self % x == 0"
   ]
  },
  {
   "cell_type": "code",
   "execution_count": 120,
   "id": "4d624a2c",
   "metadata": {},
   "outputs": [
    {
     "data": {
      "text/plain": [
       "True"
      ]
     },
     "execution_count": 120,
     "metadata": {},
     "output_type": "execute_result"
    }
   ],
   "source": [
    "a = MyInt(8)\n",
    "a.is_divisible_by(2)"
   ]
  },
  {
   "cell_type": "markdown",
   "id": "685b0429",
   "metadata": {},
   "source": [
    "# Exercise 9"
   ]
  },
  {
   "cell_type": "code",
   "execution_count": 121,
   "id": "55696610",
   "metadata": {},
   "outputs": [],
   "source": [
    "import datetime"
   ]
  },
  {
   "cell_type": "code",
   "execution_count": 122,
   "id": "505a5aec",
   "metadata": {},
   "outputs": [],
   "source": [
    "class MyDate(datetime.date):\n",
    "    def add_days(self, n):\n",
    "        return self + datetime.timedelta(n)"
   ]
  },
  {
   "cell_type": "code",
   "execution_count": 123,
   "id": "80b6ca66",
   "metadata": {},
   "outputs": [
    {
     "name": "stdout",
     "output_type": "stream",
     "text": [
      "2020-01-10\n",
      "2021-01-04\n"
     ]
    }
   ],
   "source": [
    "d = MyDate(2019, 12, 1)\n",
    "print(d.add_days(40))\n",
    "print(d.add_days(400))"
   ]
  }
 ],
 "metadata": {
  "kernelspec": {
   "display_name": "Python 3 (ipykernel)",
   "language": "python",
   "name": "python3"
  },
  "language_info": {
   "codemirror_mode": {
    "name": "ipython",
    "version": 3
   },
   "file_extension": ".py",
   "mimetype": "text/x-python",
   "name": "python",
   "nbconvert_exporter": "python",
   "pygments_lexer": "ipython3",
   "version": "3.9.7"
  },
  "vscode": {
   "interpreter": {
    "hash": "a077222d77dfe082b8f1dd562ad70e458ac2ab76993a0b248ab0476e32e9e8dd"
   }
  }
 },
 "nbformat": 4,
 "nbformat_minor": 5
}
