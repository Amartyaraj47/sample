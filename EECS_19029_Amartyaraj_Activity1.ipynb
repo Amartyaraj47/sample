{
  "cells": [
    {
      "cell_type": "markdown",
      "id": "9373af32",
      "metadata": {},
      "source": [
        "# Activity 1\n",
        "## <span style='color:Red'> Name : </span> `Amartyaraj Kumar`\n",
        "#  <span style='color:Red'> Roll : </span>  `19029` \n",
        "#### <span style='color:Red'> Date : </span>  `10/08/22`"
      ]
    },
    {
      "cell_type": "markdown",
      "metadata": {
        "id": "EzKVciA3u0PC"
      },
      "source": [
        "# `Exercise`"
      ]
    },
    {
      "cell_type": "markdown",
      "metadata": {
        "id": "VMkSn8ML1l8m"
      },
      "source": [
        "Write a program that uses input to prompt a user for their name and then welcomes them."
      ]
    },
    {
      "cell_type": "code",
      "execution_count": null,
      "metadata": {
        "colab": {
          "base_uri": "https://localhost:8080/"
        },
        "id": "fylKePZFDsTg",
        "outputId": "10a94182-f1d7-42df-d761-980b2b5d6faf"
      },
      "outputs": [
        {
          "data": {
            "text/plain": [
              "False"
            ]
          },
          "execution_count": 2,
          "metadata": {},
          "output_type": "execute_result"
        }
      ],
      "source": [
        "2**2 >= 4 and 13%3 > 1 "
      ]
    },
    {
      "cell_type": "code",
      "execution_count": null,
      "metadata": {
        "colab": {
          "base_uri": "https://localhost:8080/"
        },
        "id": "9OLc3KyQ2IEf",
        "outputId": "824d0797-1190-4436-e8f7-a7a3018de44a"
      },
      "outputs": [
        {
          "name": "stdout",
          "output_type": "stream",
          "text": [
            "Hi ! Please enter your name: ljsdbvc\n"
          ]
        }
      ],
      "source": [
        "name_input = input('Hi ! Please enter your name:')\n",
        "#print(f\"Welcome {name_input} !\")"
      ]
    },
    {
      "cell_type": "code",
      "execution_count": null,
      "metadata": {
        "colab": {
          "base_uri": "https://localhost:8080/"
        },
        "id": "vL1vueyXoGtu",
        "outputId": "c93e2e50-77ef-4e4c-e42b-a3ed94ef0560"
      },
      "outputs": [
        {
          "name": "stdout",
          "output_type": "stream",
          "text": [
            "Enter sentence:my name is.     \n",
            "my name is.\n",
            "3\n",
            "8\n"
          ]
        }
      ],
      "source": [
        "\n"
      ]
    },
    {
      "cell_type": "markdown",
      "metadata": {
        "id": "1VOd6JR31l8n"
      },
      "source": [
        "# `Exercise` "
      ]
    },
    {
      "cell_type": "markdown",
      "metadata": {
        "id": "lT7AwrD61l8n"
      },
      "source": [
        "Write a program to prompt the user for hours and rate per hour to compute gross pay."
      ]
    },
    {
      "cell_type": "code",
      "execution_count": null,
      "metadata": {
        "colab": {
          "base_uri": "https://localhost:8080/"
        },
        "id": "cykBAogS2uex",
        "outputId": "bb54ceae-9a49-46cb-c682-e8e4d8b18614"
      },
      "outputs": [
        {
          "name": "stdout",
          "output_type": "stream",
          "text": [
            "Hi , enter the hours : 69\n",
            "Enter the Rate per hour :69\n",
            "Gross pay = 4761.0 \n"
          ]
        }
      ],
      "source": [
        "\n",
        "input_hours = float(input('Hi , enter the hours : '))\n",
        "input_rate = float(input('Enter the Rate per hour :'))\n",
        "gross_pay = input_hours * input_rate\n",
        "print(f\"Gross pay = {gross_pay} \")"
      ]
    },
    {
      "cell_type": "markdown",
      "metadata": {
        "id": "GnXyPPqv1l8n"
      },
      "source": [
        "# `Exercise`"
      ]
    },
    {
      "cell_type": "markdown",
      "metadata": {
        "id": "Ss5omBKn1l8o"
      },
      "source": [
        "Assume that we execute the following assignment statements:\n",
        "- width = 17\n",
        "- height = 12.0 "
      ]
    },
    {
      "cell_type": "markdown",
      "metadata": {
        "id": "-Ot3iBRN1l8o"
      },
      "source": [
        "For each of the following expressions, write the value of the expression and the type (of the value of the expression). \n",
        "- width//2 \n",
        "- width/2.0 \n",
        "- height/3 \n",
        "- 1 + 2 * 5 "
      ]
    },
    {
      "cell_type": "code",
      "execution_count": null,
      "metadata": {
        "colab": {
          "base_uri": "https://localhost:8080/"
        },
        "id": "tFx7aJ2P3lJ6",
        "outputId": "5dae9261-3eb1-4cf1-8d2a-25d3c69405f3"
      },
      "outputs": [
        {
          "name": "stdout",
          "output_type": "stream",
          "text": [
            "The value is :  8 and the type is:  <class 'int'>\n",
            "The value is :  8.5 and the type is:  <class 'float'>\n",
            "The value is :  5.666666666666667 and the type is:  <class 'float'>\n",
            "The value is : 11 and the type is:  <class 'int'>\n"
          ]
        }
      ],
      "source": [
        "width = 17\n",
        "height = 12.0\n",
        "\n",
        "print(\"The value is : \", width // 2, \"and the type is: \" ,type(width // 2))\n",
        "print(\"The value is : \", width / 2.0 ,\"and the type is: \" , type(width / 2.0))\n",
        "print(\"The value is : \", width / 3 ,\"and the type is: \" , type(width / 3))\n",
        "print(\"The value is :\" , 1 + 2 * 5,\"and the type is: \" , type(1 + 2 * 5))"
      ]
    },
    {
      "cell_type": "markdown",
      "metadata": {
        "id": "4sTYxuAl1l8p"
      },
      "source": [
        "# `Exercise`"
      ]
    },
    {
      "cell_type": "markdown",
      "metadata": {
        "id": "TZrmt-Kt1l8q"
      },
      "source": [
        "- In the below cell, print the six step process using - print- statement...\n",
        "    - 1. Setting the research goal\n",
        "    - 2. Retrieving Data\n",
        "    - 3. Data Preparation\n",
        "    - 4. Data Exploration\n",
        "    - 5. Data Modeling\n",
        "    - 6. Presentation and Automation\n",
        "\n",
        "- Also comment those steps using - # - whatever you understand about the same\n"
      ]
    },
    {
      "cell_type": "code",
      "execution_count": null,
      "metadata": {
        "colab": {
          "base_uri": "https://localhost:8080/"
        },
        "id": "pRkI45ZSu0PD",
        "outputId": "91063a68-bb85-4f0c-e3fb-7e983ca2f110"
      },
      "outputs": [
        {
          "name": "stdout",
          "output_type": "stream",
          "text": [
            "Data Science in Practice\n",
            "Data Science involves 6 step process\n",
            "1. Setting the research goal\n",
            "2. Retrieving Data\n",
            "3. Data Preparation\n",
            "4. Data Exploration\n",
            "5. Data Modeling\n",
            "6. Presentation and Automation\n"
          ]
        }
      ],
      "source": [
        "print('Data Science in Practice')\n",
        "print(\"Data Science involves 6 step process\")\n",
        "#---YOUR CODE HERE ----\n",
        "print('1. Setting the research goal')\n",
        "#In the context of this course, Setting the research goal is a way of formulating the research area and how ML tools fit into that ambit\n",
        "print('2. Retrieving Data')\n",
        "#The data associated with the research area that aligns with the goals set in the first step\n",
        "print('3. Data Preparation')\n",
        "#Preparing data in terms of parameters, sizes so as to align with the research goals.\n",
        "print('4. Data Exploration')\n",
        "#Exploring data, checking out the schema like the number of columns, data type, redundancies etc.\n",
        "print('5. Data Modeling')\n",
        "#Analyse trends,, visualize data and fine tune derived details so as to build a sort of pipeline and model\n",
        "print('6. Presentation and Automation')\n",
        "#Making the above obtained model conducive and complete in the sense that it should be easy to understand and correlate with the results and statistics so obtained."
      ]
    },
    {
      "cell_type": "markdown",
      "metadata": {
        "id": "PzzhPvsS1l8t"
      },
      "source": [
        "# `Exercise`"
      ]
    },
    {
      "cell_type": "markdown",
      "metadata": {
        "id": "QFBzQNkou0PS"
      },
      "source": [
        "##### More Variables and Printing"
      ]
    },
    {
      "cell_type": "code",
      "execution_count": null,
      "metadata": {
        "colab": {
          "base_uri": "https://localhost:8080/"
        },
        "id": "NHHxZsfMu0PV",
        "outputId": "217caa81-5a08-4100-8f17-cc99490c0523"
      },
      "outputs": [
        {
          "name": "stdout",
          "output_type": "stream",
          "text": [
            "Let's talk about mirudhula.\n",
            "she's 176 tall.\n",
            "she's 65 heavy.\n",
            "Actually that's not too heavy.\n",
            "she's from Humanities department and her interests include Reading.\n",
            "Her favorite game is Cricket and plays during weekend.\n",
            "If I add 35, 176, and 65 I get 276.\n"
          ]
        }
      ],
      "source": [
        "my_name = 'mirudhula'\n",
        "my_age = 35 # its a lie\n",
        "my_height = 176 # cm\n",
        "my_weight = 65 # kg\n",
        "my_department = 'Humanities'\n",
        "my_interests = 'Reading'\n",
        "my_favorite_game = 'badminton'\n",
        "\n",
        "\n",
        "print(f\"Let's talk about {my_name}.\")\n",
        "print(f\"she's {my_height} tall.\")\n",
        "print(f\"she's {my_weight} heavy.\" )\n",
        "print(f\"Actually that's not too heavy.\")\n",
        "print(f\"she's from Humanities department and her interests include Reading.\")\n",
        "print(f\"Her favorite game is Cricket and plays during weekend.\")\n",
        "print(f\"If I add 35, 176, and 65 I get 276.\")\n",
        "#--like the privious Print statement, write the remaining to get the output as mentioned below"
      ]
    },
    {
      "cell_type": "markdown",
      "metadata": {
        "id": "jaBE0S2a1l8u"
      },
      "source": [
        "# `Exercise`"
      ]
    },
    {
      "cell_type": "markdown",
      "metadata": {
        "id": "l7M8amKVu0Pc"
      },
      "source": [
        "### Determining the Minimum and Maximum with Built-In Functions `min` and `max` "
      ]
    },
    {
      "cell_type": "markdown",
      "metadata": {
        "id": "UWbwbdwd1l8u"
      },
      "source": [
        "Using Built-in Fucntion find out the minimum and maximum values in this (36, 27, 12, 48)"
      ]
    },
    {
      "cell_type": "code",
      "execution_count": null,
      "metadata": {
        "colab": {
          "base_uri": "https://localhost:8080/"
        },
        "id": "GeSvBSSvd0bE",
        "outputId": "210ba7a2-ab7e-4434-bb66-7f3bd1ae769f"
      },
      "outputs": [
        {
          "name": "stdout",
          "output_type": "stream",
          "text": [
            "48\n"
          ]
        }
      ],
      "source": [
        "print(max(36,27,12,48))"
      ]
    },
    {
      "cell_type": "markdown",
      "metadata": {
        "id": "kblQKOrju0PR"
      },
      "source": [
        "##### This is for Practice, skip this part"
      ]
    },
    {
      "cell_type": "code",
      "execution_count": null,
      "metadata": {
        "colab": {
          "base_uri": "https://localhost:8080/"
        },
        "id": "7NmJIrhTu0PR",
        "outputId": "22c46398-7c72-4485-f600-3559aca576cb"
      },
      "outputs": [
        {
          "name": "stdout",
          "output_type": "stream",
          "text": [
            "..........\n",
            "Data\n",
            "Science\n",
            "_________________________\n"
          ]
        }
      ],
      "source": [
        "print(\".\" * 10) # what'd that do?\n",
        "\n",
        "end1 = \"D\"\n",
        "end2 = \"a\"\n",
        "end3 = \"t\"\n",
        "end4 = \"a\"\n",
        "end5 = \"S\"\n",
        "end6 = \"c\"\n",
        "end7 = \"i\"\n",
        "end8 = \"e\"\n",
        "end9 = \"n\"\n",
        "end10 = \"c\"\n",
        "end11 = \"e\"\n",
        "\n",
        "# watch that comma at the end.  try removing it to see what happens\n",
        "print(end1 + end2 + end3 + end4, end = ' ')\n",
        "print(end5 + end6 + end7 + end8 + end9 + end10 + end11)\n",
        "\n",
        "print(\"_\" * 25)"
      ]
    },
    {
      "cell_type": "markdown",
      "metadata": {
        "id": "vILg57oc0vMj"
      },
      "source": [
        "## Activity 1"
      ]
    },
    {
      "cell_type": "markdown",
      "metadata": {
        "id": "-W1N31Hl03wI"
      },
      "source": [
        "###Exercise 1: Integer and Float Types"
      ]
    },
    {
      "cell_type": "code",
      "execution_count": null,
      "metadata": {
        "colab": {
          "base_uri": "https://localhost:8080/"
        },
        "id": "zRY3Pih208Vg",
        "outputId": "9f0e7770-d8cf-48d9-f767-afad04f72810"
      },
      "outputs": [
        {
          "name": "stdout",
          "output_type": "stream",
          "text": [
            "the type of a is:  <class 'int'>\n",
            "the type of b is:  <class 'float'>\n",
            "the type of c is:  <class 'float'>\n",
            "7\n",
            "6.0\n"
          ]
        }
      ],
      "source": [
        "a = 6\n",
        "print(\"the type of a is: \" ,type(a))\n",
        "b= 6.0\n",
        "print(\"the type of b is: \" ,type(b))\n",
        "c = 3.14 + 5\n",
        "print(\"the type of c is: \" ,type(c))\n",
        "d= 7.999999999\n",
        "print(int(d))\n",
        "e= 6\n",
        "print(float(e))"
      ]
    },
    {
      "cell_type": "markdown",
      "metadata": {
        "id": "SfYWq_jp5rWv"
      },
      "source": [
        "### Exercise 2: Assigning Variables"
      ]
    },
    {
      "cell_type": "code",
      "execution_count": null,
      "metadata": {
        "colab": {
          "base_uri": "https://localhost:8080/"
        },
        "id": "LYPDY7DN5uCE",
        "outputId": "5ee07c11-05f3-45e7-8f60-11c7dbb5c68d"
      },
      "outputs": [
        {
          "name": "stdout",
          "output_type": "stream",
          "text": [
            "4.0\n"
          ]
        }
      ],
      "source": [
        "x=2\n",
        "x+=1\n",
        "x=3.0\n",
        "x+=1\n",
        "print(x)"
      ]
    },
    {
      "cell_type": "markdown",
      "metadata": {
        "id": "gFMF9_e05_TV"
      },
      "source": [
        "### Exercise 3: Variable Names"
      ]
    },
    {
      "cell_type": "code",
      "execution_count": null,
      "metadata": {
        "colab": {
          "base_uri": "https://localhost:8080/",
          "height": 130
        },
        "id": "CXdynK416B49",
        "outputId": "ef0f86ab-5741-461b-c754-7fc6fb3910b7"
      },
      "outputs": [
        {
          "ename": "SyntaxError",
          "evalue": "ignored",
          "output_type": "error",
          "traceback": [
            "\u001b[0;36m  File \u001b[0;32m\"<ipython-input-13-9a87f19ca5be>\"\u001b[0;36m, line \u001b[0;32m1\u001b[0m\n\u001b[0;31m    1st_number = 1\u001b[0m\n\u001b[0m             ^\u001b[0m\n\u001b[0;31mSyntaxError\u001b[0m\u001b[0;31m:\u001b[0m invalid syntax\n"
          ]
        }
      ],
      "source": [
        "1st_number = 1\n",
        "#error because variables can't start with numbers, naming convention violated"
      ]
    },
    {
      "cell_type": "code",
      "execution_count": null,
      "metadata": {
        "id": "falGifvm6FJm"
      },
      "outputs": [],
      "source": [
        "first_number=1"
      ]
    },
    {
      "cell_type": "code",
      "execution_count": null,
      "metadata": {
        "colab": {
          "base_uri": "https://localhost:8080/",
          "height": 130
        },
        "id": "BL6RgjhY6sEH",
        "outputId": "7b2d06cd-61d9-47a4-cf94-2a1525410321"
      },
      "outputs": [
        {
          "ename": "SyntaxError",
          "evalue": "ignored",
          "output_type": "error",
          "traceback": [
            "\u001b[0;36m  File \u001b[0;32m\"<ipython-input-15-223bbbb31e09>\"\u001b[0;36m, line \u001b[0;32m1\u001b[0m\n\u001b[0;31m    my_$=1000.00\u001b[0m\n\u001b[0m       ^\u001b[0m\n\u001b[0;31mSyntaxError\u001b[0m\u001b[0;31m:\u001b[0m invalid syntax\n"
          ]
        }
      ],
      "source": [
        "my_$=1000.00"
      ]
    },
    {
      "cell_type": "code",
      "execution_count": null,
      "metadata": {
        "id": "PDkxU7o46wRr"
      },
      "outputs": [],
      "source": [
        "my_money = 1000.00"
      ]
    },
    {
      "cell_type": "markdown",
      "metadata": {
        "id": "7ePvd7Q16z68"
      },
      "source": [
        "### Exercise 4: Multiple Variables in Python"
      ]
    },
    {
      "cell_type": "code",
      "execution_count": null,
      "metadata": {
        "colab": {
          "base_uri": "https://localhost:8080/"
        },
        "id": "gWbGYNEC62Ef",
        "outputId": "18d8726b-abd8-48c3-e9ca-4aa272083225"
      },
      "outputs": [
        {
          "name": "stdout",
          "output_type": "stream",
          "text": [
            "10 2\n"
          ]
        }
      ],
      "source": [
        "x=5\n",
        "y=2\n",
        "\n",
        "x+=x\n",
        "y-=y^2\n",
        "\n",
        "print(x,y)"
      ]
    },
    {
      "cell_type": "code",
      "execution_count": null,
      "metadata": {
        "colab": {
          "base_uri": "https://localhost:8080/"
        },
        "id": "yMvuOsBr7FWT",
        "outputId": "0ed39406-4a5d-4f7d-c931-c97b7d13e99d"
      },
      "outputs": [
        {
          "name": "stdout",
          "output_type": "stream",
          "text": [
            "1\n"
          ]
        }
      ],
      "source": [
        "x,y=8,5\n",
        "z=int(x/y)\n",
        "print(z)"
      ]
    },
    {
      "cell_type": "markdown",
      "metadata": {
        "id": "VMr2vZUx7a6b"
      },
      "source": [
        "### Exercise 5: Comments in Python "
      ]
    },
    {
      "cell_type": "code",
      "execution_count": null,
      "metadata": {
        "id": "d-GMxNM-7f8r"
      },
      "outputs": [],
      "source": [
        "#This is a comment"
      ]
    },
    {
      "cell_type": "code",
      "execution_count": null,
      "metadata": {
        "id": "0tLBX9IB7kuw"
      },
      "outputs": [],
      "source": [
        "# Set the variable pi equal to 3.14\n",
        "pi=3.14"
      ]
    },
    {
      "cell_type": "code",
      "execution_count": null,
      "metadata": {
        "id": "-IztW6J07sIM"
      },
      "outputs": [],
      "source": [
        "pi=3.14 # Set the variable pi equal to 3.14"
      ]
    },
    {
      "cell_type": "markdown",
      "metadata": {
        "id": "0ztw9Zk-7xYg"
      },
      "source": [
        "### Exercise 6: The input() Function"
      ]
    },
    {
      "cell_type": "code",
      "execution_count": null,
      "metadata": {
        "colab": {
          "base_uri": "https://localhost:8080/"
        },
        "id": "JD8aLI7Q712d",
        "outputId": "94a4a675-ffa7-40e4-e90a-00fad573a0cd"
      },
      "outputs": [
        {
          "name": "stdout",
          "output_type": "stream",
          "text": [
            "What is your name?\n"
          ]
        }
      ],
      "source": [
        "# Choose a question to ask\n",
        "print('What is your name?')"
      ]
    },
    {
      "cell_type": "code",
      "execution_count": null,
      "metadata": {
        "colab": {
          "base_uri": "https://localhost:8080/"
        },
        "id": "8v7nXt__79HO",
        "outputId": "b3180c45-2360-4598-9362-974ea53b8162"
      },
      "outputs": [
        {
          "name": "stdout",
          "output_type": "stream",
          "text": [
            " What is your name ?Mirudhula\n"
          ]
        }
      ],
      "source": [
        "name = input(\" What is your name ?\")"
      ]
    },
    {
      "cell_type": "code",
      "execution_count": null,
      "metadata": {
        "colab": {
          "base_uri": "https://localhost:8080/"
        },
        "id": "rvd1Sfl_8HGa",
        "outputId": "6de4918b-976c-4a7b-8dbe-ea812eca3cbb"
      },
      "outputs": [
        {
          "name": "stdout",
          "output_type": "stream",
          "text": [
            "Hello Mirudhula .\n"
          ]
        }
      ],
      "source": [
        "print ( f\"Hello {name} .\")"
      ]
    },
    {
      "cell_type": "markdown",
      "metadata": {
        "id": "WMiMVUPA8Rjf"
      },
      "source": [
        "### Exercise 7: Boolean Variables"
      ]
    },
    {
      "cell_type": "code",
      "execution_count": null,
      "metadata": {
        "colab": {
          "base_uri": "https://localhost:8080/"
        },
        "id": "i9tqYacW8T0G",
        "outputId": "1a5d2439-eaf9-4d13-fd61-35411c1525f4"
      },
      "outputs": [
        {
          "data": {
            "text/plain": [
              "bool"
            ]
          },
          "execution_count": 26,
          "metadata": {},
          "output_type": "execute_result"
        }
      ],
      "source": [
        "over_18 = True\n",
        "type(over_18)"
      ]
    },
    {
      "cell_type": "markdown",
      "metadata": {
        "id": "Whvcg-fX8lVl"
      },
      "source": [
        "### Exercise 8: Comparison Operators"
      ]
    },
    {
      "cell_type": "code",
      "execution_count": null,
      "metadata": {
        "colab": {
          "base_uri": "https://localhost:8080/"
        },
        "id": "WZw0GZHl8pbU",
        "outputId": "a656c6b8-a776-4e27-cf9d-faa69baab64a"
      },
      "outputs": [
        {
          "data": {
            "text/plain": [
              "False"
            ]
          },
          "execution_count": 27,
          "metadata": {},
          "output_type": "execute_result"
        }
      ],
      "source": [
        "age = 20\n",
        "age<13"
      ]
    },
    {
      "cell_type": "code",
      "execution_count": null,
      "metadata": {
        "colab": {
          "base_uri": "https://localhost:8080/"
        },
        "id": "6rJiolye9VwH",
        "outputId": "9eb94e38-fbf5-436e-8aa3-30445a46751f"
      },
      "outputs": [
        {
          "data": {
            "text/plain": [
              "True"
            ]
          },
          "execution_count": 28,
          "metadata": {},
          "output_type": "execute_result"
        }
      ],
      "source": [
        "age >= 20 and age <= 21\n"
      ]
    },
    {
      "cell_type": "code",
      "execution_count": null,
      "metadata": {
        "colab": {
          "base_uri": "https://localhost:8080/"
        },
        "id": "7WWKc59c9aDV",
        "outputId": "355d3cae-7777-4d25-d571-4e492f68de29"
      },
      "outputs": [
        {
          "data": {
            "text/plain": [
              "True"
            ]
          },
          "execution_count": 29,
          "metadata": {},
          "output_type": "execute_result"
        }
      ],
      "source": [
        "age != 21"
      ]
    },
    {
      "cell_type": "code",
      "execution_count": null,
      "metadata": {
        "colab": {
          "base_uri": "https://localhost:8080/"
        },
        "id": "qguIepot9cem",
        "outputId": "b5af2047-1d53-4862-9a02-731c8981ad69"
      },
      "outputs": [
        {
          "data": {
            "text/plain": [
              "False"
            ]
          },
          "execution_count": 30,
          "metadata": {},
          "output_type": "execute_result"
        }
      ],
      "source": [
        "age == 19"
      ]
    },
    {
      "cell_type": "code",
      "execution_count": null,
      "metadata": {
        "colab": {
          "base_uri": "https://localhost:8080/"
        },
        "id": "F_4MVHWt9dqt",
        "outputId": "c090f504-28f4-424e-c852-faf991bf1f36"
      },
      "outputs": [
        {
          "data": {
            "text/plain": [
              "True"
            ]
          },
          "execution_count": 31,
          "metadata": {},
          "output_type": "execute_result"
        }
      ],
      "source": [
        "6 == 6.0"
      ]
    },
    {
      "cell_type": "code",
      "execution_count": null,
      "metadata": {
        "colab": {
          "base_uri": "https://localhost:8080/"
        },
        "id": "O0F0J1om9hRt",
        "outputId": "6591e3ba-d02b-4ab9-b635-1ceceb76e989"
      },
      "outputs": [
        {
          "data": {
            "text/plain": [
              "False"
            ]
          },
          "execution_count": 32,
          "metadata": {},
          "output_type": "execute_result"
        }
      ],
      "source": [
        "6 == '6'"
      ]
    },
    {
      "cell_type": "code",
      "execution_count": null,
      "metadata": {
        "colab": {
          "base_uri": "https://localhost:8080/"
        },
        "id": "ja3KsMjo9l0_",
        "outputId": "a7412a47-25f3-4ef8-cb62-676835d83f53"
      },
      "outputs": [
        {
          "data": {
            "text/plain": [
              "True"
            ]
          },
          "execution_count": 33,
          "metadata": {},
          "output_type": "execute_result"
        }
      ],
      "source": [
        "(age >= 20 and age < 30) or (age >= 30 and age < 40)"
      ]
    },
    {
      "cell_type": "markdown",
      "metadata": {
        "id": "5crn--Go9p5O"
      },
      "source": [
        "### Exercise 9: Using the if Syntax"
      ]
    },
    {
      "cell_type": "code",
      "execution_count": null,
      "metadata": {
        "colab": {
          "base_uri": "https://localhost:8080/"
        },
        "id": "PUVQPwNs-Qfm",
        "outputId": "2c9c587e-372c-4296-f0cf-4950e2c609d3"
      },
      "outputs": [
        {
          "name": "stdout",
          "output_type": "stream",
          "text": [
            "At least you can vote.\n",
            "Poker will have to wait.\n"
          ]
        }
      ],
      "source": [
        "age = 20\n",
        "if age >= 18 and age < 21:\n",
        "  print('At least you can vote.')\n",
        "  print('Poker will have to wait.')\n"
      ]
    },
    {
      "cell_type": "code",
      "execution_count": null,
      "metadata": {
        "colab": {
          "base_uri": "https://localhost:8080/"
        },
        "id": "bm-r0DAt-hZx",
        "outputId": "52e7da32-7885-4e5e-9da2-57e8613e3387"
      },
      "outputs": [
        {
          "name": "stdout",
          "output_type": "stream",
          "text": [
            "You can vote.\n"
          ]
        }
      ],
      "source": [
        "if age >= 18:\n",
        "  print('You can vote.')\n",
        "if age >= 21:\n",
        "  print('You can play poker.')"
      ]
    },
    {
      "cell_type": "markdown",
      "metadata": {
        "id": "5HxbIC73-yVF"
      },
      "source": [
        "### Exercise 10: Using the if-else Syntax"
      ]
    },
    {
      "cell_type": "code",
      "execution_count": null,
      "metadata": {
        "colab": {
          "base_uri": "https://localhost:8080/"
        },
        "id": "Cd46py0Y-4oN",
        "outputId": "71e966d3-c143-4049-df16-18c1adc15674"
      },
      "outputs": [
        {
          "name": "stdout",
          "output_type": "stream",
          "text": [
            "Welcome to our voting program.\n"
          ]
        }
      ],
      "source": [
        "age = 20\n",
        "if age < 18:\n",
        "  print('You aren\\'t old enough to vote.')\n",
        "else:\n",
        "  print('Welcome to our voting program.')"
      ]
    },
    {
      "cell_type": "code",
      "execution_count": null,
      "metadata": {
        "colab": {
          "base_uri": "https://localhost:8080/",
          "height": 217
        },
        "id": "B9snI6us_qHc",
        "outputId": "8560bea8-4889-498d-a267-681c26c4c049"
      },
      "outputs": [
        {
          "ename": "NameError",
          "evalue": "ignored",
          "output_type": "error",
          "traceback": [
            "\u001b[0;31m---------------------------------------------------------------------------\u001b[0m",
            "\u001b[0;31mNameError\u001b[0m                                 Traceback (most recent call last)",
            "\u001b[0;32m<ipython-input-3-3de2f7076cf6>\u001b[0m in \u001b[0;36m<module>\u001b[0;34m()\u001b[0m\n\u001b[0;32m----> 1\u001b[0;31m \u001b[0;32mif\u001b[0m \u001b[0mage\u001b[0m \u001b[0;34m>=\u001b[0m \u001b[0;36m18\u001b[0m\u001b[0;34m:\u001b[0m\u001b[0;34m\u001b[0m\u001b[0;34m\u001b[0m\u001b[0m\n\u001b[0m\u001b[1;32m      2\u001b[0m   \u001b[0mprint\u001b[0m\u001b[0;34m(\u001b[0m\u001b[0;34m'Welcome to our voting program.'\u001b[0m\u001b[0;34m)\u001b[0m\u001b[0;34m\u001b[0m\u001b[0;34m\u001b[0m\u001b[0m\n\u001b[1;32m      3\u001b[0m \u001b[0;32melse\u001b[0m\u001b[0;34m:\u001b[0m\u001b[0;34m\u001b[0m\u001b[0;34m\u001b[0m\u001b[0m\n\u001b[1;32m      4\u001b[0m   \u001b[0mprint\u001b[0m\u001b[0;34m(\u001b[0m\u001b[0;34m'You aren\\'t old enough to vote.'\u001b[0m\u001b[0;34m)\u001b[0m\u001b[0;34m\u001b[0m\u001b[0;34m\u001b[0m\u001b[0m\n",
            "\u001b[0;31mNameError\u001b[0m: name 'age' is not defined"
          ]
        }
      ],
      "source": [
        "if age >= 18:\n",
        "  print('Welcome to our voting program.')\n",
        "else:\n",
        "  print('You aren\\'t old enough to vote.')"
      ]
    },
    {
      "cell_type": "code",
      "execution_count": null,
      "metadata": {
        "id": "gKadrkbd3SKL"
      },
      "outputs": [],
      "source": []
    }
  ],
  "metadata": {
    "colab": {
      "collapsed_sections": [],
      "provenance": []
    },
    "kernelspec": {
      "display_name": "Python 3.9.13 ('base')",
      "language": "python",
      "name": "python3"
    },
    "language_info": {
      "codemirror_mode": {
        "name": "ipython",
        "version": 3
      },
      "file_extension": ".py",
      "mimetype": "text/x-python",
      "name": "python",
      "nbconvert_exporter": "python",
      "pygments_lexer": "ipython3",
      "version": "3.9.13"
    },
    "vscode": {
      "interpreter": {
        "hash": "3b53fefe42d2d71b636828d40fad557841cd1616365ae1c416b9de74dc15856a"
      }
    }
  },
  "nbformat": 4,
  "nbformat_minor": 0
}
