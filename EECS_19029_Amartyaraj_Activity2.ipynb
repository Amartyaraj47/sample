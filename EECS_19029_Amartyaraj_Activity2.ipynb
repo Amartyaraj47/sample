{
 "cells": [
  {
   "cell_type": "markdown",
   "id": "25de26f9",
   "metadata": {},
   "source": [
    "### This Notebook has got two parts. \n",
    "### You may want to work on the Part I first, which is at the bottom of this page. \n",
    "### Then come back to the Part II  in the top.\n"
   ]
  },
  {
   "cell_type": "markdown",
   "id": "bb197ec3",
   "metadata": {},
   "source": [
    "# Part II Problem Exercises"
   ]
  },
  {
   "cell_type": "markdown",
   "id": "b70f65ca",
   "metadata": {},
   "source": [
    "## `Exercise` : Vowel and others counter\n",
    "\n",
    "1. Define two variables, `vowels` and `others`, and set them both to be 0.\n",
    "2. Ask the user to enter a string (with `input`).  That is, get input from the user. (eg. happy independance day). Also remove leading/trailing whitespace (Hint, .strip(),  then assign\n",
    "3. Go through each character in the string, and check if it is a vowel.\n",
    "    - If so, then add 1 to `vowels\n",
    "    - If not, then add 1 to `others`\n",
    "4. When the loop is done, print the values of `vowels` and `others`.    "
   ]
  },
  {
   "cell_type": "code",
   "execution_count": 3,
   "id": "b5b981e7",
   "metadata": {},
   "outputs": [
    {
     "name": "stdout",
     "output_type": "stream",
     "text": [
      " Type your word here \n",
      "Amartya\n",
      "No of vowels : 3\n",
      "No of others : 4\n"
     ]
    }
   ],
   "source": [
    "# YOUR CODE HERE\n",
    "vowels = 0\n",
    "others = 0\n",
    "user_in = input('Type your word here \\n' )\n",
    "word = user_in.strip()\n",
    "\n",
    "v = ['a', 'e', 'i', 'o', 'u', 'A','E','I','O','U']\n",
    "\n",
    "for alphabet in word:\n",
    "        if alphabet in v:\n",
    "            vowels= vowels + 1\n",
    "        else:\n",
    "            others = others + 1\n",
    "            \n",
    "\n",
    "print ('No of vowels :', vowels)\n",
    "print ('No of others :', others)\n",
    "\n",
    "\n"
   ]
  },
  {
   "cell_type": "markdown",
   "id": "27967ead",
   "metadata": {},
   "source": [
    "## `Exercise`: for loop\n",
    "Print \"Happy Independance Day\" 5 times, using for loop and range function\n"
   ]
  },
  {
   "cell_type": "code",
   "execution_count": 11,
   "id": "4dc53967",
   "metadata": {},
   "outputs": [
    {
     "name": "stdout",
     "output_type": "stream",
     "text": [
      "Happy Independance Day\n",
      "Happy Independance Day\n",
      "Happy Independance Day\n",
      "Happy Independance Day\n",
      "Happy Independance Day\n"
     ]
    }
   ],
   "source": [
    "# this works -- nothing technically wrong with it, but try the same output using for loop\n",
    "# also note that range returns an iterable object that runs a given number of times\n",
    "\n",
    "print('Happy Independance Day')\n",
    "print('Happy Independance Day')\n",
    "print('Happy Independance Day')\n",
    "print('Happy Independance Day')\n",
    "print('Happy Independance Day')"
   ]
  },
  {
   "cell_type": "code",
   "execution_count": 5,
   "id": "9f10f8cd",
   "metadata": {},
   "outputs": [
    {
     "name": "stdout",
     "output_type": "stream",
     "text": [
      "Happy Independance Day\n",
      "Happy Independance Day\n",
      "Happy Independance Day\n",
      "Happy Independance Day\n",
      "Happy Independance Day\n"
     ]
    }
   ],
   "source": [
    "# YOUR CODE using FOR loop and range function HERE ---\n",
    "for itr in range(1,6,1):\n",
    "    print('Happy Independance Day')\n",
    "\n",
    "\n"
   ]
  },
  {
   "cell_type": "markdown",
   "id": "9514b128",
   "metadata": {},
   "source": [
    "#### NOTES\n",
    "##### Stopping the loop early\n",
    "\n",
    "There are two ways to stop our `for` loop early:\n",
    "\n",
    "- We can exit from the loop completely, if we've accomplished our task. This is done with `break`.\n",
    "- We can exit from the current iteration, if it's irrelevant or unnecessary, continuing with the next iteration.  We do this with `continue`."
   ]
  },
  {
   "cell_type": "markdown",
   "id": "3f5e6cae",
   "metadata": {},
   "source": [
    "## `Exercise`\n",
    "##### assign a string as s ='independance', use the for loop to print `i n d e e n d a n c e` (skip the character p) "
   ]
  },
  {
   "cell_type": "code",
   "execution_count": 32,
   "id": "cb7adad2",
   "metadata": {},
   "outputs": [
    {
     "name": "stdout",
     "output_type": "stream",
     "text": [
      "i\n",
      "n\n",
      "d\n",
      "e\n",
      "e\n",
      "n\n",
      "d\n",
      "a\n",
      "n\n",
      "c\n",
      "e\n"
     ]
    }
   ],
   "source": [
    "# -- YOUR CODE HERE --\n",
    "s ='independance'\n",
    "for i in s:\n",
    "    if i == 'p':\n",
    "        continue\n",
    "    print(i)\n"
   ]
  },
  {
   "cell_type": "markdown",
   "id": "3f23b822",
   "metadata": {},
   "source": [
    "##### assign a string as s ='independance', use the for loop to print `i n d e`  (break the loop when it encounters p) "
   ]
  },
  {
   "cell_type": "code",
   "execution_count": 33,
   "id": "3e73030e",
   "metadata": {},
   "outputs": [
    {
     "name": "stdout",
     "output_type": "stream",
     "text": [
      "i\n",
      "n\n",
      "d\n",
      "e\n"
     ]
    }
   ],
   "source": [
    "# -- YOUR CODE HERE\n",
    "s ='independance'\n",
    "for i in s:\n",
    "    if i == 'p':\n",
    "        break\n",
    "    print(i)\n"
   ]
  },
  {
   "cell_type": "markdown",
   "id": "cdd35fdc",
   "metadata": {},
   "source": [
    "## `Exercise` Name triangles\n",
    "\n",
    "1. Ask the user to enter their name, and assign to a variable, `name`.\n",
    "2. Print Independance in a triangle, with the first letter on the first line, the full name on the final line, and each line in between \"growing\" by one letter.\n",
    "\n",
    "Example:\n",
    "\n",
    "    Enter your name: Independance\n",
    "    I\n",
    "    In\n",
    "    Ind\n",
    "    Inde\n",
    "    Indep\n",
    "    Indepe\n",
    "    Indepen\n",
    "    Independ\n",
    "    Independa\n",
    "    Independan\n",
    "    Independanc\n",
    "    Independance\n",
    "    "
   ]
  },
  {
   "cell_type": "markdown",
   "id": "dfe42b2d",
   "metadata": {},
   "source": [
    "##### There is nothing wrong in the following code, but we want to use for loop and len function."
   ]
  },
  {
   "cell_type": "code",
   "execution_count": 8,
   "id": "8dd2fe2e",
   "metadata": {},
   "outputs": [
    {
     "name": "stdout",
     "output_type": "stream",
     "text": [
      "Enter your name: Independance\n",
      "I\n",
      "In\n",
      "Ind\n",
      "Inde\n",
      "Indep\n",
      "Indepe\n",
      "Indepen\n",
      "Independ\n",
      "Independa\n",
      "Independan\n",
      "Independanc\n",
      "Independance\n"
     ]
    }
   ],
   "source": [
    "name = input('Enter your name: ').strip()\n",
    "\n",
    "# what do I really want to print?  Nothing wrong in this technically, but we want you to write a code using for loop\n",
    "print(name[:1])\n",
    "print(name[:2])\n",
    "print(name[:3])\n",
    "print(name[:4])\n",
    "print(name[:5])\n",
    "print(name[:6])\n",
    "print(name[:7])\n",
    "print(name[:8])\n",
    "print(name[:9])\n",
    "print(name[:10])\n",
    "print(name[:11])\n",
    "print(name[:12])"
   ]
  },
  {
   "cell_type": "markdown",
   "id": "7b0b517e",
   "metadata": {},
   "source": [
    "Hints:\n",
    "1. Use `len` to get the length of a string\n",
    "2. Use `range` to run a `for` loop a particular number of times\n",
    "3. You can retrieve a \"slice\" from a string, where you specify the starting index and the ending index + 1 (e.g., `s[2:5]` or `s[:5]`)"
   ]
  },
  {
   "cell_type": "code",
   "execution_count": 44,
   "id": "c7070dfa",
   "metadata": {},
   "outputs": [
    {
     "name": "stdout",
     "output_type": "stream",
     "text": [
      "I\n",
      "In\n",
      "Ind\n",
      "Indi\n",
      "India\n"
     ]
    }
   ],
   "source": [
    "name = input('Enter your name: ').strip()\n",
    "\n",
    "# -- YOUR CODE HERE --\n",
    "j = 1\n",
    "for j in range(1, len(name)+1):\n",
    "    print(name[:j])\n",
    "    j = j+1\n",
    "    \n",
    "\n",
    "    \n",
    "\n",
    "\n"
   ]
  },
  {
   "cell_type": "markdown",
   "id": "1b454e6f",
   "metadata": {},
   "source": [
    "# Notes\n",
    "### `while` loops\n",
    "\n",
    "`for` loops iterate over an existing data structure, one element at a time.  We'll get the first character, the second character, etc., until we get to the end.  We know how many times the loop will run.\n",
    "\n",
    "By constrast, `while` loops are for when we don't know how many times we'll want to iterate, but we do know under what conditions we want to stop.\n",
    "\n",
    "You can think of a `while` loop as an `if` statement that runs repeatedly until the condition is found to be `False`."
   ]
  },
  {
   "cell_type": "markdown",
   "id": "7f070ad2",
   "metadata": {},
   "source": [
    "## `Exercise`: using while loop, sum the numbers\n",
    "\n",
    "1. Ask the user to enter our goal number (i.e., what we want to reach), and assign this to `goal`.  (Remember to turn it into an integer!)\n",
    "2. Set `total` to be 0.\n",
    "3. Repeatedly ask the user to enter a number.\n",
    "    - If they enter something non-numeric, then scold them and let them try again\n",
    "    - If they enter something numeric, then add it to `total`, and print the current values of `goal` and `total`.\n",
    "4. Stop asking when the `total` is equal to or greater than `goal`.\n",
    "\n",
    "Example:\n",
    "\n",
    "    Enter goal: 100\n",
    "    Enter number: 20\n",
    "    Total is 20, goal is 100\n",
    "    Enter number: 30\n",
    "    Total is 50, goal is 100\n",
    "    Enter number: abc\n",
    "    abc is not numeric\n",
    "    Enter number: 40\n",
    "    Total is 90, goal is 100\n",
    "    Enter number:\n",
    "    Total is 130, goal is 100\n",
    "    Exiting\n",
    "    Done, with total of 130"
   ]
  },
  {
   "cell_type": "code",
   "execution_count": 56,
   "id": "b73df621",
   "metadata": {},
   "outputs": [
    {
     "name": "stdout",
     "output_type": "stream",
     "text": [
      "123 is not a number\n",
      "123 is not a number\n"
     ]
    },
    {
     "ename": "KeyboardInterrupt",
     "evalue": "Interrupted by user",
     "output_type": "error",
     "traceback": [
      "\u001b[1;31m---------------------------------------------------------------------------\u001b[0m",
      "\u001b[1;31mKeyboardInterrupt\u001b[0m                         Traceback (most recent call last)",
      "\u001b[1;32m~\\AppData\\Local\\Temp/ipykernel_3348/253168425.py\u001b[0m in \u001b[0;36m<module>\u001b[1;34m\u001b[0m\n\u001b[0;32m      5\u001b[0m     \u001b[0mg\u001b[0m \u001b[1;33m=\u001b[0m \u001b[0minput\u001b[0m\u001b[1;33m(\u001b[0m\u001b[1;34m'Enter you goal\\n'\u001b[0m\u001b[1;33m)\u001b[0m\u001b[1;33m\u001b[0m\u001b[1;33m\u001b[0m\u001b[0m\n\u001b[0;32m      6\u001b[0m     \u001b[0mprint\u001b[0m\u001b[1;33m(\u001b[0m\u001b[1;34m'%s is not a number'\u001b[0m \u001b[1;33m%\u001b[0m\u001b[0mg\u001b[0m\u001b[1;33m)\u001b[0m\u001b[1;33m\u001b[0m\u001b[1;33m\u001b[0m\u001b[0m\n\u001b[1;32m----> 7\u001b[1;33m     \u001b[0mg\u001b[0m \u001b[1;33m=\u001b[0m \u001b[0minput\u001b[0m\u001b[1;33m(\u001b[0m\u001b[1;34m'Enter you goal again\\n'\u001b[0m\u001b[1;33m)\u001b[0m\u001b[1;33m\u001b[0m\u001b[1;33m\u001b[0m\u001b[0m\n\u001b[0m\u001b[0;32m      8\u001b[0m \u001b[1;33m\u001b[0m\u001b[0m\n\u001b[0;32m      9\u001b[0m \u001b[1;33m\u001b[0m\u001b[0m\n",
      "\u001b[1;32m~\\anaconda3\\lib\\site-packages\\ipykernel\\kernelbase.py\u001b[0m in \u001b[0;36mraw_input\u001b[1;34m(self, prompt)\u001b[0m\n\u001b[0;32m   1004\u001b[0m                 \u001b[1;34m\"raw_input was called, but this frontend does not support input requests.\"\u001b[0m\u001b[1;33m\u001b[0m\u001b[1;33m\u001b[0m\u001b[0m\n\u001b[0;32m   1005\u001b[0m             )\n\u001b[1;32m-> 1006\u001b[1;33m         return self._input_request(\n\u001b[0m\u001b[0;32m   1007\u001b[0m             \u001b[0mstr\u001b[0m\u001b[1;33m(\u001b[0m\u001b[0mprompt\u001b[0m\u001b[1;33m)\u001b[0m\u001b[1;33m,\u001b[0m\u001b[1;33m\u001b[0m\u001b[1;33m\u001b[0m\u001b[0m\n\u001b[0;32m   1008\u001b[0m             \u001b[0mself\u001b[0m\u001b[1;33m.\u001b[0m\u001b[0m_parent_ident\u001b[0m\u001b[1;33m[\u001b[0m\u001b[1;34m\"shell\"\u001b[0m\u001b[1;33m]\u001b[0m\u001b[1;33m,\u001b[0m\u001b[1;33m\u001b[0m\u001b[1;33m\u001b[0m\u001b[0m\n",
      "\u001b[1;32m~\\anaconda3\\lib\\site-packages\\ipykernel\\kernelbase.py\u001b[0m in \u001b[0;36m_input_request\u001b[1;34m(self, prompt, ident, parent, password)\u001b[0m\n\u001b[0;32m   1049\u001b[0m             \u001b[1;32mexcept\u001b[0m \u001b[0mKeyboardInterrupt\u001b[0m\u001b[1;33m:\u001b[0m\u001b[1;33m\u001b[0m\u001b[1;33m\u001b[0m\u001b[0m\n\u001b[0;32m   1050\u001b[0m                 \u001b[1;31m# re-raise KeyboardInterrupt, to truncate traceback\u001b[0m\u001b[1;33m\u001b[0m\u001b[1;33m\u001b[0m\u001b[0m\n\u001b[1;32m-> 1051\u001b[1;33m                 \u001b[1;32mraise\u001b[0m \u001b[0mKeyboardInterrupt\u001b[0m\u001b[1;33m(\u001b[0m\u001b[1;34m\"Interrupted by user\"\u001b[0m\u001b[1;33m)\u001b[0m \u001b[1;32mfrom\u001b[0m \u001b[1;32mNone\u001b[0m\u001b[1;33m\u001b[0m\u001b[1;33m\u001b[0m\u001b[0m\n\u001b[0m\u001b[0;32m   1052\u001b[0m             \u001b[1;32mexcept\u001b[0m \u001b[0mException\u001b[0m\u001b[1;33m:\u001b[0m\u001b[1;33m\u001b[0m\u001b[1;33m\u001b[0m\u001b[0m\n\u001b[0;32m   1053\u001b[0m                 \u001b[0mself\u001b[0m\u001b[1;33m.\u001b[0m\u001b[0mlog\u001b[0m\u001b[1;33m.\u001b[0m\u001b[0mwarning\u001b[0m\u001b[1;33m(\u001b[0m\u001b[1;34m\"Invalid Message:\"\u001b[0m\u001b[1;33m,\u001b[0m \u001b[0mexc_info\u001b[0m\u001b[1;33m=\u001b[0m\u001b[1;32mTrue\u001b[0m\u001b[1;33m)\u001b[0m\u001b[1;33m\u001b[0m\u001b[1;33m\u001b[0m\u001b[0m\n",
      "\u001b[1;31mKeyboardInterrupt\u001b[0m: Interrupted by user"
     ]
    }
   ],
   "source": [
    "# -- YOUR CODE HERE --\n",
    "g = input('Enter you goal\\n')\n",
    "print(type(g))\n",
    "while type(g) != int:\n",
    "    g = input('Enter you goal\\n')\n",
    "    print('%s is not a number' %g)\n",
    "    g = input('Enter you goal again\\n')\n",
    " \n",
    "\n",
    "\n",
    "\n",
    "n = input('Enter you number\\n')\n",
    "\n",
    "if type(n) != int:\n",
    "    print('%s is not a Number' %g)\n",
    "    n = input('Enter you number\\n')\n",
    "\n",
    "total = n\n",
    "while total <= g:\n",
    "    n = input('Enter you number again\\n')\n",
    "    total = total + n\n",
    "\n"
   ]
  },
  {
   "cell_type": "markdown",
   "id": "01168297",
   "metadata": {},
   "source": [
    "# Part I Practice Exercises\n",
    "\n",
    "### To make things easier, first work on the Practice Exercises given in the pdf file and enter them in cells below."
   ]
  },
  {
   "cell_type": "code",
   "execution_count": 1,
   "id": "21e6da12",
   "metadata": {},
   "outputs": [
    {
     "data": {
      "text/plain": [
       "True"
      ]
     },
     "execution_count": 1,
     "metadata": {},
     "output_type": "execute_result"
    }
   ],
   "source": [
    "'a' < 'c'"
   ]
  },
  {
   "cell_type": "code",
   "execution_count": 2,
   "id": "61af371e",
   "metadata": {},
   "outputs": [
    {
     "data": {
      "text/plain": [
       "False"
      ]
     },
     "execution_count": 2,
     "metadata": {},
     "output_type": "execute_result"
    }
   ],
   "source": [
    "'Bombay' > 'Mumbai'"
   ]
  },
  {
   "cell_type": "code",
   "execution_count": 3,
   "id": "5e26603a",
   "metadata": {},
   "outputs": [
    {
     "ename": "SyntaxError",
     "evalue": "invalid syntax (Temp/ipykernel_3348/857763567.py, line 1)",
     "output_type": "error",
     "traceback": [
      "\u001b[1;36m  File \u001b[1;32m\"C:\\Users\\user\\AppData\\Local\\Temp/ipykernel_3348/857763567.py\"\u001b[1;36m, line \u001b[1;32m1\u001b[0m\n\u001b[1;33m    bookstore = 'Moe's'\u001b[0m\n\u001b[1;37m                     ^\u001b[0m\n\u001b[1;31mSyntaxError\u001b[0m\u001b[1;31m:\u001b[0m invalid syntax\n"
     ]
    }
   ],
   "source": [
    "bookstore = 'Moe's'"
   ]
  },
  {
   "cell_type": "code",
   "execution_count": 8,
   "id": "ac867306",
   "metadata": {},
   "outputs": [
    {
     "data": {
      "text/plain": [
       "'Hello '"
      ]
     },
     "execution_count": 8,
     "metadata": {},
     "output_type": "execute_result"
    }
   ],
   "source": [
    "st = 'Hello '\n",
    "st"
   ]
  },
  {
   "cell_type": "code",
   "execution_count": 5,
   "id": "38d09696",
   "metadata": {},
   "outputs": [
    {
     "name": "stdout",
     "output_type": "stream",
     "text": [
      "Hello\n"
     ]
    }
   ],
   "source": [
    "print(st)"
   ]
  },
  {
   "cell_type": "code",
   "execution_count": 6,
   "id": "2b23e2a4",
   "metadata": {},
   "outputs": [],
   "source": [
    "spanish_greeting = 'Hola.'\n",
    "spanish_greeting\n",
    "arabic_greeting = 'Ahlan wa sahlan.'\n"
   ]
  },
  {
   "cell_type": "code",
   "execution_count": 9,
   "id": "c6944796",
   "metadata": {},
   "outputs": [
    {
     "data": {
      "text/plain": [
       "'Hello Hello Hello Hello Hello '"
      ]
     },
     "execution_count": 9,
     "metadata": {},
     "output_type": "execute_result"
    }
   ],
   "source": [
    "st*5"
   ]
  },
  {
   "cell_type": "code",
   "execution_count": 13,
   "id": "5a1ab220",
   "metadata": {},
   "outputs": [
    {
     "data": {
      "text/plain": [
       "'ello, World'"
      ]
     },
     "execution_count": 13,
     "metadata": {},
     "output_type": "execute_result"
    }
   ],
   "source": [
    "grt = 'Hello, World'\n",
    "grt_5 = grt[1:]\n",
    "grt_5"
   ]
  },
  {
   "cell_type": "code",
   "execution_count": 18,
   "id": "b3788ab0",
   "metadata": {},
   "outputs": [
    {
     "name": "stdout",
     "output_type": "stream",
     "text": [
      "The Least Common Multiple of 24 and 36 is 72 .\n"
     ]
    }
   ],
   "source": [
    "first_dvsr = 24\n",
    "second_dvsr = 36\n",
    "\n",
    "counting = True\n",
    "\n",
    "i = 1\n",
    "\n",
    "while counting:\n",
    "    if i % 24 != 0 or i % 36 != 0:\n",
    "        i = 1 + i\n",
    "        \n",
    "    else:\n",
    "        print('The Least Common Multiple of', first_dvsr, 'and', second_dvsr, 'is', i, '.')\n",
    "        break \n",
    "    \n",
    "    \n"
   ]
  },
  {
   "cell_type": "code",
   "execution_count": null,
   "id": "6ce946b1",
   "metadata": {},
   "outputs": [],
   "source": []
  },
  {
   "cell_type": "code",
   "execution_count": null,
   "id": "11db3bcf",
   "metadata": {},
   "outputs": [],
   "source": []
  }
 ],
 "metadata": {
  "kernelspec": {
   "display_name": "Python 3 (ipykernel)",
   "language": "python",
   "name": "python3"
  },
  "language_info": {
   "codemirror_mode": {
    "name": "ipython",
    "version": 3
   },
   "file_extension": ".py",
   "mimetype": "text/x-python",
   "name": "python",
   "nbconvert_exporter": "python",
   "pygments_lexer": "ipython3",
   "version": "3.9.7"
  }
 },
 "nbformat": 4,
 "nbformat_minor": 5
}
